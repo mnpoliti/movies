{
 "cells": [
  {
   "cell_type": "code",
   "execution_count": 1,
   "id": "e3e28ce0-5d46-4ca0-83f3-fa994f0a33e3",
   "metadata": {},
   "outputs": [],
   "source": [
    "#set the API key\n",
    "from tmdbv3api import TMDb\n",
    "from tmdbv3api import Movie\n",
    "tmdb = TMDb()\n",
    "movie = Movie()\n",
    "tmdb.api_key = 'c6cd98753f10dc390a8c4a5b4b83d47c'\n",
    "tmdb.language = 'en'\n",
    "tmdb.debug = True"
   ]
  },
  {
   "cell_type": "code",
   "execution_count": 11,
   "id": "68243609-3992-4fd7-8919-76e367827c77",
   "metadata": {},
   "outputs": [],
   "source": [
    "import requests"
   ]
  },
  {
   "cell_type": "code",
   "execution_count": 6,
   "id": "85da14d2-6676-44ff-9813-c0d2e60b18d8",
   "metadata": {},
   "outputs": [],
   "source": [
    "needed_headers = {'User-Agent': \"Mozilla/5.0 (Windows NT 6.3; Win64; x64) AppleWebKit/537.36 (KHTML, like Gecko) Chrome/92.0.4515.131 Safari/537.36\"}\n",
    "response = requests.get(\"https://www.themoviedb.org/movie\", headers = needed_headers) \n"
   ]
  },
  {
   "cell_type": "code",
   "execution_count": 7,
   "id": "dde51c29-1bca-4663-8636-36231ce4526f",
   "metadata": {},
   "outputs": [
    {
     "data": {
      "text/plain": [
       "200"
      ]
     },
     "execution_count": 7,
     "metadata": {},
     "output_type": "execute_result"
    }
   ],
   "source": [
    "response.status_code\n"
   ]
  },
  {
   "cell_type": "code",
   "execution_count": 8,
   "id": "5e313e68-bd1d-4b3e-ab78-78facfb84970",
   "metadata": {},
   "outputs": [
    {
     "data": {
      "text/plain": [
       "205992"
      ]
     },
     "execution_count": 8,
     "metadata": {},
     "output_type": "execute_result"
    }
   ],
   "source": [
    "dwn_content = response.text\n",
    "len(dwn_content)"
   ]
  },
  {
   "cell_type": "code",
   "execution_count": 34,
   "id": "6876f7a7-2a92-4478-bf42-e345a39a9915",
   "metadata": {},
   "outputs": [
    {
     "data": {
      "text/plain": [
       "'<!DOCTYPE html>\\n<html lang=\"en\" class=\"no-js\">\\n  <head>\\n    <title>Popular TV Shows &#8212; The Movie Database (TMDB)</title>\\n    <meta http-equiv=\"X-UA-Compatible\" content=\"IE=edge\" />\\n    <meta http-equiv=\"cleartype\" content=\"on\">\\n    <meta charset=\"utf-8\">\\n    \\n    <meta name=\"keywords\" content=\"Movies, TV Shows, Streaming, Reviews, API, Actors, Actresses, Photos, User Ratings, Synopsis, Trailers, Teasers, Credits, Cast\">\\n    <meta name=\"mobile-web-app-capable\" content=\"yes\">\\n    <meta name=\"'"
      ]
     },
     "execution_count": 34,
     "metadata": {},
     "output_type": "execute_result"
    }
   ],
   "source": [
    "dwn_content[:500]\n",
    "'<!DOCTYPE html>\\n<html lang=\"en\" class=\"no-js\">\\n  <head>\\n    <title>Popular TV Shows &#8212; The Movie Database (TMDB)</title>\\n    <meta http-equiv=\"X-UA-Compatible\" content=\"IE=edge\" />\\n    <meta http-equiv=\"cleartype\" content=\"on\">\\n    <meta charset=\"utf-8\">\\n    \\n    <meta name=\"keywords\" content=\"Movies, TV Shows, Streaming, Reviews, API, Actors, Actresses, Photos, User Ratings, Synopsis, Trailers, Teasers, Credits, Cast\">\\n    <meta name=\"mobile-web-app-capable\" content=\"yes\">\\n    <meta name=\"'"
   ]
  },
  {
   "cell_type": "code",
   "execution_count": 13,
   "id": "87130d12-721a-45e7-ac6b-e033ac22def6",
   "metadata": {},
   "outputs": [],
   "source": [
    "from bs4 import BeautifulSoup"
   ]
  },
  {
   "cell_type": "code",
   "execution_count": 15,
   "id": "be55bae0-3492-40cd-a74e-96c82e56e43d",
   "metadata": {},
   "outputs": [
    {
     "data": {
      "text/plain": [
       "bs4.BeautifulSoup"
      ]
     },
     "execution_count": 15,
     "metadata": {},
     "output_type": "execute_result"
    }
   ],
   "source": [
    "test_doc = BeautifulSoup(response.text, 'html.parser')\n",
    "type(test_doc)"
   ]
  },
  {
   "cell_type": "code",
   "execution_count": 18,
   "id": "bbad3f26-9797-49fa-9150-7207f6441e5d",
   "metadata": {},
   "outputs": [
    {
     "data": {
      "text/plain": [
       "<title>Popular Movies — The Movie Database (TMDB)</title>"
      ]
     },
     "execution_count": 18,
     "metadata": {},
     "output_type": "execute_result"
    }
   ],
   "source": [
    "test_doc.find('title')"
   ]
  },
  {
   "cell_type": "code",
   "execution_count": 19,
   "id": "65deab0e-7030-46c4-b3a0-21a5230caca4",
   "metadata": {},
   "outputs": [],
   "source": [
    "def get_page_content(url):\n",
    "    # In this case , we are going to give request.get function headers to avoid the Status code Error 403\n",
    "\n",
    "    get_headers = {'User-Agent': \"Mozilla/5.0 (Windows NT 6.3; Win64; x64) AppleWebKit/537.36 (KHTML, like Gecko) Chrome/92.0.4515.131 Safari/537.36\"}\n",
    "    response_page = requests.get(url, headers = get_headers )\n",
    "    # we are going to raise exception here if status code gives any value other than 200.\n",
    "    if not response_page.ok:\n",
    "        raise Exception (\"Failed to request the data. Status Code:- {}\".format(response_page.status_code))\n",
    "    else:\n",
    "        page_content = response_page.text\n",
    "        doc_page = BeautifulSoup(page_content, \"html.parser\")\n",
    "        return doc_page"
   ]
  },
  {
   "cell_type": "code",
   "execution_count": 20,
   "id": "65571bdc-e614-49e4-bdb1-1c434c7402da",
   "metadata": {},
   "outputs": [],
   "source": [
    "popular_shows_url = \"https://www.themoviedb.org/movie\"\n",
    "doc = get_page_content(popular_shows_url)"
   ]
  },
  {
   "cell_type": "code",
   "execution_count": 21,
   "id": "4b1ebfd7-0305-4019-a70d-d95df6728338",
   "metadata": {},
   "outputs": [
    {
     "data": {
      "text/plain": [
       "'Popular Movies — The Movie Database (TMDB)'"
      ]
     },
     "execution_count": 21,
     "metadata": {},
     "output_type": "execute_result"
    }
   ],
   "source": [
    "doc.title.text\n"
   ]
  },
  {
   "cell_type": "code",
   "execution_count": 22,
   "id": "1b3dd9f4-9dd2-42e7-a495-1dea9a264da5",
   "metadata": {},
   "outputs": [
    {
     "data": {
      "text/plain": [
       "'Black Adam'"
      ]
     },
     "execution_count": 22,
     "metadata": {},
     "output_type": "execute_result"
    }
   ],
   "source": [
    "doc.find_all('div', {'class': 'card style_1'})[0].h2.text\n"
   ]
  },
  {
   "cell_type": "code",
   "execution_count": 23,
   "id": "61b82620-a83b-4fa3-b35e-49c19d3f83bc",
   "metadata": {},
   "outputs": [
    {
     "data": {
      "text/plain": [
       "'73.0'"
      ]
     },
     "execution_count": 23,
     "metadata": {},
     "output_type": "execute_result"
    }
   ],
   "source": [
    "doc.find_all('div', {'class': 'user_score_chart'})[0]['data-percent']\n"
   ]
  },
  {
   "cell_type": "code",
   "execution_count": 24,
   "id": "19a95025-703c-4b79-b212-dd9aaaeb3b4a",
   "metadata": {},
   "outputs": [],
   "source": [
    "def empty_dict():\n",
    "    scraped_dict = {  \n",
    "    'Title': [],\n",
    "    'User_rating': [], \n",
    "    'Release_date':[], \n",
    "    'Current_season': [],\n",
    "    'Current_season_Episodes': [], \n",
    "    'Tagline': [],\n",
    "    'Genre': [],\n",
    "    'Cast': []   \n",
    "    }\n",
    "    return scraped_dict"
   ]
  },
  {
   "cell_type": "code",
   "execution_count": 25,
   "id": "3555c1cb-357c-48e3-a61e-a9ff6e75a439",
   "metadata": {},
   "outputs": [],
   "source": [
    "def user_score_info(tag_user_score, i, scraped_dict):\n",
    "    if tag_user_score[i]['data-percent'] == '0':\n",
    "        scraped_dict['User_rating'].append('Not rated yet')\n",
    "    else:\n",
    "        scraped_dict['User_rating'].append(tag_user_score[i]['data-percent'])"
   ]
  },
  {
   "cell_type": "code",
   "execution_count": 35,
   "id": "6122c9d3-295a-4891-962b-07e18b376447",
   "metadata": {},
   "outputs": [
    {
     "data": {
      "text/plain": [
       "'/movie/436270'"
      ]
     },
     "execution_count": 35,
     "metadata": {},
     "output_type": "execute_result"
    }
   ],
   "source": [
    "doc.find_all('div', {'class': 'card style_1'})[0].h2.a['href']\n"
   ]
  },
  {
   "cell_type": "code",
   "execution_count": 26,
   "id": "b2070270-2e68-4d87-97d3-3a239185de71",
   "metadata": {},
   "outputs": [
    {
     "data": {
      "text/plain": [
       "3"
      ]
     },
     "execution_count": 26,
     "metadata": {},
     "output_type": "execute_result"
    }
   ],
   "source": [
    "def get_show_info(doc_page):\n",
    "    base_link_1 = \"https://www.themoviedb.org\"\n",
    "    tag_title = tag_premired_date = tag_shows_page = doc_page.find_all('div', {'class': 'card style_1'})\n",
    "    tag_user_score = doc_page.find_all('div', {\"user_score_chart\"}) \n",
    "    \n",
    "    doc_2_list = []\n",
    "    for link in tag_shows_page:\n",
    "        # here we are creating the list of all the individual pages of the shows which will come handy in other functions. \n",
    "        doc_2_list.append(get_page_content(\"https://www.themoviedb.org\" + link.h2.a['href']))\n",
    "       # we are going to have the function to return the list of all the information as elements. \n",
    "    return tag_title, tag_user_score, doc_2_list\n",
    "# lets see if the function returns the list of the information we tried to get earlier. \n",
    "len(get_show_info(doc))"
   ]
  },
  {
   "cell_type": "code",
   "execution_count": 30,
   "id": "4e45842b-97cc-4ea8-abf3-d1075990bd33",
   "metadata": {},
   "outputs": [
    {
     "ename": "SyntaxError",
     "evalue": "invalid syntax (655109888.py, line 1)",
     "output_type": "error",
     "traceback": [
      "\u001b[1;36m  Cell \u001b[1;32mIn [30], line 1\u001b[1;36m\u001b[0m\n\u001b[1;33m    doc 2 = get page content(\"https://www.themoviedb.org/tv/91363\")\u001b[0m\n\u001b[1;37m        ^\u001b[0m\n\u001b[1;31mSyntaxError\u001b[0m\u001b[1;31m:\u001b[0m invalid syntax\n"
     ]
    }
   ],
   "source": [
    "doc 2 = get page content(\"https://www.themoviedb.org/tv/91363\")"
   ]
  },
  {
   "cell_type": "code",
   "execution_count": 27,
   "id": "462ef0e0-eb50-455c-b3cc-c2272aaacf87",
   "metadata": {},
   "outputs": [
    {
     "ename": "NameError",
     "evalue": "name 'doc_2' is not defined",
     "output_type": "error",
     "traceback": [
      "\u001b[1;31m---------------------------------------------------------------------------\u001b[0m",
      "\u001b[1;31mNameError\u001b[0m                                 Traceback (most recent call last)",
      "Cell \u001b[1;32mIn [27], line 1\u001b[0m\n\u001b[1;32m----> 1\u001b[0m tag_genre \u001b[38;5;241m=\u001b[39m \u001b[43mdoc_2\u001b[49m\u001b[38;5;241m.\u001b[39mfind(\u001b[38;5;124m'\u001b[39m\u001b[38;5;124mspan\u001b[39m\u001b[38;5;124m'\u001b[39m, {\u001b[38;5;124m\"\u001b[39m\u001b[38;5;124mclass\u001b[39m\u001b[38;5;124m\"\u001b[39m: \u001b[38;5;124m\"\u001b[39m\u001b[38;5;124mgenres\u001b[39m\u001b[38;5;124m\"\u001b[39m})\n\u001b[0;32m      2\u001b[0m tag_genre_list \u001b[38;5;241m=\u001b[39m tag_genre\u001b[38;5;241m.\u001b[39mfind_all(\u001b[38;5;124m'\u001b[39m\u001b[38;5;124ma\u001b[39m\u001b[38;5;124m'\u001b[39m)\n\u001b[0;32m      3\u001b[0m check_genre \u001b[38;5;241m=\u001b[39m[]\n",
      "\u001b[1;31mNameError\u001b[0m: name 'doc_2' is not defined"
     ]
    }
   ],
   "source": [
    "tag_genre = doc_2.find('span', {\"class\": \"genres\"})\n",
    "tag_genre_list = tag_genre.find_all('a')\n",
    "check_genre =[]\n",
    "for tag in tag_genre_list:\n",
    "    check_genre.append(tag.text)\n",
    "check_genre\n",
    "['Animation', 'Action & Adventure', 'Sci-Fi & Fantasy']"
   ]
  },
  {
   "cell_type": "code",
   "execution_count": 28,
   "id": "c0e1d210-b2a7-4baa-8448-d1041c8dc9b4",
   "metadata": {},
   "outputs": [],
   "source": [
    "# lets create a function to get the genres for the show. \n",
    "# i here denotes the element of the list vairable ``doc2_page`` that contains different doc pages. Will come handy later on.\n",
    "def get_genres(doc2_page, i):\n",
    "    genres_tags = doc2_page[i].find('span', {\"class\": \"genres\"}).find_all('a')\n",
    "    check_genre =[]\n",
    "    \n",
    "    for tag in genres_tags:\n",
    "        check_genre.append(tag.text)\n",
    "    return check_genre"
   ]
  },
  {
   "cell_type": "code",
   "execution_count": 29,
   "id": "3622767d-7c12-47f3-8322-304b46891d05",
   "metadata": {},
   "outputs": [
    {
     "ename": "NameError",
     "evalue": "name 'doc_2' is not defined",
     "output_type": "error",
     "traceback": [
      "\u001b[1;31m---------------------------------------------------------------------------\u001b[0m",
      "\u001b[1;31mNameError\u001b[0m                                 Traceback (most recent call last)",
      "Cell \u001b[1;32mIn [29], line 1\u001b[0m\n\u001b[1;32m----> 1\u001b[0m tag_tagline \u001b[38;5;241m=\u001b[39m \u001b[43mdoc_2\u001b[49m\u001b[38;5;241m.\u001b[39mfind(\u001b[38;5;124m'\u001b[39m\u001b[38;5;124mh3\u001b[39m\u001b[38;5;124m'\u001b[39m,{\u001b[38;5;124m\"\u001b[39m\u001b[38;5;124mclass\u001b[39m\u001b[38;5;124m\"\u001b[39m: \u001b[38;5;124m'\u001b[39m\u001b[38;5;124mtagline\u001b[39m\u001b[38;5;124m'\u001b[39m})\n\u001b[0;32m      3\u001b[0m \u001b[38;5;28;01mdef\u001b[39;00m \u001b[38;5;21mtagline_info\u001b[39m(doc_2_list, i, scraped_dict):\n\u001b[0;32m      4\u001b[0m     \u001b[38;5;28;01mif\u001b[39;00m doc_2_list[i]\u001b[38;5;241m.\u001b[39mfind(\u001b[38;5;124m'\u001b[39m\u001b[38;5;124mh3\u001b[39m\u001b[38;5;124m'\u001b[39m,{\u001b[38;5;124m\"\u001b[39m\u001b[38;5;124mclass\u001b[39m\u001b[38;5;124m\"\u001b[39m: \u001b[38;5;124m'\u001b[39m\u001b[38;5;124mtagline\u001b[39m\u001b[38;5;124m'\u001b[39m}):\n",
      "\u001b[1;31mNameError\u001b[0m: name 'doc_2' is not defined"
     ]
    }
   ],
   "source": [
    "tag_tagline = doc_2.find('h3',{\"class\": 'tagline'})\n",
    "\n",
    "def tagline_info(doc_2_list, i, scraped_dict):\n",
    "    if doc_2_list[i].find('h3',{\"class\": 'tagline'}):\n",
    "        scraped_dict['Tagline'].append(doc_2_list[i].find('h3',{\"class\": 'tagline'}).text)\n",
    "    else:\n",
    "        scraped_dict['Tagline'].append(\"No Tagline\")"
   ]
  },
  {
   "cell_type": "code",
   "execution_count": 31,
   "id": "bbc395a9-6ea3-49e8-abe4-b3c159a2de9a",
   "metadata": {},
   "outputs": [],
   "source": [
    "import pandas as pd\n",
    "\n",
    "def get_show_details(t_title, t_user_score, docs_2_list):\n",
    "    # excuting a function here that empties the dictionary every time the function is called.\n",
    "    scraped_dict =  empty_dict()\n",
    "    for i in range (0, len(t_title)):\n",
    "        scraped_dict['Title'].append(t_title[i].h2.text)\n",
    "        user_score_info(t_user_score, i, scraped_dict)    \n",
    "        scraped_dict['Release_date'].append(t_title[i].p.text)\n",
    "        scraped_dict['Current_season'].append(docs_2_list[i].find_all('div' , {'class': 'flex'})[1].h2.text)\n",
    "        scraped_dict['Current_season_Episodes'].append(docs_2_list[i].find_all('div' , {'class': 'flex'})[1].h4.text[7:])\n",
    "        tagline_info(docs_2_list, i, scraped_dict)  \n",
    "        scraped_dict['Genre'].append(get_genres(docs_2_list, i))        \n",
    "        scraped_dict['Cast'].append(get_show_cast(docs_2_list, i))\n",
    "        \n",
    "    return pd.DataFrame(scraped_dict)\n"
   ]
  },
  {
   "cell_type": "code",
   "execution_count": 32,
   "id": "2028d083-f451-4f03-b363-b72d2a80ff62",
   "metadata": {},
   "outputs": [
    {
     "ename": "NameError",
     "evalue": "name 'tag_title_' is not defined",
     "output_type": "error",
     "traceback": [
      "\u001b[1;31m---------------------------------------------------------------------------\u001b[0m",
      "\u001b[1;31mNameError\u001b[0m                                 Traceback (most recent call last)",
      "Cell \u001b[1;32mIn [32], line 1\u001b[0m\n\u001b[1;32m----> 1\u001b[0m x \u001b[38;5;241m=\u001b[39m get_show_details(\u001b[43mtag_title_\u001b[49m, tag_user_score_, doc_2_list_)\n\u001b[0;32m      2\u001b[0m x\u001b[38;5;241m.\u001b[39mto_csv(\u001b[38;5;124m'\u001b[39m\u001b[38;5;124mcheck.csv\u001b[39m\u001b[38;5;124m'\u001b[39m)\n\u001b[0;32m      3\u001b[0m pd\u001b[38;5;241m.\u001b[39mread_csv(\u001b[38;5;124m'\u001b[39m\u001b[38;5;124mcheck.csv\u001b[39m\u001b[38;5;124m'\u001b[39m,index_col\u001b[38;5;241m=\u001b[39m[\u001b[38;5;241m0\u001b[39m])\n",
      "\u001b[1;31mNameError\u001b[0m: name 'tag_title_' is not defined"
     ]
    }
   ],
   "source": [
    "x = get_show_details(tag_title_, tag_user_score_, doc_2_list_)\n",
    "x.to_csv('check.csv')\n",
    "pd.read_csv('check.csv',index_col=[0])"
   ]
  },
  {
   "cell_type": "code",
   "execution_count": 33,
   "id": "d60799f7-0b71-4ad6-bd6c-4740316ba074",
   "metadata": {},
   "outputs": [
    {
     "name": "stdout",
     "output_type": "stream",
     "text": [
      "436270\n",
      "Black Adam\n",
      "Nearly 5,000 years after he was bestowed with the almighty powers of the Egyptian gods—and imprisoned just as quickly—Black Adam is freed from his earthly tomb, ready to unleash his unique form of justice on the modern world.\n",
      "/pFlaoHTZeyNkG83vxsAJiGzfSsa.jpg\n",
      "736526\n",
      "Troll\n",
      "Deep inside the mountain of Dovre, something gigantic awakens after being trapped for a thousand years. Destroying everything in its path, the creature is fast approaching the capital of Norway. But how do you stop something you thought only existed in Norwegian folklore?\n",
      "/9z4jRr43JdtU66P0iy8h18OyLql.jpg\n",
      "724495\n",
      "The Woman King\n",
      "The story of the Agojie, the all-female unit of warriors who protected the African Kingdom of Dahomey in the 1800s with skills and a fierceness unlike anything the world has ever seen, and General Nanisca as she trains the next generation of recruits and readies them for battle against an enemy determined to destroy their way of life.\n",
      "/lQMJHnHxUyj8kJlC2YOKNuzuwMP.jpg\n",
      "76600\n",
      "Avatar: The Way of Water\n",
      "Set more than a decade after the events of the first film, learn the story of the Sully family (Jake, Neytiri, and their kids), the trouble that follows them, the lengths they go to keep each other safe, the battles they fight to stay alive, and the tragedies they endure.\n",
      "/94xxm5701CzOdJdUEdIuwqZaowx.jpg\n",
      "873126\n",
      "My Name Is Vendetta\n",
      "After old enemies kill his family, a former mafia enforcer and his feisty daughter flee to Milan, where they hide out while plotting their revenge.\n",
      "/7l3war94J4tRyWUiLAGokr3ViF2.jpg\n",
      "1013860\n",
      "R.I.P.D. 2: Rise of the Damned\n",
      "When Sheriff Roy Pulsipher finds himself in the afterlife, he joins a special police force and returns to Earth to save humanity from the undead.\n",
      "/g4yJTzMtOBUTAR2Qnmj8TYIcFVq.jpg\n",
      "505642\n",
      "Black Panther: Wakanda Forever\n",
      "Queen Ramonda, Shuri, M’Baku, Okoye and the Dora Milaje fight to protect their nation from intervening world powers in the wake of King T’Challa’s death. As the Wakandans strive to embrace their next chapter, the heroes must band together with the help of War Dog Nakia and Everett Ross and forge a new path for the kingdom of Wakanda.\n",
      "/ps2oKfhY6DL3alynlSqY97gHSsg.jpg\n",
      "19995\n",
      "Avatar\n",
      "In the 22nd century, a paraplegic Marine is dispatched to the moon Pandora on a unique mission, but becomes torn between following orders and protecting an alien civilization.\n",
      "/jRXYjXNq0Cs2TcJjLkki24MLp7u.jpg\n",
      "1049233\n",
      "Lesson Plan\n",
      "After a teacher dies, his best friend — a former cop — takes a job at the school where he worked to confront the gang he thinks was responsible.\n",
      "/u8RD0lY9Y8Ccdx2EoL3g55CODod.jpg\n",
      "1024546\n",
      "Detective Knight: Rogue\n",
      "As Los Angeles prepares for Halloween, mask-wearing armed robbers critically wound detective James Knight’s partner in a shootout following a heist. With Knight in hot pursuit, the bandits flee L.A. for New York, where the detective’s dark past collides with his present case and threatens to tear his world apart…unless redemption can claim Knight first.\n",
      "/2wj5iUJ2B5AQ1lFctJgUrHHsp9B.jpg\n",
      "1045944\n",
      "The Boss Baby: Christmas Bonus\n",
      "Christmas Eve takes a twisty turn when the Boss Baby accidentally swaps places with one of Santa's elves and gets stranded at the North Pole.\n",
      "/iMmMxF6f2OonUrXrHKBLSYAhXly.jpg\n",
      "747803\n",
      "One Way\n",
      "On the run with a bag full of cash after a robbing his former crime boss—and a potentially fatal wound—Freddy slips onto a bus headed into the unrelenting California desert. With his life slipping through his fingers, Freddy is left with very few choices to survive.\n",
      "/uQCxOziq79P3wDsRwQhhkhQyDsJ.jpg\n",
      "988233\n",
      "Hex\n",
      "Following a mysterious disappearance on a jump, a group of skydivers experiences paranormal occurrences that leave them fighting for their lives.\n",
      "/xFJHb43ZAnnuiDztxZYsmyopweb.jpg\n",
      "934641\n",
      "The Minute You Wake Up Dead\n",
      "A stockbroker in a small southern town gets embroiled in an insurance scam with a next-door neighbor that leads to multiple murders when a host of other people want in on the plot. Sheriff Thurmond Fowler, the by-the-book town sheriff for over four decades, works earnestly to try and unravel the town’s mystery and winds up getting more than he bargained for.\n",
      "/pUPwTbnAqfm95BZjNBnMMf39ChT.jpg\n",
      "555604\n",
      "Guillermo del Toro's Pinocchio\n",
      "During the rise of fascism in Mussolini's Italy, a wooden boy brought magically to life struggles to live up to his father's expectations.\n",
      "/vx1u0uwxdlhV2MUzj4VlcMB0N6m.jpg\n",
      "792775\n",
      "Cop Secret\n",
      "When Bússi, Iceland's toughest cop, is forced to work with a new partner to solve a series of bank robberies, the pressure to close the case as soon as possible proves too much for him.\n",
      "/jnWyZsaCl3Ke6u6ReSmBRO8S1rX.jpg\n",
      "972313\n",
      "Blowback\n",
      "When a master thief is sabotaged during a bank heist and left for dead, he seeks revenge on his former crew one target at a time. Now, with the cops and the mob closing in, he's in the race of his life to reclaim an untold fortune in cryptocurrency from those who double-crossed him.\n",
      "/fHQHC32dhom8u0OxC2hs2gYQh0M.jpg\n",
      "855440\n",
      "Polar\n",
      "MG, a policewoman who has been expelled from the Corps due to the problems with alcohol and drugs that she has had since the loss of her son, receives a call from a man asking her to look for Macarena Gómez, a popular TV actress.\n",
      "/efuKHH9LqBZB67AS87kprLgaYO8.jpg\n",
      "315162\n",
      "Puss in Boots: The Last Wish\n",
      "Puss in Boots discovers that his passion for adventure has taken its toll: He has burned through eight of his nine lives, leaving him with only one life left. Puss sets out on an epic journey to find the mythical Last Wish and restore his nine lives.\n",
      "/1NqwE6LP9IEdOZ57NCT51ftHtWT.jpg\n",
      "829799\n",
      "Paradise City\n",
      "Renegade bounty hunter Ryan Swan must carve his way through the Hawaiian crime world to wreak vengeance on the kingpin who murdered his father.\n",
      "/xdmmd437QdjcCls8yCQxrH5YYM4.jpg\n"
     ]
    }
   ],
   "source": [
    "movie = Movie()\n",
    "popular = movie.popular()\n",
    "for p in popular: \n",
    "    print(p.id) \n",
    "    print(p.title) \n",
    "    print(p.overview) \n",
    "    print(p.poster_path)"
   ]
  },
  {
   "cell_type": "code",
   "execution_count": null,
   "id": "15fec6e4-ba14-4e3b-8fbe-7942e60d2587",
   "metadata": {},
   "outputs": [],
   "source": []
  }
 ],
 "metadata": {
  "kernelspec": {
   "display_name": "Python 3 (ipykernel)",
   "language": "python",
   "name": "python3"
  },
  "language_info": {
   "codemirror_mode": {
    "name": "ipython",
    "version": 3
   },
   "file_extension": ".py",
   "mimetype": "text/x-python",
   "name": "python",
   "nbconvert_exporter": "python",
   "pygments_lexer": "ipython3",
   "version": "3.8.3"
  }
 },
 "nbformat": 4,
 "nbformat_minor": 5
}
