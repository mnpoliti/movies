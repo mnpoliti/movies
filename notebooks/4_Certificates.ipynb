{
 "cells": [
  {
   "cell_type": "code",
   "execution_count": 1,
   "id": "fee0010f-9443-4a87-98f5-28a8f3c81d39",
   "metadata": {},
   "outputs": [],
   "source": [
    "import pandas as pd\n",
    "import numpy as np"
   ]
  },
  {
   "cell_type": "code",
   "execution_count": 2,
   "id": "52f063d9-ea1c-499a-90f2-94fdb5b7cc7b",
   "metadata": {},
   "outputs": [],
   "source": [
    "movies_changes2 = pd.read_csv(\"movies_changes2.csv\")"
   ]
  },
  {
   "cell_type": "code",
   "execution_count": 3,
   "id": "704ab986-b20e-4bbc-817e-c651934f759d",
   "metadata": {},
   "outputs": [
    {
     "data": {
      "text/plain": [
       "Index(['Unnamed: 0.1', 'Unnamed: 0', 'Name', 'Year', 'Rating', 'Votes',\n",
       "       'Runtime', 'Type', 'Certificate', 'Episodes', 'Nudity', 'Violence',\n",
       "       'Profanity', 'Alcohol', 'Frightening', 'Metascore', 'Description1',\n",
       "       'Gross', 'Description2', 'Director', 'Certificate4', 'Description3',\n",
       "       'Description4', 'Language', 'Average_Votes', 'Premiere', 'Poster_Link',\n",
       "       'Certificate7', 'Description5', 'Genre_1', 'Genres_2', 'Genre_3',\n",
       "       'Genre_4', 'Genre_5', 'Genre_6', 'Actor_1', 'Actor_2', 'Actor_3',\n",
       "       'Actor_4'],\n",
       "      dtype='object')"
      ]
     },
     "execution_count": 3,
     "metadata": {},
     "output_type": "execute_result"
    }
   ],
   "source": [
    "movies_changes2.columns"
   ]
  },
  {
   "cell_type": "markdown",
   "id": "10f7ee54-ab32-4127-8e56-d2692404865f",
   "metadata": {
    "tags": []
   },
   "source": [
    "#### 11. Union the columns of the movies_changes2.csv (Certificate4, Certificate7, Certificate)"
   ]
  },
  {
   "cell_type": "markdown",
   "id": "46aaaa0f-29f0-4388-aa2c-2ac93ab5dcef",
   "metadata": {
    "tags": []
   },
   "source": [
    "#### 11.1 cheking columns with unique() "
   ]
  },
  {
   "cell_type": "code",
   "execution_count": 4,
   "id": "c46ce1dd-b50b-41ca-87fd-cc47465213f2",
   "metadata": {},
   "outputs": [
    {
     "data": {
      "text/plain": [
       "array([nan, '12A', '15', 'X', '12', '18', 'PG', 'R', 'U', 'AA', 'A', 'UA',\n",
       "       'Rejected', 'UA 13+'], dtype=object)"
      ]
     },
     "execution_count": 4,
     "metadata": {},
     "output_type": "execute_result"
    }
   ],
   "source": [
    "movies_changes2.Certificate4.unique()"
   ]
  },
  {
   "cell_type": "code",
   "execution_count": 5,
   "id": "1ed34311-9c0f-4d98-b6c6-125c2e55e83a",
   "metadata": {},
   "outputs": [],
   "source": [
    "movies_changes2['Certificate4'] = movies_changes2['Certificate4'].astype(\"string\")"
   ]
  },
  {
   "cell_type": "code",
   "execution_count": 6,
   "id": "084cc21a-a048-437c-bf29-7cfc60aeef4e",
   "metadata": {},
   "outputs": [
    {
     "data": {
      "text/plain": [
       "array([nan, 'PG-13', 'UA', 'R', 'A', 'U', 'Approved', 'TV-PG', 'PG', 'G',\n",
       "       'Passed', 'TV-MA', 'U/A', '16'], dtype=object)"
      ]
     },
     "execution_count": 6,
     "metadata": {},
     "output_type": "execute_result"
    }
   ],
   "source": [
    "movies_changes2.Certificate7.unique()"
   ]
  },
  {
   "cell_type": "code",
   "execution_count": 7,
   "id": "f5c13f21-28d1-4e44-98de-f949f4e99fac",
   "metadata": {},
   "outputs": [],
   "source": [
    "movies_changes2['Certificate7'] = movies_changes2['Certificate7'].astype(\"string\")"
   ]
  },
  {
   "cell_type": "code",
   "execution_count": 8,
   "id": "38803169-89d3-4b53-a6d6-784956f0957b",
   "metadata": {},
   "outputs": [
    {
     "data": {
      "text/plain": [
       "array(['PG-13', 'Approved', 'TV-MA', 'R', 'PG', 'TV-14', 'TV-PG',\n",
       "       '(Banned)', 'Unrated', 'None', 'G', 'Passed', 'NC-17', 'Not Rated',\n",
       "       'X', 'GP', 'TV-Y7', 'M', 'TV-G', 'TV-Y', 'E', 'M/PG'], dtype=object)"
      ]
     },
     "execution_count": 8,
     "metadata": {},
     "output_type": "execute_result"
    }
   ],
   "source": [
    "movies_changes2.Certificate.unique()"
   ]
  },
  {
   "cell_type": "code",
   "execution_count": 9,
   "id": "443da338-7c70-4787-a495-d213d8eb4141",
   "metadata": {},
   "outputs": [],
   "source": [
    "movies_changes2['Certificate'] = movies_changes2['Certificate'].astype(\"string\")"
   ]
  },
  {
   "cell_type": "markdown",
   "id": "7b10106f-81b2-4830-aa8c-c11e651a21be",
   "metadata": {},
   "source": [
    "#### 11.2 concat & union"
   ]
  },
  {
   "cell_type": "markdown",
   "id": "a4696978-21dd-48e8-b0a2-ddb2d3a7e7c3",
   "metadata": {
    "tags": []
   },
   "source": [
    "##### 11.2.1 certificate_concat1"
   ]
  },
  {
   "cell_type": "code",
   "execution_count": 10,
   "id": "7a317bfd-deda-453e-9a71-d26154e629f0",
   "metadata": {},
   "outputs": [
    {
     "data": {
      "text/html": [
       "<div>\n",
       "<style scoped>\n",
       "    .dataframe tbody tr th:only-of-type {\n",
       "        vertical-align: middle;\n",
       "    }\n",
       "\n",
       "    .dataframe tbody tr th {\n",
       "        vertical-align: top;\n",
       "    }\n",
       "\n",
       "    .dataframe thead th {\n",
       "        text-align: right;\n",
       "    }\n",
       "</style>\n",
       "<table border=\"1\" class=\"dataframe\">\n",
       "  <thead>\n",
       "    <tr style=\"text-align: right;\">\n",
       "      <th></th>\n",
       "      <th>Certificate4</th>\n",
       "      <th>Certificate7</th>\n",
       "      <th>Certificate</th>\n",
       "    </tr>\n",
       "  </thead>\n",
       "  <tbody>\n",
       "    <tr>\n",
       "      <th>0</th>\n",
       "      <td>&lt;NA&gt;</td>\n",
       "      <td>&lt;NA&gt;</td>\n",
       "      <td>PG-13</td>\n",
       "    </tr>\n",
       "    <tr>\n",
       "      <th>1</th>\n",
       "      <td>&lt;NA&gt;</td>\n",
       "      <td>&lt;NA&gt;</td>\n",
       "      <td>Approved</td>\n",
       "    </tr>\n",
       "    <tr>\n",
       "      <th>2</th>\n",
       "      <td>&lt;NA&gt;</td>\n",
       "      <td>&lt;NA&gt;</td>\n",
       "      <td>PG-13</td>\n",
       "    </tr>\n",
       "    <tr>\n",
       "      <th>3</th>\n",
       "      <td>&lt;NA&gt;</td>\n",
       "      <td>&lt;NA&gt;</td>\n",
       "      <td>TV-MA</td>\n",
       "    </tr>\n",
       "    <tr>\n",
       "      <th>4</th>\n",
       "      <td>&lt;NA&gt;</td>\n",
       "      <td>&lt;NA&gt;</td>\n",
       "      <td>R</td>\n",
       "    </tr>\n",
       "    <tr>\n",
       "      <th>...</th>\n",
       "      <td>...</td>\n",
       "      <td>...</td>\n",
       "      <td>...</td>\n",
       "    </tr>\n",
       "    <tr>\n",
       "      <th>5798</th>\n",
       "      <td>&lt;NA&gt;</td>\n",
       "      <td>R</td>\n",
       "      <td>R</td>\n",
       "    </tr>\n",
       "    <tr>\n",
       "      <th>5799</th>\n",
       "      <td>&lt;NA&gt;</td>\n",
       "      <td>&lt;NA&gt;</td>\n",
       "      <td>Not Rated</td>\n",
       "    </tr>\n",
       "    <tr>\n",
       "      <th>5800</th>\n",
       "      <td>&lt;NA&gt;</td>\n",
       "      <td>R</td>\n",
       "      <td>R</td>\n",
       "    </tr>\n",
       "    <tr>\n",
       "      <th>5801</th>\n",
       "      <td>&lt;NA&gt;</td>\n",
       "      <td>&lt;NA&gt;</td>\n",
       "      <td>Not Rated</td>\n",
       "    </tr>\n",
       "    <tr>\n",
       "      <th>5802</th>\n",
       "      <td>&lt;NA&gt;</td>\n",
       "      <td>Passed</td>\n",
       "      <td>Passed</td>\n",
       "    </tr>\n",
       "  </tbody>\n",
       "</table>\n",
       "<p>5803 rows × 3 columns</p>\n",
       "</div>"
      ],
      "text/plain": [
       "     Certificate4 Certificate7 Certificate\n",
       "0            <NA>         <NA>       PG-13\n",
       "1            <NA>         <NA>    Approved\n",
       "2            <NA>         <NA>       PG-13\n",
       "3            <NA>         <NA>       TV-MA\n",
       "4            <NA>         <NA>           R\n",
       "...           ...          ...         ...\n",
       "5798         <NA>            R           R\n",
       "5799         <NA>         <NA>   Not Rated\n",
       "5800         <NA>            R           R\n",
       "5801         <NA>         <NA>   Not Rated\n",
       "5802         <NA>       Passed      Passed\n",
       "\n",
       "[5803 rows x 3 columns]"
      ]
     },
     "execution_count": 10,
     "metadata": {},
     "output_type": "execute_result"
    }
   ],
   "source": [
    "certificate_concat1 = pd.concat([movies_changes2.Certificate4,movies_changes2.Certificate7,movies_changes2.Certificate], axis=1)\n",
    "certificate_concat1"
   ]
  },
  {
   "cell_type": "code",
   "execution_count": 11,
   "id": "dfd18871-65f5-4bf1-bcd9-cfe39ab6935f",
   "metadata": {},
   "outputs": [],
   "source": [
    "certificate_concat1.fillna('empty', inplace=True)"
   ]
  },
  {
   "cell_type": "markdown",
   "id": "5822bbc2-21e6-4750-9c11-1beff9438bf1",
   "metadata": {
    "tags": []
   },
   "source": [
    "##### 11.2.2 certificate_union1"
   ]
  },
  {
   "cell_type": "code",
   "execution_count": 12,
   "id": "eaa483fd-f394-4651-a26b-7093b7fc051e",
   "metadata": {},
   "outputs": [
    {
     "data": {
      "text/plain": [
       "0           PG-13\n",
       "1        Approved\n",
       "2           PG-13\n",
       "3           TV-MA\n",
       "4               R\n",
       "          ...    \n",
       "5798            R\n",
       "5799    Not Rated\n",
       "5800            R\n",
       "5801    Not Rated\n",
       "5802       Passed\n",
       "Name: certificate_union1, Length: 5803, dtype: object"
      ]
     },
     "execution_count": 12,
     "metadata": {},
     "output_type": "execute_result"
    }
   ],
   "source": [
    "certificate_concat1[\"certificate_union1\"] = (\n",
    "    certificate_concat1[['Certificate4', 'Certificate7', 'Certificate']]\n",
    "        .apply(lambda x: x.str.split(',\\s*'))\n",
    "        .sum(axis=1).map(np.array)\n",
    "        .apply(lambda x: ', '.join(np.unique(x[x != 'empty'])))        \n",
    "        .replace('', 'empty')\n",
    "    )\n",
    "certificate_concat1.certificate_union1"
   ]
  },
  {
   "cell_type": "markdown",
   "id": "d8edfa49-ead0-4a2e-9269-cc99a5694589",
   "metadata": {
    "tags": []
   },
   "source": [
    "#### 11.3 split certificate_concat1.certificate_union1 "
   ]
  },
  {
   "cell_type": "code",
   "execution_count": 13,
   "id": "ea6995b0-6eb5-4051-b543-b83ea9750871",
   "metadata": {},
   "outputs": [
    {
     "data": {
      "text/html": [
       "<div>\n",
       "<style scoped>\n",
       "    .dataframe tbody tr th:only-of-type {\n",
       "        vertical-align: middle;\n",
       "    }\n",
       "\n",
       "    .dataframe tbody tr th {\n",
       "        vertical-align: top;\n",
       "    }\n",
       "\n",
       "    .dataframe thead th {\n",
       "        text-align: right;\n",
       "    }\n",
       "</style>\n",
       "<table border=\"1\" class=\"dataframe\">\n",
       "  <thead>\n",
       "    <tr style=\"text-align: right;\">\n",
       "      <th></th>\n",
       "      <th>Certificate_1</th>\n",
       "      <th>Certificate_2</th>\n",
       "    </tr>\n",
       "  </thead>\n",
       "  <tbody>\n",
       "    <tr>\n",
       "      <th>0</th>\n",
       "      <td>PG-13</td>\n",
       "      <td>None</td>\n",
       "    </tr>\n",
       "    <tr>\n",
       "      <th>1</th>\n",
       "      <td>Approved</td>\n",
       "      <td>None</td>\n",
       "    </tr>\n",
       "    <tr>\n",
       "      <th>2</th>\n",
       "      <td>PG-13</td>\n",
       "      <td>None</td>\n",
       "    </tr>\n",
       "    <tr>\n",
       "      <th>3</th>\n",
       "      <td>TV-MA</td>\n",
       "      <td>None</td>\n",
       "    </tr>\n",
       "    <tr>\n",
       "      <th>4</th>\n",
       "      <td>R</td>\n",
       "      <td>None</td>\n",
       "    </tr>\n",
       "    <tr>\n",
       "      <th>...</th>\n",
       "      <td>...</td>\n",
       "      <td>...</td>\n",
       "    </tr>\n",
       "    <tr>\n",
       "      <th>5798</th>\n",
       "      <td>R</td>\n",
       "      <td>None</td>\n",
       "    </tr>\n",
       "    <tr>\n",
       "      <th>5799</th>\n",
       "      <td>Not Rated</td>\n",
       "      <td>None</td>\n",
       "    </tr>\n",
       "    <tr>\n",
       "      <th>5800</th>\n",
       "      <td>R</td>\n",
       "      <td>None</td>\n",
       "    </tr>\n",
       "    <tr>\n",
       "      <th>5801</th>\n",
       "      <td>Not Rated</td>\n",
       "      <td>None</td>\n",
       "    </tr>\n",
       "    <tr>\n",
       "      <th>5802</th>\n",
       "      <td>Passed</td>\n",
       "      <td>None</td>\n",
       "    </tr>\n",
       "  </tbody>\n",
       "</table>\n",
       "<p>5803 rows × 2 columns</p>\n",
       "</div>"
      ],
      "text/plain": [
       "     Certificate_1 Certificate_2\n",
       "0            PG-13          None\n",
       "1         Approved          None\n",
       "2            PG-13          None\n",
       "3            TV-MA          None\n",
       "4                R          None\n",
       "...            ...           ...\n",
       "5798             R          None\n",
       "5799     Not Rated          None\n",
       "5800             R          None\n",
       "5801     Not Rated          None\n",
       "5802        Passed          None\n",
       "\n",
       "[5803 rows x 2 columns]"
      ]
     },
     "execution_count": 13,
     "metadata": {},
     "output_type": "execute_result"
    }
   ],
   "source": [
    "c_split = certificate_concat1[['certificate_union1']].copy()\n",
    "c_split[['Certificate_1', 'Certificate_2']] = c_split['certificate_union1'].str.split(',', expand=True)\n",
    "c_split= c_split.drop(['certificate_union1'], axis=1)\n",
    "c_split"
   ]
  },
  {
   "cell_type": "code",
   "execution_count": 14,
   "id": "be53abf2-9144-45c4-8b22-bdb2a0fb5ae0",
   "metadata": {},
   "outputs": [
    {
     "data": {
      "text/html": [
       "<div>\n",
       "<style scoped>\n",
       "    .dataframe tbody tr th:only-of-type {\n",
       "        vertical-align: middle;\n",
       "    }\n",
       "\n",
       "    .dataframe tbody tr th {\n",
       "        vertical-align: top;\n",
       "    }\n",
       "\n",
       "    .dataframe thead th {\n",
       "        text-align: right;\n",
       "    }\n",
       "</style>\n",
       "<table border=\"1\" class=\"dataframe\">\n",
       "  <thead>\n",
       "    <tr style=\"text-align: right;\">\n",
       "      <th></th>\n",
       "      <th>Certificate_1</th>\n",
       "      <th>Certificate_2</th>\n",
       "    </tr>\n",
       "  </thead>\n",
       "  <tbody>\n",
       "    <tr>\n",
       "      <th>0</th>\n",
       "      <td>PG-13</td>\n",
       "      <td></td>\n",
       "    </tr>\n",
       "    <tr>\n",
       "      <th>1</th>\n",
       "      <td>Approved</td>\n",
       "      <td></td>\n",
       "    </tr>\n",
       "    <tr>\n",
       "      <th>2</th>\n",
       "      <td>PG-13</td>\n",
       "      <td></td>\n",
       "    </tr>\n",
       "    <tr>\n",
       "      <th>3</th>\n",
       "      <td>TV-MA</td>\n",
       "      <td></td>\n",
       "    </tr>\n",
       "    <tr>\n",
       "      <th>4</th>\n",
       "      <td>R</td>\n",
       "      <td></td>\n",
       "    </tr>\n",
       "    <tr>\n",
       "      <th>...</th>\n",
       "      <td>...</td>\n",
       "      <td>...</td>\n",
       "    </tr>\n",
       "    <tr>\n",
       "      <th>5798</th>\n",
       "      <td>R</td>\n",
       "      <td></td>\n",
       "    </tr>\n",
       "    <tr>\n",
       "      <th>5799</th>\n",
       "      <td>Not Rated</td>\n",
       "      <td></td>\n",
       "    </tr>\n",
       "    <tr>\n",
       "      <th>5800</th>\n",
       "      <td>R</td>\n",
       "      <td></td>\n",
       "    </tr>\n",
       "    <tr>\n",
       "      <th>5801</th>\n",
       "      <td>Not Rated</td>\n",
       "      <td></td>\n",
       "    </tr>\n",
       "    <tr>\n",
       "      <th>5802</th>\n",
       "      <td>Passed</td>\n",
       "      <td></td>\n",
       "    </tr>\n",
       "  </tbody>\n",
       "</table>\n",
       "<p>5803 rows × 2 columns</p>\n",
       "</div>"
      ],
      "text/plain": [
       "     Certificate_1 Certificate_2\n",
       "0            PG-13              \n",
       "1         Approved              \n",
       "2            PG-13              \n",
       "3            TV-MA              \n",
       "4                R              \n",
       "...            ...           ...\n",
       "5798             R              \n",
       "5799     Not Rated              \n",
       "5800             R              \n",
       "5801     Not Rated              \n",
       "5802        Passed              \n",
       "\n",
       "[5803 rows x 2 columns]"
      ]
     },
     "execution_count": 14,
     "metadata": {},
     "output_type": "execute_result"
    }
   ],
   "source": [
    "c_split.fillna('', inplace=True)\n",
    "c_split"
   ]
  },
  {
   "cell_type": "markdown",
   "id": "b04e53aa-b454-4a4c-98ca-652da82087db",
   "metadata": {
    "tags": []
   },
   "source": [
    "#### 11.4 removing the old columns and replcae with the c_split to movies_change2 (movies_change3)"
   ]
  },
  {
   "cell_type": "code",
   "execution_count": 15,
   "id": "05382a95-23d0-4963-8206-e05694ac24d6",
   "metadata": {},
   "outputs": [
    {
     "data": {
      "text/plain": [
       "Index(['Unnamed: 0.1', 'Unnamed: 0', 'Name', 'Year', 'Rating', 'Votes',\n",
       "       'Runtime', 'Type', 'Episodes', 'Nudity', 'Violence', 'Profanity',\n",
       "       'Alcohol', 'Frightening', 'Metascore', 'Description1', 'Gross',\n",
       "       'Description2', 'Director', 'Description3', 'Description4', 'Language',\n",
       "       'Average_Votes', 'Premiere', 'Poster_Link', 'Description5', 'Genre_1',\n",
       "       'Genres_2', 'Genre_3', 'Genre_4', 'Genre_5', 'Genre_6', 'Actor_1',\n",
       "       'Actor_2', 'Actor_3', 'Actor_4'],\n",
       "      dtype='object')"
      ]
     },
     "execution_count": 15,
     "metadata": {},
     "output_type": "execute_result"
    }
   ],
   "source": [
    "movies_changes2 = movies_changes2.drop(['Certificate', 'Certificate4', 'Certificate7'], axis=1)\n",
    "movies_changes2.columns"
   ]
  },
  {
   "cell_type": "code",
   "execution_count": 16,
   "id": "9fd47018-6f1c-426c-bfe4-8d57e6119e5d",
   "metadata": {},
   "outputs": [
    {
     "data": {
      "text/plain": [
       "Index(['Unnamed: 0.1', 'Unnamed: 0', 'Name', 'Year', 'Rating', 'Votes',\n",
       "       'Runtime', 'Type', 'Episodes', 'Nudity', 'Violence', 'Profanity',\n",
       "       'Alcohol', 'Frightening', 'Metascore', 'Description1', 'Gross',\n",
       "       'Description2', 'Director', 'Description3', 'Description4', 'Language',\n",
       "       'Average_Votes', 'Premiere', 'Poster_Link', 'Description5', 'Genre_1',\n",
       "       'Genres_2', 'Genre_3', 'Genre_4', 'Genre_5', 'Genre_6', 'Actor_1',\n",
       "       'Actor_2', 'Actor_3', 'Actor_4', 'Certificate_1', 'Certificate_2'],\n",
       "      dtype='object')"
      ]
     },
     "execution_count": 16,
     "metadata": {},
     "output_type": "execute_result"
    }
   ],
   "source": [
    "movies_changes3 = pd.concat([movies_changes2, c_split], axis=1)\n",
    "movies_changes3.columns"
   ]
  },
  {
   "cell_type": "code",
   "execution_count": 17,
   "id": "092946db-2aa3-4e00-95b9-de3a7c9d3d96",
   "metadata": {},
   "outputs": [
    {
     "data": {
      "text/plain": [
       "Index(['Name', 'Year', 'Rating', 'Votes', 'Runtime', 'Type', 'Episodes',\n",
       "       'Nudity', 'Violence', 'Profanity', 'Alcohol', 'Frightening',\n",
       "       'Metascore', 'Description1', 'Gross', 'Description2', 'Director',\n",
       "       'Description3', 'Description4', 'Language', 'Average_Votes', 'Premiere',\n",
       "       'Poster_Link', 'Description5', 'Genre_1', 'Genres_2', 'Genre_3',\n",
       "       'Genre_4', 'Genre_5', 'Genre_6', 'Actor_1', 'Actor_2', 'Actor_3',\n",
       "       'Actor_4', 'Certificate_1', 'Certificate_2'],\n",
       "      dtype='object')"
      ]
     },
     "execution_count": 17,
     "metadata": {},
     "output_type": "execute_result"
    }
   ],
   "source": [
    "movies_changes3= movies_changes3.drop(['Unnamed: 0.1', 'Unnamed: 0' ], axis=1)\n",
    "movies_changes3.columns"
   ]
  },
  {
   "cell_type": "code",
   "execution_count": 18,
   "id": "b2bd110a-38c3-451d-8c72-85d2d6e47739",
   "metadata": {},
   "outputs": [],
   "source": [
    "movies_changes3.to_csv('movies_changes3.csv')"
   ]
  },
  {
   "cell_type": "code",
   "execution_count": 19,
   "id": "52bc68ef-dc00-4418-9d97-885ae6b5c75b",
   "metadata": {},
   "outputs": [
    {
     "name": "stdout",
     "output_type": "stream",
     "text": [
      "                           Name  Year  Rating   Votes  Runtime    Type  \\\n",
      "0                 Casino Royale  2006     8.0  613873      144    Film   \n",
      "1                 Casino Royale  1967     5.1   28917      131    Film   \n",
      "2                       Skyfall  2012     7.8  658977      143    Film   \n",
      "3     What We Do in the Shadows  2021     8.5   50078       30  Series   \n",
      "4     What We Do in the Shadows  2014     7.7  169214       86    Film   \n",
      "...                         ...   ...     ...     ...      ...     ...   \n",
      "5798        Lucky Number Slevin  2006     7.7  306275      110    Film   \n",
      "5799        Anatomy of a Murder  1959     8.0   63564      161    Film   \n",
      "5800                      Mommy  2014     8.1   54020      139    Film   \n",
      "5801                 Chugyeokja  2008     7.8   62423      125    Film   \n",
      "5802           Double Indemnity  1944     8.3  150448      107    Film   \n",
      "\n",
      "     Episodes    Nudity  Violence Profanity  ...     Genre_3    Genre_4  \\\n",
      "0           -      Mild  Moderate      Mild  ...    Thriller        NaN   \n",
      "1           -      Mild      Mild      Mild  ...      Comedy   Thriller   \n",
      "2           -      Mild  Moderate      Mild  ...    Thriller        NaN   \n",
      "3          31  Moderate  Moderate  Moderate  ...      Horror        NaN   \n",
      "4           -      Mild  Moderate  Moderate  ...         NaN        NaN   \n",
      "...       ...       ...       ...       ...  ...         ...        ...   \n",
      "5798        -  Moderate    Severe    Severe  ...       Drama   Thriller   \n",
      "5799        -      None      Mild      Mild  ...     Mystery        NaN   \n",
      "5800        -      Mild  Moderate    Severe  ...         NaN        NaN   \n",
      "5801        -      Mild    Severe  Moderate  ...    Thriller        NaN   \n",
      "5802        -      None      Mild      None  ...   Film-Noir        NaN   \n",
      "\n",
      "      Genre_5 Genre_6           Actor_1                 Actor_2  \\\n",
      "0         NaN     NaN               NaN                     NaN   \n",
      "1         NaN     NaN               NaN                     NaN   \n",
      "2         NaN     NaN               NaN                     NaN   \n",
      "3         NaN     NaN               NaN                     NaN   \n",
      "4         NaN     NaN               NaN                     NaN   \n",
      "...       ...     ...               ...                     ...   \n",
      "5798      NaN     NaN      Ben Kingsley           Josh Hartnett   \n",
      "5799      NaN     NaN  Arthur O'Connell             Ben Gazzara   \n",
      "5800      NaN     NaN       Anne Dorval   Antoine Olivier Pilon   \n",
      "5801      NaN     NaN       Jung-woo Ha           Kim Yoon-seok   \n",
      "5802      NaN     NaN  Barbara Stanwyck              Byron Barr   \n",
      "\n",
      "                  Actor_3           Actor_4 Certificate_1 Certificate_2  \n",
      "0                     NaN               NaN         PG-13                \n",
      "1                     NaN               NaN      Approved                \n",
      "2                     NaN               NaN         PG-13                \n",
      "3                     NaN               NaN         TV-MA                \n",
      "4                     NaN               NaN             R                \n",
      "...                   ...               ...           ...           ...  \n",
      "5798             Lucy Liu    Morgan Freeman             R                \n",
      "5799        James Stewart        Lee Remick     Not Rated                \n",
      "5800        Patrick Huard   Suzanne Clément             R                \n",
      "5801        Yeong-hie Seo     Yoo-Jeong Kim     Not Rated                \n",
      "5802   Edward G. Robinson    Fred MacMurray        Passed                \n",
      "\n",
      "[5803 rows x 36 columns]\n"
     ]
    }
   ],
   "source": [
    "print(movies_changes3)"
   ]
  }
 ],
 "metadata": {
  "kernelspec": {
   "display_name": "Python 3 (ipykernel)",
   "language": "python",
   "name": "python3"
  },
  "language_info": {
   "codemirror_mode": {
    "name": "ipython",
    "version": 3
   },
   "file_extension": ".py",
   "mimetype": "text/x-python",
   "name": "python",
   "nbconvert_exporter": "python",
   "pygments_lexer": "ipython3",
   "version": "3.8.3"
  }
 },
 "nbformat": 4,
 "nbformat_minor": 5
}
