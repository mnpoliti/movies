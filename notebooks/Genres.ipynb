{
 "cells": [
  {
   "cell_type": "code",
   "execution_count": 1,
   "id": "40a6a565-fa7a-411b-ab6b-8eeb68cbe642",
   "metadata": {},
   "outputs": [],
   "source": [
    "import pandas as pd\n",
    "import numpy as np"
   ]
  },
  {
   "cell_type": "code",
   "execution_count": 2,
   "id": "6fb6923f-2b3f-41dc-90b5-040da15ba1c7",
   "metadata": {},
   "outputs": [],
   "source": [
    "without_dub_union = pd.read_csv(\"without_dub_union.csv\")"
   ]
  },
  {
   "cell_type": "markdown",
   "id": "519983ef-69ea-445d-85df-cb9d70579e78",
   "metadata": {
    "tags": []
   },
   "source": [
    "#### 9.1.Split the Genres columns"
   ]
  },
  {
   "cell_type": "markdown",
   "id": "8ffac149-2d26-4102-8f60-e640f223b348",
   "metadata": {
    "tags": []
   },
   "source": [
    "##### Genre1 to genre1_1 (G1, G2, G3)"
   ]
  },
  {
   "cell_type": "code",
   "execution_count": 3,
   "id": "b22aef7e-d571-4079-9faf-68a25691206d",
   "metadata": {},
   "outputs": [
    {
     "data": {
      "text/html": [
       "<div>\n",
       "<style scoped>\n",
       "    .dataframe tbody tr th:only-of-type {\n",
       "        vertical-align: middle;\n",
       "    }\n",
       "\n",
       "    .dataframe tbody tr th {\n",
       "        vertical-align: top;\n",
       "    }\n",
       "\n",
       "    .dataframe thead th {\n",
       "        text-align: right;\n",
       "    }\n",
       "</style>\n",
       "<table border=\"1\" class=\"dataframe\">\n",
       "  <thead>\n",
       "    <tr style=\"text-align: right;\">\n",
       "      <th></th>\n",
       "      <th>G1</th>\n",
       "      <th>G2</th>\n",
       "      <th>G3</th>\n",
       "    </tr>\n",
       "  </thead>\n",
       "  <tbody>\n",
       "    <tr>\n",
       "      <th>0</th>\n",
       "      <td>Action</td>\n",
       "      <td>Adventure</td>\n",
       "      <td>Thriller</td>\n",
       "    </tr>\n",
       "    <tr>\n",
       "      <th>1</th>\n",
       "      <td>Comedy</td>\n",
       "      <td>None</td>\n",
       "      <td>None</td>\n",
       "    </tr>\n",
       "    <tr>\n",
       "      <th>2</th>\n",
       "      <td>Action</td>\n",
       "      <td>Adventure</td>\n",
       "      <td>Thriller</td>\n",
       "    </tr>\n",
       "    <tr>\n",
       "      <th>3</th>\n",
       "      <td>Comedy</td>\n",
       "      <td>Fantasy</td>\n",
       "      <td>Horror</td>\n",
       "    </tr>\n",
       "    <tr>\n",
       "      <th>4</th>\n",
       "      <td>Comedy</td>\n",
       "      <td>Horror</td>\n",
       "      <td>None</td>\n",
       "    </tr>\n",
       "    <tr>\n",
       "      <th>...</th>\n",
       "      <td>...</td>\n",
       "      <td>...</td>\n",
       "      <td>...</td>\n",
       "    </tr>\n",
       "    <tr>\n",
       "      <th>5798</th>\n",
       "      <td>Crime</td>\n",
       "      <td>Drama</td>\n",
       "      <td>Thriller</td>\n",
       "    </tr>\n",
       "    <tr>\n",
       "      <th>5799</th>\n",
       "      <td>Drama</td>\n",
       "      <td>Mystery</td>\n",
       "      <td>None</td>\n",
       "    </tr>\n",
       "    <tr>\n",
       "      <th>5800</th>\n",
       "      <td>Drama</td>\n",
       "      <td>None</td>\n",
       "      <td>None</td>\n",
       "    </tr>\n",
       "    <tr>\n",
       "      <th>5801</th>\n",
       "      <td>Action</td>\n",
       "      <td>Crime</td>\n",
       "      <td>Thriller</td>\n",
       "    </tr>\n",
       "    <tr>\n",
       "      <th>5802</th>\n",
       "      <td>Crime</td>\n",
       "      <td>Drama</td>\n",
       "      <td>Film-Noir</td>\n",
       "    </tr>\n",
       "  </tbody>\n",
       "</table>\n",
       "<p>5803 rows × 3 columns</p>\n",
       "</div>"
      ],
      "text/plain": [
       "          G1          G2          G3\n",
       "0     Action   Adventure    Thriller\n",
       "1     Comedy        None        None\n",
       "2     Action   Adventure    Thriller\n",
       "3     Comedy     Fantasy      Horror\n",
       "4     Comedy      Horror        None\n",
       "...      ...         ...         ...\n",
       "5798   Crime       Drama    Thriller\n",
       "5799   Drama     Mystery        None\n",
       "5800   Drama        None        None\n",
       "5801  Action       Crime    Thriller\n",
       "5802   Crime       Drama   Film-Noir\n",
       "\n",
       "[5803 rows x 3 columns]"
      ]
     },
     "execution_count": 3,
     "metadata": {},
     "output_type": "execute_result"
    }
   ],
   "source": [
    "genre_1 = without_dub_union[['Genre1']].copy()\n",
    "genre_1[['G1', 'G2', 'G3']] = genre_1['Genre1'].str.split(',', expand=True)\n",
    "genre1_1= genre_1.drop(['Genre1'], axis=1)\n",
    "genre1_1"
   ]
  },
  {
   "cell_type": "markdown",
   "id": "f5be45dd-463b-4151-ae4e-56c744ce8d6a",
   "metadata": {},
   "source": [
    "##### Genre 2 to genre2_1 (G4, G5, G6)"
   ]
  },
  {
   "cell_type": "code",
   "execution_count": 4,
   "id": "165679a2-ae23-4fa1-81c1-9738e8105a16",
   "metadata": {},
   "outputs": [
    {
     "data": {
      "text/html": [
       "<div>\n",
       "<style scoped>\n",
       "    .dataframe tbody tr th:only-of-type {\n",
       "        vertical-align: middle;\n",
       "    }\n",
       "\n",
       "    .dataframe tbody tr th {\n",
       "        vertical-align: top;\n",
       "    }\n",
       "\n",
       "    .dataframe thead th {\n",
       "        text-align: right;\n",
       "    }\n",
       "</style>\n",
       "<table border=\"1\" class=\"dataframe\">\n",
       "  <thead>\n",
       "    <tr style=\"text-align: right;\">\n",
       "      <th></th>\n",
       "      <th>G4</th>\n",
       "      <th>G5</th>\n",
       "      <th>G6</th>\n",
       "    </tr>\n",
       "  </thead>\n",
       "  <tbody>\n",
       "    <tr>\n",
       "      <th>0</th>\n",
       "      <td>Action</td>\n",
       "      <td>Adventure</td>\n",
       "      <td>Thriller</td>\n",
       "    </tr>\n",
       "    <tr>\n",
       "      <th>1</th>\n",
       "      <td>Action</td>\n",
       "      <td>Adventure</td>\n",
       "      <td>Thriller</td>\n",
       "    </tr>\n",
       "    <tr>\n",
       "      <th>2</th>\n",
       "      <td>Action</td>\n",
       "      <td>Adventure</td>\n",
       "      <td>Thriller</td>\n",
       "    </tr>\n",
       "    <tr>\n",
       "      <th>3</th>\n",
       "      <td>Comedy</td>\n",
       "      <td>Horror</td>\n",
       "      <td>None</td>\n",
       "    </tr>\n",
       "    <tr>\n",
       "      <th>4</th>\n",
       "      <td>Comedy</td>\n",
       "      <td>Horror</td>\n",
       "      <td>None</td>\n",
       "    </tr>\n",
       "    <tr>\n",
       "      <th>...</th>\n",
       "      <td>...</td>\n",
       "      <td>...</td>\n",
       "      <td>...</td>\n",
       "    </tr>\n",
       "    <tr>\n",
       "      <th>5798</th>\n",
       "      <td>NaN</td>\n",
       "      <td>NaN</td>\n",
       "      <td>NaN</td>\n",
       "    </tr>\n",
       "    <tr>\n",
       "      <th>5799</th>\n",
       "      <td>NaN</td>\n",
       "      <td>NaN</td>\n",
       "      <td>NaN</td>\n",
       "    </tr>\n",
       "    <tr>\n",
       "      <th>5800</th>\n",
       "      <td>NaN</td>\n",
       "      <td>NaN</td>\n",
       "      <td>NaN</td>\n",
       "    </tr>\n",
       "    <tr>\n",
       "      <th>5801</th>\n",
       "      <td>NaN</td>\n",
       "      <td>NaN</td>\n",
       "      <td>NaN</td>\n",
       "    </tr>\n",
       "    <tr>\n",
       "      <th>5802</th>\n",
       "      <td>NaN</td>\n",
       "      <td>NaN</td>\n",
       "      <td>NaN</td>\n",
       "    </tr>\n",
       "  </tbody>\n",
       "</table>\n",
       "<p>5803 rows × 3 columns</p>\n",
       "</div>"
      ],
      "text/plain": [
       "          G4          G5         G6\n",
       "0     Action   Adventure   Thriller\n",
       "1     Action   Adventure   Thriller\n",
       "2     Action   Adventure   Thriller\n",
       "3     Comedy      Horror       None\n",
       "4     Comedy      Horror       None\n",
       "...      ...         ...        ...\n",
       "5798     NaN         NaN        NaN\n",
       "5799     NaN         NaN        NaN\n",
       "5800     NaN         NaN        NaN\n",
       "5801     NaN         NaN        NaN\n",
       "5802     NaN         NaN        NaN\n",
       "\n",
       "[5803 rows x 3 columns]"
      ]
     },
     "execution_count": 4,
     "metadata": {},
     "output_type": "execute_result"
    }
   ],
   "source": [
    "genre_2 = without_dub_union[['Genre2']].copy()\n",
    "genre_2[['G4', 'G5', 'G6']] = genre_2['Genre2'].str.split(',', expand=True)\n",
    "genre2_1= genre_2.drop(['Genre2'], axis=1)\n",
    "genre2_1"
   ]
  },
  {
   "cell_type": "markdown",
   "id": "b3e7660a-4af7-4fc6-9b33-2bb07e13b7b0",
   "metadata": {},
   "source": [
    "##### Genre3 to genre3_1 ( G7, G8, G9)"
   ]
  },
  {
   "cell_type": "code",
   "execution_count": 5,
   "id": "299d0253-8910-4454-b043-002027f88394",
   "metadata": {},
   "outputs": [
    {
     "data": {
      "text/html": [
       "<div>\n",
       "<style scoped>\n",
       "    .dataframe tbody tr th:only-of-type {\n",
       "        vertical-align: middle;\n",
       "    }\n",
       "\n",
       "    .dataframe tbody tr th {\n",
       "        vertical-align: top;\n",
       "    }\n",
       "\n",
       "    .dataframe thead th {\n",
       "        text-align: right;\n",
       "    }\n",
       "</style>\n",
       "<table border=\"1\" class=\"dataframe\">\n",
       "  <thead>\n",
       "    <tr style=\"text-align: right;\">\n",
       "      <th></th>\n",
       "      <th>G7</th>\n",
       "      <th>G8</th>\n",
       "      <th>G9</th>\n",
       "    </tr>\n",
       "  </thead>\n",
       "  <tbody>\n",
       "    <tr>\n",
       "      <th>0</th>\n",
       "      <td>NaN</td>\n",
       "      <td>NaN</td>\n",
       "      <td>NaN</td>\n",
       "    </tr>\n",
       "    <tr>\n",
       "      <th>1</th>\n",
       "      <td>NaN</td>\n",
       "      <td>NaN</td>\n",
       "      <td>NaN</td>\n",
       "    </tr>\n",
       "    <tr>\n",
       "      <th>2</th>\n",
       "      <td>NaN</td>\n",
       "      <td>NaN</td>\n",
       "      <td>NaN</td>\n",
       "    </tr>\n",
       "    <tr>\n",
       "      <th>3</th>\n",
       "      <td>NaN</td>\n",
       "      <td>NaN</td>\n",
       "      <td>NaN</td>\n",
       "    </tr>\n",
       "    <tr>\n",
       "      <th>4</th>\n",
       "      <td>NaN</td>\n",
       "      <td>NaN</td>\n",
       "      <td>NaN</td>\n",
       "    </tr>\n",
       "    <tr>\n",
       "      <th>...</th>\n",
       "      <td>...</td>\n",
       "      <td>...</td>\n",
       "      <td>...</td>\n",
       "    </tr>\n",
       "    <tr>\n",
       "      <th>5798</th>\n",
       "      <td>NaN</td>\n",
       "      <td>NaN</td>\n",
       "      <td>NaN</td>\n",
       "    </tr>\n",
       "    <tr>\n",
       "      <th>5799</th>\n",
       "      <td>NaN</td>\n",
       "      <td>NaN</td>\n",
       "      <td>NaN</td>\n",
       "    </tr>\n",
       "    <tr>\n",
       "      <th>5800</th>\n",
       "      <td>NaN</td>\n",
       "      <td>NaN</td>\n",
       "      <td>NaN</td>\n",
       "    </tr>\n",
       "    <tr>\n",
       "      <th>5801</th>\n",
       "      <td>NaN</td>\n",
       "      <td>NaN</td>\n",
       "      <td>NaN</td>\n",
       "    </tr>\n",
       "    <tr>\n",
       "      <th>5802</th>\n",
       "      <td>NaN</td>\n",
       "      <td>NaN</td>\n",
       "      <td>NaN</td>\n",
       "    </tr>\n",
       "  </tbody>\n",
       "</table>\n",
       "<p>5803 rows × 3 columns</p>\n",
       "</div>"
      ],
      "text/plain": [
       "       G7   G8   G9\n",
       "0     NaN  NaN  NaN\n",
       "1     NaN  NaN  NaN\n",
       "2     NaN  NaN  NaN\n",
       "3     NaN  NaN  NaN\n",
       "4     NaN  NaN  NaN\n",
       "...   ...  ...  ...\n",
       "5798  NaN  NaN  NaN\n",
       "5799  NaN  NaN  NaN\n",
       "5800  NaN  NaN  NaN\n",
       "5801  NaN  NaN  NaN\n",
       "5802  NaN  NaN  NaN\n",
       "\n",
       "[5803 rows x 3 columns]"
      ]
     },
     "execution_count": 5,
     "metadata": {},
     "output_type": "execute_result"
    }
   ],
   "source": [
    "genre_3 = without_dub_union[['Genre3']].copy()\n",
    "genre_3[['G7', 'G8', 'G9']] = genre_3['Genre3'].str.split(',', expand=True)\n",
    "genre3_1= genre_3.drop(['Genre3'], axis=1)\n",
    "genre3_1"
   ]
  },
  {
   "cell_type": "markdown",
   "id": "c007acbe-df26-4450-8ee1-6446062da207",
   "metadata": {},
   "source": [
    "##### Genre4 to genre4_1 (G10, G11, G12)"
   ]
  },
  {
   "cell_type": "code",
   "execution_count": 6,
   "id": "4879b495-1b89-40c5-b056-55e20a04bb27",
   "metadata": {},
   "outputs": [
    {
     "data": {
      "text/html": [
       "<div>\n",
       "<style scoped>\n",
       "    .dataframe tbody tr th:only-of-type {\n",
       "        vertical-align: middle;\n",
       "    }\n",
       "\n",
       "    .dataframe tbody tr th {\n",
       "        vertical-align: top;\n",
       "    }\n",
       "\n",
       "    .dataframe thead th {\n",
       "        text-align: right;\n",
       "    }\n",
       "</style>\n",
       "<table border=\"1\" class=\"dataframe\">\n",
       "  <thead>\n",
       "    <tr style=\"text-align: right;\">\n",
       "      <th></th>\n",
       "      <th>G10</th>\n",
       "      <th>G11</th>\n",
       "      <th>G12</th>\n",
       "    </tr>\n",
       "  </thead>\n",
       "  <tbody>\n",
       "    <tr>\n",
       "      <th>0</th>\n",
       "      <td>NaN</td>\n",
       "      <td>NaN</td>\n",
       "      <td>NaN</td>\n",
       "    </tr>\n",
       "    <tr>\n",
       "      <th>1</th>\n",
       "      <td>NaN</td>\n",
       "      <td>NaN</td>\n",
       "      <td>NaN</td>\n",
       "    </tr>\n",
       "    <tr>\n",
       "      <th>2</th>\n",
       "      <td>NaN</td>\n",
       "      <td>NaN</td>\n",
       "      <td>NaN</td>\n",
       "    </tr>\n",
       "    <tr>\n",
       "      <th>3</th>\n",
       "      <td>NaN</td>\n",
       "      <td>NaN</td>\n",
       "      <td>NaN</td>\n",
       "    </tr>\n",
       "    <tr>\n",
       "      <th>4</th>\n",
       "      <td>NaN</td>\n",
       "      <td>NaN</td>\n",
       "      <td>NaN</td>\n",
       "    </tr>\n",
       "    <tr>\n",
       "      <th>...</th>\n",
       "      <td>...</td>\n",
       "      <td>...</td>\n",
       "      <td>...</td>\n",
       "    </tr>\n",
       "    <tr>\n",
       "      <th>5798</th>\n",
       "      <td>NaN</td>\n",
       "      <td>NaN</td>\n",
       "      <td>NaN</td>\n",
       "    </tr>\n",
       "    <tr>\n",
       "      <th>5799</th>\n",
       "      <td>NaN</td>\n",
       "      <td>NaN</td>\n",
       "      <td>NaN</td>\n",
       "    </tr>\n",
       "    <tr>\n",
       "      <th>5800</th>\n",
       "      <td>NaN</td>\n",
       "      <td>NaN</td>\n",
       "      <td>NaN</td>\n",
       "    </tr>\n",
       "    <tr>\n",
       "      <th>5801</th>\n",
       "      <td>NaN</td>\n",
       "      <td>NaN</td>\n",
       "      <td>NaN</td>\n",
       "    </tr>\n",
       "    <tr>\n",
       "      <th>5802</th>\n",
       "      <td>NaN</td>\n",
       "      <td>NaN</td>\n",
       "      <td>NaN</td>\n",
       "    </tr>\n",
       "  </tbody>\n",
       "</table>\n",
       "<p>5803 rows × 3 columns</p>\n",
       "</div>"
      ],
      "text/plain": [
       "      G10  G11  G12\n",
       "0     NaN  NaN  NaN\n",
       "1     NaN  NaN  NaN\n",
       "2     NaN  NaN  NaN\n",
       "3     NaN  NaN  NaN\n",
       "4     NaN  NaN  NaN\n",
       "...   ...  ...  ...\n",
       "5798  NaN  NaN  NaN\n",
       "5799  NaN  NaN  NaN\n",
       "5800  NaN  NaN  NaN\n",
       "5801  NaN  NaN  NaN\n",
       "5802  NaN  NaN  NaN\n",
       "\n",
       "[5803 rows x 3 columns]"
      ]
     },
     "execution_count": 6,
     "metadata": {},
     "output_type": "execute_result"
    }
   ],
   "source": [
    "genre_4 = without_dub_union[['Genre4']].copy()\n",
    "genre_4[['G10', 'G11', 'G12']] = genre_4['Genre4'].str.split(',', expand=True)\n",
    "genre4_1= genre_4.drop(['Genre4'], axis=1)\n",
    "genre4_1"
   ]
  },
  {
   "cell_type": "markdown",
   "id": "5fd597cd-5291-4d7d-86fd-9d22c8f1a72a",
   "metadata": {},
   "source": [
    "##### Genre5 to genre5_1 (G16)"
   ]
  },
  {
   "cell_type": "code",
   "execution_count": 7,
   "id": "95e8643f-ab3f-411e-a171-ab4e435fd492",
   "metadata": {},
   "outputs": [
    {
     "data": {
      "text/plain": [
       "array([nan, 'Comedy', 'Horror thriller', 'Zombie/Heist',\n",
       "       'Historical drama', 'Psychological thriller', 'Biopic',\n",
       "       'Crime drama', 'Action', 'Teen comedy horror', 'Horror',\n",
       "       'Superhero/Action', 'Western', 'Drama', 'Thriller',\n",
       "       'Comedy/Horror', 'Musical comedy', 'Action-adventure', 'War drama',\n",
       "       'Horror/Crime drama', 'Comedy mystery', 'Romantic thriller',\n",
       "       'Horror-thriller', 'Romantic comedy', 'Historical-epic',\n",
       "       'Superhero', 'Romantic comedy/Holiday', 'Action-thriller',\n",
       "       'Action comedy', 'Science fiction', 'Superhero-Comedy',\n",
       "       'Urban fantasy', 'Romance', 'Documentary', 'Romantic drama',\n",
       "       'Comedy-drama', 'Science fiction/Drama',\n",
       "       'Science fiction/Thriller', 'Animation/Christmas/Comedy/Adventure',\n",
       "       'Psychological horror', 'Action/Science fiction',\n",
       "       'Science fiction/Mystery', 'Hidden-camera prank comedy',\n",
       "       'Spy thriller'], dtype=object)"
      ]
     },
     "execution_count": 7,
     "metadata": {},
     "output_type": "execute_result"
    }
   ],
   "source": [
    "without_dub_union.Genre5.unique()"
   ]
  },
  {
   "cell_type": "code",
   "execution_count": 8,
   "id": "e8a8508d-9d37-4d14-984d-a426fb3cd478",
   "metadata": {},
   "outputs": [],
   "source": [
    "without_dub_union.Genre5 = without_dub_union.Genre5.str.replace(\"/\",\",\")\n",
    "without_dub_union.Genre5 = without_dub_union.Genre5.str.replace(\"-\",\" \")\n",
    "without_dub_union.Genre5 = without_dub_union.Genre5.str.replace(\"Science fiction\",\"Sci-Fi\")\n",
    "without_dub_union.Genre5 = without_dub_union.Genre5.str.replace(\"Hidden camera\",\"Hidden-camera\")\n",
    "without_dub_union.Genre5 = without_dub_union.Genre5.str.replace(\" \",\",\")\n",
    "without_dub_union.Genre5 = without_dub_union.Genre5.str.replace(\"thriller\",\"Thriller,\")\n",
    "without_dub_union.Genre5 = without_dub_union.Genre5.str.replace(\"drama\",\"Drama\")\n",
    "without_dub_union.Genre5 = without_dub_union.Genre5.str.replace(\"comedy\",\"Comedy\")\n",
    "without_dub_union.Genre5 = without_dub_union.Genre5.str.replace(\"horror\",\"Horror\")\n",
    "without_dub_union.Genre5 = without_dub_union.Genre5.str.replace(\"adventure\",\"Adventure\")\n",
    "without_dub_union.Genre5 = without_dub_union.Genre5.str.replace(\"fantasy\",\"Fantasy\")\n",
    "without_dub_union.Genre5 = without_dub_union.Genre5.str.replace(\"prank\",\"Prank\")"
   ]
  },
  {
   "cell_type": "code",
   "execution_count": 9,
   "id": "0be96e29-4590-4d96-ac3f-15fd0ebb46fb",
   "metadata": {},
   "outputs": [
    {
     "data": {
      "text/plain": [
       "0       NaN\n",
       "1       NaN\n",
       "2       NaN\n",
       "3       NaN\n",
       "4       NaN\n",
       "       ... \n",
       "5798    NaN\n",
       "5799    NaN\n",
       "5800    NaN\n",
       "5801    NaN\n",
       "5802    NaN\n",
       "Name: Genre5, Length: 5803, dtype: object"
      ]
     },
     "execution_count": 9,
     "metadata": {},
     "output_type": "execute_result"
    }
   ],
   "source": [
    "without_dub_union.Genre5"
   ]
  },
  {
   "cell_type": "markdown",
   "id": "8edbb756-055d-4c11-a4cb-c89354cf5f94",
   "metadata": {},
   "source": [
    "##### Genre6 to genre6_1 (G13, G14, G15)"
   ]
  },
  {
   "cell_type": "code",
   "execution_count": 10,
   "id": "72b212c9-ebe4-4c47-a06d-ca3989885503",
   "metadata": {},
   "outputs": [
    {
     "data": {
      "text/html": [
       "<div>\n",
       "<style scoped>\n",
       "    .dataframe tbody tr th:only-of-type {\n",
       "        vertical-align: middle;\n",
       "    }\n",
       "\n",
       "    .dataframe tbody tr th {\n",
       "        vertical-align: top;\n",
       "    }\n",
       "\n",
       "    .dataframe thead th {\n",
       "        text-align: right;\n",
       "    }\n",
       "</style>\n",
       "<table border=\"1\" class=\"dataframe\">\n",
       "  <thead>\n",
       "    <tr style=\"text-align: right;\">\n",
       "      <th></th>\n",
       "      <th>G13</th>\n",
       "      <th>G14</th>\n",
       "      <th>G15</th>\n",
       "    </tr>\n",
       "  </thead>\n",
       "  <tbody>\n",
       "    <tr>\n",
       "      <th>0</th>\n",
       "      <td>NaN</td>\n",
       "      <td>NaN</td>\n",
       "      <td>NaN</td>\n",
       "    </tr>\n",
       "    <tr>\n",
       "      <th>1</th>\n",
       "      <td>NaN</td>\n",
       "      <td>NaN</td>\n",
       "      <td>NaN</td>\n",
       "    </tr>\n",
       "    <tr>\n",
       "      <th>2</th>\n",
       "      <td>NaN</td>\n",
       "      <td>NaN</td>\n",
       "      <td>NaN</td>\n",
       "    </tr>\n",
       "    <tr>\n",
       "      <th>3</th>\n",
       "      <td>NaN</td>\n",
       "      <td>NaN</td>\n",
       "      <td>NaN</td>\n",
       "    </tr>\n",
       "    <tr>\n",
       "      <th>4</th>\n",
       "      <td>NaN</td>\n",
       "      <td>NaN</td>\n",
       "      <td>NaN</td>\n",
       "    </tr>\n",
       "    <tr>\n",
       "      <th>...</th>\n",
       "      <td>...</td>\n",
       "      <td>...</td>\n",
       "      <td>...</td>\n",
       "    </tr>\n",
       "    <tr>\n",
       "      <th>5798</th>\n",
       "      <td>Action</td>\n",
       "      <td>Crime</td>\n",
       "      <td>Drama</td>\n",
       "    </tr>\n",
       "    <tr>\n",
       "      <th>5799</th>\n",
       "      <td>Crime</td>\n",
       "      <td>Drama</td>\n",
       "      <td>Mystery</td>\n",
       "    </tr>\n",
       "    <tr>\n",
       "      <th>5800</th>\n",
       "      <td>Drama</td>\n",
       "      <td>None</td>\n",
       "      <td>None</td>\n",
       "    </tr>\n",
       "    <tr>\n",
       "      <th>5801</th>\n",
       "      <td>Action</td>\n",
       "      <td>Crime</td>\n",
       "      <td>Thriller</td>\n",
       "    </tr>\n",
       "    <tr>\n",
       "      <th>5802</th>\n",
       "      <td>Crime</td>\n",
       "      <td>Drama</td>\n",
       "      <td>Film-Noir</td>\n",
       "    </tr>\n",
       "  </tbody>\n",
       "</table>\n",
       "<p>5803 rows × 3 columns</p>\n",
       "</div>"
      ],
      "text/plain": [
       "         G13     G14         G15\n",
       "0        NaN     NaN         NaN\n",
       "1        NaN     NaN         NaN\n",
       "2        NaN     NaN         NaN\n",
       "3        NaN     NaN         NaN\n",
       "4        NaN     NaN         NaN\n",
       "...      ...     ...         ...\n",
       "5798  Action   Crime       Drama\n",
       "5799   Crime   Drama     Mystery\n",
       "5800   Drama    None        None\n",
       "5801  Action   Crime    Thriller\n",
       "5802   Crime   Drama   Film-Noir\n",
       "\n",
       "[5803 rows x 3 columns]"
      ]
     },
     "execution_count": 10,
     "metadata": {},
     "output_type": "execute_result"
    }
   ],
   "source": [
    "genre_6 = without_dub_union[['Genre6']].copy()\n",
    "genre_6[['G13', 'G14','G15']] = genre_6['Genre6'].str.split(',', expand=True)\n",
    "genre6_1= genre_6.drop(['Genre6'], axis=1)\n",
    "genre6_1"
   ]
  },
  {
   "cell_type": "markdown",
   "id": "dab44749-8451-45e8-9973-2ed6ff64349d",
   "metadata": {},
   "source": [
    "#### 9.2. Changes with unique(), concat and union"
   ]
  },
  {
   "cell_type": "markdown",
   "id": "1de0f66e-9e03-4e3e-a7e0-92e0dbdb4aa9",
   "metadata": {},
   "source": [
    "#### 9.2.1"
   ]
  },
  {
   "cell_type": "markdown",
   "id": "2d46f279-a81d-48b3-83a4-013b95d7e9ff",
   "metadata": {},
   "source": [
    "##### genre1_1"
   ]
  },
  {
   "cell_type": "code",
   "execution_count": 11,
   "id": "6e09c410-ccb9-482b-9e51-c74fe53d10c4",
   "metadata": {},
   "outputs": [
    {
     "data": {
      "text/plain": [
       "Index(['G1', 'G2', 'G3'], dtype='object')"
      ]
     },
     "execution_count": 11,
     "metadata": {},
     "output_type": "execute_result"
    }
   ],
   "source": [
    "genre1_1.columns"
   ]
  },
  {
   "cell_type": "code",
   "execution_count": 12,
   "id": "cb011587-d861-4940-b712-c15a49fef377",
   "metadata": {},
   "outputs": [],
   "source": [
    "genre1_1.fillna('empty', inplace=True)"
   ]
  },
  {
   "cell_type": "code",
   "execution_count": 13,
   "id": "e8349941-2a2d-48d1-adb0-a6b35750f1b6",
   "metadata": {},
   "outputs": [],
   "source": [
    "genre1_1['G1'] = genre1_1['G1'].astype(\"string\")"
   ]
  },
  {
   "cell_type": "code",
   "execution_count": 14,
   "id": "ecca6998-8a3e-484e-8c82-9c2f634a6c8e",
   "metadata": {},
   "outputs": [
    {
     "data": {
      "text/plain": [
       "<StringArray>\n",
       "[   'Action',    'Comedy',    'Horror',     'Crime',     'Drama', 'Biography',\n",
       " 'Adventure', 'Animation',   'Mystery',    'Family',   'Western',   'Fantasy',\n",
       "    'Sci-Fi',  'Thriller',   'Romance',   'Musical', 'Game-Show',     'Short']\n",
       "Length: 18, dtype: string"
      ]
     },
     "execution_count": 14,
     "metadata": {},
     "output_type": "execute_result"
    }
   ],
   "source": [
    "genre1_1.G1.unique()"
   ]
  },
  {
   "cell_type": "code",
   "execution_count": 15,
   "id": "9811be3b-abc9-4849-b230-174620bf0849",
   "metadata": {},
   "outputs": [
    {
     "data": {
      "text/plain": [
       "array([' Adventure', 'empty', ' Fantasy', ' Horror', ' Thriller',\n",
       "       ' Crime', ' Romance', ' Drama', ' Sci-Fi', ' Comedy', ' Family',\n",
       "       ' Western', ' Mystery', ' War', ' Action', ' Music', ' Biography',\n",
       "       ' History', ' Sport', ' Film-Noir', ' Musical', ' Game-Show',\n",
       "       ' Reality-TV'], dtype=object)"
      ]
     },
     "execution_count": 15,
     "metadata": {},
     "output_type": "execute_result"
    }
   ],
   "source": [
    "genre1_1.G2.unique()"
   ]
  },
  {
   "cell_type": "code",
   "execution_count": 16,
   "id": "0b00480d-4485-41cc-99c7-3cebafe5441e",
   "metadata": {},
   "outputs": [],
   "source": [
    "genre1_1['G2'] = genre1_1['G2'].astype(\"string\")"
   ]
  },
  {
   "cell_type": "code",
   "execution_count": 17,
   "id": "5865ddd7-8030-4216-8137-3aa528f70e6f",
   "metadata": {},
   "outputs": [],
   "source": [
    "genre1_1.G2 = genre1_1['G2'].str.replace(' ', '')"
   ]
  },
  {
   "cell_type": "code",
   "execution_count": 18,
   "id": "2eb576fe-05d6-46e3-83f0-0fb6a3ff1be4",
   "metadata": {},
   "outputs": [
    {
     "data": {
      "text/plain": [
       "array([' Thriller', 'empty', ' Horror', ' Drama', ' Mystery', ' Crime',\n",
       "       ' Fantasy', ' Sci-Fi', ' War', ' Family', ' Romance', ' Comedy',\n",
       "       ' Music', ' History', ' Adventure', ' Sport', ' Western',\n",
       "       ' Musical', ' Film-Noir', ' Biography', ' Reality-TV'],\n",
       "      dtype=object)"
      ]
     },
     "execution_count": 18,
     "metadata": {},
     "output_type": "execute_result"
    }
   ],
   "source": [
    "genre1_1.G3.unique()"
   ]
  },
  {
   "cell_type": "code",
   "execution_count": 19,
   "id": "1ddcdd9d-a1fa-45fb-81a3-6a3278ce9998",
   "metadata": {},
   "outputs": [],
   "source": [
    "genre1_1.G3 = genre1_1['G3'].str.replace(' ', '')"
   ]
  },
  {
   "cell_type": "code",
   "execution_count": 20,
   "id": "644f8632-f07c-4f27-bf3a-30786620b388",
   "metadata": {},
   "outputs": [
    {
     "data": {
      "text/plain": [
       "0        Thriller\n",
       "1           empty\n",
       "2        Thriller\n",
       "3          Horror\n",
       "4           empty\n",
       "          ...    \n",
       "5798     Thriller\n",
       "5799        empty\n",
       "5800        empty\n",
       "5801     Thriller\n",
       "5802    Film-Noir\n",
       "Name: G3, Length: 5803, dtype: string"
      ]
     },
     "execution_count": 20,
     "metadata": {},
     "output_type": "execute_result"
    }
   ],
   "source": [
    "genre1_1['G3'] = genre1_1['G3'].astype(\"string\")\n",
    "genre1_1.G3"
   ]
  },
  {
   "cell_type": "markdown",
   "id": "89d9c3a9-24b5-461a-8fdf-d2bf42d51942",
   "metadata": {},
   "source": [
    "##### genre2_1"
   ]
  },
  {
   "cell_type": "code",
   "execution_count": 21,
   "id": "14e181c0-0fe7-476b-bfc9-2fb89455528d",
   "metadata": {},
   "outputs": [],
   "source": [
    "genre2_1.columns\n",
    "genre2_1.fillna('empty', inplace=True)"
   ]
  },
  {
   "cell_type": "code",
   "execution_count": 22,
   "id": "bafac5b2-7b67-4901-9bf7-562c823527db",
   "metadata": {},
   "outputs": [],
   "source": [
    "genre2_1.G4.unique()\n",
    "genre2_1['G4'] = genre2_1['G4'].astype(\"string\")"
   ]
  },
  {
   "cell_type": "code",
   "execution_count": 23,
   "id": "e2819909-6a4f-4617-b24d-55c137067f94",
   "metadata": {},
   "outputs": [
    {
     "data": {
      "text/plain": [
       "array([' Adventure', ' Horror', ' Thriller', ' Crime', ' Romance',\n",
       "       ' Drama', ' Sci-Fi', 'empty', ' Family', ' Comedy', ' Western',\n",
       "       ' Mystery', ' Fantasy', ' War', ' Action', ' Music', ' Biography',\n",
       "       ' History', ' Sport', ' Film-Noir', ' Musical'], dtype=object)"
      ]
     },
     "execution_count": 23,
     "metadata": {},
     "output_type": "execute_result"
    }
   ],
   "source": [
    "genre2_1.G5.unique()"
   ]
  },
  {
   "cell_type": "code",
   "execution_count": 24,
   "id": "fed6929f-7b91-472c-b848-6f6a7765ac31",
   "metadata": {},
   "outputs": [],
   "source": [
    "genre2_1.G5 = genre2_1['G5'].str.replace(' ', '')\n",
    "genre2_1['G5'] = genre2_1['G5'].astype(\"string\")"
   ]
  },
  {
   "cell_type": "code",
   "execution_count": 25,
   "id": "b1d59af3-11d5-416b-8524-0d87b9f72db3",
   "metadata": {},
   "outputs": [
    {
     "data": {
      "text/plain": [
       "array([' Thriller', 'empty', ' Drama', ' Mystery', ' Fantasy', ' Sci-Fi',\n",
       "       ' War', ' Family', ' Comedy', ' Music', ' Film-Noir', ' Crime',\n",
       "       ' History', ' Romance', ' Adventure', ' Sport', ' Western',\n",
       "       ' Musical', ' Horror'], dtype=object)"
      ]
     },
     "execution_count": 25,
     "metadata": {},
     "output_type": "execute_result"
    }
   ],
   "source": [
    "genre2_1.G6.unique()"
   ]
  },
  {
   "cell_type": "code",
   "execution_count": 26,
   "id": "89821204-f9c9-447e-85a3-2f42717694c7",
   "metadata": {},
   "outputs": [],
   "source": [
    "genre2_1.G6 = genre2_1['G6'].str.replace(' ', '')\n",
    "genre2_1['G6'] = genre2_1['G6'].astype(\"string\")"
   ]
  },
  {
   "cell_type": "markdown",
   "id": "0507136b-c479-4f29-b139-03f0a074b0d0",
   "metadata": {},
   "source": [
    "##### genres1_1 and genres2_1 concat (genres_concat1)"
   ]
  },
  {
   "cell_type": "code",
   "execution_count": 27,
   "id": "091ed1a8-0654-4a18-a18b-486f3dec84bd",
   "metadata": {},
   "outputs": [
    {
     "data": {
      "text/html": [
       "<div>\n",
       "<style scoped>\n",
       "    .dataframe tbody tr th:only-of-type {\n",
       "        vertical-align: middle;\n",
       "    }\n",
       "\n",
       "    .dataframe tbody tr th {\n",
       "        vertical-align: top;\n",
       "    }\n",
       "\n",
       "    .dataframe thead th {\n",
       "        text-align: right;\n",
       "    }\n",
       "</style>\n",
       "<table border=\"1\" class=\"dataframe\">\n",
       "  <thead>\n",
       "    <tr style=\"text-align: right;\">\n",
       "      <th></th>\n",
       "      <th>G1</th>\n",
       "      <th>G2</th>\n",
       "      <th>G3</th>\n",
       "      <th>G4</th>\n",
       "      <th>G5</th>\n",
       "      <th>G6</th>\n",
       "    </tr>\n",
       "  </thead>\n",
       "  <tbody>\n",
       "    <tr>\n",
       "      <th>0</th>\n",
       "      <td>Action</td>\n",
       "      <td>Adventure</td>\n",
       "      <td>Thriller</td>\n",
       "      <td>Action</td>\n",
       "      <td>Adventure</td>\n",
       "      <td>Thriller</td>\n",
       "    </tr>\n",
       "    <tr>\n",
       "      <th>1</th>\n",
       "      <td>Comedy</td>\n",
       "      <td>empty</td>\n",
       "      <td>empty</td>\n",
       "      <td>Action</td>\n",
       "      <td>Adventure</td>\n",
       "      <td>Thriller</td>\n",
       "    </tr>\n",
       "    <tr>\n",
       "      <th>2</th>\n",
       "      <td>Action</td>\n",
       "      <td>Adventure</td>\n",
       "      <td>Thriller</td>\n",
       "      <td>Action</td>\n",
       "      <td>Adventure</td>\n",
       "      <td>Thriller</td>\n",
       "    </tr>\n",
       "    <tr>\n",
       "      <th>3</th>\n",
       "      <td>Comedy</td>\n",
       "      <td>Fantasy</td>\n",
       "      <td>Horror</td>\n",
       "      <td>Comedy</td>\n",
       "      <td>Horror</td>\n",
       "      <td>empty</td>\n",
       "    </tr>\n",
       "    <tr>\n",
       "      <th>4</th>\n",
       "      <td>Comedy</td>\n",
       "      <td>Horror</td>\n",
       "      <td>empty</td>\n",
       "      <td>Comedy</td>\n",
       "      <td>Horror</td>\n",
       "      <td>empty</td>\n",
       "    </tr>\n",
       "    <tr>\n",
       "      <th>...</th>\n",
       "      <td>...</td>\n",
       "      <td>...</td>\n",
       "      <td>...</td>\n",
       "      <td>...</td>\n",
       "      <td>...</td>\n",
       "      <td>...</td>\n",
       "    </tr>\n",
       "    <tr>\n",
       "      <th>5798</th>\n",
       "      <td>Crime</td>\n",
       "      <td>Drama</td>\n",
       "      <td>Thriller</td>\n",
       "      <td>empty</td>\n",
       "      <td>empty</td>\n",
       "      <td>empty</td>\n",
       "    </tr>\n",
       "    <tr>\n",
       "      <th>5799</th>\n",
       "      <td>Drama</td>\n",
       "      <td>Mystery</td>\n",
       "      <td>empty</td>\n",
       "      <td>empty</td>\n",
       "      <td>empty</td>\n",
       "      <td>empty</td>\n",
       "    </tr>\n",
       "    <tr>\n",
       "      <th>5800</th>\n",
       "      <td>Drama</td>\n",
       "      <td>empty</td>\n",
       "      <td>empty</td>\n",
       "      <td>empty</td>\n",
       "      <td>empty</td>\n",
       "      <td>empty</td>\n",
       "    </tr>\n",
       "    <tr>\n",
       "      <th>5801</th>\n",
       "      <td>Action</td>\n",
       "      <td>Crime</td>\n",
       "      <td>Thriller</td>\n",
       "      <td>empty</td>\n",
       "      <td>empty</td>\n",
       "      <td>empty</td>\n",
       "    </tr>\n",
       "    <tr>\n",
       "      <th>5802</th>\n",
       "      <td>Crime</td>\n",
       "      <td>Drama</td>\n",
       "      <td>Film-Noir</td>\n",
       "      <td>empty</td>\n",
       "      <td>empty</td>\n",
       "      <td>empty</td>\n",
       "    </tr>\n",
       "  </tbody>\n",
       "</table>\n",
       "<p>5803 rows × 6 columns</p>\n",
       "</div>"
      ],
      "text/plain": [
       "          G1         G2         G3      G4         G5        G6\n",
       "0     Action  Adventure   Thriller  Action  Adventure  Thriller\n",
       "1     Comedy      empty      empty  Action  Adventure  Thriller\n",
       "2     Action  Adventure   Thriller  Action  Adventure  Thriller\n",
       "3     Comedy    Fantasy     Horror  Comedy     Horror     empty\n",
       "4     Comedy     Horror      empty  Comedy     Horror     empty\n",
       "...      ...        ...        ...     ...        ...       ...\n",
       "5798   Crime      Drama   Thriller   empty      empty     empty\n",
       "5799   Drama    Mystery      empty   empty      empty     empty\n",
       "5800   Drama      empty      empty   empty      empty     empty\n",
       "5801  Action      Crime   Thriller   empty      empty     empty\n",
       "5802   Crime      Drama  Film-Noir   empty      empty     empty\n",
       "\n",
       "[5803 rows x 6 columns]"
      ]
     },
     "execution_count": 27,
     "metadata": {},
     "output_type": "execute_result"
    }
   ],
   "source": [
    "genres_concat1 = pd.concat([genre1_1.G1,genre1_1.G2,genre1_1.G3,genre2_1.G4,genre2_1.G5,genre2_1.G6], axis=1)\n",
    "genres_concat1"
   ]
  },
  {
   "cell_type": "markdown",
   "id": "c25a8c98-9d54-438d-b4f2-cfe9038fd0cd",
   "metadata": {},
   "source": [
    "##### genres_union1 "
   ]
  },
  {
   "cell_type": "code",
   "execution_count": 28,
   "id": "4aaf4bda-ed38-40bf-8288-d5c38c9c4f7f",
   "metadata": {},
   "outputs": [
    {
     "data": {
      "text/plain": [
       "0               Action, Adventure, Thriller\n",
       "1       Action, Adventure, Comedy, Thriller\n",
       "2               Action, Adventure, Thriller\n",
       "3                   Comedy, Fantasy, Horror\n",
       "4                            Comedy, Horror\n",
       "                       ...                 \n",
       "5798                 Crime, Drama, Thriller\n",
       "5799                         Drama, Mystery\n",
       "5800                                  Drama\n",
       "5801                Action, Crime, Thriller\n",
       "5802                Crime, Drama, Film-Noir\n",
       "Name: genres_union1, Length: 5803, dtype: object"
      ]
     },
     "execution_count": 28,
     "metadata": {},
     "output_type": "execute_result"
    }
   ],
   "source": [
    "genres_concat1[\"genres_union1\"] = (\n",
    "    genres_concat1[['G1', 'G2', 'G3', 'G4', 'G5', 'G6']]\n",
    "        .apply(lambda x: x.str.split(',\\s*'))\n",
    "        .sum(axis=1).map(np.array)\n",
    "        .apply(lambda x: ', '.join(np.unique(x[x != 'empty'])))        \n",
    "        .replace('', 'empty')\n",
    "    )\n",
    "genres_concat1.genres_union1"
   ]
  },
  {
   "cell_type": "markdown",
   "id": "c8253064-e6ec-42ef-8882-4bc24072f91f",
   "metadata": {},
   "source": [
    "#### 9.2.2"
   ]
  },
  {
   "cell_type": "markdown",
   "id": "fe24fca1-a76d-41f4-b52d-79ca635503b2",
   "metadata": {},
   "source": [
    "##### genre3_1"
   ]
  },
  {
   "cell_type": "code",
   "execution_count": 29,
   "id": "b7bb3626-1898-4088-85bb-311cc94d48ff",
   "metadata": {},
   "outputs": [
    {
     "data": {
      "text/plain": [
       "Index(['G7', 'G8', 'G9'], dtype='object')"
      ]
     },
     "execution_count": 29,
     "metadata": {},
     "output_type": "execute_result"
    }
   ],
   "source": [
    "genre3_1.columns"
   ]
  },
  {
   "cell_type": "code",
   "execution_count": 30,
   "id": "1d63a17c-eb0e-455d-858e-9faf6d386d3e",
   "metadata": {},
   "outputs": [],
   "source": [
    "genre3_1.fillna('empty', inplace=True)"
   ]
  },
  {
   "cell_type": "code",
   "execution_count": 31,
   "id": "20d1c988-d82f-45ce-9f39-681ff129b2de",
   "metadata": {},
   "outputs": [
    {
     "data": {
      "text/plain": [
       "array(['empty', 'Action', 'Comedy', 'Drama', 'Biography', 'Crime',\n",
       "       'Adventure', 'Horror', 'Mystery', 'Animation', 'Thriller',\n",
       "       'Fantasy', 'Romance', 'Sci-Fi'], dtype=object)"
      ]
     },
     "execution_count": 31,
     "metadata": {},
     "output_type": "execute_result"
    }
   ],
   "source": [
    "genre3_1.G7.unique()"
   ]
  },
  {
   "cell_type": "code",
   "execution_count": 32,
   "id": "c927f011-8c2c-4426-bb5c-77d483d82a4a",
   "metadata": {},
   "outputs": [],
   "source": [
    "genre3_1['G7'] = genre3_1['G7'].astype(\"string\")"
   ]
  },
  {
   "cell_type": "code",
   "execution_count": 33,
   "id": "484f92d6-1ff6-40f4-93f5-48174389a002",
   "metadata": {},
   "outputs": [
    {
     "data": {
      "text/plain": [
       "array(['empty', 'Adventure', 'Fantasy', 'Family', 'Comedy', 'Drama',\n",
       "       'Horror', 'Crime', 'Sci-Fi', 'Western', 'Thriller', 'Mystery',\n",
       "       'Romance', 'Music', 'History', 'War', 'Biography', 'Musical',\n",
       "       'Sport', 'Action'], dtype=object)"
      ]
     },
     "execution_count": 33,
     "metadata": {},
     "output_type": "execute_result"
    }
   ],
   "source": [
    "genre3_1.G8.unique()"
   ]
  },
  {
   "cell_type": "code",
   "execution_count": 34,
   "id": "81a70964-c167-4474-a2a4-a79338d0a793",
   "metadata": {},
   "outputs": [],
   "source": [
    "genre3_1['G8'] = genre3_1['G8'].astype(\"string\")"
   ]
  },
  {
   "cell_type": "code",
   "execution_count": 35,
   "id": "4d569cd9-b7ab-4927-9570-dee49f9ebd33",
   "metadata": {},
   "outputs": [
    {
     "data": {
      "text/plain": [
       "array(['empty', 'Thriller', 'Horror', 'Fantasy', 'Crime', 'History',\n",
       "       'Sci-Fi', 'Drama', 'Mystery', 'Romance', 'War', 'Comedy', 'Family',\n",
       "       'Sport', 'Music', 'Western', 'Musical', 'Biography', 'Adventure'],\n",
       "      dtype=object)"
      ]
     },
     "execution_count": 35,
     "metadata": {},
     "output_type": "execute_result"
    }
   ],
   "source": [
    "genre3_1.G9.unique()"
   ]
  },
  {
   "cell_type": "code",
   "execution_count": 36,
   "id": "8f0be72d-d009-4604-9b83-1a83a83b87db",
   "metadata": {},
   "outputs": [],
   "source": [
    "genre3_1['G9'] = genre3_1['G9'].astype(\"string\")"
   ]
  },
  {
   "cell_type": "markdown",
   "id": "c0d91c17-46ce-42aa-8df2-7a42b7338178",
   "metadata": {},
   "source": [
    "##### genre4_1"
   ]
  },
  {
   "cell_type": "code",
   "execution_count": 37,
   "id": "a80b4ae5-2f95-48b3-9799-2f87fb77da82",
   "metadata": {},
   "outputs": [
    {
     "data": {
      "text/plain": [
       "Index(['G10', 'G11', 'G12'], dtype='object')"
      ]
     },
     "execution_count": 37,
     "metadata": {},
     "output_type": "execute_result"
    }
   ],
   "source": [
    "genre4_1.columns"
   ]
  },
  {
   "cell_type": "code",
   "execution_count": 38,
   "id": "46fa04b1-1b7e-443b-9712-bdd4c3c6529f",
   "metadata": {},
   "outputs": [],
   "source": [
    "genre4_1.fillna('empty', inplace=True)"
   ]
  },
  {
   "cell_type": "code",
   "execution_count": 39,
   "id": "0b55c079-d7d0-448b-bae2-16ce0d8de120",
   "metadata": {},
   "outputs": [
    {
     "data": {
      "text/plain": [
       "array(['empty', 'Action', 'Comedy', 'Horror', 'Drama', 'Biography',\n",
       "       'Crime', 'Animation', 'Adventure', 'Mystery', 'Family', 'Western',\n",
       "       'Fantasy'], dtype=object)"
      ]
     },
     "execution_count": 39,
     "metadata": {},
     "output_type": "execute_result"
    }
   ],
   "source": [
    "genre4_1.G10.unique()"
   ]
  },
  {
   "cell_type": "code",
   "execution_count": 40,
   "id": "0ddc109f-b5a6-4cbf-bf51-a85a0ecd0189",
   "metadata": {},
   "outputs": [],
   "source": [
    "genre4_1['G10'] = genre4_1['G10'].astype(\"string\")"
   ]
  },
  {
   "cell_type": "code",
   "execution_count": 41,
   "id": "6e89d355-996c-42b8-9ca4-481d73315520",
   "metadata": {},
   "outputs": [
    {
     "data": {
      "text/plain": [
       "array(['empty', ' Adventure', ' Horror', ' Thriller', ' Crime',\n",
       "       ' Romance', ' Drama', ' Sci-Fi', ' Comedy', ' Family', ' Mystery',\n",
       "       ' Western', ' Fantasy', ' War', ' Biography', ' Action', ' Music',\n",
       "       ' Sport', ' History', ' Film-Noir', ' Musical'], dtype=object)"
      ]
     },
     "execution_count": 41,
     "metadata": {},
     "output_type": "execute_result"
    }
   ],
   "source": [
    "genre4_1.G11.unique()"
   ]
  },
  {
   "cell_type": "code",
   "execution_count": 42,
   "id": "6f3580b6-6744-4a1a-a540-73c466cdc73a",
   "metadata": {},
   "outputs": [],
   "source": [
    "genre4_1['G11'] = genre4_1['G11'].astype(\"string\")"
   ]
  },
  {
   "cell_type": "code",
   "execution_count": 43,
   "id": "82ead29b-e25c-4e46-b2be-6b804efcc855",
   "metadata": {},
   "outputs": [],
   "source": [
    "genre4_1.G11 = genre4_1['G11'].str.replace(' ', '')"
   ]
  },
  {
   "cell_type": "code",
   "execution_count": 44,
   "id": "a4c332f8-75eb-47be-b49f-f002a7084a0f",
   "metadata": {},
   "outputs": [
    {
     "data": {
      "text/plain": [
       "array(['empty', ' Drama', ' Thriller', ' Fantasy', ' Mystery', ' Crime',\n",
       "       ' Sci-Fi', ' War', ' Music', ' Family', ' Comedy', ' Horror',\n",
       "       ' Film-Noir', ' History', ' Romance', ' Adventure', ' Sport',\n",
       "       ' Western', ' Musical'], dtype=object)"
      ]
     },
     "execution_count": 44,
     "metadata": {},
     "output_type": "execute_result"
    }
   ],
   "source": [
    "genre4_1.G12.unique()"
   ]
  },
  {
   "cell_type": "code",
   "execution_count": 45,
   "id": "51f48c63-7267-439a-be54-5a6c6208987c",
   "metadata": {},
   "outputs": [],
   "source": [
    "genre4_1.G12 = genre4_1['G12'].str.replace(' ', '')"
   ]
  },
  {
   "cell_type": "code",
   "execution_count": 46,
   "id": "9aba77d5-e68d-49e1-b3be-7826049fc29f",
   "metadata": {},
   "outputs": [],
   "source": [
    "genre4_1['G11'] = genre4_1['G11'].astype(\"string\")"
   ]
  },
  {
   "cell_type": "markdown",
   "id": "8fa2c672-3d0c-458c-86a5-bccea8e611f4",
   "metadata": {},
   "source": [
    "##### genres3_1 and genres4_1 concat (genres_concat2)"
   ]
  },
  {
   "cell_type": "code",
   "execution_count": 47,
   "id": "91bb2b5c-254e-4c83-8420-ba53b890ba34",
   "metadata": {},
   "outputs": [
    {
     "data": {
      "text/html": [
       "<div>\n",
       "<style scoped>\n",
       "    .dataframe tbody tr th:only-of-type {\n",
       "        vertical-align: middle;\n",
       "    }\n",
       "\n",
       "    .dataframe tbody tr th {\n",
       "        vertical-align: top;\n",
       "    }\n",
       "\n",
       "    .dataframe thead th {\n",
       "        text-align: right;\n",
       "    }\n",
       "</style>\n",
       "<table border=\"1\" class=\"dataframe\">\n",
       "  <thead>\n",
       "    <tr style=\"text-align: right;\">\n",
       "      <th></th>\n",
       "      <th>G7</th>\n",
       "      <th>G8</th>\n",
       "      <th>G9</th>\n",
       "      <th>G10</th>\n",
       "      <th>G11</th>\n",
       "      <th>G12</th>\n",
       "    </tr>\n",
       "  </thead>\n",
       "  <tbody>\n",
       "    <tr>\n",
       "      <th>0</th>\n",
       "      <td>empty</td>\n",
       "      <td>empty</td>\n",
       "      <td>empty</td>\n",
       "      <td>empty</td>\n",
       "      <td>empty</td>\n",
       "      <td>empty</td>\n",
       "    </tr>\n",
       "    <tr>\n",
       "      <th>1</th>\n",
       "      <td>empty</td>\n",
       "      <td>empty</td>\n",
       "      <td>empty</td>\n",
       "      <td>empty</td>\n",
       "      <td>empty</td>\n",
       "      <td>empty</td>\n",
       "    </tr>\n",
       "    <tr>\n",
       "      <th>2</th>\n",
       "      <td>empty</td>\n",
       "      <td>empty</td>\n",
       "      <td>empty</td>\n",
       "      <td>empty</td>\n",
       "      <td>empty</td>\n",
       "      <td>empty</td>\n",
       "    </tr>\n",
       "    <tr>\n",
       "      <th>3</th>\n",
       "      <td>empty</td>\n",
       "      <td>empty</td>\n",
       "      <td>empty</td>\n",
       "      <td>empty</td>\n",
       "      <td>empty</td>\n",
       "      <td>empty</td>\n",
       "    </tr>\n",
       "    <tr>\n",
       "      <th>4</th>\n",
       "      <td>empty</td>\n",
       "      <td>empty</td>\n",
       "      <td>empty</td>\n",
       "      <td>empty</td>\n",
       "      <td>empty</td>\n",
       "      <td>empty</td>\n",
       "    </tr>\n",
       "    <tr>\n",
       "      <th>...</th>\n",
       "      <td>...</td>\n",
       "      <td>...</td>\n",
       "      <td>...</td>\n",
       "      <td>...</td>\n",
       "      <td>...</td>\n",
       "      <td>...</td>\n",
       "    </tr>\n",
       "    <tr>\n",
       "      <th>5798</th>\n",
       "      <td>empty</td>\n",
       "      <td>empty</td>\n",
       "      <td>empty</td>\n",
       "      <td>empty</td>\n",
       "      <td>empty</td>\n",
       "      <td>empty</td>\n",
       "    </tr>\n",
       "    <tr>\n",
       "      <th>5799</th>\n",
       "      <td>empty</td>\n",
       "      <td>empty</td>\n",
       "      <td>empty</td>\n",
       "      <td>empty</td>\n",
       "      <td>empty</td>\n",
       "      <td>empty</td>\n",
       "    </tr>\n",
       "    <tr>\n",
       "      <th>5800</th>\n",
       "      <td>empty</td>\n",
       "      <td>empty</td>\n",
       "      <td>empty</td>\n",
       "      <td>empty</td>\n",
       "      <td>empty</td>\n",
       "      <td>empty</td>\n",
       "    </tr>\n",
       "    <tr>\n",
       "      <th>5801</th>\n",
       "      <td>empty</td>\n",
       "      <td>empty</td>\n",
       "      <td>empty</td>\n",
       "      <td>empty</td>\n",
       "      <td>empty</td>\n",
       "      <td>empty</td>\n",
       "    </tr>\n",
       "    <tr>\n",
       "      <th>5802</th>\n",
       "      <td>empty</td>\n",
       "      <td>empty</td>\n",
       "      <td>empty</td>\n",
       "      <td>empty</td>\n",
       "      <td>empty</td>\n",
       "      <td>empty</td>\n",
       "    </tr>\n",
       "  </tbody>\n",
       "</table>\n",
       "<p>5803 rows × 6 columns</p>\n",
       "</div>"
      ],
      "text/plain": [
       "         G7     G8     G9    G10    G11    G12\n",
       "0     empty  empty  empty  empty  empty  empty\n",
       "1     empty  empty  empty  empty  empty  empty\n",
       "2     empty  empty  empty  empty  empty  empty\n",
       "3     empty  empty  empty  empty  empty  empty\n",
       "4     empty  empty  empty  empty  empty  empty\n",
       "...     ...    ...    ...    ...    ...    ...\n",
       "5798  empty  empty  empty  empty  empty  empty\n",
       "5799  empty  empty  empty  empty  empty  empty\n",
       "5800  empty  empty  empty  empty  empty  empty\n",
       "5801  empty  empty  empty  empty  empty  empty\n",
       "5802  empty  empty  empty  empty  empty  empty\n",
       "\n",
       "[5803 rows x 6 columns]"
      ]
     },
     "execution_count": 47,
     "metadata": {},
     "output_type": "execute_result"
    }
   ],
   "source": [
    "genres_concat2 = pd.concat([genre3_1.G7,genre3_1.G8,genre3_1.G9,genre4_1.G10,genre4_1.G11,genre4_1.G12], axis=1)\n",
    "genres_concat2"
   ]
  },
  {
   "cell_type": "markdown",
   "id": "27416c06-ea6e-4676-ae49-ea45fe72776c",
   "metadata": {},
   "source": [
    "##### genres_union2 "
   ]
  },
  {
   "cell_type": "code",
   "execution_count": 48,
   "id": "a4c92aaa-ce68-4164-821d-eae6d75153b9",
   "metadata": {},
   "outputs": [
    {
     "data": {
      "text/plain": [
       "0       empty\n",
       "1       empty\n",
       "2       empty\n",
       "3       empty\n",
       "4       empty\n",
       "        ...  \n",
       "5798    empty\n",
       "5799    empty\n",
       "5800    empty\n",
       "5801    empty\n",
       "5802    empty\n",
       "Name: genres_union2, Length: 5803, dtype: object"
      ]
     },
     "execution_count": 48,
     "metadata": {},
     "output_type": "execute_result"
    }
   ],
   "source": [
    "genres_concat2[\"genres_union2\"] = (\n",
    "    genres_concat2[['G7', 'G8', 'G9', 'G10', 'G11', 'G12']]\n",
    "        .apply(lambda x: x.str.split(',\\s*'))\n",
    "        .sum(axis=1).map(np.array)\n",
    "        .apply(lambda x: ', '.join(np.unique(x[x != 'empty'])))        \n",
    "        .replace('', 'empty')\n",
    "    )\n",
    "genres_concat2.genres_union2"
   ]
  },
  {
   "cell_type": "markdown",
   "id": "09e8f255-30c6-441c-a6a0-ac057df5ba9a",
   "metadata": {},
   "source": [
    "#### 9.2.3"
   ]
  },
  {
   "cell_type": "markdown",
   "id": "4a3286c9-6d97-4460-9817-2b673df4d961",
   "metadata": {},
   "source": [
    "##### genre6_1"
   ]
  },
  {
   "cell_type": "code",
   "execution_count": 49,
   "id": "105486e0-4b8a-4847-a97e-b402f402ff54",
   "metadata": {},
   "outputs": [
    {
     "data": {
      "text/plain": [
       "Index(['G13', 'G14', 'G15'], dtype='object')"
      ]
     },
     "execution_count": 49,
     "metadata": {},
     "output_type": "execute_result"
    }
   ],
   "source": [
    "genre6_1.columns"
   ]
  },
  {
   "cell_type": "code",
   "execution_count": 50,
   "id": "7df0da57-5cb1-424f-8e5a-b6b2b1fdf5d6",
   "metadata": {},
   "outputs": [],
   "source": [
    "genre6_1.fillna('empty', inplace=True)"
   ]
  },
  {
   "cell_type": "code",
   "execution_count": 51,
   "id": "30df1abd-7d08-435d-b021-4e54fceab9e1",
   "metadata": {},
   "outputs": [],
   "source": [
    "genre6_1['G13'] = genre6_1['G13'].astype(\"string\")"
   ]
  },
  {
   "cell_type": "code",
   "execution_count": 52,
   "id": "24011e00-0055-4a2c-a4aa-492ef6d00db2",
   "metadata": {},
   "outputs": [
    {
     "data": {
      "text/plain": [
       "<StringArray>\n",
       "[    'empty',    'Action',    'Comedy',    'Horror',     'Drama',     'Crime',\n",
       " 'Biography', 'Adventure', 'Animation',   'Mystery',   'Western',    'Family',\n",
       "   'Fantasy', 'Film-Noir']\n",
       "Length: 14, dtype: string"
      ]
     },
     "execution_count": 52,
     "metadata": {},
     "output_type": "execute_result"
    }
   ],
   "source": [
    "genre6_1.G13.unique()"
   ]
  },
  {
   "cell_type": "code",
   "execution_count": 53,
   "id": "ee2d6728-f511-4423-beee-d88ad9048d7b",
   "metadata": {},
   "outputs": [
    {
     "data": {
      "text/plain": [
       "array(['empty', ' Adventure', ' Horror', ' Thriller', ' Crime', ' Drama',\n",
       "       ' Romance', ' Sci-Fi', ' Family', ' Comedy', ' Western',\n",
       "       ' Mystery', ' Fantasy', ' War', ' Action', ' Music', ' History',\n",
       "       ' Biography', ' Sport', ' Film-Noir', ' Musical'], dtype=object)"
      ]
     },
     "execution_count": 53,
     "metadata": {},
     "output_type": "execute_result"
    }
   ],
   "source": [
    "genre6_1.G14.unique()"
   ]
  },
  {
   "cell_type": "code",
   "execution_count": 54,
   "id": "d4f92e53-fa53-4a5a-9df3-0a98d592e6f0",
   "metadata": {},
   "outputs": [],
   "source": [
    "genre6_1['G14'] = genre6_1['G14'].astype(\"string\")"
   ]
  },
  {
   "cell_type": "code",
   "execution_count": 55,
   "id": "e7183be6-ba2e-46cb-9d3a-606b172d0070",
   "metadata": {},
   "outputs": [],
   "source": [
    "genre6_1.G14 = genre6_1['G14'].str.replace(' ', '')"
   ]
  },
  {
   "cell_type": "code",
   "execution_count": 56,
   "id": "ecfeb986-e4e7-44c9-ba2b-01be07582256",
   "metadata": {},
   "outputs": [
    {
     "data": {
      "text/plain": [
       "array(['empty', ' Thriller', ' Drama', ' Mystery', ' Fantasy', ' Sci-Fi',\n",
       "       ' War', ' Family', ' Comedy', ' Music', ' Film-Noir', ' Crime',\n",
       "       ' History', ' Horror', ' Romance', ' Adventure', ' Sport',\n",
       "       ' Western', ' Musical'], dtype=object)"
      ]
     },
     "execution_count": 56,
     "metadata": {},
     "output_type": "execute_result"
    }
   ],
   "source": [
    "genre6_1.G15.unique()"
   ]
  },
  {
   "cell_type": "code",
   "execution_count": 57,
   "id": "73a22549-286a-4245-8d79-71f89bf985b2",
   "metadata": {},
   "outputs": [],
   "source": [
    "genre6_1['G15'] = genre6_1['G15'].astype(\"string\")"
   ]
  },
  {
   "cell_type": "code",
   "execution_count": 58,
   "id": "9e35d66e-7331-4aa2-a8e1-ea6c82b7bdfb",
   "metadata": {},
   "outputs": [],
   "source": [
    "genre6_1.G15 = genre6_1['G15'].str.replace(' ', '')"
   ]
  },
  {
   "cell_type": "markdown",
   "id": "53d03965-4a76-49d0-8065-35ffee41669e",
   "metadata": {},
   "source": [
    "##### Genre5"
   ]
  },
  {
   "cell_type": "code",
   "execution_count": 61,
   "id": "98dc8a1f-a813-42eb-bcba-37488dfa478c",
   "metadata": {},
   "outputs": [],
   "source": [
    "without_dub_union.Genre5.fillna('empty', inplace=True)"
   ]
  },
  {
   "cell_type": "code",
   "execution_count": 62,
   "id": "98b2ad1c-eeea-443e-9e04-7a3e58896990",
   "metadata": {},
   "outputs": [
    {
     "data": {
      "text/plain": [
       "0       empty\n",
       "1       empty\n",
       "2       empty\n",
       "3       empty\n",
       "4       empty\n",
       "        ...  \n",
       "5798    empty\n",
       "5799    empty\n",
       "5800    empty\n",
       "5801    empty\n",
       "5802    empty\n",
       "Name: Genre5, Length: 5803, dtype: string"
      ]
     },
     "execution_count": 62,
     "metadata": {},
     "output_type": "execute_result"
    }
   ],
   "source": [
    "without_dub_union['Genre5'] = without_dub_union['Genre5'].astype(\"string\")\n",
    "without_dub_union.Genre5"
   ]
  },
  {
   "cell_type": "markdown",
   "id": "a3d6e833-5f77-4274-a312-2cf3ac236f55",
   "metadata": {},
   "source": [
    "#####  Genre5 and genres6_1 concat (genres_concat3)"
   ]
  },
  {
   "cell_type": "code",
   "execution_count": 63,
   "id": "dd94dc07-ca6c-4f66-a940-0371113784c1",
   "metadata": {},
   "outputs": [
    {
     "data": {
      "text/html": [
       "<div>\n",
       "<style scoped>\n",
       "    .dataframe tbody tr th:only-of-type {\n",
       "        vertical-align: middle;\n",
       "    }\n",
       "\n",
       "    .dataframe tbody tr th {\n",
       "        vertical-align: top;\n",
       "    }\n",
       "\n",
       "    .dataframe thead th {\n",
       "        text-align: right;\n",
       "    }\n",
       "</style>\n",
       "<table border=\"1\" class=\"dataframe\">\n",
       "  <thead>\n",
       "    <tr style=\"text-align: right;\">\n",
       "      <th></th>\n",
       "      <th>G13</th>\n",
       "      <th>G14</th>\n",
       "      <th>G15</th>\n",
       "      <th>Genre5</th>\n",
       "    </tr>\n",
       "  </thead>\n",
       "  <tbody>\n",
       "    <tr>\n",
       "      <th>0</th>\n",
       "      <td>empty</td>\n",
       "      <td>empty</td>\n",
       "      <td>empty</td>\n",
       "      <td>empty</td>\n",
       "    </tr>\n",
       "    <tr>\n",
       "      <th>1</th>\n",
       "      <td>empty</td>\n",
       "      <td>empty</td>\n",
       "      <td>empty</td>\n",
       "      <td>empty</td>\n",
       "    </tr>\n",
       "    <tr>\n",
       "      <th>2</th>\n",
       "      <td>empty</td>\n",
       "      <td>empty</td>\n",
       "      <td>empty</td>\n",
       "      <td>empty</td>\n",
       "    </tr>\n",
       "    <tr>\n",
       "      <th>3</th>\n",
       "      <td>empty</td>\n",
       "      <td>empty</td>\n",
       "      <td>empty</td>\n",
       "      <td>empty</td>\n",
       "    </tr>\n",
       "    <tr>\n",
       "      <th>4</th>\n",
       "      <td>empty</td>\n",
       "      <td>empty</td>\n",
       "      <td>empty</td>\n",
       "      <td>empty</td>\n",
       "    </tr>\n",
       "    <tr>\n",
       "      <th>...</th>\n",
       "      <td>...</td>\n",
       "      <td>...</td>\n",
       "      <td>...</td>\n",
       "      <td>...</td>\n",
       "    </tr>\n",
       "    <tr>\n",
       "      <th>5798</th>\n",
       "      <td>Action</td>\n",
       "      <td>Crime</td>\n",
       "      <td>Drama</td>\n",
       "      <td>empty</td>\n",
       "    </tr>\n",
       "    <tr>\n",
       "      <th>5799</th>\n",
       "      <td>Crime</td>\n",
       "      <td>Drama</td>\n",
       "      <td>Mystery</td>\n",
       "      <td>empty</td>\n",
       "    </tr>\n",
       "    <tr>\n",
       "      <th>5800</th>\n",
       "      <td>Drama</td>\n",
       "      <td>empty</td>\n",
       "      <td>empty</td>\n",
       "      <td>empty</td>\n",
       "    </tr>\n",
       "    <tr>\n",
       "      <th>5801</th>\n",
       "      <td>Action</td>\n",
       "      <td>Crime</td>\n",
       "      <td>Thriller</td>\n",
       "      <td>empty</td>\n",
       "    </tr>\n",
       "    <tr>\n",
       "      <th>5802</th>\n",
       "      <td>Crime</td>\n",
       "      <td>Drama</td>\n",
       "      <td>Film-Noir</td>\n",
       "      <td>empty</td>\n",
       "    </tr>\n",
       "  </tbody>\n",
       "</table>\n",
       "<p>5803 rows × 4 columns</p>\n",
       "</div>"
      ],
      "text/plain": [
       "         G13    G14        G15 Genre5\n",
       "0      empty  empty      empty  empty\n",
       "1      empty  empty      empty  empty\n",
       "2      empty  empty      empty  empty\n",
       "3      empty  empty      empty  empty\n",
       "4      empty  empty      empty  empty\n",
       "...      ...    ...        ...    ...\n",
       "5798  Action  Crime      Drama  empty\n",
       "5799   Crime  Drama    Mystery  empty\n",
       "5800   Drama  empty      empty  empty\n",
       "5801  Action  Crime   Thriller  empty\n",
       "5802   Crime  Drama  Film-Noir  empty\n",
       "\n",
       "[5803 rows x 4 columns]"
      ]
     },
     "execution_count": 63,
     "metadata": {},
     "output_type": "execute_result"
    }
   ],
   "source": [
    "genres_concat3 = pd.concat([genre6_1.G13,genre6_1.G14,genre6_1.G15,without_dub_union.Genre5], axis=1)\n",
    "genres_concat3"
   ]
  },
  {
   "cell_type": "markdown",
   "id": "c24a3364-f015-4b54-ac27-95bca4ea264a",
   "metadata": {},
   "source": [
    "##### genres_union3"
   ]
  },
  {
   "cell_type": "code",
   "execution_count": 64,
   "id": "1595d00a-ea33-44ba-9356-4f431641c14d",
   "metadata": {},
   "outputs": [
    {
     "data": {
      "text/plain": [
       "0                         empty\n",
       "1                         empty\n",
       "2                         empty\n",
       "3                         empty\n",
       "4                         empty\n",
       "                 ...           \n",
       "5798       Action, Crime, Drama\n",
       "5799      Crime, Drama, Mystery\n",
       "5800                      Drama\n",
       "5801    Action, Crime, Thriller\n",
       "5802    Crime, Drama, Film-Noir\n",
       "Name: genres_union3, Length: 5803, dtype: object"
      ]
     },
     "execution_count": 64,
     "metadata": {},
     "output_type": "execute_result"
    }
   ],
   "source": [
    "genres_concat3[\"genres_union3\"] = (\n",
    "    genres_concat3[['G13', 'G14', 'G15', 'Genre5']]\n",
    "        .apply(lambda x: x.str.split(',\\s*'))\n",
    "        .sum(axis=1).map(np.array)\n",
    "        .apply(lambda x: ', '.join(np.unique(x[x != 'empty'])))        \n",
    "        .replace('', 'empty')\n",
    "    )\n",
    "genres_concat3.genres_union3"
   ]
  },
  {
   "cell_type": "markdown",
   "id": "3fc30808-f185-4394-b955-23614efed5cd",
   "metadata": {},
   "source": [
    "#### 9.2.4"
   ]
  },
  {
   "cell_type": "markdown",
   "id": "f20c384b-c105-4449-a82c-56744b276552",
   "metadata": {},
   "source": [
    "##### genres_concat4"
   ]
  },
  {
   "cell_type": "code",
   "execution_count": 65,
   "id": "c40c39eb-2d7e-4805-b636-53842426c145",
   "metadata": {},
   "outputs": [
    {
     "data": {
      "text/html": [
       "<div>\n",
       "<style scoped>\n",
       "    .dataframe tbody tr th:only-of-type {\n",
       "        vertical-align: middle;\n",
       "    }\n",
       "\n",
       "    .dataframe tbody tr th {\n",
       "        vertical-align: top;\n",
       "    }\n",
       "\n",
       "    .dataframe thead th {\n",
       "        text-align: right;\n",
       "    }\n",
       "</style>\n",
       "<table border=\"1\" class=\"dataframe\">\n",
       "  <thead>\n",
       "    <tr style=\"text-align: right;\">\n",
       "      <th></th>\n",
       "      <th>genres_union1</th>\n",
       "      <th>genres_union2</th>\n",
       "      <th>genres_union3</th>\n",
       "    </tr>\n",
       "  </thead>\n",
       "  <tbody>\n",
       "    <tr>\n",
       "      <th>0</th>\n",
       "      <td>Action, Adventure, Thriller</td>\n",
       "      <td>empty</td>\n",
       "      <td>empty</td>\n",
       "    </tr>\n",
       "    <tr>\n",
       "      <th>1</th>\n",
       "      <td>Action, Adventure, Comedy, Thriller</td>\n",
       "      <td>empty</td>\n",
       "      <td>empty</td>\n",
       "    </tr>\n",
       "    <tr>\n",
       "      <th>2</th>\n",
       "      <td>Action, Adventure, Thriller</td>\n",
       "      <td>empty</td>\n",
       "      <td>empty</td>\n",
       "    </tr>\n",
       "    <tr>\n",
       "      <th>3</th>\n",
       "      <td>Comedy, Fantasy, Horror</td>\n",
       "      <td>empty</td>\n",
       "      <td>empty</td>\n",
       "    </tr>\n",
       "    <tr>\n",
       "      <th>4</th>\n",
       "      <td>Comedy, Horror</td>\n",
       "      <td>empty</td>\n",
       "      <td>empty</td>\n",
       "    </tr>\n",
       "    <tr>\n",
       "      <th>...</th>\n",
       "      <td>...</td>\n",
       "      <td>...</td>\n",
       "      <td>...</td>\n",
       "    </tr>\n",
       "    <tr>\n",
       "      <th>5798</th>\n",
       "      <td>Crime, Drama, Thriller</td>\n",
       "      <td>empty</td>\n",
       "      <td>Action, Crime, Drama</td>\n",
       "    </tr>\n",
       "    <tr>\n",
       "      <th>5799</th>\n",
       "      <td>Drama, Mystery</td>\n",
       "      <td>empty</td>\n",
       "      <td>Crime, Drama, Mystery</td>\n",
       "    </tr>\n",
       "    <tr>\n",
       "      <th>5800</th>\n",
       "      <td>Drama</td>\n",
       "      <td>empty</td>\n",
       "      <td>Drama</td>\n",
       "    </tr>\n",
       "    <tr>\n",
       "      <th>5801</th>\n",
       "      <td>Action, Crime, Thriller</td>\n",
       "      <td>empty</td>\n",
       "      <td>Action, Crime, Thriller</td>\n",
       "    </tr>\n",
       "    <tr>\n",
       "      <th>5802</th>\n",
       "      <td>Crime, Drama, Film-Noir</td>\n",
       "      <td>empty</td>\n",
       "      <td>Crime, Drama, Film-Noir</td>\n",
       "    </tr>\n",
       "  </tbody>\n",
       "</table>\n",
       "<p>5803 rows × 3 columns</p>\n",
       "</div>"
      ],
      "text/plain": [
       "                            genres_union1 genres_union2  \\\n",
       "0             Action, Adventure, Thriller         empty   \n",
       "1     Action, Adventure, Comedy, Thriller         empty   \n",
       "2             Action, Adventure, Thriller         empty   \n",
       "3                 Comedy, Fantasy, Horror         empty   \n",
       "4                          Comedy, Horror         empty   \n",
       "...                                   ...           ...   \n",
       "5798               Crime, Drama, Thriller         empty   \n",
       "5799                       Drama, Mystery         empty   \n",
       "5800                                Drama         empty   \n",
       "5801              Action, Crime, Thriller         empty   \n",
       "5802              Crime, Drama, Film-Noir         empty   \n",
       "\n",
       "                genres_union3  \n",
       "0                       empty  \n",
       "1                       empty  \n",
       "2                       empty  \n",
       "3                       empty  \n",
       "4                       empty  \n",
       "...                       ...  \n",
       "5798     Action, Crime, Drama  \n",
       "5799    Crime, Drama, Mystery  \n",
       "5800                    Drama  \n",
       "5801  Action, Crime, Thriller  \n",
       "5802  Crime, Drama, Film-Noir  \n",
       "\n",
       "[5803 rows x 3 columns]"
      ]
     },
     "execution_count": 65,
     "metadata": {},
     "output_type": "execute_result"
    }
   ],
   "source": [
    "genres_concat4 = pd.concat([genres_concat1.genres_union1,genres_concat2.genres_union2, genres_concat3.genres_union3], axis=1)\n",
    "genres_concat4"
   ]
  },
  {
   "cell_type": "markdown",
   "id": "1512567d-a895-46d7-a5bf-4991a8b05361",
   "metadata": {},
   "source": [
    "##### genres_union4"
   ]
  },
  {
   "cell_type": "code",
   "execution_count": 67,
   "id": "c6108a07-d9c7-43e5-9c59-a710e2a0b076",
   "metadata": {},
   "outputs": [
    {
     "data": {
      "text/plain": [
       "0               Action, Adventure, Thriller\n",
       "1       Action, Adventure, Comedy, Thriller\n",
       "2               Action, Adventure, Thriller\n",
       "3                   Comedy, Fantasy, Horror\n",
       "4                            Comedy, Horror\n",
       "                       ...                 \n",
       "5798         Action, Crime, Drama, Thriller\n",
       "5799                  Crime, Drama, Mystery\n",
       "5800                                  Drama\n",
       "5801                Action, Crime, Thriller\n",
       "5802                Crime, Drama, Film-Noir\n",
       "Name: genres_union4, Length: 5803, dtype: object"
      ]
     },
     "execution_count": 67,
     "metadata": {},
     "output_type": "execute_result"
    }
   ],
   "source": [
    "genres_concat4[\"genres_union4\"] = (\n",
    "    genres_concat4[['genres_union1', 'genres_union2', 'genres_union3']]\n",
    "        .apply(lambda x: x.str.split(',\\s*'))\n",
    "        .sum(axis=1).map(np.array)\n",
    "        .apply(lambda x: ', '.join(np.unique(x[x != 'empty'])))        \n",
    "        .replace('', 'empty')\n",
    "    )\n",
    "genres_concat4.genres_union4"
   ]
  },
  {
   "cell_type": "markdown",
   "id": "3e66298d-ff2d-4999-a51c-901ce6981588",
   "metadata": {},
   "source": [
    "#### 9.3 Split the genres_union4 and union with the without_dub_union.csv"
   ]
  },
  {
   "cell_type": "markdown",
   "id": "1885214c-aded-4cc0-8c31-071c310740f9",
   "metadata": {},
   "source": [
    "##### Split"
   ]
  },
  {
   "cell_type": "code",
   "execution_count": 72,
   "id": "99d164e9-54e3-403d-b441-528dfcaedd85",
   "metadata": {},
   "outputs": [
    {
     "data": {
      "text/html": [
       "<div>\n",
       "<style scoped>\n",
       "    .dataframe tbody tr th:only-of-type {\n",
       "        vertical-align: middle;\n",
       "    }\n",
       "\n",
       "    .dataframe tbody tr th {\n",
       "        vertical-align: top;\n",
       "    }\n",
       "\n",
       "    .dataframe thead th {\n",
       "        text-align: right;\n",
       "    }\n",
       "</style>\n",
       "<table border=\"1\" class=\"dataframe\">\n",
       "  <thead>\n",
       "    <tr style=\"text-align: right;\">\n",
       "      <th></th>\n",
       "      <th>Genre_1</th>\n",
       "      <th>Genres_2</th>\n",
       "      <th>Genre_3</th>\n",
       "      <th>Genre_4</th>\n",
       "      <th>Genre_5</th>\n",
       "      <th>Genre_6</th>\n",
       "    </tr>\n",
       "  </thead>\n",
       "  <tbody>\n",
       "    <tr>\n",
       "      <th>0</th>\n",
       "      <td>Action</td>\n",
       "      <td>Adventure</td>\n",
       "      <td>Thriller</td>\n",
       "      <td>None</td>\n",
       "      <td>None</td>\n",
       "      <td>None</td>\n",
       "    </tr>\n",
       "    <tr>\n",
       "      <th>1</th>\n",
       "      <td>Action</td>\n",
       "      <td>Adventure</td>\n",
       "      <td>Comedy</td>\n",
       "      <td>Thriller</td>\n",
       "      <td>None</td>\n",
       "      <td>None</td>\n",
       "    </tr>\n",
       "    <tr>\n",
       "      <th>2</th>\n",
       "      <td>Action</td>\n",
       "      <td>Adventure</td>\n",
       "      <td>Thriller</td>\n",
       "      <td>None</td>\n",
       "      <td>None</td>\n",
       "      <td>None</td>\n",
       "    </tr>\n",
       "    <tr>\n",
       "      <th>3</th>\n",
       "      <td>Comedy</td>\n",
       "      <td>Fantasy</td>\n",
       "      <td>Horror</td>\n",
       "      <td>None</td>\n",
       "      <td>None</td>\n",
       "      <td>None</td>\n",
       "    </tr>\n",
       "    <tr>\n",
       "      <th>4</th>\n",
       "      <td>Comedy</td>\n",
       "      <td>Horror</td>\n",
       "      <td>None</td>\n",
       "      <td>None</td>\n",
       "      <td>None</td>\n",
       "      <td>None</td>\n",
       "    </tr>\n",
       "    <tr>\n",
       "      <th>...</th>\n",
       "      <td>...</td>\n",
       "      <td>...</td>\n",
       "      <td>...</td>\n",
       "      <td>...</td>\n",
       "      <td>...</td>\n",
       "      <td>...</td>\n",
       "    </tr>\n",
       "    <tr>\n",
       "      <th>5798</th>\n",
       "      <td>Action</td>\n",
       "      <td>Crime</td>\n",
       "      <td>Drama</td>\n",
       "      <td>Thriller</td>\n",
       "      <td>None</td>\n",
       "      <td>None</td>\n",
       "    </tr>\n",
       "    <tr>\n",
       "      <th>5799</th>\n",
       "      <td>Crime</td>\n",
       "      <td>Drama</td>\n",
       "      <td>Mystery</td>\n",
       "      <td>None</td>\n",
       "      <td>None</td>\n",
       "      <td>None</td>\n",
       "    </tr>\n",
       "    <tr>\n",
       "      <th>5800</th>\n",
       "      <td>Drama</td>\n",
       "      <td>None</td>\n",
       "      <td>None</td>\n",
       "      <td>None</td>\n",
       "      <td>None</td>\n",
       "      <td>None</td>\n",
       "    </tr>\n",
       "    <tr>\n",
       "      <th>5801</th>\n",
       "      <td>Action</td>\n",
       "      <td>Crime</td>\n",
       "      <td>Thriller</td>\n",
       "      <td>None</td>\n",
       "      <td>None</td>\n",
       "      <td>None</td>\n",
       "    </tr>\n",
       "    <tr>\n",
       "      <th>5802</th>\n",
       "      <td>Crime</td>\n",
       "      <td>Drama</td>\n",
       "      <td>Film-Noir</td>\n",
       "      <td>None</td>\n",
       "      <td>None</td>\n",
       "      <td>None</td>\n",
       "    </tr>\n",
       "  </tbody>\n",
       "</table>\n",
       "<p>5803 rows × 6 columns</p>\n",
       "</div>"
      ],
      "text/plain": [
       "     Genre_1    Genres_2     Genre_3    Genre_4 Genre_5 Genre_6\n",
       "0     Action   Adventure    Thriller       None    None    None\n",
       "1     Action   Adventure      Comedy   Thriller    None    None\n",
       "2     Action   Adventure    Thriller       None    None    None\n",
       "3     Comedy     Fantasy      Horror       None    None    None\n",
       "4     Comedy      Horror        None       None    None    None\n",
       "...      ...         ...         ...        ...     ...     ...\n",
       "5798  Action       Crime       Drama   Thriller    None    None\n",
       "5799   Crime       Drama     Mystery       None    None    None\n",
       "5800   Drama        None        None       None    None    None\n",
       "5801  Action       Crime    Thriller       None    None    None\n",
       "5802   Crime       Drama   Film-Noir       None    None    None\n",
       "\n",
       "[5803 rows x 6 columns]"
      ]
     },
     "execution_count": 72,
     "metadata": {},
     "output_type": "execute_result"
    }
   ],
   "source": [
    "g_split = genres_concat4[['genres_union4']].copy()\n",
    "g_split[['Genre_1', 'Genres_2', 'Genre_3', 'Genre_4', 'Genre_5',  'Genre_6' ]] = g_split['genres_union4'].str.split(',', expand=True)\n",
    "g_split= g_split.drop(['genres_union4'], axis=1)\n",
    "g_split"
   ]
  },
  {
   "cell_type": "code",
   "execution_count": 74,
   "id": "c23d6232-d175-4f1f-b55c-69f2eddccd26",
   "metadata": {},
   "outputs": [
    {
     "data": {
      "text/html": [
       "<div>\n",
       "<style scoped>\n",
       "    .dataframe tbody tr th:only-of-type {\n",
       "        vertical-align: middle;\n",
       "    }\n",
       "\n",
       "    .dataframe tbody tr th {\n",
       "        vertical-align: top;\n",
       "    }\n",
       "\n",
       "    .dataframe thead th {\n",
       "        text-align: right;\n",
       "    }\n",
       "</style>\n",
       "<table border=\"1\" class=\"dataframe\">\n",
       "  <thead>\n",
       "    <tr style=\"text-align: right;\">\n",
       "      <th></th>\n",
       "      <th>Genre_1</th>\n",
       "      <th>Genres_2</th>\n",
       "      <th>Genre_3</th>\n",
       "      <th>Genre_4</th>\n",
       "      <th>Genre_5</th>\n",
       "      <th>Genre_6</th>\n",
       "    </tr>\n",
       "  </thead>\n",
       "  <tbody>\n",
       "    <tr>\n",
       "      <th>0</th>\n",
       "      <td>Action</td>\n",
       "      <td>Adventure</td>\n",
       "      <td>Thriller</td>\n",
       "      <td></td>\n",
       "      <td></td>\n",
       "      <td></td>\n",
       "    </tr>\n",
       "    <tr>\n",
       "      <th>1</th>\n",
       "      <td>Action</td>\n",
       "      <td>Adventure</td>\n",
       "      <td>Comedy</td>\n",
       "      <td>Thriller</td>\n",
       "      <td></td>\n",
       "      <td></td>\n",
       "    </tr>\n",
       "    <tr>\n",
       "      <th>2</th>\n",
       "      <td>Action</td>\n",
       "      <td>Adventure</td>\n",
       "      <td>Thriller</td>\n",
       "      <td></td>\n",
       "      <td></td>\n",
       "      <td></td>\n",
       "    </tr>\n",
       "    <tr>\n",
       "      <th>3</th>\n",
       "      <td>Comedy</td>\n",
       "      <td>Fantasy</td>\n",
       "      <td>Horror</td>\n",
       "      <td></td>\n",
       "      <td></td>\n",
       "      <td></td>\n",
       "    </tr>\n",
       "    <tr>\n",
       "      <th>4</th>\n",
       "      <td>Comedy</td>\n",
       "      <td>Horror</td>\n",
       "      <td></td>\n",
       "      <td></td>\n",
       "      <td></td>\n",
       "      <td></td>\n",
       "    </tr>\n",
       "    <tr>\n",
       "      <th>...</th>\n",
       "      <td>...</td>\n",
       "      <td>...</td>\n",
       "      <td>...</td>\n",
       "      <td>...</td>\n",
       "      <td>...</td>\n",
       "      <td>...</td>\n",
       "    </tr>\n",
       "    <tr>\n",
       "      <th>5798</th>\n",
       "      <td>Action</td>\n",
       "      <td>Crime</td>\n",
       "      <td>Drama</td>\n",
       "      <td>Thriller</td>\n",
       "      <td></td>\n",
       "      <td></td>\n",
       "    </tr>\n",
       "    <tr>\n",
       "      <th>5799</th>\n",
       "      <td>Crime</td>\n",
       "      <td>Drama</td>\n",
       "      <td>Mystery</td>\n",
       "      <td></td>\n",
       "      <td></td>\n",
       "      <td></td>\n",
       "    </tr>\n",
       "    <tr>\n",
       "      <th>5800</th>\n",
       "      <td>Drama</td>\n",
       "      <td></td>\n",
       "      <td></td>\n",
       "      <td></td>\n",
       "      <td></td>\n",
       "      <td></td>\n",
       "    </tr>\n",
       "    <tr>\n",
       "      <th>5801</th>\n",
       "      <td>Action</td>\n",
       "      <td>Crime</td>\n",
       "      <td>Thriller</td>\n",
       "      <td></td>\n",
       "      <td></td>\n",
       "      <td></td>\n",
       "    </tr>\n",
       "    <tr>\n",
       "      <th>5802</th>\n",
       "      <td>Crime</td>\n",
       "      <td>Drama</td>\n",
       "      <td>Film-Noir</td>\n",
       "      <td></td>\n",
       "      <td></td>\n",
       "      <td></td>\n",
       "    </tr>\n",
       "  </tbody>\n",
       "</table>\n",
       "<p>5803 rows × 6 columns</p>\n",
       "</div>"
      ],
      "text/plain": [
       "     Genre_1    Genres_2     Genre_3    Genre_4 Genre_5 Genre_6\n",
       "0     Action   Adventure    Thriller                           \n",
       "1     Action   Adventure      Comedy   Thriller                \n",
       "2     Action   Adventure    Thriller                           \n",
       "3     Comedy     Fantasy      Horror                           \n",
       "4     Comedy      Horror                                       \n",
       "...      ...         ...         ...        ...     ...     ...\n",
       "5798  Action       Crime       Drama   Thriller                \n",
       "5799   Crime       Drama     Mystery                           \n",
       "5800   Drama                                                   \n",
       "5801  Action       Crime    Thriller                           \n",
       "5802   Crime       Drama   Film-Noir                           \n",
       "\n",
       "[5803 rows x 6 columns]"
      ]
     },
     "execution_count": 74,
     "metadata": {},
     "output_type": "execute_result"
    }
   ],
   "source": [
    "g_split.fillna('', inplace=True)\n",
    "g_split"
   ]
  },
  {
   "cell_type": "markdown",
   "id": "b9aed9ed-248d-4118-9bd1-5cb1430bc73c",
   "metadata": {},
   "source": [
    "##### union with .csv"
   ]
  },
  {
   "cell_type": "code",
   "execution_count": 76,
   "id": "3811a6e1-2e17-40a8-ae40-8e6e55984e43",
   "metadata": {},
   "outputs": [
    {
     "data": {
      "text/plain": [
       "Index(['Unnamed: 0', 'Name', 'Year', 'Rating', 'Votes', 'Genre1', 'Runtime',\n",
       "       'Type', 'Certificate', 'Episodes', 'Nudity', 'Violence', 'Profanity',\n",
       "       'Alcohol', 'Frightening', 'Genre2', 'Metascore', 'Description1',\n",
       "       'Gross', 'Genre3', 'Description2', 'Director', 'Actors', 'Certificate4',\n",
       "       'Genre4', 'Description3', 'Actor1', 'Actor2', 'Actor3', 'Actor4',\n",
       "       'Description4', 'Language', 'Average_Votes', 'Genre5', 'Premiere',\n",
       "       'Poster_Link', 'Certificate7', 'Genre6', 'Description5', 'Star1',\n",
       "       'Star2', 'Star3', 'Star4'],\n",
       "      dtype='object')"
      ]
     },
     "execution_count": 76,
     "metadata": {},
     "output_type": "execute_result"
    }
   ],
   "source": [
    "without_dub_union.columns"
   ]
  },
  {
   "cell_type": "code",
   "execution_count": 80,
   "id": "cf848638-b8a8-45ec-a8e0-7c4e38ed6109",
   "metadata": {},
   "outputs": [
    {
     "ename": "KeyError",
     "evalue": "\"['Genre1', 'Genre2', 'Genre3', 'Genre4', 'Genre5', 'Genre6'] not found in axis\"",
     "output_type": "error",
     "traceback": [
      "\u001b[1;31m---------------------------------------------------------------------------\u001b[0m",
      "\u001b[1;31mKeyError\u001b[0m                                  Traceback (most recent call last)",
      "Cell \u001b[1;32mIn [82], line 1\u001b[0m\n\u001b[1;32m----> 1\u001b[0m without_dub_union \u001b[38;5;241m=\u001b[39m \u001b[43mwithout_dub_union\u001b[49m\u001b[38;5;241;43m.\u001b[39;49m\u001b[43mdrop\u001b[49m\u001b[43m(\u001b[49m\u001b[43m[\u001b[49m\u001b[38;5;124;43m'\u001b[39;49m\u001b[38;5;124;43mGenre1\u001b[39;49m\u001b[38;5;124;43m'\u001b[39;49m\u001b[43m,\u001b[49m\u001b[43m \u001b[49m\u001b[38;5;124;43m'\u001b[39;49m\u001b[38;5;124;43mGenre2\u001b[39;49m\u001b[38;5;124;43m'\u001b[39;49m\u001b[43m,\u001b[49m\u001b[43m \u001b[49m\u001b[38;5;124;43m'\u001b[39;49m\u001b[38;5;124;43mGenre3\u001b[39;49m\u001b[38;5;124;43m'\u001b[39;49m\u001b[43m,\u001b[49m\u001b[43m \u001b[49m\u001b[38;5;124;43m'\u001b[39;49m\u001b[38;5;124;43mGenre4\u001b[39;49m\u001b[38;5;124;43m'\u001b[39;49m\u001b[43m,\u001b[49m\u001b[43m \u001b[49m\u001b[38;5;124;43m'\u001b[39;49m\u001b[38;5;124;43mGenre5\u001b[39;49m\u001b[38;5;124;43m'\u001b[39;49m\u001b[43m,\u001b[49m\u001b[43m \u001b[49m\u001b[38;5;124;43m'\u001b[39;49m\u001b[38;5;124;43mGenre6\u001b[39;49m\u001b[38;5;124;43m'\u001b[39;49m\u001b[43m,\u001b[49m\u001b[43m \u001b[49m\u001b[38;5;124;43m'\u001b[39;49m\u001b[38;5;124;43mUnnamed: 0\u001b[39;49m\u001b[38;5;124;43m'\u001b[39;49m\u001b[43m]\u001b[49m\u001b[43m,\u001b[49m\u001b[43m \u001b[49m\u001b[43maxis\u001b[49m\u001b[38;5;241;43m=\u001b[39;49m\u001b[38;5;241;43m1\u001b[39;49m\u001b[43m)\u001b[49m\n\u001b[0;32m      2\u001b[0m without_dub_union\u001b[38;5;241m.\u001b[39mcolumns\n",
      "File \u001b[1;32m~\\Desktop\\MASTER\\SEMESTER 3\\DIPLOMATIKI\\course_venv\\lib\\site-packages\\pandas\\util\\_decorators.py:331\u001b[0m, in \u001b[0;36mdeprecate_nonkeyword_arguments.<locals>.decorate.<locals>.wrapper\u001b[1;34m(*args, **kwargs)\u001b[0m\n\u001b[0;32m    325\u001b[0m \u001b[38;5;28;01mif\u001b[39;00m \u001b[38;5;28mlen\u001b[39m(args) \u001b[38;5;241m>\u001b[39m num_allow_args:\n\u001b[0;32m    326\u001b[0m     warnings\u001b[38;5;241m.\u001b[39mwarn(\n\u001b[0;32m    327\u001b[0m         msg\u001b[38;5;241m.\u001b[39mformat(arguments\u001b[38;5;241m=\u001b[39m_format_argument_list(allow_args)),\n\u001b[0;32m    328\u001b[0m         \u001b[38;5;167;01mFutureWarning\u001b[39;00m,\n\u001b[0;32m    329\u001b[0m         stacklevel\u001b[38;5;241m=\u001b[39mfind_stack_level(),\n\u001b[0;32m    330\u001b[0m     )\n\u001b[1;32m--> 331\u001b[0m \u001b[38;5;28;01mreturn\u001b[39;00m \u001b[43mfunc\u001b[49m\u001b[43m(\u001b[49m\u001b[38;5;241;43m*\u001b[39;49m\u001b[43margs\u001b[49m\u001b[43m,\u001b[49m\u001b[43m \u001b[49m\u001b[38;5;241;43m*\u001b[39;49m\u001b[38;5;241;43m*\u001b[39;49m\u001b[43mkwargs\u001b[49m\u001b[43m)\u001b[49m\n",
      "File \u001b[1;32m~\\Desktop\\MASTER\\SEMESTER 3\\DIPLOMATIKI\\course_venv\\lib\\site-packages\\pandas\\core\\frame.py:5388\u001b[0m, in \u001b[0;36mDataFrame.drop\u001b[1;34m(self, labels, axis, index, columns, level, inplace, errors)\u001b[0m\n\u001b[0;32m   5240\u001b[0m \u001b[38;5;129m@deprecate_nonkeyword_arguments\u001b[39m(version\u001b[38;5;241m=\u001b[39m\u001b[38;5;28;01mNone\u001b[39;00m, allowed_args\u001b[38;5;241m=\u001b[39m[\u001b[38;5;124m\"\u001b[39m\u001b[38;5;124mself\u001b[39m\u001b[38;5;124m\"\u001b[39m, \u001b[38;5;124m\"\u001b[39m\u001b[38;5;124mlabels\u001b[39m\u001b[38;5;124m\"\u001b[39m])\n\u001b[0;32m   5241\u001b[0m \u001b[38;5;28;01mdef\u001b[39;00m \u001b[38;5;21mdrop\u001b[39m(  \u001b[38;5;66;03m# type: ignore[override]\u001b[39;00m\n\u001b[0;32m   5242\u001b[0m     \u001b[38;5;28mself\u001b[39m,\n\u001b[1;32m   (...)\u001b[0m\n\u001b[0;32m   5249\u001b[0m     errors: IgnoreRaise \u001b[38;5;241m=\u001b[39m \u001b[38;5;124m\"\u001b[39m\u001b[38;5;124mraise\u001b[39m\u001b[38;5;124m\"\u001b[39m,\n\u001b[0;32m   5250\u001b[0m ) \u001b[38;5;241m-\u001b[39m\u001b[38;5;241m>\u001b[39m DataFrame \u001b[38;5;241m|\u001b[39m \u001b[38;5;28;01mNone\u001b[39;00m:\n\u001b[0;32m   5251\u001b[0m     \u001b[38;5;124;03m\"\"\"\u001b[39;00m\n\u001b[0;32m   5252\u001b[0m \u001b[38;5;124;03m    Drop specified labels from rows or columns.\u001b[39;00m\n\u001b[0;32m   5253\u001b[0m \n\u001b[1;32m   (...)\u001b[0m\n\u001b[0;32m   5386\u001b[0m \u001b[38;5;124;03m            weight  1.0     0.8\u001b[39;00m\n\u001b[0;32m   5387\u001b[0m \u001b[38;5;124;03m    \"\"\"\u001b[39;00m\n\u001b[1;32m-> 5388\u001b[0m     \u001b[38;5;28;01mreturn\u001b[39;00m \u001b[38;5;28;43msuper\u001b[39;49m\u001b[43m(\u001b[49m\u001b[43m)\u001b[49m\u001b[38;5;241;43m.\u001b[39;49m\u001b[43mdrop\u001b[49m\u001b[43m(\u001b[49m\n\u001b[0;32m   5389\u001b[0m \u001b[43m        \u001b[49m\u001b[43mlabels\u001b[49m\u001b[38;5;241;43m=\u001b[39;49m\u001b[43mlabels\u001b[49m\u001b[43m,\u001b[49m\n\u001b[0;32m   5390\u001b[0m \u001b[43m        \u001b[49m\u001b[43maxis\u001b[49m\u001b[38;5;241;43m=\u001b[39;49m\u001b[43maxis\u001b[49m\u001b[43m,\u001b[49m\n\u001b[0;32m   5391\u001b[0m \u001b[43m        \u001b[49m\u001b[43mindex\u001b[49m\u001b[38;5;241;43m=\u001b[39;49m\u001b[43mindex\u001b[49m\u001b[43m,\u001b[49m\n\u001b[0;32m   5392\u001b[0m \u001b[43m        \u001b[49m\u001b[43mcolumns\u001b[49m\u001b[38;5;241;43m=\u001b[39;49m\u001b[43mcolumns\u001b[49m\u001b[43m,\u001b[49m\n\u001b[0;32m   5393\u001b[0m \u001b[43m        \u001b[49m\u001b[43mlevel\u001b[49m\u001b[38;5;241;43m=\u001b[39;49m\u001b[43mlevel\u001b[49m\u001b[43m,\u001b[49m\n\u001b[0;32m   5394\u001b[0m \u001b[43m        \u001b[49m\u001b[43minplace\u001b[49m\u001b[38;5;241;43m=\u001b[39;49m\u001b[43minplace\u001b[49m\u001b[43m,\u001b[49m\n\u001b[0;32m   5395\u001b[0m \u001b[43m        \u001b[49m\u001b[43merrors\u001b[49m\u001b[38;5;241;43m=\u001b[39;49m\u001b[43merrors\u001b[49m\u001b[43m,\u001b[49m\n\u001b[0;32m   5396\u001b[0m \u001b[43m    \u001b[49m\u001b[43m)\u001b[49m\n",
      "File \u001b[1;32m~\\Desktop\\MASTER\\SEMESTER 3\\DIPLOMATIKI\\course_venv\\lib\\site-packages\\pandas\\util\\_decorators.py:331\u001b[0m, in \u001b[0;36mdeprecate_nonkeyword_arguments.<locals>.decorate.<locals>.wrapper\u001b[1;34m(*args, **kwargs)\u001b[0m\n\u001b[0;32m    325\u001b[0m \u001b[38;5;28;01mif\u001b[39;00m \u001b[38;5;28mlen\u001b[39m(args) \u001b[38;5;241m>\u001b[39m num_allow_args:\n\u001b[0;32m    326\u001b[0m     warnings\u001b[38;5;241m.\u001b[39mwarn(\n\u001b[0;32m    327\u001b[0m         msg\u001b[38;5;241m.\u001b[39mformat(arguments\u001b[38;5;241m=\u001b[39m_format_argument_list(allow_args)),\n\u001b[0;32m    328\u001b[0m         \u001b[38;5;167;01mFutureWarning\u001b[39;00m,\n\u001b[0;32m    329\u001b[0m         stacklevel\u001b[38;5;241m=\u001b[39mfind_stack_level(),\n\u001b[0;32m    330\u001b[0m     )\n\u001b[1;32m--> 331\u001b[0m \u001b[38;5;28;01mreturn\u001b[39;00m \u001b[43mfunc\u001b[49m\u001b[43m(\u001b[49m\u001b[38;5;241;43m*\u001b[39;49m\u001b[43margs\u001b[49m\u001b[43m,\u001b[49m\u001b[43m \u001b[49m\u001b[38;5;241;43m*\u001b[39;49m\u001b[38;5;241;43m*\u001b[39;49m\u001b[43mkwargs\u001b[49m\u001b[43m)\u001b[49m\n",
      "File \u001b[1;32m~\\Desktop\\MASTER\\SEMESTER 3\\DIPLOMATIKI\\course_venv\\lib\\site-packages\\pandas\\core\\generic.py:4505\u001b[0m, in \u001b[0;36mNDFrame.drop\u001b[1;34m(self, labels, axis, index, columns, level, inplace, errors)\u001b[0m\n\u001b[0;32m   4503\u001b[0m \u001b[38;5;28;01mfor\u001b[39;00m axis, labels \u001b[38;5;129;01min\u001b[39;00m axes\u001b[38;5;241m.\u001b[39mitems():\n\u001b[0;32m   4504\u001b[0m     \u001b[38;5;28;01mif\u001b[39;00m labels \u001b[38;5;129;01mis\u001b[39;00m \u001b[38;5;129;01mnot\u001b[39;00m \u001b[38;5;28;01mNone\u001b[39;00m:\n\u001b[1;32m-> 4505\u001b[0m         obj \u001b[38;5;241m=\u001b[39m \u001b[43mobj\u001b[49m\u001b[38;5;241;43m.\u001b[39;49m\u001b[43m_drop_axis\u001b[49m\u001b[43m(\u001b[49m\u001b[43mlabels\u001b[49m\u001b[43m,\u001b[49m\u001b[43m \u001b[49m\u001b[43maxis\u001b[49m\u001b[43m,\u001b[49m\u001b[43m \u001b[49m\u001b[43mlevel\u001b[49m\u001b[38;5;241;43m=\u001b[39;49m\u001b[43mlevel\u001b[49m\u001b[43m,\u001b[49m\u001b[43m \u001b[49m\u001b[43merrors\u001b[49m\u001b[38;5;241;43m=\u001b[39;49m\u001b[43merrors\u001b[49m\u001b[43m)\u001b[49m\n\u001b[0;32m   4507\u001b[0m \u001b[38;5;28;01mif\u001b[39;00m inplace:\n\u001b[0;32m   4508\u001b[0m     \u001b[38;5;28mself\u001b[39m\u001b[38;5;241m.\u001b[39m_update_inplace(obj)\n",
      "File \u001b[1;32m~\\Desktop\\MASTER\\SEMESTER 3\\DIPLOMATIKI\\course_venv\\lib\\site-packages\\pandas\\core\\generic.py:4546\u001b[0m, in \u001b[0;36mNDFrame._drop_axis\u001b[1;34m(self, labels, axis, level, errors, only_slice)\u001b[0m\n\u001b[0;32m   4544\u001b[0m         new_axis \u001b[38;5;241m=\u001b[39m axis\u001b[38;5;241m.\u001b[39mdrop(labels, level\u001b[38;5;241m=\u001b[39mlevel, errors\u001b[38;5;241m=\u001b[39merrors)\n\u001b[0;32m   4545\u001b[0m     \u001b[38;5;28;01melse\u001b[39;00m:\n\u001b[1;32m-> 4546\u001b[0m         new_axis \u001b[38;5;241m=\u001b[39m \u001b[43maxis\u001b[49m\u001b[38;5;241;43m.\u001b[39;49m\u001b[43mdrop\u001b[49m\u001b[43m(\u001b[49m\u001b[43mlabels\u001b[49m\u001b[43m,\u001b[49m\u001b[43m \u001b[49m\u001b[43merrors\u001b[49m\u001b[38;5;241;43m=\u001b[39;49m\u001b[43merrors\u001b[49m\u001b[43m)\u001b[49m\n\u001b[0;32m   4547\u001b[0m     indexer \u001b[38;5;241m=\u001b[39m axis\u001b[38;5;241m.\u001b[39mget_indexer(new_axis)\n\u001b[0;32m   4549\u001b[0m \u001b[38;5;66;03m# Case for non-unique axis\u001b[39;00m\n\u001b[0;32m   4550\u001b[0m \u001b[38;5;28;01melse\u001b[39;00m:\n",
      "File \u001b[1;32m~\\Desktop\\MASTER\\SEMESTER 3\\DIPLOMATIKI\\course_venv\\lib\\site-packages\\pandas\\core\\indexes\\base.py:6975\u001b[0m, in \u001b[0;36mIndex.drop\u001b[1;34m(self, labels, errors)\u001b[0m\n\u001b[0;32m   6973\u001b[0m \u001b[38;5;28;01mif\u001b[39;00m mask\u001b[38;5;241m.\u001b[39many():\n\u001b[0;32m   6974\u001b[0m     \u001b[38;5;28;01mif\u001b[39;00m errors \u001b[38;5;241m!=\u001b[39m \u001b[38;5;124m\"\u001b[39m\u001b[38;5;124mignore\u001b[39m\u001b[38;5;124m\"\u001b[39m:\n\u001b[1;32m-> 6975\u001b[0m         \u001b[38;5;28;01mraise\u001b[39;00m \u001b[38;5;167;01mKeyError\u001b[39;00m(\u001b[38;5;124mf\u001b[39m\u001b[38;5;124m\"\u001b[39m\u001b[38;5;132;01m{\u001b[39;00m\u001b[38;5;28mlist\u001b[39m(labels[mask])\u001b[38;5;132;01m}\u001b[39;00m\u001b[38;5;124m not found in axis\u001b[39m\u001b[38;5;124m\"\u001b[39m)\n\u001b[0;32m   6976\u001b[0m     indexer \u001b[38;5;241m=\u001b[39m indexer[\u001b[38;5;241m~\u001b[39mmask]\n\u001b[0;32m   6977\u001b[0m \u001b[38;5;28;01mreturn\u001b[39;00m \u001b[38;5;28mself\u001b[39m\u001b[38;5;241m.\u001b[39mdelete(indexer)\n",
      "\u001b[1;31mKeyError\u001b[0m: \"['Genre1', 'Genre2', 'Genre3', 'Genre4', 'Genre5', 'Genre6'] not found in axis\""
     ]
    }
   ],
   "source": [
    "without_dub_union = without_dub_union.drop(['Genre1', 'Genre2', 'Genre3', 'Genre4', 'Genre5', 'Genre6' ], axis=1)\n",
    "without_dub_union.columns"
   ]
  },
  {
   "cell_type": "code",
   "execution_count": 83,
   "id": "6fa094cb-ce85-4d5d-a4c2-5b8c24a729ef",
   "metadata": {},
   "outputs": [],
   "source": [
    "without_dub_union = without_dub_union.drop(['Unnamed: 0' ], axis=1)\n"
   ]
  },
  {
   "cell_type": "code",
   "execution_count": 84,
   "id": "759ef554-8413-4303-975b-fa2b8135c8aa",
   "metadata": {},
   "outputs": [
    {
     "data": {
      "text/plain": [
       "Index(['Name', 'Year', 'Rating', 'Votes', 'Runtime', 'Type', 'Certificate',\n",
       "       'Episodes', 'Nudity', 'Violence', 'Profanity', 'Alcohol', 'Frightening',\n",
       "       'Metascore', 'Description1', 'Gross', 'Description2', 'Director',\n",
       "       'Actors', 'Certificate4', 'Description3', 'Actor1', 'Actor2', 'Actor3',\n",
       "       'Actor4', 'Description4', 'Language', 'Average_Votes', 'Premiere',\n",
       "       'Poster_Link', 'Certificate7', 'Description5', 'Star1', 'Star2',\n",
       "       'Star3', 'Star4', 'Genre_1', 'Genres_2', 'Genre_3', 'Genre_4',\n",
       "       'Genre_5', 'Genre_6'],\n",
       "      dtype='object')"
      ]
     },
     "execution_count": 84,
     "metadata": {},
     "output_type": "execute_result"
    }
   ],
   "source": [
    "classification_df = pd.concat([without_dub_union, g_split], axis=1)\n",
    "classification_df.columns"
   ]
  },
  {
   "cell_type": "code",
   "execution_count": 86,
   "id": "ee038aba-01ce-4ca7-801b-036d5c721bb5",
   "metadata": {},
   "outputs": [],
   "source": [
    "classification_df.to_csv('movies_changes1.csv')"
   ]
  }
 ],
 "metadata": {
  "kernelspec": {
   "display_name": "Python 3 (ipykernel)",
   "language": "python",
   "name": "python3"
  },
  "language_info": {
   "codemirror_mode": {
    "name": "ipython",
    "version": 3
   },
   "file_extension": ".py",
   "mimetype": "text/x-python",
   "name": "python",
   "nbconvert_exporter": "python",
   "pygments_lexer": "ipython3",
   "version": "3.8.3"
  }
 },
 "nbformat": 4,
 "nbformat_minor": 5
}
