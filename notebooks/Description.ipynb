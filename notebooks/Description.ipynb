{
 "cells": [
  {
   "cell_type": "code",
   "execution_count": 1,
   "id": "30ee6dfc-b7fc-4276-b3b7-29e68517b881",
   "metadata": {},
   "outputs": [],
   "source": [
    "import pandas as pd\n",
    "import numpy as np"
   ]
  },
  {
   "cell_type": "code",
   "execution_count": 2,
   "id": "3ed58dfa-a8c5-448e-ac77-efdfb0c63251",
   "metadata": {},
   "outputs": [],
   "source": [
    "movies_changes3 = pd.read_csv(\"movies_changes3.csv\")"
   ]
  },
  {
   "cell_type": "code",
   "execution_count": 3,
   "id": "1985a3d4-7252-46eb-86df-35fbbabb8cb1",
   "metadata": {},
   "outputs": [
    {
     "data": {
      "text/plain": [
       "Index(['Unnamed: 0', 'Name', 'Year', 'Rating', 'Votes', 'Runtime', 'Type',\n",
       "       'Episodes', 'Nudity', 'Violence', 'Profanity', 'Alcohol', 'Frightening',\n",
       "       'Metascore', 'Description1', 'Gross', 'Description2', 'Director',\n",
       "       'Description3', 'Description4', 'Language', 'Average_Votes', 'Premiere',\n",
       "       'Poster_Link', 'Description5', 'Genre_1', 'Genres_2', 'Genre_3',\n",
       "       'Genre_4', 'Genre_5', 'Genre_6', 'Actor_1', 'Actor_2', 'Actor_3',\n",
       "       'Actor_4', 'Certificate_1', 'Certificate_2'],\n",
       "      dtype='object')"
      ]
     },
     "execution_count": 3,
     "metadata": {},
     "output_type": "execute_result"
    }
   ],
   "source": [
    "movies_changes3.columns"
   ]
  },
  {
   "cell_type": "markdown",
   "id": "4b0e8879-de13-416d-ab22-6ac804ffdae6",
   "metadata": {
    "tags": []
   },
   "source": [
    "#### 12. Union the columns of the movies_changes2.csv (Description1, Description2, Description3,Description4, Description5 )"
   ]
  },
  {
   "cell_type": "markdown",
   "id": "b62ead2f-078b-4b32-82d2-9885d337b643",
   "metadata": {
    "tags": []
   },
   "source": [
    "#### 12.1 columns to string "
   ]
  },
  {
   "cell_type": "code",
   "execution_count": 10,
   "id": "c81af2e9-44d2-4da2-83ff-e00d27157006",
   "metadata": {},
   "outputs": [
    {
     "data": {
      "text/plain": [
       "string[python]"
      ]
     },
     "execution_count": 10,
     "metadata": {},
     "output_type": "execute_result"
    }
   ],
   "source": [
    "movies_changes3['Description1'] = movies_changes3['Description1'].astype(\"string\")\n",
    "movies_changes3.Description1.dtypes"
   ]
  },
  {
   "cell_type": "code",
   "execution_count": 9,
   "id": "8a6fb8d5-7573-4dcd-9697-c9654e9a4c67",
   "metadata": {},
   "outputs": [
    {
     "data": {
      "text/plain": [
       "string[python]"
      ]
     },
     "execution_count": 9,
     "metadata": {},
     "output_type": "execute_result"
    }
   ],
   "source": [
    "movies_changes3['Description2'] = movies_changes3['Description2'].astype(\"string\")\n",
    "movies_changes3.Description2.dtypes"
   ]
  },
  {
   "cell_type": "code",
   "execution_count": 11,
   "id": "e8d2db93-d61a-4563-8280-3f04efad7682",
   "metadata": {},
   "outputs": [
    {
     "data": {
      "text/plain": [
       "string[python]"
      ]
     },
     "execution_count": 11,
     "metadata": {},
     "output_type": "execute_result"
    }
   ],
   "source": [
    "movies_changes3['Description2'] = movies_changes3['Description3'].astype(\"string\")\n",
    "movies_changes3.Description3.dtypes"
   ]
  },
  {
   "cell_type": "code",
   "execution_count": 12,
   "id": "a0bb5105-1d5c-4aea-bff7-e9551165ec10",
   "metadata": {},
   "outputs": [
    {
     "data": {
      "text/plain": [
       "string[python]"
      ]
     },
     "execution_count": 12,
     "metadata": {},
     "output_type": "execute_result"
    }
   ],
   "source": [
    "movies_changes3['Description4'] = movies_changes3['Description4'].astype(\"string\")\n",
    "movies_changes3.Description4.dtypes"
   ]
  },
  {
   "cell_type": "code",
   "execution_count": 13,
   "id": "be08cd71-6192-42f3-9d98-f9f64bc18108",
   "metadata": {},
   "outputs": [
    {
     "data": {
      "text/plain": [
       "string[python]"
      ]
     },
     "execution_count": 13,
     "metadata": {},
     "output_type": "execute_result"
    }
   ],
   "source": [
    "movies_changes3['Description5'] = movies_changes3['Description5'].astype(\"string\")\n",
    "movies_changes3.Description5.dtypes"
   ]
  },
  {
   "cell_type": "markdown",
   "id": "04a5cf95-9a29-493e-b310-881c8530d71d",
   "metadata": {},
   "source": [
    "###### test"
   ]
  },
  {
   "cell_type": "code",
   "execution_count": 63,
   "id": "bf2aa1a6-741f-4dc0-a592-efd0ccc1c7eb",
   "metadata": {},
   "outputs": [
    {
     "data": {
      "text/plain": [
       "0       empty\n",
       "1       empty\n",
       "2       empty\n",
       "3       empty\n",
       "4       empty\n",
       "        ...  \n",
       "5798    empty\n",
       "5799    empty\n",
       "5800    empty\n",
       "5801    empty\n",
       "5802    empty\n",
       "Name: descript, Length: 5803, dtype: string"
      ]
     },
     "execution_count": 63,
     "metadata": {},
     "output_type": "execute_result"
    }
   ],
   "source": [
    "movies_changes3['descript'] = movies_changes3['Description4'].astype(str) \n",
    "movies_changes3['descript'] = movies_changes3['descript'].astype(\"string\")\n",
    "movies_changes3.descript"
   ]
  },
  {
   "cell_type": "code",
   "execution_count": 64,
   "id": "9669bf65-8196-4416-bad2-14fa8c367ea6",
   "metadata": {},
   "outputs": [
    {
     "data": {
      "text/plain": [
       "0       After earning 00 status and a licence to kill,...\n",
       "1       After earning 00 status and a licence to kill,...\n",
       "2       James Bond's loyalty to M is tested when her p...\n",
       "3       Viago, Deacon and Vladislav are vampires who a...\n",
       "4       Viago, Deacon and Vladislav are vampires who a...\n",
       "                              ...                        \n",
       "5798                                                empty\n",
       "5799                                                empty\n",
       "5800                                                empty\n",
       "5801                                                empty\n",
       "5802                                                empty\n",
       "Name: Description11, Length: 5803, dtype: object"
      ]
     },
     "execution_count": 64,
     "metadata": {},
     "output_type": "execute_result"
    }
   ],
   "source": [
    "movies_changes3['Description11'] = movies_changes3['Description1'].astype(str)  \n",
    "movies_changes3.Description11"
   ]
  },
  {
   "cell_type": "code",
   "execution_count": 65,
   "id": "0714d16e-404a-4020-8dc5-70117fbfbc03",
   "metadata": {},
   "outputs": [
    {
     "data": {
      "text/html": [
       "<div>\n",
       "<style scoped>\n",
       "    .dataframe tbody tr th:only-of-type {\n",
       "        vertical-align: middle;\n",
       "    }\n",
       "\n",
       "    .dataframe tbody tr th {\n",
       "        vertical-align: top;\n",
       "    }\n",
       "\n",
       "    .dataframe thead th {\n",
       "        text-align: right;\n",
       "    }\n",
       "</style>\n",
       "<table border=\"1\" class=\"dataframe\">\n",
       "  <thead>\n",
       "    <tr style=\"text-align: right;\">\n",
       "      <th></th>\n",
       "      <th>descript</th>\n",
       "      <th>Description11</th>\n",
       "    </tr>\n",
       "  </thead>\n",
       "  <tbody>\n",
       "    <tr>\n",
       "      <th>0</th>\n",
       "      <td>empty</td>\n",
       "      <td>After earning 00 status and a licence to kill,...</td>\n",
       "    </tr>\n",
       "    <tr>\n",
       "      <th>1</th>\n",
       "      <td>empty</td>\n",
       "      <td>After earning 00 status and a licence to kill,...</td>\n",
       "    </tr>\n",
       "    <tr>\n",
       "      <th>2</th>\n",
       "      <td>empty</td>\n",
       "      <td>James Bond's loyalty to M is tested when her p...</td>\n",
       "    </tr>\n",
       "    <tr>\n",
       "      <th>3</th>\n",
       "      <td>empty</td>\n",
       "      <td>Viago, Deacon and Vladislav are vampires who a...</td>\n",
       "    </tr>\n",
       "    <tr>\n",
       "      <th>4</th>\n",
       "      <td>empty</td>\n",
       "      <td>Viago, Deacon and Vladislav are vampires who a...</td>\n",
       "    </tr>\n",
       "    <tr>\n",
       "      <th>...</th>\n",
       "      <td>...</td>\n",
       "      <td>...</td>\n",
       "    </tr>\n",
       "    <tr>\n",
       "      <th>5798</th>\n",
       "      <td>empty</td>\n",
       "      <td>empty</td>\n",
       "    </tr>\n",
       "    <tr>\n",
       "      <th>5799</th>\n",
       "      <td>empty</td>\n",
       "      <td>empty</td>\n",
       "    </tr>\n",
       "    <tr>\n",
       "      <th>5800</th>\n",
       "      <td>empty</td>\n",
       "      <td>empty</td>\n",
       "    </tr>\n",
       "    <tr>\n",
       "      <th>5801</th>\n",
       "      <td>empty</td>\n",
       "      <td>empty</td>\n",
       "    </tr>\n",
       "    <tr>\n",
       "      <th>5802</th>\n",
       "      <td>empty</td>\n",
       "      <td>empty</td>\n",
       "    </tr>\n",
       "  </tbody>\n",
       "</table>\n",
       "<p>5803 rows × 2 columns</p>\n",
       "</div>"
      ],
      "text/plain": [
       "     descript                                      Description11\n",
       "0       empty  After earning 00 status and a licence to kill,...\n",
       "1       empty  After earning 00 status and a licence to kill,...\n",
       "2       empty  James Bond's loyalty to M is tested when her p...\n",
       "3       empty  Viago, Deacon and Vladislav are vampires who a...\n",
       "4       empty  Viago, Deacon and Vladislav are vampires who a...\n",
       "...       ...                                                ...\n",
       "5798    empty                                              empty\n",
       "5799    empty                                              empty\n",
       "5800    empty                                              empty\n",
       "5801    empty                                              empty\n",
       "5802    empty                                              empty\n",
       "\n",
       "[5803 rows x 2 columns]"
      ]
     },
     "execution_count": 65,
     "metadata": {},
     "output_type": "execute_result"
    }
   ],
   "source": [
    "description_concat = pd.concat([movies_changes3.descript,movies_changes3.Description11,], axis=1)\n",
    "description_concat"
   ]
  },
  {
   "cell_type": "code",
   "execution_count": 66,
   "id": "b9acb39a-699f-4019-b45d-a25f5f69db0c",
   "metadata": {},
   "outputs": [
    {
     "name": "stdout",
     "output_type": "stream",
     "text": [
      "0       After earning 00 status and a licence to kill,...\n",
      "1       After earning 00 status and a licence to kill,...\n",
      "2       James Bond's loyalty to M is tested when her p...\n",
      "3       Viago, Deacon and Vladislav are vampires who a...\n",
      "4       Viago, Deacon and Vladislav are vampires who a...\n",
      "                              ...                        \n",
      "5798                                                empty\n",
      "5799                                                empty\n",
      "5800                                                empty\n",
      "5801                                                empty\n",
      "5802                                                empty\n",
      "Name: description_union, Length: 5803, dtype: object\n"
     ]
    }
   ],
   "source": [
    "description_concat[\"description_union\"] = (\n",
    "    description_concat[['descript', 'Description11']]\n",
    "        .apply(lambda x: x.str.split('<\\s*'))\n",
    "        .sum(axis=1).map(np.array)\n",
    "        .apply(lambda x: ', '.join(np.unique(x[x != 'empty'])))        \n",
    "        .replace('', 'empty')\n",
    "    )\n",
    "print(description_concat.description_union)"
   ]
  },
  {
   "cell_type": "code",
   "execution_count": 67,
   "id": "e7a5d1f2-86be-4a65-af7c-b1dd45e8e55f",
   "metadata": {},
   "outputs": [
    {
     "data": {
      "text/html": [
       "<div>\n",
       "<style scoped>\n",
       "    .dataframe tbody tr th:only-of-type {\n",
       "        vertical-align: middle;\n",
       "    }\n",
       "\n",
       "    .dataframe tbody tr th {\n",
       "        vertical-align: top;\n",
       "    }\n",
       "\n",
       "    .dataframe thead th {\n",
       "        text-align: right;\n",
       "    }\n",
       "</style>\n",
       "<table border=\"1\" class=\"dataframe\">\n",
       "  <thead>\n",
       "    <tr style=\"text-align: right;\">\n",
       "      <th></th>\n",
       "      <th>Description_test1</th>\n",
       "    </tr>\n",
       "  </thead>\n",
       "  <tbody>\n",
       "    <tr>\n",
       "      <th>0</th>\n",
       "      <td>After earning 00 status and a licence to kill,...</td>\n",
       "    </tr>\n",
       "    <tr>\n",
       "      <th>1</th>\n",
       "      <td>After earning 00 status and a licence to kill,...</td>\n",
       "    </tr>\n",
       "    <tr>\n",
       "      <th>2</th>\n",
       "      <td>James Bond's loyalty to M is tested when her p...</td>\n",
       "    </tr>\n",
       "    <tr>\n",
       "      <th>3</th>\n",
       "      <td>Viago, Deacon and Vladislav are vampires who a...</td>\n",
       "    </tr>\n",
       "    <tr>\n",
       "      <th>4</th>\n",
       "      <td>Viago, Deacon and Vladislav are vampires who a...</td>\n",
       "    </tr>\n",
       "    <tr>\n",
       "      <th>...</th>\n",
       "      <td>...</td>\n",
       "    </tr>\n",
       "    <tr>\n",
       "      <th>5798</th>\n",
       "      <td>empty</td>\n",
       "    </tr>\n",
       "    <tr>\n",
       "      <th>5799</th>\n",
       "      <td>empty</td>\n",
       "    </tr>\n",
       "    <tr>\n",
       "      <th>5800</th>\n",
       "      <td>empty</td>\n",
       "    </tr>\n",
       "    <tr>\n",
       "      <th>5801</th>\n",
       "      <td>empty</td>\n",
       "    </tr>\n",
       "    <tr>\n",
       "      <th>5802</th>\n",
       "      <td>empty</td>\n",
       "    </tr>\n",
       "  </tbody>\n",
       "</table>\n",
       "<p>5803 rows × 1 columns</p>\n",
       "</div>"
      ],
      "text/plain": [
       "                                      Description_test1\n",
       "0     After earning 00 status and a licence to kill,...\n",
       "1     After earning 00 status and a licence to kill,...\n",
       "2     James Bond's loyalty to M is tested when her p...\n",
       "3     Viago, Deacon and Vladislav are vampires who a...\n",
       "4     Viago, Deacon and Vladislav are vampires who a...\n",
       "...                                                 ...\n",
       "5798                                              empty\n",
       "5799                                              empty\n",
       "5800                                              empty\n",
       "5801                                              empty\n",
       "5802                                              empty\n",
       "\n",
       "[5803 rows x 1 columns]"
      ]
     },
     "execution_count": 67,
     "metadata": {},
     "output_type": "execute_result"
    }
   ],
   "source": [
    "test_split = description_concat[['description_union']].copy()\n",
    "test_split[['Description_test1']] = test_split['description_union'].str.split('<', expand=True)\n",
    "test_split= test_split.drop(['description_union'], axis=1)\n",
    "test_split"
   ]
  },
  {
   "cell_type": "code",
   "execution_count": 68,
   "id": "0706350b-10c0-4a0e-b75a-1e1b7dc629aa",
   "metadata": {},
   "outputs": [],
   "source": [
    "test_split.to_csv('test_split.csv')"
   ]
  },
  {
   "cell_type": "markdown",
   "id": "cd9c06b6-d095-46a3-b66c-dc1b182ee25a",
   "metadata": {},
   "source": [
    "#### 12.2 concat & union"
   ]
  },
  {
   "cell_type": "markdown",
   "id": "9ba94412-3c96-46de-834e-b005bc50b792",
   "metadata": {
    "tags": []
   },
   "source": [
    "##### 12.2.1 description_concat1"
   ]
  },
  {
   "cell_type": "code",
   "execution_count": 14,
   "id": "319ce3bf-7bb0-48de-bc16-08318f21a611",
   "metadata": {},
   "outputs": [
    {
     "data": {
      "text/html": [
       "<div>\n",
       "<style scoped>\n",
       "    .dataframe tbody tr th:only-of-type {\n",
       "        vertical-align: middle;\n",
       "    }\n",
       "\n",
       "    .dataframe tbody tr th {\n",
       "        vertical-align: top;\n",
       "    }\n",
       "\n",
       "    .dataframe thead th {\n",
       "        text-align: right;\n",
       "    }\n",
       "</style>\n",
       "<table border=\"1\" class=\"dataframe\">\n",
       "  <thead>\n",
       "    <tr style=\"text-align: right;\">\n",
       "      <th></th>\n",
       "      <th>Description1</th>\n",
       "      <th>Description2</th>\n",
       "      <th>Description3</th>\n",
       "      <th>Description4</th>\n",
       "      <th>Description5</th>\n",
       "    </tr>\n",
       "  </thead>\n",
       "  <tbody>\n",
       "    <tr>\n",
       "      <th>0</th>\n",
       "      <td>After earning 00 status and a licence to kill,...</td>\n",
       "      <td>&lt;NA&gt;</td>\n",
       "      <td>&lt;NA&gt;</td>\n",
       "      <td>&lt;NA&gt;</td>\n",
       "      <td>&lt;NA&gt;</td>\n",
       "    </tr>\n",
       "    <tr>\n",
       "      <th>1</th>\n",
       "      <td>After earning 00 status and a licence to kill,...</td>\n",
       "      <td>&lt;NA&gt;</td>\n",
       "      <td>&lt;NA&gt;</td>\n",
       "      <td>&lt;NA&gt;</td>\n",
       "      <td>&lt;NA&gt;</td>\n",
       "    </tr>\n",
       "    <tr>\n",
       "      <th>2</th>\n",
       "      <td>James Bond's loyalty to M is tested when her p...</td>\n",
       "      <td>&lt;NA&gt;</td>\n",
       "      <td>&lt;NA&gt;</td>\n",
       "      <td>&lt;NA&gt;</td>\n",
       "      <td>&lt;NA&gt;</td>\n",
       "    </tr>\n",
       "    <tr>\n",
       "      <th>3</th>\n",
       "      <td>Viago, Deacon and Vladislav are vampires who a...</td>\n",
       "      <td>&lt;NA&gt;</td>\n",
       "      <td>&lt;NA&gt;</td>\n",
       "      <td>&lt;NA&gt;</td>\n",
       "      <td>&lt;NA&gt;</td>\n",
       "    </tr>\n",
       "    <tr>\n",
       "      <th>4</th>\n",
       "      <td>Viago, Deacon and Vladislav are vampires who a...</td>\n",
       "      <td>&lt;NA&gt;</td>\n",
       "      <td>&lt;NA&gt;</td>\n",
       "      <td>&lt;NA&gt;</td>\n",
       "      <td>&lt;NA&gt;</td>\n",
       "    </tr>\n",
       "    <tr>\n",
       "      <th>...</th>\n",
       "      <td>...</td>\n",
       "      <td>...</td>\n",
       "      <td>...</td>\n",
       "      <td>...</td>\n",
       "      <td>...</td>\n",
       "    </tr>\n",
       "    <tr>\n",
       "      <th>5798</th>\n",
       "      <td>&lt;NA&gt;</td>\n",
       "      <td>&lt;NA&gt;</td>\n",
       "      <td>&lt;NA&gt;</td>\n",
       "      <td>&lt;NA&gt;</td>\n",
       "      <td>A case of mistaken identity lands Slevin into ...</td>\n",
       "    </tr>\n",
       "    <tr>\n",
       "      <th>5799</th>\n",
       "      <td>&lt;NA&gt;</td>\n",
       "      <td>&lt;NA&gt;</td>\n",
       "      <td>&lt;NA&gt;</td>\n",
       "      <td>&lt;NA&gt;</td>\n",
       "      <td>In a murder trial, the defendant says he suffe...</td>\n",
       "    </tr>\n",
       "    <tr>\n",
       "      <th>5800</th>\n",
       "      <td>&lt;NA&gt;</td>\n",
       "      <td>&lt;NA&gt;</td>\n",
       "      <td>&lt;NA&gt;</td>\n",
       "      <td>&lt;NA&gt;</td>\n",
       "      <td>A widowed single mother, raising her violent s...</td>\n",
       "    </tr>\n",
       "    <tr>\n",
       "      <th>5801</th>\n",
       "      <td>&lt;NA&gt;</td>\n",
       "      <td>&lt;NA&gt;</td>\n",
       "      <td>&lt;NA&gt;</td>\n",
       "      <td>&lt;NA&gt;</td>\n",
       "      <td>A disgraced ex-policeman who runs a small ring...</td>\n",
       "    </tr>\n",
       "    <tr>\n",
       "      <th>5802</th>\n",
       "      <td>&lt;NA&gt;</td>\n",
       "      <td>&lt;NA&gt;</td>\n",
       "      <td>&lt;NA&gt;</td>\n",
       "      <td>&lt;NA&gt;</td>\n",
       "      <td>An insurance representative lets himself be ta...</td>\n",
       "    </tr>\n",
       "  </tbody>\n",
       "</table>\n",
       "<p>5803 rows × 5 columns</p>\n",
       "</div>"
      ],
      "text/plain": [
       "                                           Description1 Description2  \\\n",
       "0     After earning 00 status and a licence to kill,...         <NA>   \n",
       "1     After earning 00 status and a licence to kill,...         <NA>   \n",
       "2     James Bond's loyalty to M is tested when her p...         <NA>   \n",
       "3     Viago, Deacon and Vladislav are vampires who a...         <NA>   \n",
       "4     Viago, Deacon and Vladislav are vampires who a...         <NA>   \n",
       "...                                                 ...          ...   \n",
       "5798                                               <NA>         <NA>   \n",
       "5799                                               <NA>         <NA>   \n",
       "5800                                               <NA>         <NA>   \n",
       "5801                                               <NA>         <NA>   \n",
       "5802                                               <NA>         <NA>   \n",
       "\n",
       "     Description3 Description4  \\\n",
       "0            <NA>         <NA>   \n",
       "1            <NA>         <NA>   \n",
       "2            <NA>         <NA>   \n",
       "3            <NA>         <NA>   \n",
       "4            <NA>         <NA>   \n",
       "...           ...          ...   \n",
       "5798         <NA>         <NA>   \n",
       "5799         <NA>         <NA>   \n",
       "5800         <NA>         <NA>   \n",
       "5801         <NA>         <NA>   \n",
       "5802         <NA>         <NA>   \n",
       "\n",
       "                                           Description5  \n",
       "0                                                  <NA>  \n",
       "1                                                  <NA>  \n",
       "2                                                  <NA>  \n",
       "3                                                  <NA>  \n",
       "4                                                  <NA>  \n",
       "...                                                 ...  \n",
       "5798  A case of mistaken identity lands Slevin into ...  \n",
       "5799  In a murder trial, the defendant says he suffe...  \n",
       "5800  A widowed single mother, raising her violent s...  \n",
       "5801  A disgraced ex-policeman who runs a small ring...  \n",
       "5802  An insurance representative lets himself be ta...  \n",
       "\n",
       "[5803 rows x 5 columns]"
      ]
     },
     "execution_count": 14,
     "metadata": {},
     "output_type": "execute_result"
    }
   ],
   "source": [
    "description_concat1 = pd.concat([movies_changes3.Description1,movies_changes3.Description2,\n",
    "                                 movies_changes3.Description3, movies_changes3.Description4,\n",
    "                                 movies_changes3.Description5], axis=1)\n",
    "description_concat1"
   ]
  },
  {
   "cell_type": "code",
   "execution_count": 16,
   "id": "308203a6-4abc-4068-a243-4b5a5fb8722f",
   "metadata": {},
   "outputs": [
    {
     "data": {
      "text/html": [
       "<div>\n",
       "<style scoped>\n",
       "    .dataframe tbody tr th:only-of-type {\n",
       "        vertical-align: middle;\n",
       "    }\n",
       "\n",
       "    .dataframe tbody tr th {\n",
       "        vertical-align: top;\n",
       "    }\n",
       "\n",
       "    .dataframe thead th {\n",
       "        text-align: right;\n",
       "    }\n",
       "</style>\n",
       "<table border=\"1\" class=\"dataframe\">\n",
       "  <thead>\n",
       "    <tr style=\"text-align: right;\">\n",
       "      <th></th>\n",
       "      <th>Description1</th>\n",
       "      <th>Description2</th>\n",
       "      <th>Description3</th>\n",
       "      <th>Description4</th>\n",
       "      <th>Description5</th>\n",
       "    </tr>\n",
       "  </thead>\n",
       "  <tbody>\n",
       "    <tr>\n",
       "      <th>0</th>\n",
       "      <td>After earning 00 status and a licence to kill,...</td>\n",
       "      <td>empty</td>\n",
       "      <td>empty</td>\n",
       "      <td>empty</td>\n",
       "      <td>empty</td>\n",
       "    </tr>\n",
       "    <tr>\n",
       "      <th>1</th>\n",
       "      <td>After earning 00 status and a licence to kill,...</td>\n",
       "      <td>empty</td>\n",
       "      <td>empty</td>\n",
       "      <td>empty</td>\n",
       "      <td>empty</td>\n",
       "    </tr>\n",
       "    <tr>\n",
       "      <th>2</th>\n",
       "      <td>James Bond's loyalty to M is tested when her p...</td>\n",
       "      <td>empty</td>\n",
       "      <td>empty</td>\n",
       "      <td>empty</td>\n",
       "      <td>empty</td>\n",
       "    </tr>\n",
       "    <tr>\n",
       "      <th>3</th>\n",
       "      <td>Viago, Deacon and Vladislav are vampires who a...</td>\n",
       "      <td>empty</td>\n",
       "      <td>empty</td>\n",
       "      <td>empty</td>\n",
       "      <td>empty</td>\n",
       "    </tr>\n",
       "    <tr>\n",
       "      <th>4</th>\n",
       "      <td>Viago, Deacon and Vladislav are vampires who a...</td>\n",
       "      <td>empty</td>\n",
       "      <td>empty</td>\n",
       "      <td>empty</td>\n",
       "      <td>empty</td>\n",
       "    </tr>\n",
       "    <tr>\n",
       "      <th>...</th>\n",
       "      <td>...</td>\n",
       "      <td>...</td>\n",
       "      <td>...</td>\n",
       "      <td>...</td>\n",
       "      <td>...</td>\n",
       "    </tr>\n",
       "    <tr>\n",
       "      <th>5798</th>\n",
       "      <td>empty</td>\n",
       "      <td>empty</td>\n",
       "      <td>empty</td>\n",
       "      <td>empty</td>\n",
       "      <td>A case of mistaken identity lands Slevin into ...</td>\n",
       "    </tr>\n",
       "    <tr>\n",
       "      <th>5799</th>\n",
       "      <td>empty</td>\n",
       "      <td>empty</td>\n",
       "      <td>empty</td>\n",
       "      <td>empty</td>\n",
       "      <td>In a murder trial, the defendant says he suffe...</td>\n",
       "    </tr>\n",
       "    <tr>\n",
       "      <th>5800</th>\n",
       "      <td>empty</td>\n",
       "      <td>empty</td>\n",
       "      <td>empty</td>\n",
       "      <td>empty</td>\n",
       "      <td>A widowed single mother, raising her violent s...</td>\n",
       "    </tr>\n",
       "    <tr>\n",
       "      <th>5801</th>\n",
       "      <td>empty</td>\n",
       "      <td>empty</td>\n",
       "      <td>empty</td>\n",
       "      <td>empty</td>\n",
       "      <td>A disgraced ex-policeman who runs a small ring...</td>\n",
       "    </tr>\n",
       "    <tr>\n",
       "      <th>5802</th>\n",
       "      <td>empty</td>\n",
       "      <td>empty</td>\n",
       "      <td>empty</td>\n",
       "      <td>empty</td>\n",
       "      <td>An insurance representative lets himself be ta...</td>\n",
       "    </tr>\n",
       "  </tbody>\n",
       "</table>\n",
       "<p>5803 rows × 5 columns</p>\n",
       "</div>"
      ],
      "text/plain": [
       "                                           Description1 Description2  \\\n",
       "0     After earning 00 status and a licence to kill,...        empty   \n",
       "1     After earning 00 status and a licence to kill,...        empty   \n",
       "2     James Bond's loyalty to M is tested when her p...        empty   \n",
       "3     Viago, Deacon and Vladislav are vampires who a...        empty   \n",
       "4     Viago, Deacon and Vladislav are vampires who a...        empty   \n",
       "...                                                 ...          ...   \n",
       "5798                                              empty        empty   \n",
       "5799                                              empty        empty   \n",
       "5800                                              empty        empty   \n",
       "5801                                              empty        empty   \n",
       "5802                                              empty        empty   \n",
       "\n",
       "     Description3 Description4  \\\n",
       "0           empty        empty   \n",
       "1           empty        empty   \n",
       "2           empty        empty   \n",
       "3           empty        empty   \n",
       "4           empty        empty   \n",
       "...           ...          ...   \n",
       "5798        empty        empty   \n",
       "5799        empty        empty   \n",
       "5800        empty        empty   \n",
       "5801        empty        empty   \n",
       "5802        empty        empty   \n",
       "\n",
       "                                           Description5  \n",
       "0                                                 empty  \n",
       "1                                                 empty  \n",
       "2                                                 empty  \n",
       "3                                                 empty  \n",
       "4                                                 empty  \n",
       "...                                                 ...  \n",
       "5798  A case of mistaken identity lands Slevin into ...  \n",
       "5799  In a murder trial, the defendant says he suffe...  \n",
       "5800  A widowed single mother, raising her violent s...  \n",
       "5801  A disgraced ex-policeman who runs a small ring...  \n",
       "5802  An insurance representative lets himself be ta...  \n",
       "\n",
       "[5803 rows x 5 columns]"
      ]
     },
     "execution_count": 16,
     "metadata": {},
     "output_type": "execute_result"
    }
   ],
   "source": [
    "description_concat1.fillna('empty', inplace=True)\n",
    "description_concat1"
   ]
  },
  {
   "cell_type": "markdown",
   "id": "33123202-3543-4e1d-a199-4fe33025bc97",
   "metadata": {
    "tags": []
   },
   "source": [
    "##### 12.2.2 certificate_union1"
   ]
  },
  {
   "cell_type": "code",
   "execution_count": 17,
   "id": "0c3869e6-3e33-47af-b452-9a08b62c28f2",
   "metadata": {},
   "outputs": [
    {
     "data": {
      "text/plain": [
       "0       After earning 00 status and a licence to kill,...\n",
       "1       After earning 00 status and a licence to kill,...\n",
       "2       007 must track down and destroy the threat, Ja...\n",
       "3       Deacon and Vladislav are vampires who are find...\n",
       "4       Deacon and Vladislav are vampires who are find...\n",
       "                              ...                        \n",
       "5798    A case of mistaken identity lands Slevin into ...\n",
       "5799    In a murder trial, and will he win his case?, ...\n",
       "5800    A widowed single mother, finds new hope when a...\n",
       "5801    A disgraced ex-policeman who runs a small ring...\n",
       "5802    An insurance representative lets himself be ta...\n",
       "Name: description_union1, Length: 5803, dtype: object"
      ]
     },
     "execution_count": 17,
     "metadata": {},
     "output_type": "execute_result"
    }
   ],
   "source": [
    "description_concat1[\"description_union1\"] = (\n",
    "    description_concat1[['Description1', 'Description2', 'Description3', 'Description4', 'Description5']]\n",
    "        .apply(lambda x: x.str.split(',\\s*'))\n",
    "        .sum(axis=1).map(np.array)\n",
    "        .apply(lambda x: ', '.join(np.unique(x[x != 'empty'])))        \n",
    "        .replace('', 'empty')\n",
    "    )\n",
    "description_concat1.description_union1"
   ]
  },
  {
   "cell_type": "markdown",
   "id": "94efb426-43e5-4f90-9c3f-44c8822cb590",
   "metadata": {
    "tags": []
   },
   "source": [
    "#### 12.3 split description_concat1.description_union1"
   ]
  },
  {
   "cell_type": "code",
   "execution_count": 26,
   "id": "66304269-792d-41ba-b257-6640a2939a4f",
   "metadata": {},
   "outputs": [
    {
     "ename": "SyntaxError",
     "evalue": "EOF while scanning triple-quoted string literal (3377800257.py, line 4)",
     "output_type": "error",
     "traceback": [
      "\u001b[1;36m  Cell \u001b[1;32mIn [26], line 4\u001b[1;36m\u001b[0m\n\u001b[1;33m    d_split\u001b[0m\n\u001b[1;37m           \n^\u001b[0m\n\u001b[1;31mSyntaxError\u001b[0m\u001b[1;31m:\u001b[0m EOF while scanning triple-quoted string literal\n"
     ]
    }
   ],
   "source": [
    "d_split = description_concat1[['description_union1']].copy()\n",
    "d_split[['Description_1', 'Description_2', 'Description_3', 'Description_4']] = d_split['description_union1'].str.split(''', expand=True)\n",
    "d_split= d_split.drop(['description_union1'], axis=1)\n",
    "d_split"
   ]
  },
  {
   "cell_type": "code",
   "execution_count": null,
   "id": "6b2a331c-f0dd-4444-aaf6-bd62cf1072b4",
   "metadata": {},
   "outputs": [],
   "source": []
  }
 ],
 "metadata": {
  "kernelspec": {
   "display_name": "Python 3 (ipykernel)",
   "language": "python",
   "name": "python3"
  },
  "language_info": {
   "codemirror_mode": {
    "name": "ipython",
    "version": 3
   },
   "file_extension": ".py",
   "mimetype": "text/x-python",
   "name": "python",
   "nbconvert_exporter": "python",
   "pygments_lexer": "ipython3",
   "version": "3.8.3"
  }
 },
 "nbformat": 4,
 "nbformat_minor": 5
}
