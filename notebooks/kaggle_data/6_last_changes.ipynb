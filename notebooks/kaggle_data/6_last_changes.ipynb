{
 "cells": [
  {
   "cell_type": "code",
   "execution_count": 1,
   "id": "6013f5ac-f7e5-4e52-9790-a2e01cd858f1",
   "metadata": {},
   "outputs": [],
   "source": [
    "import pandas as pd\n",
    "import numpy as np"
   ]
  },
  {
   "cell_type": "code",
   "execution_count": 2,
   "id": "4c64cd2c-4fca-4dbe-b387-d430750af1d5",
   "metadata": {},
   "outputs": [],
   "source": [
    "movies_changes4= pd.read_csv(\"movies_changes4.csv\")"
   ]
  },
  {
   "cell_type": "code",
   "execution_count": 3,
   "id": "72f72362-67b5-49e1-b34e-08f33871ee18",
   "metadata": {},
   "outputs": [
    {
     "data": {
      "text/plain": [
       "Index(['Unnamed: 0', 'Name', 'Year', 'Rating', 'Votes', 'Runtime', 'Type',\n",
       "       'Episodes', 'Nudity', 'Violence', 'Profanity', 'Alcohol', 'Frightening',\n",
       "       'Metascore', 'Gross', 'Director', 'Language', 'Average_Votes',\n",
       "       'Premiere', 'Poster_Link', 'Genre_1', 'Genres_2', 'Genre_3', 'Genre_4',\n",
       "       'Genre_5', 'Genre_6', 'Actor_1', 'Actor_2', 'Actor_3', 'Actor_4',\n",
       "       'Certificate_1', 'Certificate_2', 'Description'],\n",
       "      dtype='object')"
      ]
     },
     "execution_count": 3,
     "metadata": {},
     "output_type": "execute_result"
    }
   ],
   "source": [
    "movies_changes4.columns"
   ]
  },
  {
   "cell_type": "code",
   "execution_count": 4,
   "id": "31189e22-40db-435a-948a-b38469aec871",
   "metadata": {},
   "outputs": [
    {
     "data": {
      "text/plain": [
       "Unnamed: 0         int64\n",
       "Name              object\n",
       "Year               int64\n",
       "Rating           float64\n",
       "Votes              int64\n",
       "Runtime            int64\n",
       "Type              object\n",
       "Episodes          object\n",
       "Nudity            object\n",
       "Violence          object\n",
       "Profanity         object\n",
       "Alcohol           object\n",
       "Frightening       object\n",
       "Metascore        float64\n",
       "Gross            float64\n",
       "Director          object\n",
       "Language          object\n",
       "Average_Votes    float64\n",
       "Premiere          object\n",
       "Poster_Link       object\n",
       "Genre_1           object\n",
       "Genres_2          object\n",
       "Genre_3           object\n",
       "Genre_4           object\n",
       "Genre_5           object\n",
       "Genre_6           object\n",
       "Actor_1           object\n",
       "Actor_2           object\n",
       "Actor_3           object\n",
       "Actor_4           object\n",
       "Certificate_1     object\n",
       "Certificate_2     object\n",
       "Description       object\n",
       "dtype: object"
      ]
     },
     "execution_count": 4,
     "metadata": {},
     "output_type": "execute_result"
    }
   ],
   "source": [
    "movies_changes4.dtypes"
   ]
  },
  {
   "cell_type": "code",
   "execution_count": 5,
   "id": "5fa25398-1869-4536-9ffc-06f9501fd67d",
   "metadata": {},
   "outputs": [
    {
     "data": {
      "text/plain": [
       "Index(['Unnamed: 0', 'Name', 'Year', 'Rating', 'Votes', 'Runtime', 'Type',\n",
       "       'Episodes', 'Nudity', 'Violence', 'Profanity', 'Alcohol', 'Frightening',\n",
       "       'Metascore', 'Gross', 'Director', 'Language', 'Average_Votes',\n",
       "       'Premiere', 'Poster_Link', 'Genre_1', 'Genres_2', 'Genre_3', 'Genre_4',\n",
       "       'Genre_5', 'Genre_6', 'Actor_1', 'Actor_2', 'Actor_3', 'Actor_4',\n",
       "       'Certificate_1', 'Certificate_2', 'Description'],\n",
       "      dtype='object')"
      ]
     },
     "execution_count": 5,
     "metadata": {},
     "output_type": "execute_result"
    }
   ],
   "source": [
    "movies_changes4.columns          "
   ]
  },
  {
   "cell_type": "code",
   "execution_count": 6,
   "id": "baedddd1-a77c-41b0-b7fa-887d4a316436",
   "metadata": {},
   "outputs": [],
   "source": [
    "cols_to_str = ['Certificate_1', 'Certificate_2', 'Description',\n",
    "               'Actor_1', 'Actor_2', 'Actor_3', 'Actor_4',\n",
    "               'Genre_1', 'Genres_2', 'Genre_3', 'Genre_4', 'Genre_5', 'Genre_6',\n",
    "               'Nudity', 'Violence', 'Profanity', 'Alcohol', 'Frightening',\n",
    "               'Name', 'Type', 'Director']"
   ]
  },
  {
   "cell_type": "code",
   "execution_count": 7,
   "id": "b3b3ce8e-bb47-4c3c-93cd-98bfe4925faa",
   "metadata": {},
   "outputs": [],
   "source": [
    "movies_changes4[cols_to_str] = movies_changes4[cols_to_str].astype(\"string\")"
   ]
  },
  {
   "cell_type": "code",
   "execution_count": 8,
   "id": "9db1283b-e669-4432-84b6-6ef725a61b5e",
   "metadata": {},
   "outputs": [
    {
     "data": {
      "text/plain": [
       "array(['-', '31', '41', '27', '17', '80', '44', '20', '161', '21', '70',\n",
       "       '55', '25', '120', '47', '146', '23', '94', '15', '88', '96', '40',\n",
       "       '34', '91', '1230', '10', '102', '22', '74', '97', '29', '124',\n",
       "       '13', '59', '52', '75', '87', '76', '89', '134', '139', '35', '64',\n",
       "       '165', '217', '126', '8', '145', '100', '65', '12', '39', '36',\n",
       "       '19', '108', '26', '46', '110', '30', '84', '251', '49', '18',\n",
       "       '133', '62', '194', '154', '9', '60', '111', '90', '72', '609',\n",
       "       '103', '37', '3', '254', '33', '11', '67', '112', '119', '171',\n",
       "       '274', '172', '61', '114', '16', '5', '101', '32', '118', '107',\n",
       "       '6'], dtype=object)"
      ]
     },
     "execution_count": 8,
     "metadata": {},
     "output_type": "execute_result"
    }
   ],
   "source": [
    "movies_changes4.Episodes.unique()"
   ]
  },
  {
   "cell_type": "code",
   "execution_count": 9,
   "id": "a5d7fa18-c1bf-4cfc-ba8a-cb6ab1aeaa95",
   "metadata": {},
   "outputs": [
    {
     "data": {
      "text/plain": [
       "dtype('float64')"
      ]
     },
     "execution_count": 9,
     "metadata": {},
     "output_type": "execute_result"
    }
   ],
   "source": [
    "movies_changes4.Episodes = movies_changes4['Episodes'].str.replace('-', '')\n",
    "movies_changes4.Episodes = pd.to_numeric(movies_changes4.Episodes)\n",
    "movies_changes4.Episodes.dtypes"
   ]
  },
  {
   "cell_type": "code",
   "execution_count": 10,
   "id": "9b05a76a-96e0-4b1a-9449-470c9b9f7742",
   "metadata": {},
   "outputs": [
    {
     "data": {
      "text/plain": [
       "array([nan, 'English', 'Danish', 'Polish', 'Swedish', 'Japanese',\n",
       "       'French', 'Korean', 'Russian', 'Arabic', 'Italian', 'Spanish',\n",
       "       'German', 'Hindi', 'Norwegian ', 'Thai', 'cn', 'Tamil',\n",
       "       'English/Japanese', 'English/Korean', 'English/Akan'], dtype=object)"
      ]
     },
     "execution_count": 10,
     "metadata": {},
     "output_type": "execute_result"
    }
   ],
   "source": [
    "movies_changes4.Language.unique()\n"
   ]
  },
  {
   "cell_type": "code",
   "execution_count": null,
   "id": "f0c9f40b-3c34-4a24-b15e-4e4caf54e502",
   "metadata": {},
   "outputs": [],
   "source": []
  },
  {
   "cell_type": "code",
   "execution_count": 11,
   "id": "d4cd8b76-cb55-40e6-8a91-26f65568c2a8",
   "metadata": {},
   "outputs": [],
   "source": [
    "movies_changes4.Language = movies_changes4['Language'].str.replace('cn', 'Chinese')\n",
    "movies_changes4.Language = movies_changes4['Language'].str.replace('/', ',')\n",
    "movies_changes4['Language'] = movies_changes4['Language'].astype(\"string\")"
   ]
  },
  {
   "cell_type": "code",
   "execution_count": 12,
   "id": "2a0b2f9b-5057-4a1a-aafe-f73d25b12ff6",
   "metadata": {},
   "outputs": [
    {
     "data": {
      "text/plain": [
       "Index(['Unnamed: 0', 'Name', 'Year', 'Rating', 'Votes', 'Runtime', 'Type',\n",
       "       'Episodes', 'Nudity', 'Violence', 'Profanity', 'Alcohol', 'Frightening',\n",
       "       'Metascore', 'Gross', 'Director', 'Average_Votes', 'Premiere',\n",
       "       'Poster_Link', 'Genre_1', 'Genres_2', 'Genre_3', 'Genre_4', 'Genre_5',\n",
       "       'Genre_6', 'Actor_1', 'Actor_2', 'Actor_3', 'Actor_4', 'Certificate_1',\n",
       "       'Certificate_2', 'Description', 'Language1', 'Language2'],\n",
       "      dtype='object')"
      ]
     },
     "execution_count": 12,
     "metadata": {},
     "output_type": "execute_result"
    }
   ],
   "source": [
    "movies_changes4[['Language1', 'Language2']] = movies_changes4['Language'].str.split(',', expand=True)\n",
    "movies_changes4= movies_changes4.drop(['Language'], axis=1)\n",
    "movies_changes4.columns"
   ]
  },
  {
   "cell_type": "code",
   "execution_count": 13,
   "id": "5ac2e921-5315-40cb-9839-bfd60fb0cf06",
   "metadata": {},
   "outputs": [],
   "source": [
    "movies_changes4= movies_changes4.drop(['Average_Votes'], axis=1)\n"
   ]
  },
  {
   "cell_type": "code",
   "execution_count": 14,
   "id": "150b191d-a407-4740-8251-b5d23ab2d715",
   "metadata": {},
   "outputs": [],
   "source": [
    "movies_changes4 = movies_changes4.dropna(subset=['Description'])"
   ]
  },
  {
   "cell_type": "code",
   "execution_count": 15,
   "id": "7b7e813f-6a4b-49cd-b8fc-cac236e96220",
   "metadata": {},
   "outputs": [],
   "source": [
    "movies_changes4 = movies_changes4.drop_duplicates(subset=['Name', 'Type', 'Description'], inplace=False)"
   ]
  },
  {
   "cell_type": "code",
   "execution_count": 19,
   "id": "8f1e5749-28b5-46cd-9a9f-aa982a20ea2e",
   "metadata": {},
   "outputs": [],
   "source": [
    "movies_changes4.to_csv('movies_changes5.csv', index = False)"
   ]
  },
  {
   "cell_type": "code",
   "execution_count": 20,
   "id": "8926d86f-43ac-4409-b932-4eafe477457f",
   "metadata": {},
   "outputs": [
    {
     "ename": "NameError",
     "evalue": "name 'movies_changes5' is not defined",
     "output_type": "error",
     "traceback": [
      "\u001b[1;31m---------------------------------------------------------------------------\u001b[0m",
      "\u001b[1;31mNameError\u001b[0m                                 Traceback (most recent call last)",
      "Cell \u001b[1;32mIn [20], line 1\u001b[0m\n\u001b[1;32m----> 1\u001b[0m \u001b[43mmovies_changes5\u001b[49m\u001b[38;5;241m.\u001b[39mDescription\u001b[38;5;241m.\u001b[39misnull()\u001b[38;5;241m.\u001b[39mvalues\u001b[38;5;241m.\u001b[39many()\n",
      "\u001b[1;31mNameError\u001b[0m: name 'movies_changes5' is not defined"
     ]
    }
   ],
   "source": [
    "movies_changes5.Description.isnull().values.any()"
   ]
  },
  {
   "cell_type": "code",
   "execution_count": 18,
   "id": "3fdf6ede-5490-4409-86bf-4086d159bf13",
   "metadata": {},
   "outputs": [
    {
     "name": "stdout",
     "output_type": "stream",
     "text": [
      "      Unnamed: 0                       Name  Year  Rating   Votes  Runtime  \\\n",
      "0              0              Casino Royale  2006     8.0  613873      144   \n",
      "2              2                    Skyfall  2012     7.8  658977      143   \n",
      "3              3  What We Do in the Shadows  2021     8.5   50078       30   \n",
      "4              4  What We Do in the Shadows  2014     7.7  169214       86   \n",
      "5              5                  Halloween  1978     7.7  248788       91   \n",
      "...          ...                        ...   ...     ...     ...      ...   \n",
      "5789        5789         La grande bellezza  2013     7.8   84781      141   \n",
      "5790        5790             Bound by Honor  1993     8.0   30071      180   \n",
      "5792        5792                  Zwartboek  2006     7.7   74825      145   \n",
      "5794        5794              Belle de jour  1967     7.7   42495      100   \n",
      "5801        5801                 Chugyeokja  2008     7.8   62423      125   \n",
      "\n",
      "        Type  Episodes    Nudity  Violence  ... Genre_6            Actor_1  \\\n",
      "0       Film       NaN      Mild  Moderate  ...    <NA>               <NA>   \n",
      "2       Film       NaN      Mild  Moderate  ...    <NA>               <NA>   \n",
      "3     Series      31.0  Moderate  Moderate  ...    <NA>               <NA>   \n",
      "4       Film       NaN      Mild  Moderate  ...    <NA>               <NA>   \n",
      "5       Film       NaN  Moderate  Moderate  ...    <NA>               <NA>   \n",
      "...      ...       ...       ...       ...  ...     ...                ...   \n",
      "5789    Film       NaN  Moderate      Mild  ...    <NA>   Carlo Buccirosso   \n",
      "5790    Film       NaN  Moderate    Severe  ...    <NA>     Benjamin Bratt   \n",
      "5792    Film       NaN    Severe    Severe  ...    <NA>  Carice van Houten   \n",
      "5794    Film       NaN  Moderate      Mild  ...    <NA>  Catherine Deneuve   \n",
      "5801    Film       NaN      Mild    Severe  ...    <NA>        Jung-woo Ha   \n",
      "\n",
      "              Actor_2            Actor_3          Actor_4 Certificate_1  \\\n",
      "0                <NA>               <NA>             <NA>         PG-13   \n",
      "2                <NA>               <NA>             <NA>         PG-13   \n",
      "3                <NA>               <NA>             <NA>         TV-MA   \n",
      "4                <NA>               <NA>             <NA>             R   \n",
      "5                <NA>               <NA>             <NA>             R   \n",
      "...               ...                ...              ...           ...   \n",
      "5789    Carlo Verdone    Sabrina Ferilli    Toni Servillo     Not Rated   \n",
      "5790     Damian Chapa   Enrique Castillo    Jesse Borrego             R   \n",
      "5792     Halina Reijn     Sebastian Koch     Thom Hoffman             R   \n",
      "5794   Geneviève Page         Jean Sorel   Michel Piccoli             A   \n",
      "5801    Kim Yoon-seok      Yeong-hie Seo    Yoo-Jeong Kim     Not Rated   \n",
      "\n",
      "     Certificate_2                                        Description  \\\n",
      "0             <NA>  After earning 00 status and a licence to kill,...   \n",
      "2             <NA>  James Bond's loyalty to M is tested when her p...   \n",
      "3             <NA>  Viago, Deacon and Vladislav are vampires who a...   \n",
      "4             <NA>  Viago, Deacon and Vladislav are vampires who a...   \n",
      "5             <NA>  Fifteen years after murdering his sister on Ha...   \n",
      "...            ...                                                ...   \n",
      "5789          <NA>  Jep Gambardella has seduced his way through th...   \n",
      "5790          <NA>  Based on the true life experiences of poet Jim...   \n",
      "5792          <NA>  In the Nazi-occupied Netherlands during World ...   \n",
      "5794             R  A frigid young housewife decides to spend her ...   \n",
      "5801          <NA>  A disgraced ex-policeman who runs a small ring...   \n",
      "\n",
      "     Language1 Language2  \n",
      "0         <NA>      <NA>  \n",
      "2         <NA>      <NA>  \n",
      "3         <NA>      <NA>  \n",
      "4         <NA>      <NA>  \n",
      "5         <NA>      <NA>  \n",
      "...        ...       ...  \n",
      "5789      <NA>      <NA>  \n",
      "5790      <NA>      <NA>  \n",
      "5792      <NA>      <NA>  \n",
      "5794      <NA>      <NA>  \n",
      "5801      <NA>      <NA>  \n",
      "\n",
      "[4273 rows x 33 columns]\n"
     ]
    }
   ],
   "source": [
    "print(movies_changes4)"
   ]
  }
 ],
 "metadata": {
  "kernelspec": {
   "display_name": "Python 3 (ipykernel)",
   "language": "python",
   "name": "python3"
  },
  "language_info": {
   "codemirror_mode": {
    "name": "ipython",
    "version": 3
   },
   "file_extension": ".py",
   "mimetype": "text/x-python",
   "name": "python",
   "nbconvert_exporter": "python",
   "pygments_lexer": "ipython3",
   "version": "3.8.3"
  }
 },
 "nbformat": 4,
 "nbformat_minor": 5
}
