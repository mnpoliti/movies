{
 "cells": [
  {
   "cell_type": "code",
   "execution_count": 1,
   "id": "effee1a3-06e5-4bbb-a5f0-2b1ac8251f00",
   "metadata": {},
   "outputs": [],
   "source": [
    "#set the API key\n",
    "from tmdbv3api import TMDb\n",
    "from tmdbv3api import Movie\n",
    "tmdb = TMDb()\n",
    "movie = Movie()\n",
    "tmdb.api_key = 'c6cd98753f10dc390a8c4a5b4b83d47c'\n",
    "tmdb.language = 'en'\n",
    "tmdb.debug = True"
   ]
  },
  {
   "cell_type": "code",
   "execution_count": 2,
   "id": "d0a034d2-41e9-4a4d-abbf-14b7794162db",
   "metadata": {},
   "outputs": [],
   "source": [
    "import requests\n"
   ]
  },
  {
   "cell_type": "code",
   "execution_count": 3,
   "id": "27649c56-173c-44c9-99fd-c950ca439668",
   "metadata": {},
   "outputs": [],
   "source": [
    "needed_headers = {'User-Agent': \"Mozilla/5.0 (Windows NT 6.3; Win64; x64) AppleWebKit/537.36 (KHTML, like Gecko) Chrome/92.0.4515.131 Safari/537.36\"}\n",
    "response = requests.get(\"https://www.themoviedb.org/tv\", headers = needed_headers)\n"
   ]
  },
  {
   "cell_type": "code",
   "execution_count": 4,
   "id": "a18c6d5e-d916-413a-a81b-a5da0b92c2f2",
   "metadata": {},
   "outputs": [
    {
     "data": {
      "text/plain": [
       "200"
      ]
     },
     "execution_count": 4,
     "metadata": {},
     "output_type": "execute_result"
    }
   ],
   "source": [
    "response.status_code"
   ]
  },
  {
   "cell_type": "code",
   "execution_count": 5,
   "id": "10b45a45-b3ae-4571-908b-006db080a9e4",
   "metadata": {},
   "outputs": [
    {
     "data": {
      "text/plain": [
       "193830"
      ]
     },
     "execution_count": 5,
     "metadata": {},
     "output_type": "execute_result"
    }
   ],
   "source": [
    "dwn_content = response.text\n",
    "len(dwn_content)"
   ]
  },
  {
   "cell_type": "code",
   "execution_count": 10,
   "id": "0a0b4328-5a75-4e75-b7e6-6dfd110b67d8",
   "metadata": {},
   "outputs": [
    {
     "ename": "SyntaxError",
     "evalue": "unexpected character after line continuation character (3556955472.py, line 3)",
     "output_type": "error",
     "traceback": [
      "\u001b[1;36m  Cell \u001b[1;32mIn [11], line 3\u001b[1;36m\u001b[0m\n\u001b[1;33m    \\n  html lang=\"en\" class=\"no-js\"\u001b[0m\n\u001b[1;37m                                    ^\u001b[0m\n\u001b[1;31mSyntaxError\u001b[0m\u001b[1;31m:\u001b[0m unexpected character after line continuation character\n"
     ]
    }
   ],
   "source": [
    "dwn_content[:500]\n",
    "'<!DOCTYPE html>'\n",
    "\\n  <html lang=\"en\" class=\"no-js\">\n",
    "\\n  <head>\n",
    "\\n  <title>Popular TV Shows — The Movie Database (TMDB)</title>\n",
    "\\n  <meta http-equiv=\"X-UA-Compatible\" content=\"IE=edge\" />\n",
    "\\n  <meta http-equiv=\"cleartype\" content=\"on\">\n",
    "\\n  <meta charset=\"utf-8\">\n",
    "\\n  \n",
    "\\n  <meta name=\"keywords\" content=\"Movies, TV Shows, Streaming, Reviews, API, Actors, Actresses, Photos, User Ratings, Synopsis, Trailers, Teasers, Credits, Cast\">\n",
    "\\n  <meta name=\"mobile-web-app-capable\" content=\"yes\">\n",
    "\\n  <meta name=\"'"
   ]
  },
  {
   "cell_type": "code",
   "execution_count": 12,
   "id": "440ea048-2678-43e0-afd3-155ad0289335",
   "metadata": {},
   "outputs": [
    {
     "data": {
      "text/plain": [
       "'<!DOCTYPE html>'"
      ]
     },
     "execution_count": 12,
     "metadata": {},
     "output_type": "execute_result"
    }
   ],
   "source": [
    "dwn_content[:500]\n",
    "'<!DOCTYPE html>'"
   ]
  },
  {
   "cell_type": "code",
   "execution_count": 27,
   "id": "e778901d-c02e-4f69-a079-e3e38a7e90c6",
   "metadata": {},
   "outputs": [
    {
     "ename": "SyntaxError",
     "evalue": "unexpected character after line continuation character (4023631606.py, line 1)",
     "output_type": "error",
     "traceback": [
      "\u001b[1;36m  Cell \u001b[1;32mIn [27], line 1\u001b[1;36m\u001b[0m\n\u001b[1;33m    \\n <html lang=\"en\">\u001b[0m\n\u001b[1;37m                       ^\u001b[0m\n\u001b[1;31mSyntaxError\u001b[0m\u001b[1;31m:\u001b[0m unexpected character after line continuation character\n"
     ]
    }
   ],
   "source": [
    "\\n <html lang=\"en\">\n"
   ]
  },
  {
   "cell_type": "code",
   "execution_count": null,
   "id": "ba7b2f98-3d02-4a7d-aded-edd2faff4653",
   "metadata": {},
   "outputs": [],
   "source": []
  },
  {
   "cell_type": "code",
   "execution_count": null,
   "id": "4f5554a4-dab8-4aaf-b229-857d8c847884",
   "metadata": {},
   "outputs": [],
   "source": []
  },
  {
   "cell_type": "code",
   "execution_count": null,
   "id": "68bffde9-01cf-4544-9832-5d12a22d7c55",
   "metadata": {},
   "outputs": [],
   "source": []
  },
  {
   "cell_type": "code",
   "execution_count": null,
   "id": "58a6f4e4-b8f1-40fa-905a-6024986a1a89",
   "metadata": {},
   "outputs": [],
   "source": []
  },
  {
   "cell_type": "code",
   "execution_count": null,
   "id": "51a697ac-62a3-4f37-b0d7-563dbffcdb24",
   "metadata": {},
   "outputs": [],
   "source": []
  },
  {
   "cell_type": "code",
   "execution_count": null,
   "id": "3328d214-6874-4604-8b1d-cc38d0a021ba",
   "metadata": {},
   "outputs": [],
   "source": []
  },
  {
   "cell_type": "code",
   "execution_count": null,
   "id": "a616f23b-3c5a-4951-b373-bb7e4de46af4",
   "metadata": {},
   "outputs": [],
   "source": []
  },
  {
   "cell_type": "code",
   "execution_count": null,
   "id": "4d03a48a-e4c2-46cc-95db-8fa26cc993e4",
   "metadata": {},
   "outputs": [],
   "source": []
  }
 ],
 "metadata": {
  "kernelspec": {
   "display_name": "Python 3 (ipykernel)",
   "language": "python",
   "name": "python3"
  },
  "language_info": {
   "codemirror_mode": {
    "name": "ipython",
    "version": 3
   },
   "file_extension": ".py",
   "mimetype": "text/x-python",
   "name": "python",
   "nbconvert_exporter": "python",
   "pygments_lexer": "ipython3",
   "version": "3.8.3"
  }
 },
 "nbformat": 4,
 "nbformat_minor": 5
}
