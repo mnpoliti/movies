{
 "cells": [
  {
   "cell_type": "code",
   "execution_count": 1,
   "id": "effee1a3-06e5-4bbb-a5f0-2b1ac8251f00",
   "metadata": {},
   "outputs": [],
   "source": [
    "#set the API key\n",
    "from tmdbv3api import TMDb\n",
    "from tmdbv3api import Movie\n",
    "from bs4 import BeautifulSoup\n",
    "tmdb = TMDb()\n",
    "movie = Movie()\n",
    "tmdb.api_key = 'c6cd98753f10dc390a8c4a5b4b83d47c'\n",
    "tmdb.language = 'en'\n",
    "tmdb.debug = True"
   ]
  },
  {
   "cell_type": "markdown",
   "id": "1ca766fc-171c-48cf-97b7-89600befb50c",
   "metadata": {},
   "source": [
    "### Download the webpage using “requests”"
   ]
  },
  {
   "cell_type": "code",
   "execution_count": 2,
   "id": "d0a034d2-41e9-4a4d-abbf-14b7794162db",
   "metadata": {},
   "outputs": [],
   "source": [
    "import requests\n"
   ]
  },
  {
   "cell_type": "code",
   "execution_count": 3,
   "id": "27649c56-173c-44c9-99fd-c950ca439668",
   "metadata": {},
   "outputs": [],
   "source": [
    "needed_headers = {'User-Agent': \"Mozilla/5.0 (Windows NT 6.3; Win64; x64) AppleWebKit/537.36 (KHTML, like Gecko) Chrome/92.0.4515.131 Safari/537.36\"}\n",
    "response = requests.get(\"https://www.themoviedb.org/tv\", headers = needed_headers)\n"
   ]
  },
  {
   "cell_type": "code",
   "execution_count": 4,
   "id": "a18c6d5e-d916-413a-a81b-a5da0b92c2f2",
   "metadata": {},
   "outputs": [
    {
     "data": {
      "text/plain": [
       "200"
      ]
     },
     "execution_count": 4,
     "metadata": {},
     "output_type": "execute_result"
    }
   ],
   "source": [
    "response.status_code\n",
    "##succes between 200-299"
   ]
  },
  {
   "cell_type": "code",
   "execution_count": 5,
   "id": "10b45a45-b3ae-4571-908b-006db080a9e4",
   "metadata": {},
   "outputs": [
    {
     "data": {
      "text/plain": [
       "193920"
      ]
     },
     "execution_count": 5,
     "metadata": {},
     "output_type": "execute_result"
    }
   ],
   "source": [
    "dwn_content = response.text\n",
    "len(dwn_content)"
   ]
  },
  {
   "cell_type": "code",
   "execution_count": 6,
   "id": "0a0b4328-5a75-4e75-b7e6-6dfd110b67d8",
   "metadata": {},
   "outputs": [
    {
     "data": {
      "text/plain": [
       "'<!DOCTYPE html>\\n<html lang=\"en\" class=\"no-js\">\\n  <head>\\n    <title>Popular TV Shows &#8212; The Movie Database (TMDB)</title>\\n    <meta http-equiv=\"X-UA-Compatible\" content=\"IE=edge\" />\\n    <meta http-equiv=\"cleartype\" content=\"on\">\\n    <meta charset=\"utf-8\">\\n    <meta name=\"keywords\" content=\"Movies, TV Shows, Streaming, Reviews, API, Actors, Actresses, Photos, User Ratings, Synopsis, Trailers, Teasers, Credits, Cast\">\\n    <meta name=\"mobile-web-app-capable\" content=\"yes\">\\n    <meta name=\"apple'"
      ]
     },
     "execution_count": 6,
     "metadata": {},
     "output_type": "execute_result"
    }
   ],
   "source": [
    "dwn_content[:500]"
   ]
  },
  {
   "cell_type": "markdown",
   "id": "2239731c-ae0c-4a0c-b6c4-d4edc2fa39c5",
   "metadata": {},
   "source": [
    "### Parse the HTML source code using beautiful soup."
   ]
  },
  {
   "cell_type": "markdown",
   "id": "6b58e970-b47a-4e4f-b6a8-ed5f2ea1a8aa",
   "metadata": {},
   "source": [
    "##### To parse the HTML source code we are going to use BeautifulSoup() function that takes two arguments.\n",
    "\n",
    "###### content of the page.\n",
    "###### ‘html.parser’"
   ]
  },
  {
   "cell_type": "code",
   "execution_count": 7,
   "id": "ba7b2f98-3d02-4a7d-aded-edd2faff4653",
   "metadata": {},
   "outputs": [],
   "source": [
    "test_doc = BeautifulSoup(response.text, 'html.parser')"
   ]
  },
  {
   "cell_type": "code",
   "execution_count": 8,
   "id": "4f5554a4-dab8-4aaf-b229-857d8c847884",
   "metadata": {},
   "outputs": [
    {
     "data": {
      "text/plain": [
       "bs4.BeautifulSoup"
      ]
     },
     "execution_count": 8,
     "metadata": {},
     "output_type": "execute_result"
    }
   ],
   "source": [
    "type(test_doc)"
   ]
  },
  {
   "cell_type": "code",
   "execution_count": 9,
   "id": "68bffde9-01cf-4544-9832-5d12a22d7c55",
   "metadata": {},
   "outputs": [
    {
     "data": {
      "text/plain": [
       "<title>Popular TV Shows — The Movie Database (TMDB)</title>"
      ]
     },
     "execution_count": 9,
     "metadata": {},
     "output_type": "execute_result"
    }
   ],
   "source": [
    "test_doc.find('title')"
   ]
  },
  {
   "cell_type": "code",
   "execution_count": 10,
   "id": "58a6f4e4-b8f1-40fa-905a-6024986a1a89",
   "metadata": {},
   "outputs": [],
   "source": [
    "#download a webpage\n",
    "def get_page_content(url):\n",
    "    # In this case , we are going to give request.get function headers to avoid the Status code Error 403\n",
    "\n",
    "    get_headers = {'User-Agent': \"Mozilla/5.0 (Windows NT 6.3; Win64; x64) AppleWebKit/537.36 (KHTML, like Gecko) Chrome/92.0.4515.131 Safari/537.36\"}\n",
    "    response_page = requests.get(url, headers = get_headers )\n",
    "    # we are going to raise exception here if status code gives any value other than 200.\n",
    "    if not response_page.ok:\n",
    "        raise Exception (\"Failed to request the data. Status Code:- {}\".format(response_page.status_code))\n",
    "    else:\n",
    "        page_content = response_page.text\n",
    "        doc_page = BeautifulSoup(page_content, \"html.parser\")\n",
    "        return doc_page"
   ]
  },
  {
   "cell_type": "code",
   "execution_count": 11,
   "id": "51a697ac-62a3-4f37-b0d7-563dbffcdb24",
   "metadata": {},
   "outputs": [],
   "source": [
    "# execution of the function\n",
    "popular_shows_url = \"https://www.themoviedb.org/tv\"\n",
    "doc = get_page_content(popular_shows_url)"
   ]
  },
  {
   "cell_type": "code",
   "execution_count": 12,
   "id": "3328d214-6874-4604-8b1d-cc38d0a021ba",
   "metadata": {},
   "outputs": [
    {
     "data": {
      "text/plain": [
       "'Popular TV Shows — The Movie Database (TMDB)'"
      ]
     },
     "execution_count": 12,
     "metadata": {},
     "output_type": "execute_result"
    }
   ],
   "source": [
    "#let's try to get the title of the page to check if our function works. \n",
    "\n",
    "doc.title.text"
   ]
  },
  {
   "cell_type": "markdown",
   "id": "d93c0153-af65-4f6c-af34-17899a2a0878",
   "metadata": {},
   "source": [
    "### Extract all the data from the webpages."
   ]
  },
  {
   "cell_type": "markdown",
   "id": "6c555d6b-c369-4ce7-8ab7-0ef74c11614c",
   "metadata": {},
   "source": [
    "##### example "
   ]
  },
  {
   "cell_type": "code",
   "execution_count": 13,
   "id": "a616f23b-3c5a-4951-b373-bb7e4de46af4",
   "metadata": {},
   "outputs": [
    {
     "data": {
      "text/plain": [
       "'Wednesday'"
      ]
     },
     "execution_count": 13,
     "metadata": {},
     "output_type": "execute_result"
    }
   ],
   "source": [
    "# Now that we know the class let's trty to get the title of the first movie. \n",
    "\n",
    "doc.find_all('div', {'class': 'card style_1'})[0].h2.text"
   ]
  },
  {
   "cell_type": "code",
   "execution_count": 14,
   "id": "4d03a48a-e4c2-46cc-95db-8fa26cc993e4",
   "metadata": {},
   "outputs": [
    {
     "data": {
      "text/plain": [
       "'88.0'"
      ]
     },
     "execution_count": 14,
     "metadata": {},
     "output_type": "execute_result"
    }
   ],
   "source": [
    "doc.find_all('div', {'class': 'user_score_chart'})[0]['data-percent']"
   ]
  },
  {
   "cell_type": "code",
   "execution_count": 16,
   "id": "518cfb18-c05b-4059-a1ac-08e5f974c210",
   "metadata": {},
   "outputs": [],
   "source": [
    "def empty_dict():\n",
    "    scraped_dict = {  \n",
    "                    'Title': [],\n",
    "                    'User_rating': [], \n",
    "                    'Release_date':[], \n",
    "                    'Current_season': [],\n",
    "                    'Current_season_Episodes': [], \n",
    "                    'Tagline': [],\n",
    "                    'Genre': [],\n",
    "                    'Cast': []   \n",
    "                    }\n",
    "    return scraped_dict"
   ]
  },
  {
   "cell_type": "markdown",
   "id": "ca8eb436-d715-49c2-a258-96084a60cd56",
   "metadata": {},
   "source": [
    "#### function for the rating"
   ]
  },
  {
   "cell_type": "code",
   "execution_count": 17,
   "id": "7740bd82-b6bd-4815-a643-7e3c5c6f32f7",
   "metadata": {},
   "outputs": [],
   "source": [
    "def user_score_info(tag_user_score, i, scraped_dict):\n",
    "    if tag_user_score[i]['data-percent'] == '0':\n",
    "        scraped_dict['User_rating'].append('Not rated yet')\n",
    "    else:\n",
    "        scraped_dict['User_rating'].append(tag_user_score[i]['data-percent'])"
   ]
  },
  {
   "cell_type": "code",
   "execution_count": 18,
   "id": "361ea092-a3a4-436b-a25f-7276469581e6",
   "metadata": {},
   "outputs": [
    {
     "data": {
      "text/plain": [
       "'/tv/119051'"
      ]
     },
     "execution_count": 18,
     "metadata": {},
     "output_type": "execute_result"
    }
   ],
   "source": [
    "doc.find_all('div', {'class': 'card style_1'})[0].h2.a['href']"
   ]
  },
  {
   "cell_type": "code",
   "execution_count": 19,
   "id": "e763fb08-1101-41e1-9283-a993a49fa0ed",
   "metadata": {},
   "outputs": [],
   "source": [
    "def get_show_info(doc_page):\n",
    "    base_link_1 = \"https://www.themoviedb.org\"\n",
    "    tag_title = tag_premired_date = tag_shows_page = doc_page.find_all('div', {'class': 'card style_1'})\n",
    "    tag_user_score = doc_page.find_all('div', {\"user_score_chart\"}) \n",
    "    \n",
    "    doc_2_list = []\n",
    "    for link in tag_shows_page:\n",
    "        # here we are creating the list of all the individual pages of the shows which will come handy in other functions. \n",
    "        doc_2_list.append(get_page_content(\"https://www.themoviedb.org\" + link.h2.a['href']))\n",
    "       # we are going to have the function to return the list of all the information as elements. \n",
    "    return tag_title, tag_user_score, doc_2_list"
   ]
  },
  {
   "cell_type": "code",
   "execution_count": 20,
   "id": "2eff6b16-6045-4c47-bb63-405b1bc6fb40",
   "metadata": {},
   "outputs": [
    {
     "data": {
      "text/plain": [
       "3"
      ]
     },
     "execution_count": 20,
     "metadata": {},
     "output_type": "execute_result"
    }
   ],
   "source": [
    "# lets see if the function returns the list of the information we tried to get earlier. \n",
    "len(get_show_info(doc))"
   ]
  },
  {
   "cell_type": "code",
   "execution_count": 21,
   "id": "965c8557-4f55-4720-9b15-7fc66c123d28",
   "metadata": {},
   "outputs": [],
   "source": [
    "doc_2 = get_page_content(\"https://www.themoviedb.org/tv/91363\")"
   ]
  },
  {
   "cell_type": "code",
   "execution_count": 22,
   "id": "4277e883-b22f-4e6f-99b2-e02325b50548",
   "metadata": {},
   "outputs": [
    {
     "data": {
      "text/plain": [
       "['Animation', 'Action & Adventure', 'Sci-Fi & Fantasy']"
      ]
     },
     "execution_count": 22,
     "metadata": {},
     "output_type": "execute_result"
    }
   ],
   "source": [
    "tag_genre = doc_2.find('span', {\"class\": \"genres\"})\n",
    "tag_genre_list = tag_genre.find_all('a')\n",
    "\n",
    "check_genre =[]\n",
    "for tag in tag_genre_list:\n",
    "    check_genre.append(tag.text)\n",
    "\n",
    "check_genre"
   ]
  },
  {
   "cell_type": "markdown",
   "id": "37391c4d-0d09-4bfd-be2e-f314420def1a",
   "metadata": {},
   "source": [
    "##### genres"
   ]
  },
  {
   "cell_type": "code",
   "execution_count": 24,
   "id": "dc121043-a59f-4d4f-813c-7f76e1a6e7f2",
   "metadata": {},
   "outputs": [],
   "source": [
    "# lets create a function to get the genres for the show. \n",
    "# i here denotes the element of the list vairable ``doc2_page`` that contains different doc pages. Will come handy later on.\n",
    "def get_genres(doc2_page, i):\n",
    "    genres_tags = doc2_page[i].find('span', {\"class\": \"genres\"}).find_all('a')\n",
    "    check_genre =[]\n",
    "    \n",
    "    for tag in genres_tags:\n",
    "        check_genre.append(tag.text)\n",
    "    return check_genre"
   ]
  },
  {
   "cell_type": "markdown",
   "id": "9094a226-2c8c-49db-ba51-d1400d05b141",
   "metadata": {},
   "source": [
    "##### tagline"
   ]
  },
  {
   "cell_type": "code",
   "execution_count": 25,
   "id": "2119c95c-1c0f-4a45-afc0-2dfe49a38a9b",
   "metadata": {},
   "outputs": [],
   "source": [
    "tag_tagline = doc_2.find('h3',{\"class\": 'tagline'})\n",
    "\n",
    "def tagline_info(doc_2_list, i, scraped_dict):\n",
    "    if doc_2_list[i].find('h3',{\"class\": 'tagline'}):\n",
    "        scraped_dict['Tagline'].append(doc_2_list[i].find('h3',{\"class\": 'tagline'}).text)\n",
    "    else:\n",
    "        scraped_dict['Tagline'].append(\"No Tagline\")"
   ]
  },
  {
   "cell_type": "markdown",
   "id": "9336d57c-cdae-4022-83c0-735849caebf8",
   "metadata": {},
   "source": [
    "##### cast"
   ]
  },
  {
   "cell_type": "markdown",
   "id": "3fea551d-b7c3-4400-9c26-c7c9bff7a5e9",
   "metadata": {},
   "source": [
    "# i here denotes the the element of the list type variable``doc2_page`` that contains different doc pages.\n",
    "\n",
    "def get_show_cast(doc2_page, i):\n",
    "    cast_tags = doc2_page[i].find_all('li', {'class': 'card'})\n",
    "    cast_lis = []\n",
    "    \n",
    "    for t in cast_tags:\n",
    "         cast_lis.append(t.p.text)\n",
    "    \n",
    "    return cast_lis"
   ]
  },
  {
   "cell_type": "markdown",
   "id": "ffef0547-dbcd-4e0a-933c-3e7a74d3479b",
   "metadata": {},
   "source": [
    "##### current season and episodes"
   ]
  },
  {
   "cell_type": "code",
   "execution_count": 28,
   "id": "50a43a97-82cb-4a78-b375-e51b37ff7bcc",
   "metadata": {},
   "outputs": [
    {
     "data": {
      "text/plain": [
       "'Season 1'"
      ]
     },
     "execution_count": 28,
     "metadata": {},
     "output_type": "execute_result"
    }
   ],
   "source": [
    "tag_episodes = doc_2.find_all('div' , {'class': 'flex'})\n",
    "# extracing current season from h2 tag under class flex.\n",
    "tag_episodes[1].h2.text "
   ]
  },
  {
   "cell_type": "code",
   "execution_count": 29,
   "id": "bf4a5bf7-9667-4220-9ca0-5c8fb5f2c1dc",
   "metadata": {},
   "outputs": [
    {
     "name": "stdout",
     "output_type": "stream",
     "text": [
      "9 Episodes\n"
     ]
    },
    {
     "data": {
      "text/plain": [
       "'9 Episodes'"
      ]
     },
     "execution_count": 29,
     "metadata": {},
     "output_type": "execute_result"
    }
   ],
   "source": [
    "print('2021 | 9 Episodes'[7:])\n",
    "\n",
    "tag_episodes[1].h4.text[7:]"
   ]
  },
  {
   "cell_type": "markdown",
   "id": "653c9d04-134a-4089-afe2-ecb86f326506",
   "metadata": {},
   "source": [
    "### Compile extracted information into python lists and dictionaries."
   ]
  },
  {
   "cell_type": "code",
   "execution_count": 30,
   "id": "91edacb5-fae8-47e8-a252-b5127435fd40",
   "metadata": {},
   "outputs": [],
   "source": [
    "import pandas as pd\n",
    "\n",
    "def get_show_details(t_title, t_user_score, docs_2_list):\n",
    "    # excuting a function here that empties the dictionary every time the function is called.\n",
    "    scraped_dict =  empty_dict()\n",
    "    for i in range (0, len(t_title)):\n",
    "        scraped_dict['Title'].append(t_title[i].h2.text)\n",
    "        user_score_info(t_user_score, i, scraped_dict)    \n",
    "        scraped_dict['Release_date'].append(t_title[i].p.text)\n",
    "        scraped_dict['Current_season'].append(docs_2_list[i].find_all('div' , {'class': 'flex'})[1].h2.text)\n",
    "        scraped_dict['Current_season_Episodes'].append(docs_2_list[i].find_all('div' , {'class': 'flex'})[1].h4.text[7:])\n",
    "        tagline_info(docs_2_list, i, scraped_dict)  \n",
    "        scraped_dict['Genre'].append(get_genres(docs_2_list, i))        \n",
    "        scraped_dict['Cast'].append(get_show_cast(docs_2_list, i))\n",
    "        \n",
    "    return pd.DataFrame(scraped_dict)"
   ]
  },
  {
   "cell_type": "code",
   "execution_count": 31,
   "id": "694f5243-0856-4261-aa2c-b14f1e3fc2d3",
   "metadata": {},
   "outputs": [
    {
     "ename": "NameError",
     "evalue": "name 'tag_title_' is not defined",
     "output_type": "error",
     "traceback": [
      "\u001b[1;31m---------------------------------------------------------------------------\u001b[0m",
      "\u001b[1;31mNameError\u001b[0m                                 Traceback (most recent call last)",
      "Cell \u001b[1;32mIn [31], line 3\u001b[0m\n\u001b[0;32m      1\u001b[0m \u001b[38;5;66;03m# Let's excute our function to check if it works. We are going to take a look the data of dataframe.\u001b[39;00m\n\u001b[1;32m----> 3\u001b[0m x \u001b[38;5;241m=\u001b[39m get_show_details(\u001b[43mtag_title_\u001b[49m, tag_user_score_, doc_2_list_)\n\u001b[0;32m      4\u001b[0m x\u001b[38;5;241m.\u001b[39mto_csv(\u001b[38;5;124m'\u001b[39m\u001b[38;5;124mcheck.csv\u001b[39m\u001b[38;5;124m'\u001b[39m)\n\u001b[0;32m      5\u001b[0m pd\u001b[38;5;241m.\u001b[39mread_csv(\u001b[38;5;124m'\u001b[39m\u001b[38;5;124mcheck.csv\u001b[39m\u001b[38;5;124m'\u001b[39m,index_col\u001b[38;5;241m=\u001b[39m[\u001b[38;5;241m0\u001b[39m])\n",
      "\u001b[1;31mNameError\u001b[0m: name 'tag_title_' is not defined"
     ]
    }
   ],
   "source": [
    "# Let's excute our function to check if it works. We are going to take a look the data of dataframe.\n",
    "\n",
    "x = get_show_details(tag_title_, tag_user_score_, doc_2_list_)\n",
    "x.to_csv('check.csv')\n",
    "pd.read_csv('check.csv',index_col=[0])"
   ]
  },
  {
   "cell_type": "markdown",
   "id": "89622586-4c94-415c-9878-892d37b6880a",
   "metadata": {},
   "source": [
    "### Save the extracted information to a CSV file.\n"
   ]
  },
  {
   "cell_type": "code",
   "execution_count": 32,
   "id": "1c5ed3fe-51ae-4c9f-9dc9-c06b95397d5e",
   "metadata": {},
   "outputs": [],
   "source": [
    "import os\n",
    "base_link = \"https://www.themoviedb.org/tv\"\n",
    "\n",
    "# 'i' here means the number of page we want to extract\n",
    "def create_page_df( i, dataframe_list):\n",
    "    os.makedirs('shows-data', exist_ok = True)\n",
    "    next_url = base_link + '?page={}'.format(i)\n",
    "    doc_top = get_page_content(next_url)\n",
    "    name_tag, viewer_score_tag, doc_2_lis = get_show_info(doc_top)\n",
    "    print('scraping page {} :- {}'.format(i, next_url))\n",
    "    dataframe_data = get_show_details(name_tag, viewer_score_tag, doc_2_lis)\n",
    "    dataframe_data.to_csv(\"shows-data/shows-page-{}.csv\".format(i) , index = None)\n",
    "    print(\" ---> a CSV file with name shows-page-{}.csv has been created\".format(i))\n",
    "    dataframe_list.append(dataframe_data)"
   ]
  },
  {
   "cell_type": "code",
   "execution_count": 33,
   "id": "49608a20-9fb7-44e4-9df0-a27cd36acd27",
   "metadata": {},
   "outputs": [
    {
     "name": "stdout",
     "output_type": "stream",
     "text": [
      "scraping page 9 :- https://www.themoviedb.org/tv?page=9\n",
      " ---> a CSV file with name shows-page-9.csv has been created\n"
     ]
    }
   ],
   "source": [
    "test_list = []\n",
    "create_page_df(9 , test_list)"
   ]
  },
  {
   "cell_type": "code",
   "execution_count": 34,
   "id": "6318e13b-264b-4462-b6b8-62418fd36173",
   "metadata": {},
   "outputs": [],
   "source": [
    "import pandas as pd\n",
    "base_link = \"https://www.themoviedb.org/tv\"\n",
    "\n",
    "def scrape_top_200_shows(base_link):\n",
    "    dataframe_list = []\n",
    "    # we are going to keep range up to 11 because we just need up to 200 TV shows for now. \n",
    "    for i in range(1,11):\n",
    "        create_page_df(i, dataframe_list)\n",
    "    # here we are using concat function so that we can merge the each dataframe that we got from the each page.    \n",
    "    total_dataframe = pd.concat(dataframe_list, ignore_index = True)\n",
    "    \n",
    "    # with the simple command of to_csv() we can create a csv file of all the pages we extracted.\n",
    "    csv_complete =  total_dataframe.to_csv('shows-data/Total-dataframe.csv', index= None)\n",
    "    print(\" \\n a CSV file named Total-dataframe.csv with all the scraped shows has been created\")"
   ]
  },
  {
   "cell_type": "code",
   "execution_count": 35,
   "id": "331c0b7e-04a3-4687-a8b3-5d6e771fc920",
   "metadata": {},
   "outputs": [
    {
     "name": "stdout",
     "output_type": "stream",
     "text": [
      "scraping page 1 :- https://www.themoviedb.org/tv?page=1\n",
      " ---> a CSV file with name shows-page-1.csv has been created\n",
      "scraping page 2 :- https://www.themoviedb.org/tv?page=2\n",
      " ---> a CSV file with name shows-page-2.csv has been created\n",
      "scraping page 3 :- https://www.themoviedb.org/tv?page=3\n",
      " ---> a CSV file with name shows-page-3.csv has been created\n",
      "scraping page 4 :- https://www.themoviedb.org/tv?page=4\n",
      " ---> a CSV file with name shows-page-4.csv has been created\n",
      "scraping page 5 :- https://www.themoviedb.org/tv?page=5\n",
      " ---> a CSV file with name shows-page-5.csv has been created\n",
      "scraping page 6 :- https://www.themoviedb.org/tv?page=6\n",
      " ---> a CSV file with name shows-page-6.csv has been created\n",
      "scraping page 7 :- https://www.themoviedb.org/tv?page=7\n",
      " ---> a CSV file with name shows-page-7.csv has been created\n",
      "scraping page 8 :- https://www.themoviedb.org/tv?page=8\n",
      " ---> a CSV file with name shows-page-8.csv has been created\n",
      "scraping page 9 :- https://www.themoviedb.org/tv?page=9\n",
      " ---> a CSV file with name shows-page-9.csv has been created\n",
      "scraping page 10 :- https://www.themoviedb.org/tv?page=10\n",
      " ---> a CSV file with name shows-page-10.csv has been created\n",
      " \n",
      " a CSV file named Total-dataframe.csv with all the scraped shows has been created\n"
     ]
    }
   ],
   "source": [
    "scrape_top_200_shows(base_link)"
   ]
  },
  {
   "cell_type": "code",
   "execution_count": 36,
   "id": "f12566dc-7278-4ffa-ae45-1648ac31321f",
   "metadata": {},
   "outputs": [
    {
     "data": {
      "text/html": [
       "<div>\n",
       "<style scoped>\n",
       "    .dataframe tbody tr th:only-of-type {\n",
       "        vertical-align: middle;\n",
       "    }\n",
       "\n",
       "    .dataframe tbody tr th {\n",
       "        vertical-align: top;\n",
       "    }\n",
       "\n",
       "    .dataframe thead th {\n",
       "        text-align: right;\n",
       "    }\n",
       "</style>\n",
       "<table border=\"1\" class=\"dataframe\">\n",
       "  <thead>\n",
       "    <tr style=\"text-align: right;\">\n",
       "      <th></th>\n",
       "      <th>Title</th>\n",
       "      <th>User_rating</th>\n",
       "      <th>Release_date</th>\n",
       "      <th>Current_season</th>\n",
       "      <th>Current_season_Episodes</th>\n",
       "      <th>Tagline</th>\n",
       "      <th>Genre</th>\n",
       "      <th>Cast</th>\n",
       "    </tr>\n",
       "  </thead>\n",
       "  <tbody>\n",
       "    <tr>\n",
       "      <th>0</th>\n",
       "      <td>Wednesday</td>\n",
       "      <td>88.0</td>\n",
       "      <td>Nov 23, 2022</td>\n",
       "      <td>Season 1</td>\n",
       "      <td>8 Episodes</td>\n",
       "      <td>No Tagline</td>\n",
       "      <td>['Sci-Fi &amp; Fantasy', 'Mystery', 'Comedy']</td>\n",
       "      <td>['Jenna Ortega', 'Emma Myers', 'Joy Sunday', '...</td>\n",
       "    </tr>\n",
       "    <tr>\n",
       "      <th>1</th>\n",
       "      <td>The Street</td>\n",
       "      <td>11.0</td>\n",
       "      <td>Sep 05, 2005</td>\n",
       "      <td>Season 18</td>\n",
       "      <td>47 Episodes</td>\n",
       "      <td>No Tagline</td>\n",
       "      <td>['Drama', 'Comedy']</td>\n",
       "      <td>['Michaela Badinková', 'Tereza Brodská', 'Patr...</td>\n",
       "    </tr>\n",
       "    <tr>\n",
       "      <th>2</th>\n",
       "      <td>Ghum Hai Kisi Ke Pyaar Mein</td>\n",
       "      <td>54.0</td>\n",
       "      <td>Oct 05, 2020</td>\n",
       "      <td>Season 1</td>\n",
       "      <td>711 Episodes</td>\n",
       "      <td>No Tagline</td>\n",
       "      <td>['Drama', 'Soap', 'Family']</td>\n",
       "      <td>['Neil Bhatt', 'Siddharth Bodke', 'Shailesh Da...</td>\n",
       "    </tr>\n",
       "    <tr>\n",
       "      <th>3</th>\n",
       "      <td>Lisa</td>\n",
       "      <td>63.0</td>\n",
       "      <td>Jan 25, 2021</td>\n",
       "      <td>Season 4</td>\n",
       "      <td>87 Episodes</td>\n",
       "      <td>No Tagline</td>\n",
       "      <td>['Drama', 'Family']</td>\n",
       "      <td>['Tinne Oltmans', 'Anouck Luyten', 'Oscar Will...</td>\n",
       "    </tr>\n",
       "    <tr>\n",
       "      <th>4</th>\n",
       "      <td>Bhagya Lakshmi</td>\n",
       "      <td>46.0</td>\n",
       "      <td>Aug 03, 2021</td>\n",
       "      <td>Season 1</td>\n",
       "      <td>439 Episodes</td>\n",
       "      <td>No Tagline</td>\n",
       "      <td>['Soap']</td>\n",
       "      <td>[]</td>\n",
       "    </tr>\n",
       "    <tr>\n",
       "      <th>5</th>\n",
       "      <td>Kronprinsen som försvann</td>\n",
       "      <td>20</td>\n",
       "      <td>Dec 01, 2022</td>\n",
       "      <td>Season 1</td>\n",
       "      <td>24 Episodes</td>\n",
       "      <td>No Tagline</td>\n",
       "      <td>['Family', 'Mystery', 'Drama']</td>\n",
       "      <td>['Lennart Jähkel', 'Dilan Gwyn', 'Xavier Canca...</td>\n",
       "    </tr>\n",
       "    <tr>\n",
       "      <th>6</th>\n",
       "      <td>Mar do Sertão</td>\n",
       "      <td>43.0</td>\n",
       "      <td>Aug 22, 2022</td>\n",
       "      <td>Season 1</td>\n",
       "      <td>108 Episodes</td>\n",
       "      <td>No Tagline</td>\n",
       "      <td>['Soap', 'Drama']</td>\n",
       "      <td>['Sérgio Guizé', 'Isadora Cruz', 'Renato Góes'...</td>\n",
       "    </tr>\n",
       "    <tr>\n",
       "      <th>7</th>\n",
       "      <td>¿Cómo se llama esta relación?</td>\n",
       "      <td>Not rated yet</td>\n",
       "      <td>Oct 27, 2021</td>\n",
       "      <td>Season 1</td>\n",
       "      <td>381 Episodes</td>\n",
       "      <td>No Tagline</td>\n",
       "      <td>[]</td>\n",
       "      <td>[]</td>\n",
       "    </tr>\n",
       "    <tr>\n",
       "      <th>8</th>\n",
       "      <td>Cara e Coragem</td>\n",
       "      <td>58.0</td>\n",
       "      <td>May 30, 2022</td>\n",
       "      <td>Season 1</td>\n",
       "      <td>197 Episodes</td>\n",
       "      <td>No Tagline</td>\n",
       "      <td>['Comedy', 'Action &amp; Adventure', 'Soap']</td>\n",
       "      <td>['Paolla Oliveira', 'Marcelo Serrado', 'Taís A...</td>\n",
       "    </tr>\n",
       "    <tr>\n",
       "      <th>9</th>\n",
       "      <td>Euronews Hoy</td>\n",
       "      <td>40</td>\n",
       "      <td>Jan 28, 2019</td>\n",
       "      <td>Season 4</td>\n",
       "      <td>240 Episodes</td>\n",
       "      <td>No Tagline</td>\n",
       "      <td>['News']</td>\n",
       "      <td>[]</td>\n",
       "    </tr>\n",
       "    <tr>\n",
       "      <th>10</th>\n",
       "      <td>Poliana Moça</td>\n",
       "      <td>71.0</td>\n",
       "      <td>Mar 21, 2022</td>\n",
       "      <td>Season 1</td>\n",
       "      <td>200 Episodes</td>\n",
       "      <td>No Tagline</td>\n",
       "      <td>['Soap', 'Action &amp; Adventure', 'Family']</td>\n",
       "      <td>['Sophia Valverde', 'Ígor Jansen', 'Lucas Burg...</td>\n",
       "    </tr>\n",
       "    <tr>\n",
       "      <th>11</th>\n",
       "      <td>Travessia</td>\n",
       "      <td>55.0</td>\n",
       "      <td>Oct 10, 2022</td>\n",
       "      <td>Season 1</td>\n",
       "      <td>84 Episodes</td>\n",
       "      <td>No Tagline</td>\n",
       "      <td>['Soap', 'Drama']</td>\n",
       "      <td>['Lucy Alves', 'Rômulo Estrela', 'Chay Suede',...</td>\n",
       "    </tr>\n",
       "    <tr>\n",
       "      <th>12</th>\n",
       "      <td>Banni Chow Home Delivery</td>\n",
       "      <td>17.0</td>\n",
       "      <td>May 30, 2022</td>\n",
       "      <td>Season 1</td>\n",
       "      <td>193 Episodes</td>\n",
       "      <td>No Tagline</td>\n",
       "      <td>['Drama', 'Family', 'Soap']</td>\n",
       "      <td>['Ulka Gupta']</td>\n",
       "    </tr>\n",
       "    <tr>\n",
       "      <th>13</th>\n",
       "      <td>Tinka and the mirror of the soul</td>\n",
       "      <td>75.0</td>\n",
       "      <td>Dec 01, 2022</td>\n",
       "      <td>Season 1</td>\n",
       "      <td>24 Episodes</td>\n",
       "      <td>No Tagline</td>\n",
       "      <td>['Kids', 'Family']</td>\n",
       "      <td>['Josephine Chavarria Højbjerg', 'Albert Rosin...</td>\n",
       "    </tr>\n",
       "    <tr>\n",
       "      <th>14</th>\n",
       "      <td>The Love in Your Eyes</td>\n",
       "      <td>35.0</td>\n",
       "      <td>Oct 03, 2022</td>\n",
       "      <td>Season 1</td>\n",
       "      <td>124 Episodes</td>\n",
       "      <td>No Tagline</td>\n",
       "      <td>['Drama', 'Family']</td>\n",
       "      <td>['Baek Sung-hyun', 'Bae Noo-ri', 'Choi Yoon-Ra...</td>\n",
       "    </tr>\n",
       "    <tr>\n",
       "      <th>15</th>\n",
       "      <td>Abot-Kamay Na Pangarap</td>\n",
       "      <td>Not rated yet</td>\n",
       "      <td>Sep 05, 2022</td>\n",
       "      <td>Season 1</td>\n",
       "      <td>100 Episodes</td>\n",
       "      <td>No Tagline</td>\n",
       "      <td>['Drama']</td>\n",
       "      <td>['Carmina Villarroel', 'Jillian Ward', 'Richar...</td>\n",
       "    </tr>\n",
       "    <tr>\n",
       "      <th>16</th>\n",
       "      <td>Julehjertets hemmelighed</td>\n",
       "      <td>60</td>\n",
       "      <td>Dec 01, 2022</td>\n",
       "      <td>Season 1</td>\n",
       "      <td>24 Episodes</td>\n",
       "      <td>No Tagline</td>\n",
       "      <td>['Family']</td>\n",
       "      <td>['Karla Larsen Moltsen', 'Mia Lyhne', 'Esben D...</td>\n",
       "    </tr>\n",
       "    <tr>\n",
       "      <th>17</th>\n",
       "      <td>Now what</td>\n",
       "      <td>36.0</td>\n",
       "      <td>Sep 26, 2022</td>\n",
       "      <td>Season 1</td>\n",
       "      <td>90 Episodes</td>\n",
       "      <td>No Tagline</td>\n",
       "      <td>['Reality']</td>\n",
       "      <td>['Nona Van Braeckel', 'Delano Buvens', 'Ines H...</td>\n",
       "    </tr>\n",
       "    <tr>\n",
       "      <th>18</th>\n",
       "      <td>Rajjo</td>\n",
       "      <td>53.0</td>\n",
       "      <td>Aug 22, 2022</td>\n",
       "      <td>Season 1</td>\n",
       "      <td>122 Episodes</td>\n",
       "      <td>No Tagline</td>\n",
       "      <td>[]</td>\n",
       "      <td>[]</td>\n",
       "    </tr>\n",
       "    <tr>\n",
       "      <th>19</th>\n",
       "      <td>24-stjerners julekalender</td>\n",
       "      <td>60</td>\n",
       "      <td>Dec 01, 2022</td>\n",
       "      <td>Season 1</td>\n",
       "      <td>24 Episodes</td>\n",
       "      <td>No Tagline</td>\n",
       "      <td>['Reality', 'Comedy']</td>\n",
       "      <td>['Markus Neby']</td>\n",
       "    </tr>\n",
       "    <tr>\n",
       "      <th>20</th>\n",
       "      <td>Sangue Oculto</td>\n",
       "      <td>40</td>\n",
       "      <td>Sep 19, 2022</td>\n",
       "      <td>Season 1</td>\n",
       "      <td>72 Episodes</td>\n",
       "      <td>No Tagline</td>\n",
       "      <td>['Soap']</td>\n",
       "      <td>['Sara Matos', 'Sofia Alves', 'Luana Piovani',...</td>\n",
       "    </tr>\n",
       "    <tr>\n",
       "      <th>21</th>\n",
       "      <td>Een Jaar Van Je Leven</td>\n",
       "      <td>53.0</td>\n",
       "      <td>Sep 05, 2022</td>\n",
       "      <td>Season 1</td>\n",
       "      <td>112 Episodes</td>\n",
       "      <td>No Tagline</td>\n",
       "      <td>['Reality']</td>\n",
       "      <td>[]</td>\n",
       "    </tr>\n",
       "    <tr>\n",
       "      <th>22</th>\n",
       "      <td>Faltu</td>\n",
       "      <td>48.0</td>\n",
       "      <td>Nov 02, 2022</td>\n",
       "      <td>Season 1</td>\n",
       "      <td>54 Episodes</td>\n",
       "      <td>No Tagline</td>\n",
       "      <td>['Drama']</td>\n",
       "      <td>['Niharika Chouksey', 'Aakash Ahuja', 'Myra Si...</td>\n",
       "    </tr>\n",
       "    <tr>\n",
       "      <th>23</th>\n",
       "      <td>Cuomo</td>\n",
       "      <td>29.0</td>\n",
       "      <td>Oct 03, 2022</td>\n",
       "      <td>Season 1</td>\n",
       "      <td>65 Episodes</td>\n",
       "      <td>No Tagline</td>\n",
       "      <td>['News', 'Talk']</td>\n",
       "      <td>['Chris Cuomo', 'Bill Maher', 'William Cohen',...</td>\n",
       "    </tr>\n",
       "    <tr>\n",
       "      <th>24</th>\n",
       "      <td>CNN This Morning</td>\n",
       "      <td>10</td>\n",
       "      <td>Nov 01, 2022</td>\n",
       "      <td>Season 1</td>\n",
       "      <td>44 Episodes</td>\n",
       "      <td>No Tagline</td>\n",
       "      <td>['News']</td>\n",
       "      <td>['Don Lemon', 'Poppy Harlow', 'Kaitlan Collins...</td>\n",
       "    </tr>\n",
       "    <tr>\n",
       "      <th>25</th>\n",
       "      <td>Breinholts julekalender</td>\n",
       "      <td>30</td>\n",
       "      <td>Dec 01, 2022</td>\n",
       "      <td>Season 1</td>\n",
       "      <td>24 Episodes</td>\n",
       "      <td>No Tagline</td>\n",
       "      <td>['Comedy', 'Talk']</td>\n",
       "      <td>['Anders Breinholt', 'Søren Rasted', 'Carsten ...</td>\n",
       "    </tr>\n",
       "    <tr>\n",
       "      <th>26</th>\n",
       "      <td>Chainsaw Man</td>\n",
       "      <td>86.0</td>\n",
       "      <td>Oct 12, 2022</td>\n",
       "      <td>Season 1</td>\n",
       "      <td>12 Episodes</td>\n",
       "      <td>No Tagline</td>\n",
       "      <td>['Animation', 'Action &amp; Adventure', 'Sci-Fi &amp; ...</td>\n",
       "      <td>['Kikunosuke Toya', 'Tomori Kusunoki', 'Shogo ...</td>\n",
       "    </tr>\n",
       "    <tr>\n",
       "      <th>27</th>\n",
       "      <td>The Iron Heart</td>\n",
       "      <td>Not rated yet</td>\n",
       "      <td>Nov 14, 2022</td>\n",
       "      <td>Season 1</td>\n",
       "      <td>50 Episodes</td>\n",
       "      <td>No Tagline</td>\n",
       "      <td>['Action &amp; Adventure', 'Drama']</td>\n",
       "      <td>['Richard Gutierrez', 'Jake Cuenca', 'Sue Rami...</td>\n",
       "    </tr>\n",
       "    <tr>\n",
       "      <th>28</th>\n",
       "      <td>Darna</td>\n",
       "      <td>48.0</td>\n",
       "      <td>Aug 15, 2022</td>\n",
       "      <td>Season 2</td>\n",
       "      <td>36 Episodes</td>\n",
       "      <td>No Tagline</td>\n",
       "      <td>['Action &amp; Adventure', 'Sci-Fi &amp; Fantasy', 'Dr...</td>\n",
       "      <td>['Jane De Leon', 'Joshua Garcia', 'Janella Sal...</td>\n",
       "    </tr>\n",
       "    <tr>\n",
       "      <th>29</th>\n",
       "      <td>Yellowstone</td>\n",
       "      <td>81.0</td>\n",
       "      <td>Jun 20, 2018</td>\n",
       "      <td>Season 5</td>\n",
       "      <td>8 Episodes</td>\n",
       "      <td>My land, my rules.</td>\n",
       "      <td>['Western', 'Drama']</td>\n",
       "      <td>['Kevin Costner', 'Kelly Reilly', 'Luke Grimes...</td>\n",
       "    </tr>\n",
       "    <tr>\n",
       "      <th>30</th>\n",
       "      <td>For You</td>\n",
       "      <td>49.0</td>\n",
       "      <td>Mar 07, 2022</td>\n",
       "      <td>Season 1</td>\n",
       "      <td>207 Episodes</td>\n",
       "      <td>Today and always</td>\n",
       "      <td>['Comedy', 'Drama']</td>\n",
       "      <td>['Matilde Reymão', 'Lourenço Ortigão', 'Diogo ...</td>\n",
       "    </tr>\n",
       "    <tr>\n",
       "      <th>31</th>\n",
       "      <td>Jonas' Jul</td>\n",
       "      <td>100</td>\n",
       "      <td>Dec 01, 2022</td>\n",
       "      <td>Season 1</td>\n",
       "      <td>24 Episodes</td>\n",
       "      <td>No Tagline</td>\n",
       "      <td>[]</td>\n",
       "      <td>[]</td>\n",
       "    </tr>\n",
       "    <tr>\n",
       "      <th>32</th>\n",
       "      <td>La Reina del Sur</td>\n",
       "      <td>78.0</td>\n",
       "      <td>Feb 28, 2011</td>\n",
       "      <td>Season 3</td>\n",
       "      <td>46 Episodes</td>\n",
       "      <td>No Tagline</td>\n",
       "      <td>['Drama', 'Crime']</td>\n",
       "      <td>['Kate del Castillo', 'Rafael Amaya', 'Humbert...</td>\n",
       "    </tr>\n",
       "    <tr>\n",
       "      <th>33</th>\n",
       "      <td>Rick and Morty</td>\n",
       "      <td>87.0</td>\n",
       "      <td>Dec 02, 2013</td>\n",
       "      <td>Season 6</td>\n",
       "      <td>10 Episodes</td>\n",
       "      <td>Science makes sense, family doesn't.</td>\n",
       "      <td>['Animation', 'Comedy', 'Sci-Fi &amp; Fantasy', 'A...</td>\n",
       "      <td>['Justin Roiland', 'Spencer Grammer', 'Chris P...</td>\n",
       "    </tr>\n",
       "    <tr>\n",
       "      <th>34</th>\n",
       "      <td>Grey's Anatomy</td>\n",
       "      <td>83.0</td>\n",
       "      <td>Mar 27, 2005</td>\n",
       "      <td>Season 19</td>\n",
       "      <td>11 Episodes</td>\n",
       "      <td>Begin again.</td>\n",
       "      <td>['Drama']</td>\n",
       "      <td>['Ellen Pompeo', 'James Pickens Jr.', 'Chandra...</td>\n",
       "    </tr>\n",
       "    <tr>\n",
       "      <th>35</th>\n",
       "      <td>Willow</td>\n",
       "      <td>68.0</td>\n",
       "      <td>Nov 30, 2022</td>\n",
       "      <td>Season 1</td>\n",
       "      <td>8 Episodes</td>\n",
       "      <td>The next great adventure begins.</td>\n",
       "      <td>['Sci-Fi &amp; Fantasy', 'Action &amp; Adventure', 'Dr...</td>\n",
       "      <td>['Warwick Davis', 'Ellie Bamber', 'Ruby Cruz',...</td>\n",
       "    </tr>\n",
       "    <tr>\n",
       "      <th>36</th>\n",
       "      <td>Leandro Díaz</td>\n",
       "      <td>20</td>\n",
       "      <td>Sep 19, 2022</td>\n",
       "      <td>Season 1</td>\n",
       "      <td>65 Episodes</td>\n",
       "      <td>No Tagline</td>\n",
       "      <td>[]</td>\n",
       "      <td>[]</td>\n",
       "    </tr>\n",
       "    <tr>\n",
       "      <th>37</th>\n",
       "      <td>Quero é Viver</td>\n",
       "      <td>61.0</td>\n",
       "      <td>Jan 03, 2022</td>\n",
       "      <td>Season 1</td>\n",
       "      <td>265 Episodes</td>\n",
       "      <td>No Tagline</td>\n",
       "      <td>['Soap']</td>\n",
       "      <td>['Henrique Mello', 'São José Lapa', 'Fernanda ...</td>\n",
       "    </tr>\n",
       "    <tr>\n",
       "      <th>38</th>\n",
       "      <td>Money Heist: Korea - Joint Economic Area</td>\n",
       "      <td>79.0</td>\n",
       "      <td>Jun 24, 2022</td>\n",
       "      <td>Season 1</td>\n",
       "      <td>12 Episodes</td>\n",
       "      <td>Witness a heist like no other.</td>\n",
       "      <td>['Action &amp; Adventure', 'Crime', 'Drama', 'Myst...</td>\n",
       "      <td>['Yoo Ji-tae', 'Yunjin Kim', 'Park Hae-soo', '...</td>\n",
       "    </tr>\n",
       "    <tr>\n",
       "      <th>39</th>\n",
       "      <td>Big Brother</td>\n",
       "      <td>26.0</td>\n",
       "      <td>Sep 03, 2000</td>\n",
       "      <td>BB2022</td>\n",
       "      <td>246 Episodes</td>\n",
       "      <td>No Tagline</td>\n",
       "      <td>['Reality']</td>\n",
       "      <td>['Mafalda Castro', 'Cláudio Ramos', 'Maria Bot...</td>\n",
       "    </tr>\n",
       "    <tr>\n",
       "      <th>40</th>\n",
       "      <td>SPY x FAMILY</td>\n",
       "      <td>87.0</td>\n",
       "      <td>Apr 09, 2022</td>\n",
       "      <td>Season 1</td>\n",
       "      <td>25 Episodes</td>\n",
       "      <td>The father... a spy. The mother... an assassin...</td>\n",
       "      <td>['Animation', 'Comedy', 'Action &amp; Adventure']</td>\n",
       "      <td>['Takuya Eguchi', 'Atsumi Tanezaki', 'Saori Ha...</td>\n",
       "    </tr>\n",
       "    <tr>\n",
       "      <th>41</th>\n",
       "      <td>Stiletto</td>\n",
       "      <td>70</td>\n",
       "      <td>Sep 04, 2022</td>\n",
       "      <td>Season 1</td>\n",
       "      <td>90 Episodes</td>\n",
       "      <td>No Tagline</td>\n",
       "      <td>['Drama', 'Mystery']</td>\n",
       "      <td>['Caresse Bashar', 'Dima Kandalaft', 'Qays She...</td>\n",
       "    </tr>\n",
       "    <tr>\n",
       "      <th>42</th>\n",
       "      <td>PBS NewsHour</td>\n",
       "      <td>54.0</td>\n",
       "      <td>Oct 20, 1975</td>\n",
       "      <td>Season 47</td>\n",
       "      <td>260 Episodes</td>\n",
       "      <td>No Tagline</td>\n",
       "      <td>['News']</td>\n",
       "      <td>['Judy Woodruff', 'Gwen Ifill', 'Amna Nawaz', ...</td>\n",
       "    </tr>\n",
       "    <tr>\n",
       "      <th>43</th>\n",
       "      <td>Suits</td>\n",
       "      <td>82.0</td>\n",
       "      <td>Jun 23, 2011</td>\n",
       "      <td>Season 9</td>\n",
       "      <td>10 Episodes</td>\n",
       "      <td>Nothing is ever black and white</td>\n",
       "      <td>['Drama']</td>\n",
       "      <td>['Gabriel Macht', 'Sarah Rafferty', 'Rick Hoff...</td>\n",
       "    </tr>\n",
       "    <tr>\n",
       "      <th>44</th>\n",
       "      <td>The Walking Dead</td>\n",
       "      <td>81.0</td>\n",
       "      <td>Oct 31, 2010</td>\n",
       "      <td>Season 11</td>\n",
       "      <td>24 Episodes</td>\n",
       "      <td>Fight the dead. Fear the living.</td>\n",
       "      <td>['Action &amp; Adventure', 'Drama', 'Sci-Fi &amp; Fant...</td>\n",
       "      <td>['Norman Reedus', 'Melissa McBride', 'Lauren C...</td>\n",
       "    </tr>\n",
       "    <tr>\n",
       "      <th>45</th>\n",
       "      <td>Law &amp; Order: Special Victims Unit</td>\n",
       "      <td>79.0</td>\n",
       "      <td>Sep 20, 1999</td>\n",
       "      <td>Season 24</td>\n",
       "      <td>10 Episodes</td>\n",
       "      <td>Standing for victims.</td>\n",
       "      <td>['Crime', 'Drama', 'Mystery']</td>\n",
       "      <td>['Mariska Hargitay', 'Ice-T', 'Dann Florek', '...</td>\n",
       "    </tr>\n",
       "    <tr>\n",
       "      <th>46</th>\n",
       "      <td>Zhuki</td>\n",
       "      <td>92.0</td>\n",
       "      <td>Sep 02, 2019</td>\n",
       "      <td>Season 3</td>\n",
       "      <td>16 Episodes</td>\n",
       "      <td>No Tagline</td>\n",
       "      <td>['Comedy']</td>\n",
       "      <td>['Vyacheslav Chepurchenko', 'Vadim Dubrovin', ...</td>\n",
       "    </tr>\n",
       "    <tr>\n",
       "      <th>47</th>\n",
       "      <td>House of the Dragon</td>\n",
       "      <td>85.0</td>\n",
       "      <td>Aug 21, 2022</td>\n",
       "      <td>Season 1</td>\n",
       "      <td>10 Episodes</td>\n",
       "      <td>Fire and blood.</td>\n",
       "      <td>['Sci-Fi &amp; Fantasy', 'Drama', 'Action &amp; Advent...</td>\n",
       "      <td>['Paddy Considine', 'Matt Smith', \"Emma D'Arcy...</td>\n",
       "    </tr>\n",
       "    <tr>\n",
       "      <th>48</th>\n",
       "      <td>1899</td>\n",
       "      <td>79.0</td>\n",
       "      <td>Nov 17, 2022</td>\n",
       "      <td>Season 1</td>\n",
       "      <td>8 Episodes</td>\n",
       "      <td>What is lost will be found.</td>\n",
       "      <td>['Mystery', 'Drama']</td>\n",
       "      <td>['Emily Beecham', 'Andreas Pietschmann', 'Aneu...</td>\n",
       "    </tr>\n",
       "    <tr>\n",
       "      <th>49</th>\n",
       "      <td>Vengeance of the Bride</td>\n",
       "      <td>Not rated yet</td>\n",
       "      <td>Oct 10, 2022</td>\n",
       "      <td>Season 1</td>\n",
       "      <td>100 Episodes</td>\n",
       "      <td>No Tagline</td>\n",
       "      <td>['Drama', 'Mystery', 'Family']</td>\n",
       "      <td>['Park Ha-na', 'Kang Ji-sub', 'Park Yoon-jae',...</td>\n",
       "    </tr>\n",
       "  </tbody>\n",
       "</table>\n",
       "</div>"
      ],
      "text/plain": [
       "                                       Title    User_rating  Release_date  \\\n",
       "0                                  Wednesday           88.0  Nov 23, 2022   \n",
       "1                                 The Street           11.0  Sep 05, 2005   \n",
       "2                Ghum Hai Kisi Ke Pyaar Mein           54.0  Oct 05, 2020   \n",
       "3                                       Lisa           63.0  Jan 25, 2021   \n",
       "4                             Bhagya Lakshmi           46.0  Aug 03, 2021   \n",
       "5                   Kronprinsen som försvann             20  Dec 01, 2022   \n",
       "6                              Mar do Sertão           43.0  Aug 22, 2022   \n",
       "7              ¿Cómo se llama esta relación?  Not rated yet  Oct 27, 2021   \n",
       "8                             Cara e Coragem           58.0  May 30, 2022   \n",
       "9                               Euronews Hoy             40  Jan 28, 2019   \n",
       "10                              Poliana Moça           71.0  Mar 21, 2022   \n",
       "11                                 Travessia           55.0  Oct 10, 2022   \n",
       "12                  Banni Chow Home Delivery           17.0  May 30, 2022   \n",
       "13          Tinka and the mirror of the soul           75.0  Dec 01, 2022   \n",
       "14                     The Love in Your Eyes           35.0  Oct 03, 2022   \n",
       "15                    Abot-Kamay Na Pangarap  Not rated yet  Sep 05, 2022   \n",
       "16                  Julehjertets hemmelighed             60  Dec 01, 2022   \n",
       "17                                  Now what           36.0  Sep 26, 2022   \n",
       "18                                     Rajjo           53.0  Aug 22, 2022   \n",
       "19                 24-stjerners julekalender             60  Dec 01, 2022   \n",
       "20                             Sangue Oculto             40  Sep 19, 2022   \n",
       "21                     Een Jaar Van Je Leven           53.0  Sep 05, 2022   \n",
       "22                                     Faltu           48.0  Nov 02, 2022   \n",
       "23                                     Cuomo           29.0  Oct 03, 2022   \n",
       "24                          CNN This Morning             10  Nov 01, 2022   \n",
       "25                   Breinholts julekalender             30  Dec 01, 2022   \n",
       "26                              Chainsaw Man           86.0  Oct 12, 2022   \n",
       "27                            The Iron Heart  Not rated yet  Nov 14, 2022   \n",
       "28                                     Darna           48.0  Aug 15, 2022   \n",
       "29                               Yellowstone           81.0  Jun 20, 2018   \n",
       "30                                   For You           49.0  Mar 07, 2022   \n",
       "31                                Jonas' Jul            100  Dec 01, 2022   \n",
       "32                          La Reina del Sur           78.0  Feb 28, 2011   \n",
       "33                            Rick and Morty           87.0  Dec 02, 2013   \n",
       "34                            Grey's Anatomy           83.0  Mar 27, 2005   \n",
       "35                                    Willow           68.0  Nov 30, 2022   \n",
       "36                              Leandro Díaz             20  Sep 19, 2022   \n",
       "37                             Quero é Viver           61.0  Jan 03, 2022   \n",
       "38  Money Heist: Korea - Joint Economic Area           79.0  Jun 24, 2022   \n",
       "39                               Big Brother           26.0  Sep 03, 2000   \n",
       "40                              SPY x FAMILY           87.0  Apr 09, 2022   \n",
       "41                                  Stiletto             70  Sep 04, 2022   \n",
       "42                              PBS NewsHour           54.0  Oct 20, 1975   \n",
       "43                                     Suits           82.0  Jun 23, 2011   \n",
       "44                          The Walking Dead           81.0  Oct 31, 2010   \n",
       "45         Law & Order: Special Victims Unit           79.0  Sep 20, 1999   \n",
       "46                                     Zhuki           92.0  Sep 02, 2019   \n",
       "47                       House of the Dragon           85.0  Aug 21, 2022   \n",
       "48                                      1899           79.0  Nov 17, 2022   \n",
       "49                    Vengeance of the Bride  Not rated yet  Oct 10, 2022   \n",
       "\n",
       "   Current_season Current_season_Episodes  \\\n",
       "0        Season 1              8 Episodes   \n",
       "1       Season 18             47 Episodes   \n",
       "2        Season 1            711 Episodes   \n",
       "3        Season 4             87 Episodes   \n",
       "4        Season 1            439 Episodes   \n",
       "5        Season 1             24 Episodes   \n",
       "6        Season 1            108 Episodes   \n",
       "7        Season 1            381 Episodes   \n",
       "8        Season 1            197 Episodes   \n",
       "9        Season 4            240 Episodes   \n",
       "10       Season 1            200 Episodes   \n",
       "11       Season 1             84 Episodes   \n",
       "12       Season 1            193 Episodes   \n",
       "13       Season 1             24 Episodes   \n",
       "14       Season 1            124 Episodes   \n",
       "15       Season 1            100 Episodes   \n",
       "16       Season 1             24 Episodes   \n",
       "17       Season 1             90 Episodes   \n",
       "18       Season 1            122 Episodes   \n",
       "19       Season 1             24 Episodes   \n",
       "20       Season 1             72 Episodes   \n",
       "21       Season 1            112 Episodes   \n",
       "22       Season 1             54 Episodes   \n",
       "23       Season 1             65 Episodes   \n",
       "24       Season 1             44 Episodes   \n",
       "25       Season 1             24 Episodes   \n",
       "26       Season 1             12 Episodes   \n",
       "27       Season 1             50 Episodes   \n",
       "28       Season 2             36 Episodes   \n",
       "29       Season 5              8 Episodes   \n",
       "30       Season 1            207 Episodes   \n",
       "31       Season 1             24 Episodes   \n",
       "32       Season 3             46 Episodes   \n",
       "33       Season 6             10 Episodes   \n",
       "34      Season 19             11 Episodes   \n",
       "35       Season 1              8 Episodes   \n",
       "36       Season 1             65 Episodes   \n",
       "37       Season 1            265 Episodes   \n",
       "38       Season 1             12 Episodes   \n",
       "39         BB2022            246 Episodes   \n",
       "40       Season 1             25 Episodes   \n",
       "41       Season 1             90 Episodes   \n",
       "42      Season 47            260 Episodes   \n",
       "43       Season 9             10 Episodes   \n",
       "44      Season 11             24 Episodes   \n",
       "45      Season 24             10 Episodes   \n",
       "46       Season 3             16 Episodes   \n",
       "47       Season 1             10 Episodes   \n",
       "48       Season 1              8 Episodes   \n",
       "49       Season 1            100 Episodes   \n",
       "\n",
       "                                              Tagline  \\\n",
       "0                                          No Tagline   \n",
       "1                                          No Tagline   \n",
       "2                                          No Tagline   \n",
       "3                                          No Tagline   \n",
       "4                                          No Tagline   \n",
       "5                                          No Tagline   \n",
       "6                                          No Tagline   \n",
       "7                                          No Tagline   \n",
       "8                                          No Tagline   \n",
       "9                                          No Tagline   \n",
       "10                                         No Tagline   \n",
       "11                                         No Tagline   \n",
       "12                                         No Tagline   \n",
       "13                                         No Tagline   \n",
       "14                                         No Tagline   \n",
       "15                                         No Tagline   \n",
       "16                                         No Tagline   \n",
       "17                                         No Tagline   \n",
       "18                                         No Tagline   \n",
       "19                                         No Tagline   \n",
       "20                                         No Tagline   \n",
       "21                                         No Tagline   \n",
       "22                                         No Tagline   \n",
       "23                                         No Tagline   \n",
       "24                                         No Tagline   \n",
       "25                                         No Tagline   \n",
       "26                                         No Tagline   \n",
       "27                                         No Tagline   \n",
       "28                                         No Tagline   \n",
       "29                                 My land, my rules.   \n",
       "30                                   Today and always   \n",
       "31                                         No Tagline   \n",
       "32                                         No Tagline   \n",
       "33               Science makes sense, family doesn't.   \n",
       "34                                       Begin again.   \n",
       "35                   The next great adventure begins.   \n",
       "36                                         No Tagline   \n",
       "37                                         No Tagline   \n",
       "38                     Witness a heist like no other.   \n",
       "39                                         No Tagline   \n",
       "40  The father... a spy. The mother... an assassin...   \n",
       "41                                         No Tagline   \n",
       "42                                         No Tagline   \n",
       "43                    Nothing is ever black and white   \n",
       "44                   Fight the dead. Fear the living.   \n",
       "45                              Standing for victims.   \n",
       "46                                         No Tagline   \n",
       "47                                    Fire and blood.   \n",
       "48                        What is lost will be found.   \n",
       "49                                         No Tagline   \n",
       "\n",
       "                                                Genre  \\\n",
       "0           ['Sci-Fi & Fantasy', 'Mystery', 'Comedy']   \n",
       "1                                 ['Drama', 'Comedy']   \n",
       "2                         ['Drama', 'Soap', 'Family']   \n",
       "3                                 ['Drama', 'Family']   \n",
       "4                                            ['Soap']   \n",
       "5                      ['Family', 'Mystery', 'Drama']   \n",
       "6                                   ['Soap', 'Drama']   \n",
       "7                                                  []   \n",
       "8            ['Comedy', 'Action & Adventure', 'Soap']   \n",
       "9                                            ['News']   \n",
       "10           ['Soap', 'Action & Adventure', 'Family']   \n",
       "11                                  ['Soap', 'Drama']   \n",
       "12                        ['Drama', 'Family', 'Soap']   \n",
       "13                                 ['Kids', 'Family']   \n",
       "14                                ['Drama', 'Family']   \n",
       "15                                          ['Drama']   \n",
       "16                                         ['Family']   \n",
       "17                                        ['Reality']   \n",
       "18                                                 []   \n",
       "19                              ['Reality', 'Comedy']   \n",
       "20                                           ['Soap']   \n",
       "21                                        ['Reality']   \n",
       "22                                          ['Drama']   \n",
       "23                                   ['News', 'Talk']   \n",
       "24                                           ['News']   \n",
       "25                                 ['Comedy', 'Talk']   \n",
       "26  ['Animation', 'Action & Adventure', 'Sci-Fi & ...   \n",
       "27                    ['Action & Adventure', 'Drama']   \n",
       "28  ['Action & Adventure', 'Sci-Fi & Fantasy', 'Dr...   \n",
       "29                               ['Western', 'Drama']   \n",
       "30                                ['Comedy', 'Drama']   \n",
       "31                                                 []   \n",
       "32                                 ['Drama', 'Crime']   \n",
       "33  ['Animation', 'Comedy', 'Sci-Fi & Fantasy', 'A...   \n",
       "34                                          ['Drama']   \n",
       "35  ['Sci-Fi & Fantasy', 'Action & Adventure', 'Dr...   \n",
       "36                                                 []   \n",
       "37                                           ['Soap']   \n",
       "38  ['Action & Adventure', 'Crime', 'Drama', 'Myst...   \n",
       "39                                        ['Reality']   \n",
       "40      ['Animation', 'Comedy', 'Action & Adventure']   \n",
       "41                               ['Drama', 'Mystery']   \n",
       "42                                           ['News']   \n",
       "43                                          ['Drama']   \n",
       "44  ['Action & Adventure', 'Drama', 'Sci-Fi & Fant...   \n",
       "45                      ['Crime', 'Drama', 'Mystery']   \n",
       "46                                         ['Comedy']   \n",
       "47  ['Sci-Fi & Fantasy', 'Drama', 'Action & Advent...   \n",
       "48                               ['Mystery', 'Drama']   \n",
       "49                     ['Drama', 'Mystery', 'Family']   \n",
       "\n",
       "                                                 Cast  \n",
       "0   ['Jenna Ortega', 'Emma Myers', 'Joy Sunday', '...  \n",
       "1   ['Michaela Badinková', 'Tereza Brodská', 'Patr...  \n",
       "2   ['Neil Bhatt', 'Siddharth Bodke', 'Shailesh Da...  \n",
       "3   ['Tinne Oltmans', 'Anouck Luyten', 'Oscar Will...  \n",
       "4                                                  []  \n",
       "5   ['Lennart Jähkel', 'Dilan Gwyn', 'Xavier Canca...  \n",
       "6   ['Sérgio Guizé', 'Isadora Cruz', 'Renato Góes'...  \n",
       "7                                                  []  \n",
       "8   ['Paolla Oliveira', 'Marcelo Serrado', 'Taís A...  \n",
       "9                                                  []  \n",
       "10  ['Sophia Valverde', 'Ígor Jansen', 'Lucas Burg...  \n",
       "11  ['Lucy Alves', 'Rômulo Estrela', 'Chay Suede',...  \n",
       "12                                     ['Ulka Gupta']  \n",
       "13  ['Josephine Chavarria Højbjerg', 'Albert Rosin...  \n",
       "14  ['Baek Sung-hyun', 'Bae Noo-ri', 'Choi Yoon-Ra...  \n",
       "15  ['Carmina Villarroel', 'Jillian Ward', 'Richar...  \n",
       "16  ['Karla Larsen Moltsen', 'Mia Lyhne', 'Esben D...  \n",
       "17  ['Nona Van Braeckel', 'Delano Buvens', 'Ines H...  \n",
       "18                                                 []  \n",
       "19                                    ['Markus Neby']  \n",
       "20  ['Sara Matos', 'Sofia Alves', 'Luana Piovani',...  \n",
       "21                                                 []  \n",
       "22  ['Niharika Chouksey', 'Aakash Ahuja', 'Myra Si...  \n",
       "23  ['Chris Cuomo', 'Bill Maher', 'William Cohen',...  \n",
       "24  ['Don Lemon', 'Poppy Harlow', 'Kaitlan Collins...  \n",
       "25  ['Anders Breinholt', 'Søren Rasted', 'Carsten ...  \n",
       "26  ['Kikunosuke Toya', 'Tomori Kusunoki', 'Shogo ...  \n",
       "27  ['Richard Gutierrez', 'Jake Cuenca', 'Sue Rami...  \n",
       "28  ['Jane De Leon', 'Joshua Garcia', 'Janella Sal...  \n",
       "29  ['Kevin Costner', 'Kelly Reilly', 'Luke Grimes...  \n",
       "30  ['Matilde Reymão', 'Lourenço Ortigão', 'Diogo ...  \n",
       "31                                                 []  \n",
       "32  ['Kate del Castillo', 'Rafael Amaya', 'Humbert...  \n",
       "33  ['Justin Roiland', 'Spencer Grammer', 'Chris P...  \n",
       "34  ['Ellen Pompeo', 'James Pickens Jr.', 'Chandra...  \n",
       "35  ['Warwick Davis', 'Ellie Bamber', 'Ruby Cruz',...  \n",
       "36                                                 []  \n",
       "37  ['Henrique Mello', 'São José Lapa', 'Fernanda ...  \n",
       "38  ['Yoo Ji-tae', 'Yunjin Kim', 'Park Hae-soo', '...  \n",
       "39  ['Mafalda Castro', 'Cláudio Ramos', 'Maria Bot...  \n",
       "40  ['Takuya Eguchi', 'Atsumi Tanezaki', 'Saori Ha...  \n",
       "41  ['Caresse Bashar', 'Dima Kandalaft', 'Qays She...  \n",
       "42  ['Judy Woodruff', 'Gwen Ifill', 'Amna Nawaz', ...  \n",
       "43  ['Gabriel Macht', 'Sarah Rafferty', 'Rick Hoff...  \n",
       "44  ['Norman Reedus', 'Melissa McBride', 'Lauren C...  \n",
       "45  ['Mariska Hargitay', 'Ice-T', 'Dann Florek', '...  \n",
       "46  ['Vyacheslav Chepurchenko', 'Vadim Dubrovin', ...  \n",
       "47  ['Paddy Considine', 'Matt Smith', \"Emma D'Arcy...  \n",
       "48  ['Emily Beecham', 'Andreas Pietschmann', 'Aneu...  \n",
       "49  ['Park Ha-na', 'Kang Ji-sub', 'Park Yoon-jae',...  "
      ]
     },
     "execution_count": 36,
     "metadata": {},
     "output_type": "execute_result"
    }
   ],
   "source": [
    "pd.read_csv('shows-data/Total-dataframe.csv')[0:50]"
   ]
  },
  {
   "cell_type": "code",
   "execution_count": null,
   "id": "096357a5-74f7-456a-bd5b-aac1d1a093c5",
   "metadata": {},
   "outputs": [],
   "source": []
  },
  {
   "cell_type": "code",
   "execution_count": null,
   "id": "09b3860a-fa57-4832-ac4f-523ac98e8bd4",
   "metadata": {},
   "outputs": [],
   "source": []
  },
  {
   "cell_type": "code",
   "execution_count": null,
   "id": "d4672f04-f621-413d-9c95-43b48b4a15fa",
   "metadata": {},
   "outputs": [],
   "source": []
  },
  {
   "cell_type": "code",
   "execution_count": null,
   "id": "f33376f8-7aa7-492e-b5c4-4908fd0589ab",
   "metadata": {},
   "outputs": [],
   "source": []
  },
  {
   "cell_type": "code",
   "execution_count": null,
   "id": "0f40b4b0-66ef-4a21-91a6-708391fcc2d7",
   "metadata": {},
   "outputs": [],
   "source": []
  }
 ],
 "metadata": {
  "kernelspec": {
   "display_name": "Python 3 (ipykernel)",
   "language": "python",
   "name": "python3"
  },
  "language_info": {
   "codemirror_mode": {
    "name": "ipython",
    "version": 3
   },
   "file_extension": ".py",
   "mimetype": "text/x-python",
   "name": "python",
   "nbconvert_exporter": "python",
   "pygments_lexer": "ipython3",
   "version": "3.8.3"
  }
 },
 "nbformat": 4,
 "nbformat_minor": 5
}
