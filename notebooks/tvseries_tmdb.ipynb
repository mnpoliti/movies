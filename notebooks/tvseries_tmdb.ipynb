{
 "cells": [
  {
   "cell_type": "code",
   "execution_count": 7,
   "id": "effee1a3-06e5-4bbb-a5f0-2b1ac8251f00",
   "metadata": {},
   "outputs": [],
   "source": [
    "#set the API key\n",
    "from tmdbv3api import TMDb\n",
    "from tmdbv3api import Movie\n",
    "from bs4 import BeautifulSoup\n",
    "tmdb = TMDb()\n",
    "movie = Movie()\n",
    "tmdb.api_key = 'c6cd98753f10dc390a8c4a5b4b83d47c'\n",
    "tmdb.language = 'en'\n",
    "tmdb.debug = True"
   ]
  },
  {
   "cell_type": "code",
   "execution_count": 2,
   "id": "d0a034d2-41e9-4a4d-abbf-14b7794162db",
   "metadata": {},
   "outputs": [],
   "source": [
    "import requests\n"
   ]
  },
  {
   "cell_type": "code",
   "execution_count": 3,
   "id": "27649c56-173c-44c9-99fd-c950ca439668",
   "metadata": {},
   "outputs": [],
   "source": [
    "needed_headers = {'User-Agent': \"Mozilla/5.0 (Windows NT 6.3; Win64; x64) AppleWebKit/537.36 (KHTML, like Gecko) Chrome/92.0.4515.131 Safari/537.36\"}\n",
    "response = requests.get(\"https://www.themoviedb.org/tv\", headers = needed_headers)\n"
   ]
  },
  {
   "cell_type": "code",
   "execution_count": 4,
   "id": "a18c6d5e-d916-413a-a81b-a5da0b92c2f2",
   "metadata": {},
   "outputs": [
    {
     "data": {
      "text/plain": [
       "200"
      ]
     },
     "execution_count": 4,
     "metadata": {},
     "output_type": "execute_result"
    }
   ],
   "source": [
    "response.status_code"
   ]
  },
  {
   "cell_type": "code",
   "execution_count": 5,
   "id": "10b45a45-b3ae-4571-908b-006db080a9e4",
   "metadata": {},
   "outputs": [
    {
     "data": {
      "text/plain": [
       "193866"
      ]
     },
     "execution_count": 5,
     "metadata": {},
     "output_type": "execute_result"
    }
   ],
   "source": [
    "dwn_content = response.text\n",
    "len(dwn_content)"
   ]
  },
  {
   "cell_type": "code",
   "execution_count": 6,
   "id": "0a0b4328-5a75-4e75-b7e6-6dfd110b67d8",
   "metadata": {},
   "outputs": [
    {
     "data": {
      "text/plain": [
       "'<!DOCTYPE html>\\n<html lang=\"en\" class=\"no-js\">\\n  <head>\\n    <title>Popular TV Shows &#8212; The Movie Database (TMDB)</title>\\n    <meta http-equiv=\"X-UA-Compatible\" content=\"IE=edge\" />\\n    <meta http-equiv=\"cleartype\" content=\"on\">\\n    <meta charset=\"utf-8\">\\n    <meta name=\"keywords\" content=\"Movies, TV Shows, Streaming, Reviews, API, Actors, Actresses, Photos, User Ratings, Synopsis, Trailers, Teasers, Credits, Cast\">\\n    <meta name=\"mobile-web-app-capable\" content=\"yes\">\\n    <meta name=\"apple'"
      ]
     },
     "execution_count": 6,
     "metadata": {},
     "output_type": "execute_result"
    }
   ],
   "source": [
    "dwn_content[:500]"
   ]
  },
  {
   "cell_type": "code",
   "execution_count": 8,
   "id": "ba7b2f98-3d02-4a7d-aded-edd2faff4653",
   "metadata": {},
   "outputs": [],
   "source": [
    "test_doc = BeautifulSoup(response.text, 'html.parser')"
   ]
  },
  {
   "cell_type": "code",
   "execution_count": 9,
   "id": "4f5554a4-dab8-4aaf-b229-857d8c847884",
   "metadata": {},
   "outputs": [
    {
     "data": {
      "text/plain": [
       "bs4.BeautifulSoup"
      ]
     },
     "execution_count": 9,
     "metadata": {},
     "output_type": "execute_result"
    }
   ],
   "source": [
    "type(test_doc)"
   ]
  },
  {
   "cell_type": "code",
   "execution_count": 10,
   "id": "68bffde9-01cf-4544-9832-5d12a22d7c55",
   "metadata": {},
   "outputs": [
    {
     "data": {
      "text/plain": [
       "<title>Popular TV Shows — The Movie Database (TMDB)</title>"
      ]
     },
     "execution_count": 10,
     "metadata": {},
     "output_type": "execute_result"
    }
   ],
   "source": [
    "test_doc.find('title')"
   ]
  },
  {
   "cell_type": "code",
   "execution_count": 11,
   "id": "58a6f4e4-b8f1-40fa-905a-6024986a1a89",
   "metadata": {},
   "outputs": [],
   "source": [
    "\n",
    "def get_page_content(url):\n",
    "    # In this case , we are going to give request.get function headers to avoid the Status code Error 403\n",
    "\n",
    "    get_headers = {'User-Agent': \"Mozilla/5.0 (Windows NT 6.3; Win64; x64) AppleWebKit/537.36 (KHTML, like Gecko) Chrome/92.0.4515.131 Safari/537.36\"}\n",
    "    response_page = requests.get(url, headers = get_headers )\n",
    "    # we are going to raise exception here if status code gives any value other than 200.\n",
    "    if not response_page.ok:\n",
    "        raise Exception (\"Failed to request the data. Status Code:- {}\".format(response_page.status_code))\n",
    "    else:\n",
    "        page_content = response_page.text\n",
    "        doc_page = BeautifulSoup(page_content, \"html.parser\")\n",
    "        return doc_page"
   ]
  },
  {
   "cell_type": "code",
   "execution_count": 12,
   "id": "51a697ac-62a3-4f37-b0d7-563dbffcdb24",
   "metadata": {},
   "outputs": [],
   "source": [
    "popular_shows_url = \"https://www.themoviedb.org/tv\"\n",
    "doc = get_page_content(popular_shows_url)"
   ]
  },
  {
   "cell_type": "code",
   "execution_count": 13,
   "id": "3328d214-6874-4604-8b1d-cc38d0a021ba",
   "metadata": {},
   "outputs": [
    {
     "data": {
      "text/plain": [
       "'Popular TV Shows — The Movie Database (TMDB)'"
      ]
     },
     "execution_count": 13,
     "metadata": {},
     "output_type": "execute_result"
    }
   ],
   "source": [
    "#let's try to get the title of the page to check if our function works. \n",
    "\n",
    "doc.title.text"
   ]
  },
  {
   "cell_type": "code",
   "execution_count": 14,
   "id": "a616f23b-3c5a-4951-b373-bb7e4de46af4",
   "metadata": {},
   "outputs": [
    {
     "data": {
      "text/plain": [
       "'Wednesday'"
      ]
     },
     "execution_count": 14,
     "metadata": {},
     "output_type": "execute_result"
    }
   ],
   "source": [
    "# Now that we know the class let's trty to get the title of the first movie. \n",
    "\n",
    "doc.find_all('div', {'class': 'card style_1'})[0].h2.text"
   ]
  },
  {
   "cell_type": "code",
   "execution_count": 15,
   "id": "4d03a48a-e4c2-46cc-95db-8fa26cc993e4",
   "metadata": {},
   "outputs": [
    {
     "data": {
      "text/plain": [
       "'88.0'"
      ]
     },
     "execution_count": 15,
     "metadata": {},
     "output_type": "execute_result"
    }
   ],
   "source": [
    "doc.find_all('div', {'class': 'user_score_chart'})[0]['data-percent']"
   ]
  },
  {
   "cell_type": "code",
   "execution_count": 16,
   "id": "518cfb18-c05b-4059-a1ac-08e5f974c210",
   "metadata": {},
   "outputs": [],
   "source": [
    "def empty_dict():\n",
    "    scraped_dict = {  \n",
    "                    'Title': [],\n",
    "                    'User_rating': [], \n",
    "                    'Release_date':[], \n",
    "                    'Current_season': [],\n",
    "                    'Current_season_Episodes': [], \n",
    "                    'Tagline': [],\n",
    "                    'Genre': [],\n",
    "                    'Cast': []   \n",
    "                    }\n",
    "    return scraped_dict"
   ]
  },
  {
   "cell_type": "code",
   "execution_count": 17,
   "id": "7740bd82-b6bd-4815-a643-7e3c5c6f32f7",
   "metadata": {},
   "outputs": [],
   "source": [
    "def user_score_info(tag_user_score, i, scraped_dict):\n",
    "    if tag_user_score[i]['data-percent'] == '0':\n",
    "        scraped_dict['User_rating'].append('Not rated yet')\n",
    "    else:\n",
    "        scraped_dict['User_rating'].append(tag_user_score[i]['data-percent'])"
   ]
  },
  {
   "cell_type": "code",
   "execution_count": 18,
   "id": "361ea092-a3a4-436b-a25f-7276469581e6",
   "metadata": {},
   "outputs": [
    {
     "data": {
      "text/plain": [
       "'/tv/119051'"
      ]
     },
     "execution_count": 18,
     "metadata": {},
     "output_type": "execute_result"
    }
   ],
   "source": [
    "doc.find_all('div', {'class': 'card style_1'})[0].h2.a['href']"
   ]
  },
  {
   "cell_type": "code",
   "execution_count": 19,
   "id": "e763fb08-1101-41e1-9283-a993a49fa0ed",
   "metadata": {},
   "outputs": [],
   "source": [
    "def get_show_info(doc_page):\n",
    "    base_link_1 = \"https://www.themoviedb.org\"\n",
    "    tag_title = tag_premired_date = tag_shows_page = doc_page.find_all('div', {'class': 'card style_1'})\n",
    "    tag_user_score = doc_page.find_all('div', {\"user_score_chart\"}) \n",
    "    \n",
    "    doc_2_list = []\n",
    "    for link in tag_shows_page:\n",
    "        # here we are creating the list of all the individual pages of the shows which will come handy in other functions. \n",
    "        doc_2_list.append(get_page_content(\"https://www.themoviedb.org\" + link.h2.a['href']))\n",
    "       # we are going to have the function to return the list of all the information as elements. \n",
    "    return tag_title, tag_user_score, doc_2_list"
   ]
  },
  {
   "cell_type": "code",
   "execution_count": 20,
   "id": "2eff6b16-6045-4c47-bb63-405b1bc6fb40",
   "metadata": {},
   "outputs": [
    {
     "data": {
      "text/plain": [
       "3"
      ]
     },
     "execution_count": 20,
     "metadata": {},
     "output_type": "execute_result"
    }
   ],
   "source": [
    "# lets see if the function returns the list of the information we tried to get earlier. \n",
    "len(get_show_info(doc))"
   ]
  },
  {
   "cell_type": "code",
   "execution_count": 22,
   "id": "965c8557-4f55-4720-9b15-7fc66c123d28",
   "metadata": {},
   "outputs": [],
   "source": [
    "doc_2 = get_page_content(\"https://www.themoviedb.org/tv/91363\")"
   ]
  },
  {
   "cell_type": "code",
   "execution_count": 23,
   "id": "4277e883-b22f-4e6f-99b2-e02325b50548",
   "metadata": {},
   "outputs": [
    {
     "data": {
      "text/plain": [
       "['Animation', 'Action & Adventure', 'Sci-Fi & Fantasy']"
      ]
     },
     "execution_count": 23,
     "metadata": {},
     "output_type": "execute_result"
    }
   ],
   "source": [
    "tag_genre = doc_2.find('span', {\"class\": \"genres\"})\n",
    "tag_genre_list = tag_genre.find_all('a')\n",
    "\n",
    "check_genre =[]\n",
    "for tag in tag_genre_list:\n",
    "    check_genre.append(tag.text)\n",
    "\n",
    "check_genre"
   ]
  },
  {
   "cell_type": "code",
   "execution_count": 24,
   "id": "dc121043-a59f-4d4f-813c-7f76e1a6e7f2",
   "metadata": {},
   "outputs": [],
   "source": [
    "# lets create a function to get the genres for the show. \n",
    "# i here denotes the element of the list vairable ``doc2_page`` that contains different doc pages. Will come handy later on.\n",
    "def get_genres(doc2_page, i):\n",
    "    genres_tags = doc2_page[i].find('span', {\"class\": \"genres\"}).find_all('a')\n",
    "    check_genre =[]\n",
    "    \n",
    "    for tag in genres_tags:\n",
    "        check_genre.append(tag.text)\n",
    "    return check_genre"
   ]
  },
  {
   "cell_type": "code",
   "execution_count": 25,
   "id": "2119c95c-1c0f-4a45-afc0-2dfe49a38a9b",
   "metadata": {},
   "outputs": [],
   "source": [
    "tag_tagline = doc_2.find('h3',{\"class\": 'tagline'})\n",
    "\n",
    "def tagline_info(doc_2_list, i, scraped_dict):\n",
    "    if doc_2_list[i].find('h3',{\"class\": 'tagline'}):\n",
    "        scraped_dict['Tagline'].append(doc_2_list[i].find('h3',{\"class\": 'tagline'}).text)\n",
    "    else:\n",
    "        scraped_dict['Tagline'].append(\"No Tagline\")"
   ]
  },
  {
   "cell_type": "code",
   "execution_count": 26,
   "id": "d371afc9-68f3-45c2-95c1-af834359fdbe",
   "metadata": {},
   "outputs": [],
   "source": [
    "# i here denotes the the element of the list type variable``doc2_page`` that contains different doc pages.\n",
    "\n",
    "def get_show_cast(doc2_page, i):\n",
    "    cast_tags = doc2_page[i].find_all('li', {'class': 'card'})\n",
    "    cast_lis = []\n",
    "    \n",
    "    for t in cast_tags:\n",
    "         cast_lis.append(t.p.text)\n",
    "    \n",
    "    return cast_lis"
   ]
  },
  {
   "cell_type": "code",
   "execution_count": 27,
   "id": "50a43a97-82cb-4a78-b375-e51b37ff7bcc",
   "metadata": {},
   "outputs": [
    {
     "data": {
      "text/plain": [
       "'Season 1'"
      ]
     },
     "execution_count": 27,
     "metadata": {},
     "output_type": "execute_result"
    }
   ],
   "source": [
    "tag_episodes = doc_2.find_all('div' , {'class': 'flex'})\n",
    "# extracing current season from h2 tag under class flex.\n",
    "tag_episodes[1].h2.text "
   ]
  },
  {
   "cell_type": "code",
   "execution_count": 28,
   "id": "bf4a5bf7-9667-4220-9ca0-5c8fb5f2c1dc",
   "metadata": {},
   "outputs": [
    {
     "name": "stdout",
     "output_type": "stream",
     "text": [
      "9 Episodes\n"
     ]
    },
    {
     "data": {
      "text/plain": [
       "'9 Episodes'"
      ]
     },
     "execution_count": 28,
     "metadata": {},
     "output_type": "execute_result"
    }
   ],
   "source": [
    "print('2021 | 9 Episodes'[7:])\n",
    "\n",
    "tag_episodes[1].h4.text[7:]"
   ]
  },
  {
   "cell_type": "code",
   "execution_count": 29,
   "id": "91edacb5-fae8-47e8-a252-b5127435fd40",
   "metadata": {},
   "outputs": [],
   "source": [
    "import pandas as pd\n",
    "\n",
    "def get_show_details(t_title, t_user_score, docs_2_list):\n",
    "    # excuting a function here that empties the dictionary every time the function is called.\n",
    "    scraped_dict =  empty_dict()\n",
    "    for i in range (0, len(t_title)):\n",
    "        scraped_dict['Title'].append(t_title[i].h2.text)\n",
    "        user_score_info(t_user_score, i, scraped_dict)    \n",
    "        scraped_dict['Release_date'].append(t_title[i].p.text)\n",
    "        scraped_dict['Current_season'].append(docs_2_list[i].find_all('div' , {'class': 'flex'})[1].h2.text)\n",
    "        scraped_dict['Current_season_Episodes'].append(docs_2_list[i].find_all('div' , {'class': 'flex'})[1].h4.text[7:])\n",
    "        tagline_info(docs_2_list, i, scraped_dict)  \n",
    "        scraped_dict['Genre'].append(get_genres(docs_2_list, i))        \n",
    "        scraped_dict['Cast'].append(get_show_cast(docs_2_list, i))\n",
    "        \n",
    "    return pd.DataFrame(scraped_dict)"
   ]
  },
  {
   "cell_type": "code",
   "execution_count": 30,
   "id": "694f5243-0856-4261-aa2c-b14f1e3fc2d3",
   "metadata": {},
   "outputs": [
    {
     "ename": "NameError",
     "evalue": "name 't_title_' is not defined",
     "output_type": "error",
     "traceback": [
      "\u001b[1;31m---------------------------------------------------------------------------\u001b[0m",
      "\u001b[1;31mNameError\u001b[0m                                 Traceback (most recent call last)",
      "Cell \u001b[1;32mIn [32], line 3\u001b[0m\n\u001b[0;32m      1\u001b[0m \u001b[38;5;66;03m# Let's excute our function to check if it works. We are going to take a look the data of dataframe.\u001b[39;00m\n\u001b[1;32m----> 3\u001b[0m x \u001b[38;5;241m=\u001b[39m get_show_details(\u001b[43mt_title_\u001b[49m, t_user_score_, doc_2_list_)\n\u001b[0;32m      4\u001b[0m x\u001b[38;5;241m.\u001b[39mto_csv(\u001b[38;5;124m'\u001b[39m\u001b[38;5;124mcheck.csv\u001b[39m\u001b[38;5;124m'\u001b[39m)\n\u001b[0;32m      5\u001b[0m pd\u001b[38;5;241m.\u001b[39mread_csv(\u001b[38;5;124m'\u001b[39m\u001b[38;5;124mcheck.csv\u001b[39m\u001b[38;5;124m'\u001b[39m,index_col\u001b[38;5;241m=\u001b[39m[\u001b[38;5;241m0\u001b[39m])\n",
      "\u001b[1;31mNameError\u001b[0m: name 't_title_' is not defined"
     ]
    }
   ],
   "source": [
    "# Let's excute our function to check if it works. We are going to take a look the data of dataframe.\n",
    "\n",
    "x = get_show_details(tag_title_, tag_user_score_, doc_2_list_)\n",
    "x.to_csv('check.csv')\n",
    "pd.read_csv('check.csv',index_col=[0])"
   ]
  },
  {
   "cell_type": "code",
   "execution_count": null,
   "id": "09879177-ffd0-492d-a3e7-9afb8d6a89dd",
   "metadata": {},
   "outputs": [],
   "source": []
  },
  {
   "cell_type": "code",
   "execution_count": null,
   "id": "f33376f8-7aa7-492e-b5c4-4908fd0589ab",
   "metadata": {},
   "outputs": [],
   "source": []
  },
  {
   "cell_type": "code",
   "execution_count": null,
   "id": "0f40b4b0-66ef-4a21-91a6-708391fcc2d7",
   "metadata": {},
   "outputs": [],
   "source": []
  }
 ],
 "metadata": {
  "kernelspec": {
   "display_name": "Python 3 (ipykernel)",
   "language": "python",
   "name": "python3"
  },
  "language_info": {
   "codemirror_mode": {
    "name": "ipython",
    "version": 3
   },
   "file_extension": ".py",
   "mimetype": "text/x-python",
   "name": "python",
   "nbconvert_exporter": "python",
   "pygments_lexer": "ipython3",
   "version": "3.8.3"
  }
 },
 "nbformat": 4,
 "nbformat_minor": 5
}
