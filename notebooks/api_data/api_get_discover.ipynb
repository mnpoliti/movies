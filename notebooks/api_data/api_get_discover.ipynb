{
 "cells": [
  {
   "cell_type": "code",
   "execution_count": 3,
   "id": "2109e66d-4c53-4e04-8fa0-1649f7f971aa",
   "metadata": {},
   "outputs": [],
   "source": [
    "import config # to hide TMDB API keys\n",
    "import requests # to make TMDB API calls\n",
    "import pandas as pd\n",
    "import numpy as np\n",
    "from pandas import json_normalize \n",
    "import locale # to format currency as USD\n",
    "locale.setlocale( locale.LC_ALL, '' )\n",
    "import matplotlib\n",
    "import matplotlib.pyplot as plt\n",
    "from matplotlib.ticker import FuncFormatter # to format currency on charts axis"
   ]
  },
  {
   "cell_type": "code",
   "execution_count": null,
   "id": "21af949e-f378-4776-b7ad-a950ae61468b",
   "metadata": {},
   "outputs": [],
   "source": [
    "api_key = 'c6cd98753f10dc390a8c4a5b4b83d47c'\n",
    "# get TMDB API key from config.py file"
   ]
  },
  {
   "cell_type": "code",
   "execution_count": 11,
   "id": "acbe8f6b-04e6-4c75-87ce-b1cb8a920d0b",
   "metadata": {},
   "outputs": [],
   "source": [
    "movies=[]\n",
    "details=[]\n",
    "url='https://api.themoviedb.org/3/discover/movie?'\n",
    "api_key='api_key=c6cd98753f10dc390a8c4a5b4b83d47c'\n",
    "language='language=en-US'\n",
    "sort_by='sort_by=popularity.desc'\n",
    "for page in range(1,501):\n",
    "    paging='page='+str(page)\n",
    "    response = requests.get(url+api_key+'&'+language+'&'+sort_by+'&'+paging)\n",
    "    movies=np.concatenate((movies,response.json()['results']))\n",
    "    for movie in response.json()['results']:\n",
    "        movie_id=str(movie['id'])+'?'\n",
    "        response = requests.get('https://api.themoviedb.org/3/movie/'+movie_id+api_key)\n",
    "        details.append(response.json())\n"
   ]
  },
  {
   "cell_type": "code",
   "execution_count": 12,
   "id": "a293654a-71f5-4f43-b300-7a84cb53d86f",
   "metadata": {},
   "outputs": [
    {
     "data": {
      "text/plain": [
       "10000"
      ]
     },
     "execution_count": 12,
     "metadata": {},
     "output_type": "execute_result"
    }
   ],
   "source": [
    "detailsdf=json_normalize(details)\n",
    "detailsdf = pd.DataFrame(detailsdf)\n",
    "detailsdf.columns\n",
    "len(detailsdf)"
   ]
  },
  {
   "cell_type": "code",
   "execution_count": 17,
   "id": "82331059-a940-4be1-a7c8-30b46c86e49e",
   "metadata": {},
   "outputs": [],
   "source": [
    "detailsdf.to_csv('detailsdf.csv', index=False)\n"
   ]
  },
  {
   "cell_type": "code",
   "execution_count": 14,
   "id": "ce9d0eed-4e25-48e3-92b4-29f6f1ccb139",
   "metadata": {},
   "outputs": [],
   "source": [
    "df=json_normalize(movies)\n",
    "df = pd.DataFrame(df)\n",
    "df.to_csv('discover.csv', index=False)\n",
    "\n",
    "\n"
   ]
  },
  {
   "cell_type": "code",
   "execution_count": null,
   "id": "ac76baae-3e0b-49f1-a1bf-e9367d231547",
   "metadata": {},
   "outputs": [],
   "source": []
  },
  {
   "cell_type": "code",
   "execution_count": null,
   "id": "5e3bf341-09b0-43c1-a7e3-5ca04dcacd47",
   "metadata": {},
   "outputs": [],
   "source": []
  }
 ],
 "metadata": {
  "kernelspec": {
   "display_name": "Python 3 (ipykernel)",
   "language": "python",
   "name": "python3"
  },
  "language_info": {
   "codemirror_mode": {
    "name": "ipython",
    "version": 3
   },
   "file_extension": ".py",
   "mimetype": "text/x-python",
   "name": "python",
   "nbconvert_exporter": "python",
   "pygments_lexer": "ipython3",
   "version": "3.8.3"
  }
 },
 "nbformat": 4,
 "nbformat_minor": 5
}
