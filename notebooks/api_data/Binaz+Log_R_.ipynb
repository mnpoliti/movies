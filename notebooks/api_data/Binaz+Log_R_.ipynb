{
 "cells": [
  {
   "cell_type": "code",
   "execution_count": 1,
   "id": "26c9a74e-d4f1-4df3-8304-fa7131ce98d0",
   "metadata": {},
   "outputs": [
    {
     "name": "stderr",
     "output_type": "stream",
     "text": [
      "[nltk_data] Downloading package stopwords to\n",
      "[nltk_data]     C:\\Users\\mpoli\\AppData\\Roaming\\nltk_data...\n",
      "[nltk_data]   Package stopwords is already up-to-date!\n",
      "[nltk_data] Downloading package punkt to\n",
      "[nltk_data]     C:\\Users\\mpoli\\AppData\\Roaming\\nltk_data...\n",
      "[nltk_data]   Package punkt is already up-to-date!\n"
     ]
    },
    {
     "data": {
      "text/plain": [
       "True"
      ]
     },
     "execution_count": 1,
     "metadata": {},
     "output_type": "execute_result"
    }
   ],
   "source": [
    "import pandas as pd\n",
    "import numpy as np\n",
    "import nltk\n",
    "from nltk.corpus import stopwords\n",
    "from nltk.tokenize import sent_tokenize, word_tokenize\n",
    "nltk.download('stopwords')\n",
    "nltk.download('punkt')\n"
   ]
  },
  {
   "cell_type": "code",
   "execution_count": 2,
   "id": "7770b9d6-c5cd-493f-9333-e0568b284403",
   "metadata": {},
   "outputs": [],
   "source": [
    "tf_data = pd.read_csv(\"/Users/mpoli/Desktop/MASTER/DIPLOMATIKI/course_venv/API/API_csvs/tmdb_data.csv\")\n"
   ]
  },
  {
   "cell_type": "code",
   "execution_count": 3,
   "id": "54927a89-bad4-48b0-8f71-0839827d471c",
   "metadata": {},
   "outputs": [
    {
     "data": {
      "text/plain": [
       "Index(['Unnamed: 0', 'budget', 'homepage', 'id', 'imdb_id', 'revenue',\n",
       "       'runtime', 'language', 'description', 'popularity', 'title', 'rating',\n",
       "       'votes', 'year', 'genre1', 'genre2', 'genre3', 'genre4', 'genre5',\n",
       "       'genre6', 'genre7', 'genre8'],\n",
       "      dtype='object')"
      ]
     },
     "execution_count": 3,
     "metadata": {},
     "output_type": "execute_result"
    }
   ],
   "source": [
    "tf_data.columns"
   ]
  },
  {
   "cell_type": "code",
   "execution_count": 4,
   "id": "85380298-0e82-47c1-babb-6c93194c2709",
   "metadata": {},
   "outputs": [],
   "source": [
    "#To follow the method of the article we first delete the movies that have the genres: Animation, Documentary, Histoty, Family, Music and TV Movie\n",
    "tf_data.drop(tf_data[(tf_data['genre1'] == 'Animation') | (tf_data['genre2'] == 'Animation')|\n",
    "                               (tf_data['genre3'] == 'Animation') | (tf_data['genre3'] == 'Animation')|\n",
    "                               (tf_data['genre5'] == 'Animation') | (tf_data['genre4'] == 'Animation')|\n",
    "                               (tf_data['genre7'] == 'Animation') | (tf_data['genre8'] == 'Animation')].index, inplace = True)\n",
    "tf_data.drop(tf_data[(tf_data['genre1'] == 'Documentary') | (tf_data['genre2'] == 'Documentary')|\n",
    "                               (tf_data['genre3'] == 'Documentary') | (tf_data['genre3'] == 'Documentary')|\n",
    "                               (tf_data['genre5'] == 'Documentary') | (tf_data['genre4'] == 'Documentary')|\n",
    "                               (tf_data['genre7'] == 'Documentary') | (tf_data['genre8'] == 'Documentary')].index, inplace = True) \n",
    "tf_data.drop(tf_data[(tf_data['genre1'] == 'Family') | (tf_data['genre2'] == 'Family')|\n",
    "                               (tf_data['genre3'] == 'Family') | (tf_data['genre3'] == 'Family')|\n",
    "                               (tf_data['genre5'] == 'Family') | (tf_data['genre4'] == 'Family')|\n",
    "                               (tf_data['genre7'] == 'Family') | (tf_data['genre8'] == 'Family')].index, inplace = True)\n",
    "tf_data.drop(tf_data[(tf_data['genre1'] == 'History') | (tf_data['genre2'] == 'History')|\n",
    "                               (tf_data['genre3'] == 'History') | (tf_data['genre3'] == 'History')|\n",
    "                               (tf_data['genre5'] == 'History') | (tf_data['genre4'] == 'History')|\n",
    "                               (tf_data['genre7'] == 'History') | (tf_data['genre8'] == 'History')].index, inplace = True)\n",
    "tf_data.drop(tf_data[(tf_data['genre1'] == 'Music') | (tf_data['genre2'] == 'Music')|\n",
    "                               (tf_data['genre3'] == 'Music') | (tf_data['genre3'] == 'Music')|\n",
    "                               (tf_data['genre5'] == 'Music') | (tf_data['genre4'] == 'Music')|\n",
    "                               (tf_data['genre7'] == 'Music') | (tf_data['genre8'] == 'Music')].index, inplace = True)\n",
    "tf_data.drop(tf_data[(tf_data['genre1'] == 'TVMovie') | (tf_data['genre2'] == 'TVMovie')|\n",
    "                               (tf_data['genre3'] == 'TVMovie') | (tf_data['genre3'] == 'TVMovie')|\n",
    "                               (tf_data['genre5'] == 'TVMovie') | (tf_data['genre4'] == 'TVMovie')|\n",
    "                               (tf_data['genre7'] == 'TVMovie') | (tf_data['genre8'] == 'TVMovie')].index, inplace = True)\n",
    "tf_data.drop(tf_data[(tf_data['genre1'] == 'Western') | (tf_data['genre2'] == 'Western')|\n",
    "                               (tf_data['genre3'] == 'Western') | (tf_data['genre3'] == 'Western')|\n",
    "                               (tf_data['genre5'] == 'Western') | (tf_data['genre4'] == 'Western')|\n",
    "                               (tf_data['genre7'] == 'Western') | (tf_data['genre8'] == 'Western')].index, inplace = True)\n",
    "tf_data.drop(tf_data[(tf_data['genre1'] == 'War') | (tf_data['genre2'] == 'War')|\n",
    "                               (tf_data['genre3'] == 'War') | (tf_data['genre3'] == 'War')|\n",
    "                               (tf_data['genre5'] == 'War') | (tf_data['genre4'] == 'War')|\n",
    "                               (tf_data['genre7'] == 'War') | (tf_data['genre8'] == 'War')].index, inplace = True)"
   ]
  },
  {
   "cell_type": "markdown",
   "id": "75009a27-88ff-4923-ad40-7984a79f0b29",
   "metadata": {},
   "source": [
    "##### first we will merge the columns with the genres in order to apply the new column in the tf-idf method"
   ]
  },
  {
   "cell_type": "code",
   "execution_count": 5,
   "id": "4e45fc4b-f33f-464a-b5ef-13760c565151",
   "metadata": {},
   "outputs": [
    {
     "data": {
      "text/plain": [
       "0                Action, Adventure, ScienceFiction\n",
       "1                  Action, Comedy, Crime, Thriller\n",
       "3       Action, Adventure, Fantasy, ScienceFiction\n",
       "4                       Action, Adventure, Fantasy\n",
       "5                  Action, Fantasy, ScienceFiction\n",
       "                           ...                    \n",
       "9863                                Drama, Romance\n",
       "9866                        Crime, Drama, Thriller\n",
       "9868                       Crime, Horror, Thriller\n",
       "9869      Drama, Mystery, ScienceFiction, Thriller\n",
       "9870                Comedy, Horror, ScienceFiction\n",
       "Name: genres, Length: 6769, dtype: object"
      ]
     },
     "execution_count": 5,
     "metadata": {},
     "output_type": "execute_result"
    }
   ],
   "source": [
    "tf_data.fillna('empty', inplace=True)\n",
    "tf_data[\"genres\"] = (\n",
    "    tf_data[['genre1', 'genre2', 'genre3', 'genre4', 'genre5', 'genre6', 'genre7', 'genre8']]\n",
    "        .apply(lambda x: x.str.split(',\\s*'))\n",
    "        .sum(axis=1).map(np.array)\n",
    "        .apply(lambda x: ', '.join(np.unique(x[x != 'empty'])))        \n",
    "        .replace('', 'empty')\n",
    "    )\n",
    "tf_data.genres"
   ]
  },
  {
   "cell_type": "code",
   "execution_count": 6,
   "id": "4eaabcfa-f70a-49c8-86f3-81be0675f0ad",
   "metadata": {},
   "outputs": [
    {
     "data": {
      "text/plain": [
       "0               Action,Adventure,ScienceFiction\n",
       "1                  Action,Comedy,Crime,Thriller\n",
       "3       Action,Adventure,Fantasy,ScienceFiction\n",
       "4                      Action,Adventure,Fantasy\n",
       "5                 Action,Fantasy,ScienceFiction\n",
       "                         ...                   \n",
       "9863                              Drama,Romance\n",
       "9866                       Crime,Drama,Thriller\n",
       "9868                      Crime,Horror,Thriller\n",
       "9869      Drama,Mystery,ScienceFiction,Thriller\n",
       "9870               Comedy,Horror,ScienceFiction\n",
       "Name: genres, Length: 6769, dtype: object"
      ]
     },
     "execution_count": 6,
     "metadata": {},
     "output_type": "execute_result"
    }
   ],
   "source": [
    "def remove_spaces(x):\n",
    "    x=x.split(\",\")\n",
    "    nospace=[]\n",
    "    for item in x:\n",
    "        item=item.lstrip()\n",
    "        nospace.append(item)\n",
    "    return (\",\").join(nospace)\n",
    "\n",
    "tf_data['genres']=tf_data['genres'].apply(remove_spaces)\n",
    "tf_data['genres']"
   ]
  },
  {
   "cell_type": "code",
   "execution_count": 7,
   "id": "5d9f02c7-34a1-440c-a552-1765da82e2b0",
   "metadata": {},
   "outputs": [
    {
     "data": {
      "text/plain": [
       "string[python]"
      ]
     },
     "execution_count": 7,
     "metadata": {},
     "output_type": "execute_result"
    }
   ],
   "source": [
    "tf_data['genres'] = tf_data['genres'].astype(\"string\")\n",
    "tf_data.genres.dtypes"
   ]
  },
  {
   "cell_type": "code",
   "execution_count": 8,
   "id": "a7aa1ac0-cfa8-4471-890e-251399f3db47",
   "metadata": {},
   "outputs": [
    {
     "data": {
      "text/plain": [
       "0                [Action, Adventure, ScienceFiction]\n",
       "1                  [Action, Comedy, Crime, Thriller]\n",
       "3       [Action, Adventure, Fantasy, ScienceFiction]\n",
       "4                       [Action, Adventure, Fantasy]\n",
       "5                  [Action, Fantasy, ScienceFiction]\n",
       "                            ...                     \n",
       "9863                                [Drama, Romance]\n",
       "9866                        [Crime, Drama, Thriller]\n",
       "9868                       [Crime, Horror, Thriller]\n",
       "9869      [Drama, Mystery, ScienceFiction, Thriller]\n",
       "9870                [Comedy, Horror, ScienceFiction]\n",
       "Name: genres, Length: 6769, dtype: object"
      ]
     },
     "execution_count": 8,
     "metadata": {},
     "output_type": "execute_result"
    }
   ],
   "source": [
    "#https://www.geeksforgeeks.org/python-program-convert-string-list/\n",
    "def Convert(string):\n",
    "    li = list(string.split(\",\"))\n",
    "    return li    \n",
    "# Driver code\n",
    "tf_data['genres'] = tf_data['genres'].apply(lambda s: Convert(s))\n",
    "tf_data.genres"
   ]
  },
  {
   "cell_type": "code",
   "execution_count": 9,
   "id": "1bfd5266-709b-4227-90ea-1657440139ee",
   "metadata": {},
   "outputs": [
    {
     "data": {
      "text/plain": [
       "['Action', 'Comedy', 'Crime', 'Thriller']"
      ]
     },
     "execution_count": 9,
     "metadata": {},
     "output_type": "execute_result"
    }
   ],
   "source": [
    "tf_data.genres[1]\n"
   ]
  },
  {
   "cell_type": "code",
   "execution_count": 10,
   "id": "6b744857-7497-458c-85f4-dba30930bc7b",
   "metadata": {},
   "outputs": [
    {
     "data": {
      "text/plain": [
       "6769"
      ]
     },
     "execution_count": 10,
     "metadata": {},
     "output_type": "execute_result"
    }
   ],
   "source": [
    "len(tf_data)"
   ]
  },
  {
   "cell_type": "markdown",
   "id": "ad6a7b2e-cf3c-453c-8ee5-f7c636ae0240",
   "metadata": {},
   "source": [
    "##### description column transform into string type from object type"
   ]
  },
  {
   "cell_type": "code",
   "execution_count": 11,
   "id": "bff9572f-e245-4e1b-9cb3-a3099caa4728",
   "metadata": {},
   "outputs": [
    {
     "data": {
      "text/plain": [
       "Unnamed: 0       int64\n",
       "budget           int64\n",
       "homepage        object\n",
       "id               int64\n",
       "imdb_id         object\n",
       "revenue          int64\n",
       "runtime          int64\n",
       "language        object\n",
       "description     string\n",
       "popularity     float64\n",
       "title           object\n",
       "rating         float64\n",
       "votes            int64\n",
       "year             int64\n",
       "genre1          object\n",
       "genre2          object\n",
       "genre3          object\n",
       "genre4          object\n",
       "genre5          object\n",
       "genre6          object\n",
       "genre7          object\n",
       "genre8          object\n",
       "genres          object\n",
       "dtype: object"
      ]
     },
     "execution_count": 11,
     "metadata": {},
     "output_type": "execute_result"
    }
   ],
   "source": [
    "tf_data['description'] = tf_data['description'].astype(\"string\")\n",
    "tf_data.dtypes"
   ]
  },
  {
   "cell_type": "markdown",
   "id": "cd39b2c2-1c59-43a9-b85c-25eb21414d22",
   "metadata": {},
   "source": [
    "#### Preproccesing the data"
   ]
  },
  {
   "cell_type": "markdown",
   "id": "9c9e1b28-1ecf-4014-9070-2af14ff323af",
   "metadata": {},
   "source": [
    "##### lowercase"
   ]
  },
  {
   "cell_type": "code",
   "execution_count": 12,
   "id": "846778c2-8bd8-4f86-9140-996b9305d033",
   "metadata": {},
   "outputs": [
    {
     "data": {
      "text/plain": [
       "0       Set more than a decade after the events of the...\n",
       "1       When a team of mercenaries breaks into a wealt...\n",
       "3       In the 22nd century, a paraplegic Marine is di...\n",
       "4       Deep inside the mountain of Dovre, something g...\n",
       "5       Nearly 5,000 years after he was bestowed with ...\n",
       "                              ...                        \n",
       "9863    Georges and Anne are in their eighties. They a...\n",
       "9866    Two brothers, on either side of the law, face ...\n",
       "9868    After a serial killer strangles several women ...\n",
       "9869    At the dawn of the space-race, two radio-obses...\n",
       "9870    In the town of Dillford, humans, vampires and ...\n",
       "Name: description, Length: 6769, dtype: string"
      ]
     },
     "execution_count": 12,
     "metadata": {},
     "output_type": "execute_result"
    }
   ],
   "source": [
    "tf_data.description"
   ]
  },
  {
   "cell_type": "code",
   "execution_count": 13,
   "id": "657dc8f9-0901-4a61-b641-b6d90ce7a022",
   "metadata": {},
   "outputs": [
    {
     "data": {
      "text/plain": [
       "0       set more than a decade after the events of the...\n",
       "1       when a team of mercenaries breaks into a wealt...\n",
       "3       in the 22nd century, a paraplegic marine is di...\n",
       "4       deep inside the mountain of dovre, something g...\n",
       "5       nearly 5,000 years after he was bestowed with ...\n",
       "                              ...                        \n",
       "9863    georges and anne are in their eighties. they a...\n",
       "9866    two brothers, on either side of the law, face ...\n",
       "9868    after a serial killer strangles several women ...\n",
       "9869    at the dawn of the space-race, two radio-obses...\n",
       "9870    in the town of dillford, humans, vampires and ...\n",
       "Name: description, Length: 6769, dtype: string"
      ]
     },
     "execution_count": 13,
     "metadata": {},
     "output_type": "execute_result"
    }
   ],
   "source": [
    "tf_data['description'] = tf_data['description'].str.lower()\n",
    "tf_data.description"
   ]
  },
  {
   "cell_type": "markdown",
   "id": "738a8a35-94ca-4703-9b95-f8c2f5a726c1",
   "metadata": {},
   "source": [
    "##### stopwords"
   ]
  },
  {
   "cell_type": "code",
   "execution_count": 14,
   "id": "a2cc3e1d-afbd-4c64-805f-3992f4ba8001",
   "metadata": {},
   "outputs": [],
   "source": [
    "#for the libraries\n",
    "#https://www.geeksforgeeks.org/removing-stop-words-nltk-python/"
   ]
  },
  {
   "cell_type": "code",
   "execution_count": 15,
   "id": "fffbc76e-f833-4566-bf32-4bd71bd77129",
   "metadata": {},
   "outputs": [
    {
     "name": "stdout",
     "output_type": "stream",
     "text": [
      "['i', 'me', 'my', 'myself', 'we', 'our', 'ours', 'ourselves', 'you', \"you're\", \"you've\", \"you'll\", \"you'd\", 'your', 'yours', 'yourself', 'yourselves', 'he', 'him', 'his', 'himself', 'she', \"she's\", 'her', 'hers', 'herself', 'it', \"it's\", 'its', 'itself', 'they', 'them', 'their', 'theirs', 'themselves', 'what', 'which', 'who', 'whom', 'this', 'that', \"that'll\", 'these', 'those', 'am', 'is', 'are', 'was', 'were', 'be', 'been', 'being', 'have', 'has', 'had', 'having', 'do', 'does', 'did', 'doing', 'a', 'an', 'the', 'and', 'but', 'if', 'or', 'because', 'as', 'until', 'while', 'of', 'at', 'by', 'for', 'with', 'about', 'against', 'between', 'into', 'through', 'during', 'before', 'after', 'above', 'below', 'to', 'from', 'up', 'down', 'in', 'out', 'on', 'off', 'over', 'under', 'again', 'further', 'then', 'once', 'here', 'there', 'when', 'where', 'why', 'how', 'all', 'any', 'both', 'each', 'few', 'more', 'most', 'other', 'some', 'such', 'no', 'nor', 'not', 'only', 'own', 'same', 'so', 'than', 'too', 'very', 's', 't', 'can', 'will', 'just', 'don', \"don't\", 'should', \"should've\", 'now', 'd', 'll', 'm', 'o', 're', 've', 'y', 'ain', 'aren', \"aren't\", 'couldn', \"couldn't\", 'didn', \"didn't\", 'doesn', \"doesn't\", 'hadn', \"hadn't\", 'hasn', \"hasn't\", 'haven', \"haven't\", 'isn', \"isn't\", 'ma', 'mightn', \"mightn't\", 'mustn', \"mustn't\", 'needn', \"needn't\", 'shan', \"shan't\", 'shouldn', \"shouldn't\", 'wasn', \"wasn't\", 'weren', \"weren't\", 'won', \"won't\", 'wouldn', \"wouldn't\"]\n"
     ]
    }
   ],
   "source": [
    "print(stopwords.words('english'))"
   ]
  },
  {
   "cell_type": "code",
   "execution_count": 16,
   "id": "e9286064-24de-4db7-b9e6-bf74041f4e17",
   "metadata": {},
   "outputs": [],
   "source": [
    "stop_words = set(stopwords.words('english'))"
   ]
  },
  {
   "cell_type": "code",
   "execution_count": 17,
   "id": "8093be06-a0ec-49f8-989e-3bbec0e725c4",
   "metadata": {},
   "outputs": [
    {
     "data": {
      "text/plain": [
       "0       set decade events first film, learn story sull...\n",
       "1       team mercenaries breaks wealthy family compoun...\n",
       "3       22nd century, paraplegic marine dispatched moo...\n",
       "4       deep inside mountain dovre, something gigantic...\n",
       "5       nearly 5,000 years bestowed almighty powers eg...\n",
       "                              ...                        \n",
       "9863    georges anne eighties. cultivated, retired mus...\n",
       "9866    two brothers, either side law, face organized ...\n",
       "9868    serial killer strangles several women necktie,...\n",
       "9869    dawn space-race, two radio-obsessed teens disc...\n",
       "9870    town dillford, humans, vampires zombies living...\n",
       "Name: description, Length: 6769, dtype: object"
      ]
     },
     "execution_count": 17,
     "metadata": {},
     "output_type": "execute_result"
    }
   ],
   "source": [
    "#https://stackoverflow.com/questions/29523254/python-remove-stop-words-from-pandas-dataframe\n",
    "tf_data['description'] = tf_data['description'].apply(lambda x: ' '.join([word for word in x.split() if word not in (stop_words)]))\n",
    "tf_data.description"
   ]
  },
  {
   "cell_type": "markdown",
   "id": "a3040bc2-8823-4af3-8880-3f1ac27202c2",
   "metadata": {},
   "source": [
    "##### punctuation"
   ]
  },
  {
   "cell_type": "code",
   "execution_count": 18,
   "id": "074f3a5b-2dcb-40d9-a7bc-89f4721d259e",
   "metadata": {},
   "outputs": [],
   "source": [
    "#το κομμα να το βγάλω?"
   ]
  },
  {
   "cell_type": "code",
   "execution_count": 19,
   "id": "09fd5a48-5bae-493d-9f4a-ae4005dad5ca",
   "metadata": {},
   "outputs": [
    {
     "name": "stderr",
     "output_type": "stream",
     "text": [
      "C:\\Users\\mpoli\\AppData\\Local\\Temp\\ipykernel_4616\\420607143.py:3: FutureWarning: The default value of regex will change from True to False in a future version. In addition, single character regular expressions will *not* be treated as literal strings when regex=True.\n",
      "  tf_data.description = tf_data.description.str.replace(i,\" \")\n"
     ]
    },
    {
     "data": {
      "text/plain": [
       "0       set decade events first film, learn story sull...\n",
       "1       team mercenaries breaks wealthy family compoun...\n",
       "3       22nd century, paraplegic marine dispatched moo...\n",
       "4       deep inside mountain dovre, something gigantic...\n",
       "5       nearly 5,000 years bestowed almighty powers eg...\n",
       "                              ...                        \n",
       "9863    georges anne eighties  cultivated, retired mus...\n",
       "9866    two brothers, either side law, face organized ...\n",
       "9868    serial killer strangles several women necktie,...\n",
       "9869    dawn space race, two radio obsessed teens disc...\n",
       "9870    town dillford, humans, vampires zombies living...\n",
       "Name: description, Length: 6769, dtype: object"
      ]
     },
     "execution_count": 19,
     "metadata": {},
     "output_type": "execute_result"
    }
   ],
   "source": [
    "symbols = \"!\\\"#$%&()*+-./:;<=>?@[\\]^_`{|}~\\n—”“–\"\n",
    "for i in symbols:\n",
    "    tf_data.description = tf_data.description.str.replace(i,\" \")\n",
    "tf_data.description"
   ]
  },
  {
   "cell_type": "code",
   "execution_count": 20,
   "id": "f195c528-2fa6-476e-be2f-6b3669d92c2d",
   "metadata": {},
   "outputs": [],
   "source": [
    "tf_data.to_csv('tf_data.csv')"
   ]
  },
  {
   "cell_type": "markdown",
   "id": "2af124a6-11db-4367-81e6-61e6c1be83b0",
   "metadata": {},
   "source": [
    "##### apostrophe"
   ]
  },
  {
   "cell_type": "code",
   "execution_count": 21,
   "id": "609067ba-36a0-41f0-8efa-d5dee9a4a27b",
   "metadata": {},
   "outputs": [
    {
     "data": {
      "text/plain": [
       "0       set decade events first film learn story sully...\n",
       "1       team mercenaries breaks wealthy family compoun...\n",
       "3       22nd century paraplegic marine dispatched moon...\n",
       "4       deep inside mountain dovre something gigantic ...\n",
       "5       nearly 5000 years bestowed almighty powers egy...\n",
       "                              ...                        \n",
       "9863    georges anne eighties  cultivated retired musi...\n",
       "9866    two brothers either side law face organized cr...\n",
       "9868    serial killer strangles several women necktie ...\n",
       "9869    dawn space race two radio obsessed teens disco...\n",
       "9870    town dillford humans vampires zombies living p...\n",
       "Name: description, Length: 6769, dtype: object"
      ]
     },
     "execution_count": 21,
     "metadata": {},
     "output_type": "execute_result"
    }
   ],
   "source": [
    "tf_data.description = tf_data.description.str.replace(\"’\",\" \")\n",
    "tf_data.description = tf_data.description.str.replace(\"‘\",\" \")\n",
    "tf_data.description = tf_data.description.str.replace(\"'\",\" \")\n",
    "tf_data.description = tf_data.description.str.replace(\",\",\"\")\n",
    "tf_data.description"
   ]
  },
  {
   "cell_type": "markdown",
   "id": "5edcf2a2-4384-4c63-8a33-8015cc56e769",
   "metadata": {},
   "source": [
    "##### stopwords again "
   ]
  },
  {
   "cell_type": "code",
   "execution_count": 22,
   "id": "e7db40c3-9dc3-4426-b7d0-4c1271d1c771",
   "metadata": {},
   "outputs": [
    {
     "data": {
      "text/plain": [
       "0       set decade events first film learn story sully...\n",
       "1       team mercenaries breaks wealthy family compoun...\n",
       "3       22nd century paraplegic marine dispatched moon...\n",
       "4       deep inside mountain dovre something gigantic ...\n",
       "5       nearly 5000 years bestowed almighty powers egy...\n",
       "                              ...                        \n",
       "9863    georges anne eighties cultivated retired music...\n",
       "9866    two brothers either side law face organized cr...\n",
       "9868    serial killer strangles several women necktie ...\n",
       "9869    dawn space race two radio obsessed teens disco...\n",
       "9870    town dillford humans vampires zombies living p...\n",
       "Name: description, Length: 6769, dtype: object"
      ]
     },
     "execution_count": 22,
     "metadata": {},
     "output_type": "execute_result"
    }
   ],
   "source": [
    "stop_words = set(stopwords.words('english'))\n",
    "tf_data['description'] = tf_data['description'].apply(lambda x: ' '.join([word for word in x.split() if word not in (stop_words)]))\n",
    "tf_data.description"
   ]
  },
  {
   "cell_type": "markdown",
   "id": "a75b5c4c-c292-4cae-a09f-5a942b9b5bc0",
   "metadata": {},
   "source": [
    "##### single characters"
   ]
  },
  {
   "cell_type": "code",
   "execution_count": 23,
   "id": "06d88fed-4637-4bc8-ba6b-e96a841791ea",
   "metadata": {},
   "outputs": [
    {
     "data": {
      "text/plain": [
       "0       set decade events first film learn story sully...\n",
       "1       team mercenaries breaks wealthy family compoun...\n",
       "3       22nd century paraplegic marine dispatched moon...\n",
       "4       deep inside mountain dovre something gigantic ...\n",
       "5       nearly 5000 years bestowed almighty powers egy...\n",
       "                              ...                        \n",
       "9863    georges anne eighties cultivated retired music...\n",
       "9866    two brothers either side law face organized cr...\n",
       "9868    serial killer strangles several women necktie ...\n",
       "9869    dawn space race two radio obsessed teens disco...\n",
       "9870    town dillford humans vampires zombies living p...\n",
       "Name: description, Length: 6769, dtype: object"
      ]
     },
     "execution_count": 23,
     "metadata": {},
     "output_type": "execute_result"
    }
   ],
   "source": [
    "tf_data['description'] = tf_data['description'].apply(lambda x: ' '.join([word for word in x.split() if len(word) >1]))\n",
    "tf_data.description"
   ]
  },
  {
   "cell_type": "markdown",
   "id": "dc927455-2e54-4057-bce9-7cdceda172c4",
   "metadata": {},
   "source": [
    "##### convert numbers"
   ]
  },
  {
   "cell_type": "code",
   "execution_count": 24,
   "id": "45a636d8-82e5-4eee-9cac-d5d01ed1db21",
   "metadata": {},
   "outputs": [],
   "source": [
    "import num2words"
   ]
  },
  {
   "cell_type": "code",
   "execution_count": 25,
   "id": "c62609d2-0dec-4c79-a413-163405c5481c",
   "metadata": {},
   "outputs": [
    {
     "data": {
      "text/plain": [
       "0       set decade events first film learn story sully...\n",
       "1       team mercenaries breaks wealthy family compoun...\n",
       "3       22nd century paraplegic marine dispatched moon...\n",
       "4       deep inside mountain dovre something gigantic ...\n",
       "5       nearly five thousand years bestowed almighty p...\n",
       "                              ...                        \n",
       "9863    georges anne eighties cultivated retired music...\n",
       "9866    two brothers either side law face organized cr...\n",
       "9868    serial killer strangles several women necktie ...\n",
       "9869    dawn space race two radio obsessed teens disco...\n",
       "9870    town dillford humans vampires zombies living p...\n",
       "Name: description, Length: 6769, dtype: object"
      ]
     },
     "execution_count": 25,
     "metadata": {},
     "output_type": "execute_result"
    }
   ],
   "source": [
    "#https://stackoverflow.com/questions/56733012/converting-number-in-sentences-to-word-in-python \n",
    "#is the for exaple 11th etc a problem?\n",
    "tf_data['description'] = tf_data['description'].apply(lambda x: ' '.join([num2words.num2words(i) if i.isdigit() else i for i in x.split()]))\n",
    "tf_data['description'] "
   ]
  },
  {
   "cell_type": "code",
   "execution_count": 32,
   "id": "33869db8-9dbf-4635-b9ee-bc61c4524cd1",
   "metadata": {},
   "outputs": [],
   "source": [
    "import inflect\n",
    "\n",
    "def convert_ordinals_to_words(value):\n",
    "    p = inflect.engine()\n",
    "    words = []\n",
    "    for word in value.split():\n",
    "        if word.endswith(('st', 'nd', 'rd', 'th')):\n",
    "            if word[:-2].isdigit():\n",
    "                words.append(p.number_to_words(int(word[:-2])) + ' ' + p.ordinal(int(word[:-2])))\n",
    "            else:\n",
    "                words.append(word)\n",
    "        else:\n",
    "            words.append(word)\n",
    "    return ' '.join(words)\n",
    "\n"
   ]
  },
  {
   "cell_type": "code",
   "execution_count": 33,
   "id": "22f0db41-f9bf-4b01-a9ac-67b5a4556323",
   "metadata": {},
   "outputs": [],
   "source": [
    "tf_data['description'] = tf_data['description'].astype(\"string\")\n",
    "tf_data['description'] = tf_data['description'].apply(convert_ordinals_to_words)\n"
   ]
  },
  {
   "cell_type": "code",
   "execution_count": 34,
   "id": "dcf85810-27be-44c7-be76-68e7664c284e",
   "metadata": {},
   "outputs": [
    {
     "data": {
      "text/plain": [
       "0       set decade events first film learn story sully...\n",
       "1       team mercenaries breaks wealthy family compoun...\n",
       "3       twenty-two 22nd century paraplegic marine disp...\n",
       "4       deep inside mountain dovre something gigantic ...\n",
       "5       nearly five thousand years bestowed almighty p...\n",
       "                              ...                        \n",
       "9863    georges anne eighties cultivated retired music...\n",
       "9866    two brothers either side law face organized cr...\n",
       "9868    serial killer strangles several women necktie ...\n",
       "9869    dawn space race two radio obsessed teens disco...\n",
       "9870    town dillford humans vampires zombies living p...\n",
       "Name: description, Length: 6769, dtype: object"
      ]
     },
     "execution_count": 34,
     "metadata": {},
     "output_type": "execute_result"
    }
   ],
   "source": [
    "tf_data['description']"
   ]
  },
  {
   "cell_type": "markdown",
   "id": "8b30b251-ec7e-465d-ba42-c00076e7e4fc",
   "metadata": {},
   "source": [
    "##### punctuation and stopwords again"
   ]
  },
  {
   "cell_type": "code",
   "execution_count": 26,
   "id": "200900b4-63cc-4ea5-816a-9bcd3519de6d",
   "metadata": {},
   "outputs": [
    {
     "name": "stderr",
     "output_type": "stream",
     "text": [
      "C:\\Users\\mpoli\\AppData\\Local\\Temp\\ipykernel_15392\\420607143.py:3: FutureWarning: The default value of regex will change from True to False in a future version. In addition, single character regular expressions will *not* be treated as literal strings when regex=True.\n",
      "  tf_data.description = tf_data.description.str.replace(i,\" \")\n"
     ]
    },
    {
     "data": {
      "text/plain": [
       "0       set decade events first film learn story sully...\n",
       "1       team mercenaries breaks wealthy family compoun...\n",
       "3       22nd century paraplegic marine dispatched moon...\n",
       "4       deep inside mountain dovre something gigantic ...\n",
       "5       nearly five thousand years bestowed almighty p...\n",
       "                              ...                        \n",
       "9863    georges anne eighties cultivated retired music...\n",
       "9866    two brothers either side law face organized cr...\n",
       "9868    serial killer strangles several women necktie ...\n",
       "9869    dawn space race two radio obsessed teens disco...\n",
       "9870    town dillford humans vampires zombies living p...\n",
       "Name: description, Length: 6769, dtype: object"
      ]
     },
     "execution_count": 26,
     "metadata": {},
     "output_type": "execute_result"
    }
   ],
   "source": [
    "symbols = \"!\\\"#$%&()*+-./:;<=>?@[\\]^_`{|}~\\n—”“–\"\n",
    "for i in symbols:\n",
    "    tf_data.description = tf_data.description.str.replace(i,\" \")\n",
    "tf_data.description"
   ]
  },
  {
   "cell_type": "code",
   "execution_count": 27,
   "id": "bdb5f482-d796-4bee-943c-92d71e4b10a6",
   "metadata": {},
   "outputs": [],
   "source": [
    "tf_data['description'] = tf_data['description'].apply(lambda x: ' '.join([word for word in x.split() if word not in (stop_words)]))"
   ]
  },
  {
   "cell_type": "markdown",
   "id": "5dc6e095-9d7e-4d33-9c94-68f50b1af5eb",
   "metadata": {},
   "source": [
    "##### stemming"
   ]
  },
  {
   "cell_type": "code",
   "execution_count": 28,
   "id": "50598f41-db19-4bf3-b8f5-3384a3112d7f",
   "metadata": {},
   "outputs": [],
   "source": [
    "from nltk.stem import PorterStemmer"
   ]
  },
  {
   "cell_type": "code",
   "execution_count": 29,
   "id": "58a1aa9d-59c7-4cfc-a5eb-1e5f903d2117",
   "metadata": {},
   "outputs": [
    {
     "data": {
      "text/plain": [
       "0       set decad event first film learn stori sulli f...\n",
       "1       team mercenari break wealthi famili compound c...\n",
       "3       22nd centuri parapleg marin dispatch moon pand...\n",
       "4       deep insid mountain dovr someth gigant awaken ...\n",
       "5       nearli five thousand year bestow almighti powe...\n",
       "                              ...                        \n",
       "9863    georg ann eighti cultiv retir music teacher da...\n",
       "9866    two brother either side law face organ crime b...\n",
       "9868    serial killer strangl sever women neckti londo...\n",
       "9869    dawn space race two radio obsess teen discov s...\n",
       "9870    town dillford human vampir zombi live peac ali...\n",
       "Name: description, Length: 6769, dtype: object"
      ]
     },
     "execution_count": 29,
     "metadata": {},
     "output_type": "execute_result"
    }
   ],
   "source": [
    "##with Porter Stemmer\n",
    "#https://stackoverflow.com/questions/37443138/python-stemming-with-pandas-dataframe\n",
    "#https://www.projectpro.io/recipes/use-porter-stemmer\n",
    "ps = PorterStemmer()\n",
    "tf_data['description'] = tf_data['description'].apply(lambda x: ' '.join([ps.stem(y) for y in x.split()]))\n",
    "tf_data.description"
   ]
  },
  {
   "cell_type": "markdown",
   "id": "161702c0-6315-4cd9-8011-9a5df1f6be55",
   "metadata": {},
   "source": [
    "##### Because this is a multi-label classification problem we will treat thie as a Binary Relevance problem"
   ]
  },
  {
   "cell_type": "code",
   "execution_count": 30,
   "id": "bc1c31bf-8685-406e-88db-3c2256329fc7",
   "metadata": {},
   "outputs": [],
   "source": [
    "from sklearn.preprocessing import MultiLabelBinarizer\n",
    "\n",
    "multilabel_binarizer = MultiLabelBinarizer()\n",
    "multilabel_binarizer.fit(tf_data['genres'])\n",
    "\n",
    "# transform target variable\n",
    "y = multilabel_binarizer.transform(tf_data['genres'])"
   ]
  },
  {
   "cell_type": "markdown",
   "id": "e9818219-7bcf-4761-9b01-c7e68ef04d52",
   "metadata": {},
   "source": [
    "#### Apply TF-IDF to extract the features"
   ]
  },
  {
   "cell_type": "code",
   "execution_count": 31,
   "id": "ac70d113-e328-4527-a205-a85c655d3f85",
   "metadata": {},
   "outputs": [],
   "source": [
    "from sklearn.feature_extraction.text import TfidfVectorizer\n",
    "from sklearn.model_selection import train_test_split"
   ]
  },
  {
   "cell_type": "code",
   "execution_count": 32,
   "id": "4933485e-624d-41cf-9657-f23329a76e23",
   "metadata": {},
   "outputs": [],
   "source": [
    "#?TfidfVectorizer\n",
    "#?train_test_split"
   ]
  },
  {
   "cell_type": "markdown",
   "id": "c6943c91-f80f-4b8b-8cdb-8e5e3ba4a12c",
   "metadata": {},
   "source": [
    "##### apply the algorithm of tf-idf"
   ]
  },
  {
   "cell_type": "code",
   "execution_count": 33,
   "id": "be5840a1-aad0-40a7-b5ff-f7745f220b63",
   "metadata": {},
   "outputs": [
    {
     "data": {
      "text/plain": [
       "(4738, 13302)"
      ]
     },
     "execution_count": 33,
     "metadata": {},
     "output_type": "execute_result"
    }
   ],
   "source": [
    "#https://medium.com/@kunalgupta4595/predicting-movie-genres-based-on-plot-summaries-bae646e70e04\n",
    "tfidf = TfidfVectorizer() #ngram_range=(2,3)\n",
    "\n",
    "X= tf_data['description']\n",
    "X_train, X_test, y_train, y_test = train_test_split(X, y,\n",
    "                                   test_size = 0.3,\n",
    "                                   random_state = 42)\n",
    "\n",
    "X_train_tfidf = tfidf.fit_transform(X_train) \n",
    "X_test_tfidf = tfidf.transform(X_test)\n",
    "labels = tf_data.genres\n",
    "X_train_tfidf.shape"
   ]
  },
  {
   "cell_type": "code",
   "execution_count": 34,
   "id": "0a42a383-e4f1-4ce4-a832-d5284fd65985",
   "metadata": {},
   "outputs": [],
   "source": [
    "#each of 4738 descriptions is represented by 13302 features, \n",
    "#representing the tf-idf score for different unigrams and bigrams."
   ]
  },
  {
   "cell_type": "markdown",
   "id": "178d23a7-50a3-49c9-b437-ba873fc0c4bb",
   "metadata": {},
   "source": [
    "##### apply Logistic Regression"
   ]
  },
  {
   "cell_type": "code",
   "execution_count": 35,
   "id": "d1e7f9e1-37e6-4a36-b58d-09c66f704489",
   "metadata": {},
   "outputs": [],
   "source": [
    "from sklearn.linear_model import LogisticRegression\n",
    "\n",
    "# Binary Relevance\n",
    "from sklearn.multiclass import OneVsRestClassifier\n",
    "\n",
    "# Performance metric\n",
    "from sklearn.metrics import f1_score"
   ]
  },
  {
   "cell_type": "code",
   "execution_count": 36,
   "id": "c8fb5ad9-3f2e-45b1-a575-a5d1edcd59dd",
   "metadata": {},
   "outputs": [],
   "source": [
    "lr = LogisticRegression()\n",
    "clf = OneVsRestClassifier(lr)"
   ]
  },
  {
   "cell_type": "code",
   "execution_count": 37,
   "id": "f65eb594-3d59-4c5a-891d-ba60a76a2d45",
   "metadata": {},
   "outputs": [
    {
     "data": {
      "text/plain": [
       "OneVsRestClassifier(estimator=LogisticRegression())"
      ]
     },
     "execution_count": 37,
     "metadata": {},
     "output_type": "execute_result"
    }
   ],
   "source": [
    "# fit model on train data\n",
    "clf.fit(X_train_tfidf, y_train)"
   ]
  },
  {
   "cell_type": "code",
   "execution_count": 38,
   "id": "5c839824-6963-4ff1-a6ab-e2292c128e68",
   "metadata": {},
   "outputs": [],
   "source": [
    "# make predictions for validation set\n",
    "y_pred = clf.predict(X_test_tfidf)"
   ]
  },
  {
   "cell_type": "code",
   "execution_count": 39,
   "id": "1bedb4aa-f73e-401d-8c6e-63183e599e02",
   "metadata": {},
   "outputs": [
    {
     "data": {
      "text/plain": [
       "array([0, 0, 0, 0, 0, 0, 1, 0, 0, 0, 0, 0, 0])"
      ]
     },
     "execution_count": 39,
     "metadata": {},
     "output_type": "execute_result"
    }
   ],
   "source": [
    "y_pred[1]"
   ]
  },
  {
   "cell_type": "code",
   "execution_count": 40,
   "id": "d3fc92f7-d7fb-4bb4-9e1a-fa9a44a6ff26",
   "metadata": {},
   "outputs": [
    {
     "data": {
      "text/plain": [
       "('Horror',)"
      ]
     },
     "execution_count": 40,
     "metadata": {},
     "output_type": "execute_result"
    }
   ],
   "source": [
    "multilabel_binarizer.inverse_transform(y_pred)[1]"
   ]
  },
  {
   "cell_type": "code",
   "execution_count": 41,
   "id": "4bb17725-bda5-479e-95cd-6cf819b17543",
   "metadata": {},
   "outputs": [
    {
     "data": {
      "text/plain": [
       "0.40889701401584394"
      ]
     },
     "execution_count": 41,
     "metadata": {},
     "output_type": "execute_result"
    }
   ],
   "source": [
    "from sklearn.metrics import f1_score\n",
    "f1_score(y_test, y_pred, average=\"micro\", zero_division=0)"
   ]
  },
  {
   "cell_type": "code",
   "execution_count": 42,
   "id": "b7509c78-f3e7-4ff8-ab09-1f48794426de",
   "metadata": {},
   "outputs": [],
   "source": [
    "#Let’s try to change this threshold value and see if that improves our model’s score:"
   ]
  },
  {
   "cell_type": "code",
   "execution_count": 43,
   "id": "a718f438-84ef-4774-92c7-a89ef66bd66a",
   "metadata": {},
   "outputs": [],
   "source": [
    "# predict probabilities\n",
    "y_pred_prob = clf.predict_proba(X_test_tfidf)"
   ]
  },
  {
   "cell_type": "code",
   "execution_count": 44,
   "id": "dcbb6702-9edd-4b86-962e-d30653ae1d52",
   "metadata": {},
   "outputs": [
    {
     "data": {
      "text/plain": [
       "0.6022"
      ]
     },
     "execution_count": 44,
     "metadata": {},
     "output_type": "execute_result"
    }
   ],
   "source": [
    "t = 0.3 # threshold value\n",
    "y_pred_new = (y_pred_prob >= t).astype(int)\n",
    "f1_score(y_test, y_pred_new, average=\"micro\", zero_division=0)"
   ]
  },
  {
   "cell_type": "code",
   "execution_count": 45,
   "id": "b9a02eee-6a28-4fe5-bfd6-a27293793b0f",
   "metadata": {},
   "outputs": [
    {
     "data": {
      "text/plain": [
       "0.5703731767380186"
      ]
     },
     "execution_count": 45,
     "metadata": {},
     "output_type": "execute_result"
    }
   ],
   "source": [
    "#https://scikit-learn.org/stable/modules/generated/sklearn.metrics.precision_score.html\n",
    "from sklearn.metrics import precision_score\n",
    "precision_score(y_test, y_pred_new, average='micro',zero_division=0)"
   ]
  },
  {
   "cell_type": "code",
   "execution_count": 46,
   "id": "0eee3ca4-a6a2-4e15-a7e3-01c771cea8f7",
   "metadata": {},
   "outputs": [
    {
     "data": {
      "text/plain": [
       "0.6377886041092988"
      ]
     },
     "execution_count": 46,
     "metadata": {},
     "output_type": "execute_result"
    }
   ],
   "source": [
    "#https://scikit-learn.org/stable/modules/generated/sklearn.metrics.recall_score.html#sklearn.metrics.recall_score\n",
    "from sklearn.metrics import recall_score\n",
    "recall_score(y_test, y_pred_new, average='micro',zero_division=0)"
   ]
  },
  {
   "cell_type": "code",
   "execution_count": 47,
   "id": "823a6c14-aa24-4447-8aef-53cb905d55fd",
   "metadata": {},
   "outputs": [],
   "source": [
    "#?accuracy_score"
   ]
  },
  {
   "cell_type": "code",
   "execution_count": 48,
   "id": "fb9c4ebd-ad89-4f84-9399-bbfd79400ed2",
   "metadata": {},
   "outputs": [
    {
     "data": {
      "text/plain": [
       "0.11324470704086657"
      ]
     },
     "execution_count": 48,
     "metadata": {},
     "output_type": "execute_result"
    }
   ],
   "source": [
    "from sklearn.metrics import accuracy_score\n",
    "import numpy as np\n",
    "accuracy_score(y_test, y_pred_new)"
   ]
  },
  {
   "cell_type": "code",
   "execution_count": 50,
   "id": "9ab8c2e2-fe48-4858-b14b-92924c9b5086",
   "metadata": {},
   "outputs": [
    {
     "name": "stdout",
     "output_type": "stream",
     "text": [
      "Classification report\n",
      "               precision    recall  f1-score   support\n",
      "\n",
      "           0       0.62      0.79      0.70       559\n",
      "           1       0.69      0.27      0.39       259\n",
      "           2       0.54      0.67      0.60       592\n",
      "           3       0.64      0.43      0.52       351\n",
      "           4       0.50      0.92      0.65       838\n",
      "           5       0.88      0.12      0.21       188\n",
      "           6       0.75      0.64      0.69       384\n",
      "           7       0.54      0.13      0.21       198\n",
      "           8       0.67      0.54      0.60       403\n",
      "           9       0.79      0.40      0.54       255\n",
      "          10       0.00      0.00      0.00         0\n",
      "          11       0.51      0.82      0.63       679\n",
      "          12       0.00      0.00      0.00        15\n",
      "\n",
      "   micro avg       0.57      0.64      0.60      4721\n",
      "   macro avg       0.55      0.44      0.44      4721\n",
      "weighted avg       0.61      0.64      0.58      4721\n",
      " samples avg       0.58      0.68      0.59      4721\n",
      "\n",
      "Accuracy of the model :  11.324470704086657\n"
     ]
    },
    {
     "name": "stderr",
     "output_type": "stream",
     "text": [
      "c:\\python38\\lib\\site-packages\\sklearn\\metrics\\_classification.py:1318: UndefinedMetricWarning: Precision and F-score are ill-defined and being set to 0.0 in labels with no predicted samples. Use `zero_division` parameter to control this behavior.\n",
      "  _warn_prf(average, modifier, msg_start, len(result))\n",
      "c:\\python38\\lib\\site-packages\\sklearn\\metrics\\_classification.py:1318: UndefinedMetricWarning: Recall and F-score are ill-defined and being set to 0.0 in labels with no true samples. Use `zero_division` parameter to control this behavior.\n",
      "  _warn_prf(average, modifier, msg_start, len(result))\n",
      "c:\\python38\\lib\\site-packages\\sklearn\\metrics\\_classification.py:1318: UndefinedMetricWarning: Precision and F-score are ill-defined and being set to 0.0 in samples with no predicted labels. Use `zero_division` parameter to control this behavior.\n",
      "  _warn_prf(average, modifier, msg_start, len(result))\n"
     ]
    }
   ],
   "source": [
    "from sklearn import metrics\n",
    "print(\"Classification report\\n\",metrics.classification_report(y_test, y_pred_new))\n",
    "print(\"Accuracy of the model : \",metrics.accuracy_score(y_test, y_pred_new)*100)"
   ]
  },
  {
   "cell_type": "code",
   "execution_count": 51,
   "id": "7931de74-9997-49f1-ac08-7800edbcf4a9",
   "metadata": {},
   "outputs": [
    {
     "name": "stdout",
     "output_type": "stream",
     "text": [
      "Classification report\n",
      "               precision    recall  f1-score   support\n",
      "\n",
      "           0       0.81      0.44      0.57       559\n",
      "           1       0.73      0.03      0.06       259\n",
      "           2       0.76      0.18      0.30       592\n",
      "           3       0.68      0.15      0.25       351\n",
      "           4       0.67      0.51      0.58       838\n",
      "           5       0.50      0.01      0.01       188\n",
      "           6       0.87      0.24      0.38       384\n",
      "           7       1.00      0.01      0.02       198\n",
      "           8       0.82      0.23      0.35       403\n",
      "           9       0.95      0.22      0.36       255\n",
      "          10       0.00      0.00      0.00         0\n",
      "          11       0.66      0.38      0.48       679\n",
      "          12       0.00      0.00      0.00        15\n",
      "\n",
      "   micro avg       0.73      0.28      0.41      4721\n",
      "   macro avg       0.65      0.18      0.26      4721\n",
      "weighted avg       0.75      0.28      0.38      4721\n",
      " samples avg       0.49      0.32      0.36      4721\n",
      "\n",
      "Accuracy of the model :  10.635155096011816\n"
     ]
    },
    {
     "name": "stderr",
     "output_type": "stream",
     "text": [
      "c:\\python38\\lib\\site-packages\\sklearn\\metrics\\_classification.py:1318: UndefinedMetricWarning: Precision and F-score are ill-defined and being set to 0.0 in labels with no predicted samples. Use `zero_division` parameter to control this behavior.\n",
      "  _warn_prf(average, modifier, msg_start, len(result))\n",
      "c:\\python38\\lib\\site-packages\\sklearn\\metrics\\_classification.py:1318: UndefinedMetricWarning: Recall and F-score are ill-defined and being set to 0.0 in labels with no true samples. Use `zero_division` parameter to control this behavior.\n",
      "  _warn_prf(average, modifier, msg_start, len(result))\n",
      "c:\\python38\\lib\\site-packages\\sklearn\\metrics\\_classification.py:1318: UndefinedMetricWarning: Precision and F-score are ill-defined and being set to 0.0 in samples with no predicted labels. Use `zero_division` parameter to control this behavior.\n",
      "  _warn_prf(average, modifier, msg_start, len(result))\n"
     ]
    }
   ],
   "source": [
    "from sklearn import metrics\n",
    "print(\"Classification report\\n\",metrics.classification_report(y_test, y_pred))\n",
    "print(\"Accuracy of the model : \",metrics.accuracy_score(y_test, y_pred)*100)"
   ]
  },
  {
   "cell_type": "code",
   "execution_count": 52,
   "id": "cf3cee22-8b49-4dc9-9caa-dac6d581a95b",
   "metadata": {},
   "outputs": [
    {
     "data": {
      "text/plain": [
       "[(),\n",
       " ('Horror',),\n",
       " (),\n",
       " ('Horror', 'Thriller'),\n",
       " (),\n",
       " ('Action',),\n",
       " ('Thriller',),\n",
       " ('Drama',),\n",
       " ('Drama',),\n",
       " ('Comedy',),\n",
       " ('Comedy', 'Drama'),\n",
       " ('Drama',),\n",
       " (),\n",
       " (),\n",
       " ('Drama',),\n",
       " ('Drama',),\n",
       " ('Crime', 'Drama'),\n",
       " (),\n",
       " (),\n",
       " (),\n",
       " (),\n",
       " ('Comedy', 'Drama', 'Romance'),\n",
       " ('Drama',),\n",
       " (),\n",
       " ('Romance',),\n",
       " (),\n",
       " ('Action', 'Drama', 'Thriller'),\n",
       " ('ScienceFiction',),\n",
       " (),\n",
       " ('Action', 'Thriller'),\n",
       " ('Comedy',),\n",
       " (),\n",
       " (),\n",
       " (),\n",
       " ('Drama', 'Thriller'),\n",
       " (),\n",
       " ('Drama', 'Romance'),\n",
       " (),\n",
       " ('Drama', 'Romance'),\n",
       " (),\n",
       " ('Comedy',),\n",
       " ('Drama', 'Thriller'),\n",
       " (),\n",
       " ('Horror',),\n",
       " (),\n",
       " ('Drama',),\n",
       " (),\n",
       " ('Drama', 'Romance'),\n",
       " ('Comedy',),\n",
       " ('Action',),\n",
       " (),\n",
       " ('Horror',),\n",
       " ('Drama',),\n",
       " (),\n",
       " ('Action',),\n",
       " ('Drama',),\n",
       " ('Drama',),\n",
       " ('Comedy', 'Drama', 'Romance'),\n",
       " ('Drama',),\n",
       " ('Thriller',),\n",
       " ('Comedy',),\n",
       " ('Action', 'ScienceFiction'),\n",
       " (),\n",
       " ('Drama', 'Romance'),\n",
       " ('Action', 'Thriller'),\n",
       " (),\n",
       " ('Drama',),\n",
       " ('Action', 'Drama'),\n",
       " (),\n",
       " (),\n",
       " (),\n",
       " ('Horror', 'Thriller'),\n",
       " ('Drama',),\n",
       " (),\n",
       " ('Action', 'ScienceFiction'),\n",
       " ('Drama',),\n",
       " ('Comedy',),\n",
       " (),\n",
       " ('Thriller',),\n",
       " (),\n",
       " ('Action', 'Crime'),\n",
       " ('Drama',),\n",
       " ('Drama',),\n",
       " ('Action',),\n",
       " ('Drama',),\n",
       " ('Thriller',),\n",
       " ('Drama', 'Romance'),\n",
       " ('Drama',),\n",
       " ('Drama', 'Thriller'),\n",
       " ('Drama',),\n",
       " ('Horror', 'Thriller'),\n",
       " ('Action', 'Crime', 'Thriller'),\n",
       " (),\n",
       " ('Drama', 'Thriller'),\n",
       " (),\n",
       " ('Horror', 'Thriller'),\n",
       " (),\n",
       " ('Action', 'ScienceFiction'),\n",
       " ('Drama',),\n",
       " ('Crime', 'Thriller'),\n",
       " ('Thriller',),\n",
       " (),\n",
       " ('Drama',),\n",
       " (),\n",
       " (),\n",
       " (),\n",
       " (),\n",
       " (),\n",
       " ('ScienceFiction',),\n",
       " (),\n",
       " ('Thriller',),\n",
       " (),\n",
       " ('Drama',),\n",
       " ('Crime', 'Thriller'),\n",
       " (),\n",
       " (),\n",
       " ('Drama',),\n",
       " ('Drama',),\n",
       " (),\n",
       " (),\n",
       " (),\n",
       " ('Thriller',),\n",
       " ('Thriller',),\n",
       " ('Horror',),\n",
       " ('Drama', 'Thriller'),\n",
       " ('Comedy', 'Romance'),\n",
       " ('Drama',),\n",
       " (),\n",
       " ('Romance',),\n",
       " (),\n",
       " ('Drama',),\n",
       " ('Action', 'Thriller'),\n",
       " (),\n",
       " (),\n",
       " ('Comedy',),\n",
       " ('Horror', 'Thriller'),\n",
       " ('Horror', 'Thriller'),\n",
       " ('Drama',),\n",
       " (),\n",
       " (),\n",
       " ('Drama',),\n",
       " (),\n",
       " ('Thriller',),\n",
       " ('Drama',),\n",
       " ('Thriller',),\n",
       " ('Drama', 'Romance'),\n",
       " ('Drama',),\n",
       " ('Action', 'Crime'),\n",
       " ('Thriller',),\n",
       " ('Action', 'ScienceFiction'),\n",
       " ('Thriller',),\n",
       " ('Action', 'Crime', 'Thriller'),\n",
       " (),\n",
       " (),\n",
       " ('Drama',),\n",
       " ('Action',),\n",
       " (),\n",
       " ('Thriller',),\n",
       " ('Action',),\n",
       " ('Drama',),\n",
       " ('Drama',),\n",
       " ('Comedy', 'Drama', 'Romance'),\n",
       " ('Drama',),\n",
       " ('Drama',),\n",
       " ('Thriller',),\n",
       " (),\n",
       " (),\n",
       " ('Drama',),\n",
       " ('Fantasy',),\n",
       " (),\n",
       " ('Drama',),\n",
       " ('Action', 'Crime', 'Thriller'),\n",
       " (),\n",
       " ('Drama',),\n",
       " (),\n",
       " (),\n",
       " ('Comedy',),\n",
       " ('Drama',),\n",
       " ('Crime',),\n",
       " ('Drama', 'Thriller'),\n",
       " ('Drama',),\n",
       " ('Horror',),\n",
       " (),\n",
       " (),\n",
       " ('Action', 'Thriller'),\n",
       " ('Drama',),\n",
       " ('Drama',),\n",
       " ('Action', 'Thriller'),\n",
       " ('Horror',),\n",
       " ('Thriller',),\n",
       " (),\n",
       " (),\n",
       " (),\n",
       " (),\n",
       " (),\n",
       " ('Drama', 'Romance'),\n",
       " ('Action',),\n",
       " ('Action', 'Crime', 'Thriller'),\n",
       " ('Thriller',),\n",
       " ('Drama',),\n",
       " ('Drama',),\n",
       " ('Action',),\n",
       " (),\n",
       " (),\n",
       " ('Drama',),\n",
       " (),\n",
       " ('Drama',),\n",
       " ('Thriller',),\n",
       " (),\n",
       " ('Drama', 'Thriller'),\n",
       " (),\n",
       " (),\n",
       " ('Drama',),\n",
       " ('Drama',),\n",
       " (),\n",
       " ('Drama', 'Romance'),\n",
       " ('Action', 'ScienceFiction'),\n",
       " (),\n",
       " ('Comedy',),\n",
       " ('Action', 'Thriller'),\n",
       " ('Drama',),\n",
       " ('Action', 'Thriller'),\n",
       " ('Comedy',),\n",
       " (),\n",
       " ('Comedy',),\n",
       " (),\n",
       " ('Drama',),\n",
       " (),\n",
       " (),\n",
       " ('Drama',),\n",
       " ('Thriller',),\n",
       " (),\n",
       " ('Action',),\n",
       " ('Comedy', 'Drama'),\n",
       " (),\n",
       " ('Drama',),\n",
       " ('Thriller',),\n",
       " ('Action', 'Thriller'),\n",
       " ('ScienceFiction',),\n",
       " ('Crime', 'Drama', 'Thriller'),\n",
       " (),\n",
       " ('Drama',),\n",
       " ('Drama',),\n",
       " ('Thriller',),\n",
       " ('Drama',),\n",
       " ('Drama',),\n",
       " ('Thriller',),\n",
       " ('Drama', 'Romance'),\n",
       " ('Drama',),\n",
       " ('Romance',),\n",
       " ('Action', 'Thriller'),\n",
       " ('Thriller',),\n",
       " ('Drama',),\n",
       " ('Horror', 'Thriller'),\n",
       " ('Action', 'Thriller'),\n",
       " ('Comedy', 'Romance'),\n",
       " ('Thriller',),\n",
       " ('Action', 'Crime', 'Thriller'),\n",
       " ('Horror',),\n",
       " ('Drama', 'Romance'),\n",
       " (),\n",
       " ('Thriller',),\n",
       " ('Action', 'Thriller'),\n",
       " ('Drama',),\n",
       " (),\n",
       " (),\n",
       " ('Drama',),\n",
       " ('Comedy',),\n",
       " ('Comedy',),\n",
       " (),\n",
       " ('Thriller',),\n",
       " ('Thriller',),\n",
       " ('Comedy',),\n",
       " (),\n",
       " ('Comedy',),\n",
       " ('Action', 'Crime', 'Thriller'),\n",
       " (),\n",
       " ('Action',),\n",
       " ('Action', 'Thriller'),\n",
       " ('Drama',),\n",
       " ('Drama',),\n",
       " (),\n",
       " ('Romance',),\n",
       " ('Horror',),\n",
       " ('Drama', 'Romance'),\n",
       " (),\n",
       " ('Horror', 'Thriller'),\n",
       " ('Comedy', 'Drama'),\n",
       " ('Thriller',),\n",
       " ('Action',),\n",
       " ('Comedy', 'Drama', 'Romance'),\n",
       " ('Horror', 'Thriller'),\n",
       " ('Thriller',),\n",
       " ('Action', 'ScienceFiction'),\n",
       " ('Drama', 'Thriller'),\n",
       " (),\n",
       " (),\n",
       " ('Horror',),\n",
       " ('Action',),\n",
       " ('Action',),\n",
       " ('Drama',),\n",
       " ('Drama',),\n",
       " ('Horror', 'Thriller'),\n",
       " (),\n",
       " ('Drama',),\n",
       " (),\n",
       " (),\n",
       " ('Action',),\n",
       " ('Action', 'Thriller'),\n",
       " ('Drama', 'Thriller'),\n",
       " ('Comedy',),\n",
       " (),\n",
       " ('Horror',),\n",
       " ('Comedy', 'Drama'),\n",
       " ('Drama',),\n",
       " ('Action', 'Crime'),\n",
       " ('Action', 'Crime', 'Drama'),\n",
       " ('Action',),\n",
       " ('Action',),\n",
       " ('Drama',),\n",
       " ('Drama',),\n",
       " ('Drama',),\n",
       " ('Thriller',),\n",
       " (),\n",
       " ('Drama',),\n",
       " (),\n",
       " ('Crime', 'Thriller'),\n",
       " (),\n",
       " ('Drama', 'Romance'),\n",
       " (),\n",
       " ('Drama',),\n",
       " (),\n",
       " (),\n",
       " ('Crime', 'Thriller'),\n",
       " ('Horror',),\n",
       " ('Thriller',),\n",
       " ('Action', 'Thriller'),\n",
       " ('Action', 'Thriller'),\n",
       " (),\n",
       " ('Thriller',),\n",
       " (),\n",
       " (),\n",
       " (),\n",
       " ('Drama',),\n",
       " ('Thriller',),\n",
       " ('Drama',),\n",
       " ('Drama', 'Romance'),\n",
       " ('Action',),\n",
       " ('Action', 'Drama', 'Thriller'),\n",
       " ('Action',),\n",
       " ('Comedy',),\n",
       " (),\n",
       " ('Thriller',),\n",
       " (),\n",
       " ('Horror', 'Thriller'),\n",
       " (),\n",
       " ('Action', 'Crime', 'Thriller'),\n",
       " ('Horror', 'Thriller'),\n",
       " ('Drama',),\n",
       " (),\n",
       " ('Drama', 'Romance'),\n",
       " ('Drama',),\n",
       " (),\n",
       " (),\n",
       " (),\n",
       " (),\n",
       " ('Drama',),\n",
       " ('Crime', 'Horror', 'Mystery', 'Thriller'),\n",
       " ('Drama',),\n",
       " ('Action', 'Thriller'),\n",
       " ('Drama',),\n",
       " ('Drama',),\n",
       " ('Horror',),\n",
       " (),\n",
       " ('Action', 'Thriller'),\n",
       " (),\n",
       " ('Drama',),\n",
       " (),\n",
       " ('Drama',),\n",
       " ('Drama', 'Romance'),\n",
       " ('Comedy',),\n",
       " ('Drama', 'Romance'),\n",
       " (),\n",
       " ('Thriller',),\n",
       " ('Drama',),\n",
       " ('Drama',),\n",
       " (),\n",
       " (),\n",
       " ('Action', 'Adventure', 'ScienceFiction'),\n",
       " ('ScienceFiction',),\n",
       " (),\n",
       " ('Drama',),\n",
       " ('Crime', 'Drama', 'Thriller'),\n",
       " (),\n",
       " ('Comedy',),\n",
       " (),\n",
       " ('Thriller',),\n",
       " (),\n",
       " ('Drama',),\n",
       " ('Thriller',),\n",
       " ('Comedy', 'Drama', 'Romance'),\n",
       " ('Horror', 'Thriller'),\n",
       " (),\n",
       " ('Action', 'Thriller'),\n",
       " ('Horror', 'Thriller'),\n",
       " ('Thriller',),\n",
       " ('Drama',),\n",
       " ('Drama',),\n",
       " ('Drama',),\n",
       " ('Comedy',),\n",
       " ('Drama',),\n",
       " (),\n",
       " ('Drama',),\n",
       " ('Action',),\n",
       " ('Drama',),\n",
       " ('Drama',),\n",
       " ('Drama',),\n",
       " ('Drama',),\n",
       " ('Drama', 'Thriller'),\n",
       " ('Drama', 'Thriller'),\n",
       " ('Drama',),\n",
       " ('Thriller',),\n",
       " ('Drama', 'Thriller'),\n",
       " ('ScienceFiction',),\n",
       " (),\n",
       " (),\n",
       " ('Action', 'Thriller'),\n",
       " ('Action', 'ScienceFiction', 'Thriller'),\n",
       " (),\n",
       " ('Action',),\n",
       " ('Comedy',),\n",
       " ('Crime', 'Thriller'),\n",
       " ('Action',),\n",
       " (),\n",
       " (),\n",
       " (),\n",
       " (),\n",
       " ('Drama',),\n",
       " (),\n",
       " (),\n",
       " (),\n",
       " ('Thriller',),\n",
       " ('Drama',),\n",
       " (),\n",
       " (),\n",
       " (),\n",
       " ('Drama',),\n",
       " (),\n",
       " ('Drama',),\n",
       " (),\n",
       " (),\n",
       " ('Crime', 'Thriller'),\n",
       " (),\n",
       " ('Comedy',),\n",
       " ('Romance',),\n",
       " ('Drama',),\n",
       " ('Drama',),\n",
       " ('Thriller',),\n",
       " ('Thriller',),\n",
       " (),\n",
       " ('Drama', 'Horror', 'Thriller'),\n",
       " ('Horror',),\n",
       " ('Drama',),\n",
       " (),\n",
       " ('Drama',),\n",
       " (),\n",
       " ('Action', 'Thriller'),\n",
       " (),\n",
       " (),\n",
       " ('Action',),\n",
       " (),\n",
       " ('Comedy', 'Drama'),\n",
       " ('Horror', 'Thriller'),\n",
       " ('Drama',),\n",
       " ('Thriller',),\n",
       " ('Action', 'Fantasy', 'ScienceFiction'),\n",
       " (),\n",
       " ('Horror',),\n",
       " ('Drama',),\n",
       " ('Drama',),\n",
       " ('Horror', 'Thriller'),\n",
       " (),\n",
       " ('Horror', 'ScienceFiction'),\n",
       " (),\n",
       " ('Thriller',),\n",
       " (),\n",
       " ('Horror', 'Thriller'),\n",
       " ('Drama',),\n",
       " (),\n",
       " (),\n",
       " (),\n",
       " (),\n",
       " (),\n",
       " ('Horror',),\n",
       " ('Drama',),\n",
       " ('Drama',),\n",
       " (),\n",
       " ('Drama',),\n",
       " (),\n",
       " ('Action', 'Thriller'),\n",
       " ('Action', 'ScienceFiction'),\n",
       " ('Comedy',),\n",
       " ('Action', 'ScienceFiction'),\n",
       " (),\n",
       " ('Drama',),\n",
       " (),\n",
       " ('Drama', 'Romance'),\n",
       " ('Action', 'Crime', 'Thriller'),\n",
       " ('Drama',),\n",
       " ('Drama',),\n",
       " ('Drama',),\n",
       " ('Drama',),\n",
       " (),\n",
       " (),\n",
       " ('Drama', 'Romance'),\n",
       " (),\n",
       " ('Comedy',),\n",
       " (),\n",
       " (),\n",
       " (),\n",
       " ('Comedy',),\n",
       " ('Drama', 'Romance'),\n",
       " (),\n",
       " (),\n",
       " ('Drama',),\n",
       " (),\n",
       " ('Drama', 'Thriller'),\n",
       " (),\n",
       " ('Drama',),\n",
       " (),\n",
       " ('Thriller',),\n",
       " ('Drama',),\n",
       " ('Drama',),\n",
       " ('Horror',),\n",
       " ('Thriller',),\n",
       " (),\n",
       " ('Comedy',),\n",
       " (),\n",
       " ('Drama', 'Romance'),\n",
       " ('Horror',),\n",
       " ('Action',),\n",
       " ('Romance',),\n",
       " (),\n",
       " ('Action',),\n",
       " ('Comedy', 'Romance'),\n",
       " ('Thriller',),\n",
       " ('Action',),\n",
       " (),\n",
       " (),\n",
       " ('Action',),\n",
       " ('Drama',),\n",
       " (),\n",
       " ('Drama',),\n",
       " ('Comedy',),\n",
       " ('Thriller',),\n",
       " ('Comedy',),\n",
       " ('Crime', 'Thriller'),\n",
       " (),\n",
       " ('ScienceFiction',),\n",
       " ('Drama', 'Romance'),\n",
       " ('Drama',),\n",
       " ('Drama',),\n",
       " (),\n",
       " (),\n",
       " (),\n",
       " (),\n",
       " (),\n",
       " ('Crime', 'Thriller'),\n",
       " ('Drama',),\n",
       " ('Drama',),\n",
       " ('Drama',),\n",
       " ('Action',),\n",
       " ('Action', 'ScienceFiction'),\n",
       " ('Comedy',),\n",
       " ('Drama',),\n",
       " ('Drama',),\n",
       " (),\n",
       " ('Drama',),\n",
       " ('Action', 'ScienceFiction'),\n",
       " ('Drama',),\n",
       " ('Drama',),\n",
       " ('Drama', 'Romance'),\n",
       " ('Horror', 'Thriller'),\n",
       " ('Drama',),\n",
       " ('Drama',),\n",
       " (),\n",
       " ('Drama',),\n",
       " ('Action', 'Adventure'),\n",
       " ('Action', 'Adventure', 'ScienceFiction'),\n",
       " (),\n",
       " ('Action', 'Drama', 'Thriller'),\n",
       " ('Comedy',),\n",
       " (),\n",
       " ('Drama',),\n",
       " (),\n",
       " ('Drama',),\n",
       " ('Drama',),\n",
       " ('Action', 'Crime'),\n",
       " (),\n",
       " (),\n",
       " ('Drama',),\n",
       " ('Drama',),\n",
       " ('Drama',),\n",
       " ('Comedy', 'Romance'),\n",
       " (),\n",
       " (),\n",
       " ('Thriller',),\n",
       " ('Action',),\n",
       " (),\n",
       " (),\n",
       " (),\n",
       " ('Drama', 'Thriller'),\n",
       " ('Comedy',),\n",
       " ('Drama',),\n",
       " ('Drama',),\n",
       " ('Drama',),\n",
       " ('Drama',),\n",
       " (),\n",
       " (),\n",
       " (),\n",
       " ('Comedy',),\n",
       " ('Action', 'Adventure'),\n",
       " (),\n",
       " (),\n",
       " ('Drama',),\n",
       " (),\n",
       " ('Drama',),\n",
       " (),\n",
       " (),\n",
       " ('Thriller',),\n",
       " ('Action', 'Thriller'),\n",
       " ('Drama',),\n",
       " (),\n",
       " (),\n",
       " ('Drama', 'Thriller'),\n",
       " ('Drama',),\n",
       " ('Comedy',),\n",
       " ('Drama',),\n",
       " ('Action',),\n",
       " (),\n",
       " ('Comedy', 'Drama'),\n",
       " (),\n",
       " ('Comedy',),\n",
       " ('Action', 'Crime', 'Thriller'),\n",
       " (),\n",
       " ('Drama',),\n",
       " ('ScienceFiction',),\n",
       " (),\n",
       " ('Action',),\n",
       " ('Comedy',),\n",
       " ('Drama',),\n",
       " (),\n",
       " ('Action', 'Thriller'),\n",
       " (),\n",
       " ('Horror', 'Thriller'),\n",
       " ('Horror',),\n",
       " ('Drama',),\n",
       " (),\n",
       " ('Action', 'Thriller'),\n",
       " (),\n",
       " ('Drama',),\n",
       " ('Drama',),\n",
       " ('Comedy', 'Drama'),\n",
       " ('Drama',),\n",
       " ('Drama',),\n",
       " (),\n",
       " ('Romance',),\n",
       " ('Drama',),\n",
       " ('Drama',),\n",
       " (),\n",
       " (),\n",
       " ('Drama',),\n",
       " ('Thriller',),\n",
       " ('Drama',),\n",
       " (),\n",
       " (),\n",
       " ('Thriller',),\n",
       " ('Drama',),\n",
       " ('Drama',),\n",
       " ('Drama', 'Romance'),\n",
       " ('Thriller',),\n",
       " ('Action', 'Horror'),\n",
       " (),\n",
       " ('Romance',),\n",
       " ('Action', 'Thriller'),\n",
       " ('Action', 'Thriller'),\n",
       " ('Thriller',),\n",
       " ('Action', 'Thriller'),\n",
       " (),\n",
       " ('Action', 'Thriller'),\n",
       " (),\n",
       " ('Action',),\n",
       " ('Action',),\n",
       " (),\n",
       " (),\n",
       " ('Drama',),\n",
       " ('Comedy',),\n",
       " (),\n",
       " (),\n",
       " (),\n",
       " ('Drama',),\n",
       " (),\n",
       " (),\n",
       " ('Action',),\n",
       " (),\n",
       " (),\n",
       " (),\n",
       " (),\n",
       " (),\n",
       " ('Action', 'Drama'),\n",
       " (),\n",
       " ('Romance',),\n",
       " ('ScienceFiction',),\n",
       " (),\n",
       " ('Drama',),\n",
       " ('Drama',),\n",
       " (),\n",
       " ('Romance',),\n",
       " ('Drama', 'Thriller'),\n",
       " ('Drama',),\n",
       " ('Crime', 'Thriller'),\n",
       " ('Drama',),\n",
       " (),\n",
       " ('Action',),\n",
       " ('Crime', 'Thriller'),\n",
       " ('Thriller',),\n",
       " (),\n",
       " ('Horror', 'Thriller'),\n",
       " (),\n",
       " (),\n",
       " (),\n",
       " ('Drama',),\n",
       " (),\n",
       " ('Drama',),\n",
       " (),\n",
       " (),\n",
       " (),\n",
       " (),\n",
       " ('Drama',),\n",
       " ('Drama',),\n",
       " (),\n",
       " ('Drama',),\n",
       " ('Action', 'Thriller'),\n",
       " ('Action', 'Adventure', 'ScienceFiction'),\n",
       " ('Horror',),\n",
       " ('Thriller',),\n",
       " ('Crime', 'Thriller'),\n",
       " ('Drama',),\n",
       " ('Action', 'ScienceFiction'),\n",
       " (),\n",
       " ('Drama', 'Thriller'),\n",
       " (),\n",
       " ('Action',),\n",
       " (),\n",
       " (),\n",
       " ('Drama',),\n",
       " ('Drama',),\n",
       " ('Drama', 'Thriller'),\n",
       " ('Drama', 'Horror', 'Thriller'),\n",
       " ('Drama',),\n",
       " ('Comedy',),\n",
       " ('Drama',),\n",
       " ('Comedy',),\n",
       " ('Action',),\n",
       " ('Drama',),\n",
       " ('Crime',),\n",
       " ('Horror',),\n",
       " ('Action', 'Thriller'),\n",
       " ('Action', 'Crime', 'Thriller'),\n",
       " ('Thriller',),\n",
       " (),\n",
       " ('Romance',),\n",
       " ('Drama',),\n",
       " ('Drama',),\n",
       " (),\n",
       " ('Action', 'Thriller'),\n",
       " ('Action',),\n",
       " (),\n",
       " ('Horror',),\n",
       " ('Horror', 'Thriller'),\n",
       " (),\n",
       " ('Drama', 'Horror'),\n",
       " ('Horror',),\n",
       " ('Comedy',),\n",
       " ('Drama',),\n",
       " (),\n",
       " ('Drama', 'Romance'),\n",
       " ('Action',),\n",
       " ('Action', 'ScienceFiction'),\n",
       " ('ScienceFiction',),\n",
       " ('Drama',),\n",
       " ('Action',),\n",
       " ('Drama', 'Thriller'),\n",
       " ('Drama', 'Thriller'),\n",
       " (),\n",
       " ('Action', 'Thriller'),\n",
       " ('Drama', 'Romance'),\n",
       " ('Drama',),\n",
       " ('Drama',),\n",
       " (),\n",
       " ('Drama', 'Thriller'),\n",
       " ('Drama',),\n",
       " ('Action', 'Crime', 'Thriller'),\n",
       " ('Comedy',),\n",
       " (),\n",
       " ('Drama',),\n",
       " (),\n",
       " ('Horror',),\n",
       " ('Drama', 'Romance'),\n",
       " ('Action',),\n",
       " ('Action', 'Thriller'),\n",
       " (),\n",
       " (),\n",
       " (),\n",
       " ('Drama',),\n",
       " ('Comedy', 'Drama'),\n",
       " ('Comedy',),\n",
       " ('Drama', 'Romance'),\n",
       " ('Drama',),\n",
       " ('Thriller',),\n",
       " (),\n",
       " ('Drama',),\n",
       " ('Action',),\n",
       " ('Drama',),\n",
       " ('Drama',),\n",
       " (),\n",
       " ('Action', 'ScienceFiction'),\n",
       " (),\n",
       " ('Romance',),\n",
       " (),\n",
       " (),\n",
       " ('Drama',),\n",
       " ('Drama',),\n",
       " ('Thriller',),\n",
       " ('Comedy', 'Drama', 'Romance'),\n",
       " (),\n",
       " ('Action',),\n",
       " ('Drama', 'Romance'),\n",
       " (),\n",
       " ('Drama',),\n",
       " ('Crime',),\n",
       " ('Action',),\n",
       " ('Thriller',),\n",
       " ('Drama',),\n",
       " ('Horror', 'Thriller'),\n",
       " ('Drama',),\n",
       " (),\n",
       " ('Drama',),\n",
       " ('Drama',),\n",
       " (),\n",
       " ('Action',),\n",
       " (),\n",
       " ('Thriller',),\n",
       " (),\n",
       " (),\n",
       " ('Action', 'Thriller'),\n",
       " ('Drama',),\n",
       " ('Drama',),\n",
       " ('Drama',),\n",
       " (),\n",
       " (),\n",
       " (),\n",
       " ('Action', 'Thriller'),\n",
       " ('Action',),\n",
       " ('Thriller',),\n",
       " (),\n",
       " ('Thriller',),\n",
       " ('Action',),\n",
       " (),\n",
       " ('Drama',),\n",
       " ('Drama',),\n",
       " ('Thriller',),\n",
       " ('ScienceFiction',),\n",
       " ('Drama',),\n",
       " ('Drama',),\n",
       " ('Comedy',),\n",
       " (),\n",
       " ('Action',),\n",
       " (),\n",
       " (),\n",
       " ('Action', 'Thriller'),\n",
       " (),\n",
       " (),\n",
       " ('Action', 'Thriller'),\n",
       " ('Drama', 'Romance'),\n",
       " (),\n",
       " (),\n",
       " ('ScienceFiction',),\n",
       " (),\n",
       " ('Action',),\n",
       " ('Drama',),\n",
       " ('Romance',),\n",
       " ('Drama',),\n",
       " ('Thriller',),\n",
       " (),\n",
       " ('Drama', 'Romance'),\n",
       " ('Horror', 'Thriller'),\n",
       " ('Horror',),\n",
       " (),\n",
       " ('Drama',),\n",
       " ('Thriller',),\n",
       " (),\n",
       " ('ScienceFiction',),\n",
       " ('Drama',),\n",
       " (),\n",
       " ('Thriller',),\n",
       " (),\n",
       " (),\n",
       " (),\n",
       " (),\n",
       " ('Horror',),\n",
       " (),\n",
       " (),\n",
       " ('Action', 'ScienceFiction'),\n",
       " ('Action', 'Crime', 'Thriller'),\n",
       " ('Romance',),\n",
       " ('Comedy', 'Romance'),\n",
       " ('Crime', 'Drama', 'Thriller'),\n",
       " (),\n",
       " (),\n",
       " ('Drama',),\n",
       " (),\n",
       " (),\n",
       " ('Action', 'Thriller'),\n",
       " ('Thriller',),\n",
       " ('Action', 'Thriller'),\n",
       " ('Thriller',),\n",
       " ('Action',),\n",
       " (),\n",
       " ('Action', 'Adventure', 'ScienceFiction'),\n",
       " (),\n",
       " ('Romance',),\n",
       " (),\n",
       " ('Romance',),\n",
       " (),\n",
       " ('Drama',),\n",
       " ('Drama',),\n",
       " ('Action', 'Thriller'),\n",
       " (),\n",
       " (),\n",
       " ('Crime', 'Thriller'),\n",
       " ('Drama', 'Romance'),\n",
       " ('Thriller',),\n",
       " ('Drama',),\n",
       " ('Thriller',),\n",
       " (),\n",
       " ('Drama',),\n",
       " ('Action', 'Thriller'),\n",
       " ('Action', 'Thriller'),\n",
       " ('Drama', 'Thriller'),\n",
       " (),\n",
       " ('Drama',),\n",
       " ('Drama',),\n",
       " ('Action',),\n",
       " ('Drama',),\n",
       " ('Drama',),\n",
       " ('Action', 'Thriller'),\n",
       " ('Action', 'Thriller'),\n",
       " ('Action',),\n",
       " ('Action', 'Thriller'),\n",
       " ('Action', 'Thriller'),\n",
       " ('Thriller',),\n",
       " (),\n",
       " ('Action',),\n",
       " ('Drama',),\n",
       " ('Comedy',),\n",
       " ('Drama',),\n",
       " (),\n",
       " (),\n",
       " ('Drama',),\n",
       " ('Horror',),\n",
       " ('Drama',),\n",
       " (),\n",
       " ('Comedy', 'Drama'),\n",
       " (),\n",
       " ('Drama',),\n",
       " (),\n",
       " ('Drama',),\n",
       " ('Action', 'ScienceFiction', 'Thriller'),\n",
       " (),\n",
       " ('Action', 'Crime'),\n",
       " ('Romance',),\n",
       " ('Drama',),\n",
       " (),\n",
       " ('Thriller',),\n",
       " (),\n",
       " ('Drama',),\n",
       " ('Action', 'Crime', 'Thriller'),\n",
       " ('Action', 'Crime'),\n",
       " ('Comedy',),\n",
       " ('Thriller',),\n",
       " (),\n",
       " ('Action', 'Thriller'),\n",
       " ('Drama',),\n",
       " (),\n",
       " (),\n",
       " ('Drama',),\n",
       " (),\n",
       " ('Drama',),\n",
       " (),\n",
       " ...]"
      ]
     },
     "execution_count": 52,
     "metadata": {},
     "output_type": "execute_result"
    }
   ],
   "source": [
    "multilabel_binarizer.inverse_transform(y_pred)"
   ]
  },
  {
   "cell_type": "code",
   "execution_count": null,
   "id": "d10755f7-7c8c-4d75-8b6a-633437b0f236",
   "metadata": {},
   "outputs": [],
   "source": []
  }
 ],
 "metadata": {
  "kernelspec": {
   "display_name": "Python 3 (ipykernel)",
   "language": "python",
   "name": "python3"
  },
  "language_info": {
   "codemirror_mode": {
    "name": "ipython",
    "version": 3
   },
   "file_extension": ".py",
   "mimetype": "text/x-python",
   "name": "python",
   "nbconvert_exporter": "python",
   "pygments_lexer": "ipython3",
   "version": "3.8.3"
  }
 },
 "nbformat": 4,
 "nbformat_minor": 5
}
