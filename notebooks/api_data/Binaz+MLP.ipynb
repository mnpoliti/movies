{
 "cells": [
  {
   "cell_type": "code",
   "execution_count": 1,
   "id": "26c9a74e-d4f1-4df3-8304-fa7131ce98d0",
   "metadata": {},
   "outputs": [
    {
     "name": "stderr",
     "output_type": "stream",
     "text": [
      "[nltk_data] Downloading package stopwords to\n",
      "[nltk_data]     C:\\Users\\mpoli\\AppData\\Roaming\\nltk_data...\n",
      "[nltk_data]   Package stopwords is already up-to-date!\n",
      "[nltk_data] Downloading package punkt to\n",
      "[nltk_data]     C:\\Users\\mpoli\\AppData\\Roaming\\nltk_data...\n",
      "[nltk_data]   Package punkt is already up-to-date!\n"
     ]
    },
    {
     "data": {
      "text/plain": [
       "True"
      ]
     },
     "execution_count": 1,
     "metadata": {},
     "output_type": "execute_result"
    }
   ],
   "source": [
    "import pandas as pd\n",
    "import numpy as np\n",
    "import nltk\n",
    "from nltk.corpus import stopwords\n",
    "from nltk.tokenize import sent_tokenize, word_tokenize\n",
    "nltk.download('stopwords')\n",
    "nltk.download('punkt')\n"
   ]
  },
  {
   "cell_type": "code",
   "execution_count": 2,
   "id": "7770b9d6-c5cd-493f-9333-e0568b284403",
   "metadata": {},
   "outputs": [],
   "source": [
    "tf_data = pd.read_csv(\"/Users/mpoli/Desktop/MASTER/DIPLOMATIKI/course_venv/API/API_csvs/tmdb_data.csv\")\n"
   ]
  },
  {
   "cell_type": "code",
   "execution_count": 3,
   "id": "54927a89-bad4-48b0-8f71-0839827d471c",
   "metadata": {},
   "outputs": [
    {
     "data": {
      "text/plain": [
       "Index(['Unnamed: 0', 'budget', 'homepage', 'id', 'imdb_id', 'revenue',\n",
       "       'runtime', 'language', 'description', 'popularity', 'title', 'rating',\n",
       "       'votes', 'year', 'genre1', 'genre2', 'genre3', 'genre4', 'genre5',\n",
       "       'genre6', 'genre7', 'genre8'],\n",
       "      dtype='object')"
      ]
     },
     "execution_count": 3,
     "metadata": {},
     "output_type": "execute_result"
    }
   ],
   "source": [
    "tf_data.columns"
   ]
  },
  {
   "cell_type": "code",
   "execution_count": 4,
   "id": "85380298-0e82-47c1-babb-6c93194c2709",
   "metadata": {},
   "outputs": [],
   "source": [
    "#To follow the method of the article we first delete the movies that have the genres: Animation, Documentary, Histoty, Family, Music and TV Movie\n",
    "tf_data.drop(tf_data[(tf_data['genre1'] == 'Animation') | (tf_data['genre2'] == 'Animation')|\n",
    "                               (tf_data['genre3'] == 'Animation') | (tf_data['genre3'] == 'Animation')|\n",
    "                               (tf_data['genre5'] == 'Animation') | (tf_data['genre4'] == 'Animation')|\n",
    "                               (tf_data['genre7'] == 'Animation') | (tf_data['genre8'] == 'Animation')].index, inplace = True)\n",
    "tf_data.drop(tf_data[(tf_data['genre1'] == 'Documentary') | (tf_data['genre2'] == 'Documentary')|\n",
    "                               (tf_data['genre3'] == 'Documentary') | (tf_data['genre3'] == 'Documentary')|\n",
    "                               (tf_data['genre5'] == 'Documentary') | (tf_data['genre4'] == 'Documentary')|\n",
    "                               (tf_data['genre7'] == 'Documentary') | (tf_data['genre8'] == 'Documentary')].index, inplace = True) \n",
    "tf_data.drop(tf_data[(tf_data['genre1'] == 'Family') | (tf_data['genre2'] == 'Family')|\n",
    "                               (tf_data['genre3'] == 'Family') | (tf_data['genre3'] == 'Family')|\n",
    "                               (tf_data['genre5'] == 'Family') | (tf_data['genre4'] == 'Family')|\n",
    "                               (tf_data['genre7'] == 'Family') | (tf_data['genre8'] == 'Family')].index, inplace = True)\n",
    "tf_data.drop(tf_data[(tf_data['genre1'] == 'History') | (tf_data['genre2'] == 'History')|\n",
    "                               (tf_data['genre3'] == 'History') | (tf_data['genre3'] == 'History')|\n",
    "                               (tf_data['genre5'] == 'History') | (tf_data['genre4'] == 'History')|\n",
    "                               (tf_data['genre7'] == 'History') | (tf_data['genre8'] == 'History')].index, inplace = True)\n",
    "tf_data.drop(tf_data[(tf_data['genre1'] == 'Music') | (tf_data['genre2'] == 'Music')|\n",
    "                               (tf_data['genre3'] == 'Music') | (tf_data['genre3'] == 'Music')|\n",
    "                               (tf_data['genre5'] == 'Music') | (tf_data['genre4'] == 'Music')|\n",
    "                               (tf_data['genre7'] == 'Music') | (tf_data['genre8'] == 'Music')].index, inplace = True)\n",
    "tf_data.drop(tf_data[(tf_data['genre1'] == 'TVMovie') | (tf_data['genre2'] == 'TVMovie')|\n",
    "                               (tf_data['genre3'] == 'TVMovie') | (tf_data['genre3'] == 'TVMovie')|\n",
    "                               (tf_data['genre5'] == 'TVMovie') | (tf_data['genre4'] == 'TVMovie')|\n",
    "                               (tf_data['genre7'] == 'TVMovie') | (tf_data['genre8'] == 'TVMovie')].index, inplace = True)\n",
    "tf_data.drop(tf_data[(tf_data['genre1'] == 'Western') | (tf_data['genre2'] == 'Western')|\n",
    "                               (tf_data['genre3'] == 'Western') | (tf_data['genre3'] == 'Western')|\n",
    "                               (tf_data['genre5'] == 'Western') | (tf_data['genre4'] == 'Western')|\n",
    "                               (tf_data['genre7'] == 'Western') | (tf_data['genre8'] == 'Western')].index, inplace = True)\n",
    "tf_data.drop(tf_data[(tf_data['genre1'] == 'War') | (tf_data['genre2'] == 'War')|\n",
    "                               (tf_data['genre3'] == 'War') | (tf_data['genre3'] == 'War')|\n",
    "                               (tf_data['genre5'] == 'War') | (tf_data['genre4'] == 'War')|\n",
    "                               (tf_data['genre7'] == 'War') | (tf_data['genre8'] == 'War')].index, inplace = True)"
   ]
  },
  {
   "cell_type": "markdown",
   "id": "75009a27-88ff-4923-ad40-7984a79f0b29",
   "metadata": {},
   "source": [
    "##### first we will merge the columns with the genres in order to apply the new column in the tf-idf method"
   ]
  },
  {
   "cell_type": "code",
   "execution_count": 5,
   "id": "4e45fc4b-f33f-464a-b5ef-13760c565151",
   "metadata": {},
   "outputs": [
    {
     "data": {
      "text/plain": [
       "0                Action, Adventure, ScienceFiction\n",
       "1                  Action, Comedy, Crime, Thriller\n",
       "3       Action, Adventure, Fantasy, ScienceFiction\n",
       "4                       Action, Adventure, Fantasy\n",
       "5                  Action, Fantasy, ScienceFiction\n",
       "                           ...                    \n",
       "9863                                Drama, Romance\n",
       "9866                        Crime, Drama, Thriller\n",
       "9868                       Crime, Horror, Thriller\n",
       "9869      Drama, Mystery, ScienceFiction, Thriller\n",
       "9870                Comedy, Horror, ScienceFiction\n",
       "Name: genres, Length: 6769, dtype: object"
      ]
     },
     "execution_count": 5,
     "metadata": {},
     "output_type": "execute_result"
    }
   ],
   "source": [
    "tf_data.fillna('empty', inplace=True)\n",
    "tf_data[\"genres\"] = (\n",
    "    tf_data[['genre1', 'genre2', 'genre3', 'genre4', 'genre5', 'genre6', 'genre7', 'genre8']]\n",
    "        .apply(lambda x: x.str.split(',\\s*'))\n",
    "        .sum(axis=1).map(np.array)\n",
    "        .apply(lambda x: ', '.join(np.unique(x[x != 'empty'])))        \n",
    "        .replace('', 'empty')\n",
    "    )\n",
    "tf_data.genres"
   ]
  },
  {
   "cell_type": "code",
   "execution_count": 6,
   "id": "4eaabcfa-f70a-49c8-86f3-81be0675f0ad",
   "metadata": {},
   "outputs": [
    {
     "data": {
      "text/plain": [
       "0               Action,Adventure,ScienceFiction\n",
       "1                  Action,Comedy,Crime,Thriller\n",
       "3       Action,Adventure,Fantasy,ScienceFiction\n",
       "4                      Action,Adventure,Fantasy\n",
       "5                 Action,Fantasy,ScienceFiction\n",
       "                         ...                   \n",
       "9863                              Drama,Romance\n",
       "9866                       Crime,Drama,Thriller\n",
       "9868                      Crime,Horror,Thriller\n",
       "9869      Drama,Mystery,ScienceFiction,Thriller\n",
       "9870               Comedy,Horror,ScienceFiction\n",
       "Name: genres, Length: 6769, dtype: object"
      ]
     },
     "execution_count": 6,
     "metadata": {},
     "output_type": "execute_result"
    }
   ],
   "source": [
    "def remove_spaces(x):\n",
    "    x=x.split(\",\")\n",
    "    nospace=[]\n",
    "    for item in x:\n",
    "        item=item.lstrip()\n",
    "        nospace.append(item)\n",
    "    return (\",\").join(nospace)\n",
    "\n",
    "tf_data['genres']=tf_data['genres'].apply(remove_spaces)\n",
    "\n",
    "tf_data['genres']"
   ]
  },
  {
   "cell_type": "code",
   "execution_count": 7,
   "id": "5d9f02c7-34a1-440c-a552-1765da82e2b0",
   "metadata": {},
   "outputs": [
    {
     "data": {
      "text/plain": [
       "string[python]"
      ]
     },
     "execution_count": 7,
     "metadata": {},
     "output_type": "execute_result"
    }
   ],
   "source": [
    "tf_data['genres'] = tf_data['genres'].astype(\"string\")\n",
    "tf_data.genres.dtypes"
   ]
  },
  {
   "cell_type": "code",
   "execution_count": 8,
   "id": "a7aa1ac0-cfa8-4471-890e-251399f3db47",
   "metadata": {},
   "outputs": [
    {
     "data": {
      "text/plain": [
       "0                [Action, Adventure, ScienceFiction]\n",
       "1                  [Action, Comedy, Crime, Thriller]\n",
       "3       [Action, Adventure, Fantasy, ScienceFiction]\n",
       "4                       [Action, Adventure, Fantasy]\n",
       "5                  [Action, Fantasy, ScienceFiction]\n",
       "                            ...                     \n",
       "9863                                [Drama, Romance]\n",
       "9866                        [Crime, Drama, Thriller]\n",
       "9868                       [Crime, Horror, Thriller]\n",
       "9869      [Drama, Mystery, ScienceFiction, Thriller]\n",
       "9870                [Comedy, Horror, ScienceFiction]\n",
       "Name: genres, Length: 6769, dtype: object"
      ]
     },
     "execution_count": 8,
     "metadata": {},
     "output_type": "execute_result"
    }
   ],
   "source": [
    "#https://www.geeksforgeeks.org/python-program-convert-string-list/\n",
    "def Convert(string):\n",
    "    li = list(string.split(\",\"))\n",
    "    return li    \n",
    "# Driver code\n",
    "tf_data['genres'] = tf_data['genres'].apply(lambda s: Convert(s))\n",
    "tf_data.genres"
   ]
  },
  {
   "cell_type": "code",
   "execution_count": 9,
   "id": "1bfd5266-709b-4227-90ea-1657440139ee",
   "metadata": {},
   "outputs": [
    {
     "data": {
      "text/plain": [
       "['Action', 'Comedy', 'Crime', 'Thriller']"
      ]
     },
     "execution_count": 9,
     "metadata": {},
     "output_type": "execute_result"
    }
   ],
   "source": [
    "tf_data.genres[1]\n"
   ]
  },
  {
   "cell_type": "code",
   "execution_count": 10,
   "id": "6b744857-7497-458c-85f4-dba30930bc7b",
   "metadata": {},
   "outputs": [
    {
     "data": {
      "text/plain": [
       "6769"
      ]
     },
     "execution_count": 10,
     "metadata": {},
     "output_type": "execute_result"
    }
   ],
   "source": [
    "len(tf_data)"
   ]
  },
  {
   "cell_type": "markdown",
   "id": "ad6a7b2e-cf3c-453c-8ee5-f7c636ae0240",
   "metadata": {},
   "source": [
    "##### description column transform into string type from object type"
   ]
  },
  {
   "cell_type": "code",
   "execution_count": 11,
   "id": "bff9572f-e245-4e1b-9cb3-a3099caa4728",
   "metadata": {},
   "outputs": [
    {
     "data": {
      "text/plain": [
       "Unnamed: 0       int64\n",
       "budget           int64\n",
       "homepage        object\n",
       "id               int64\n",
       "imdb_id         object\n",
       "revenue          int64\n",
       "runtime          int64\n",
       "language        object\n",
       "description     string\n",
       "popularity     float64\n",
       "title           object\n",
       "rating         float64\n",
       "votes            int64\n",
       "year             int64\n",
       "genre1          object\n",
       "genre2          object\n",
       "genre3          object\n",
       "genre4          object\n",
       "genre5          object\n",
       "genre6          object\n",
       "genre7          object\n",
       "genre8          object\n",
       "genres          object\n",
       "dtype: object"
      ]
     },
     "execution_count": 11,
     "metadata": {},
     "output_type": "execute_result"
    }
   ],
   "source": [
    "tf_data['description'] = tf_data['description'].astype(\"string\")\n",
    "tf_data.dtypes"
   ]
  },
  {
   "cell_type": "markdown",
   "id": "cd39b2c2-1c59-43a9-b85c-25eb21414d22",
   "metadata": {},
   "source": [
    "#### Preproccesing the data"
   ]
  },
  {
   "cell_type": "markdown",
   "id": "9c9e1b28-1ecf-4014-9070-2af14ff323af",
   "metadata": {},
   "source": [
    "##### lowercase"
   ]
  },
  {
   "cell_type": "code",
   "execution_count": 12,
   "id": "846778c2-8bd8-4f86-9140-996b9305d033",
   "metadata": {},
   "outputs": [
    {
     "data": {
      "text/plain": [
       "0       Set more than a decade after the events of the...\n",
       "1       When a team of mercenaries breaks into a wealt...\n",
       "3       In the 22nd century, a paraplegic Marine is di...\n",
       "4       Deep inside the mountain of Dovre, something g...\n",
       "5       Nearly 5,000 years after he was bestowed with ...\n",
       "                              ...                        \n",
       "9863    Georges and Anne are in their eighties. They a...\n",
       "9866    Two brothers, on either side of the law, face ...\n",
       "9868    After a serial killer strangles several women ...\n",
       "9869    At the dawn of the space-race, two radio-obses...\n",
       "9870    In the town of Dillford, humans, vampires and ...\n",
       "Name: description, Length: 6769, dtype: string"
      ]
     },
     "execution_count": 12,
     "metadata": {},
     "output_type": "execute_result"
    }
   ],
   "source": [
    "tf_data.description"
   ]
  },
  {
   "cell_type": "code",
   "execution_count": 13,
   "id": "657dc8f9-0901-4a61-b641-b6d90ce7a022",
   "metadata": {},
   "outputs": [
    {
     "data": {
      "text/plain": [
       "0       set more than a decade after the events of the...\n",
       "1       when a team of mercenaries breaks into a wealt...\n",
       "3       in the 22nd century, a paraplegic marine is di...\n",
       "4       deep inside the mountain of dovre, something g...\n",
       "5       nearly 5,000 years after he was bestowed with ...\n",
       "                              ...                        \n",
       "9863    georges and anne are in their eighties. they a...\n",
       "9866    two brothers, on either side of the law, face ...\n",
       "9868    after a serial killer strangles several women ...\n",
       "9869    at the dawn of the space-race, two radio-obses...\n",
       "9870    in the town of dillford, humans, vampires and ...\n",
       "Name: description, Length: 6769, dtype: string"
      ]
     },
     "execution_count": 13,
     "metadata": {},
     "output_type": "execute_result"
    }
   ],
   "source": [
    "tf_data['description'] = tf_data['description'].str.lower()\n",
    "tf_data.description"
   ]
  },
  {
   "cell_type": "markdown",
   "id": "738a8a35-94ca-4703-9b95-f8c2f5a726c1",
   "metadata": {},
   "source": [
    "##### stopwords"
   ]
  },
  {
   "cell_type": "code",
   "execution_count": 14,
   "id": "a2cc3e1d-afbd-4c64-805f-3992f4ba8001",
   "metadata": {},
   "outputs": [],
   "source": [
    "#for the libraries\n",
    "#https://www.geeksforgeeks.org/removing-stop-words-nltk-python/"
   ]
  },
  {
   "cell_type": "code",
   "execution_count": 15,
   "id": "fffbc76e-f833-4566-bf32-4bd71bd77129",
   "metadata": {},
   "outputs": [
    {
     "name": "stdout",
     "output_type": "stream",
     "text": [
      "['i', 'me', 'my', 'myself', 'we', 'our', 'ours', 'ourselves', 'you', \"you're\", \"you've\", \"you'll\", \"you'd\", 'your', 'yours', 'yourself', 'yourselves', 'he', 'him', 'his', 'himself', 'she', \"she's\", 'her', 'hers', 'herself', 'it', \"it's\", 'its', 'itself', 'they', 'them', 'their', 'theirs', 'themselves', 'what', 'which', 'who', 'whom', 'this', 'that', \"that'll\", 'these', 'those', 'am', 'is', 'are', 'was', 'were', 'be', 'been', 'being', 'have', 'has', 'had', 'having', 'do', 'does', 'did', 'doing', 'a', 'an', 'the', 'and', 'but', 'if', 'or', 'because', 'as', 'until', 'while', 'of', 'at', 'by', 'for', 'with', 'about', 'against', 'between', 'into', 'through', 'during', 'before', 'after', 'above', 'below', 'to', 'from', 'up', 'down', 'in', 'out', 'on', 'off', 'over', 'under', 'again', 'further', 'then', 'once', 'here', 'there', 'when', 'where', 'why', 'how', 'all', 'any', 'both', 'each', 'few', 'more', 'most', 'other', 'some', 'such', 'no', 'nor', 'not', 'only', 'own', 'same', 'so', 'than', 'too', 'very', 's', 't', 'can', 'will', 'just', 'don', \"don't\", 'should', \"should've\", 'now', 'd', 'll', 'm', 'o', 're', 've', 'y', 'ain', 'aren', \"aren't\", 'couldn', \"couldn't\", 'didn', \"didn't\", 'doesn', \"doesn't\", 'hadn', \"hadn't\", 'hasn', \"hasn't\", 'haven', \"haven't\", 'isn', \"isn't\", 'ma', 'mightn', \"mightn't\", 'mustn', \"mustn't\", 'needn', \"needn't\", 'shan', \"shan't\", 'shouldn', \"shouldn't\", 'wasn', \"wasn't\", 'weren', \"weren't\", 'won', \"won't\", 'wouldn', \"wouldn't\"]\n"
     ]
    }
   ],
   "source": [
    "print(stopwords.words('english'))"
   ]
  },
  {
   "cell_type": "code",
   "execution_count": 16,
   "id": "e9286064-24de-4db7-b9e6-bf74041f4e17",
   "metadata": {},
   "outputs": [],
   "source": [
    "stop_words = set(stopwords.words('english'))"
   ]
  },
  {
   "cell_type": "code",
   "execution_count": 17,
   "id": "8093be06-a0ec-49f8-989e-3bbec0e725c4",
   "metadata": {},
   "outputs": [
    {
     "data": {
      "text/plain": [
       "0       set decade events first film, learn story sull...\n",
       "1       team mercenaries breaks wealthy family compoun...\n",
       "3       22nd century, paraplegic marine dispatched moo...\n",
       "4       deep inside mountain dovre, something gigantic...\n",
       "5       nearly 5,000 years bestowed almighty powers eg...\n",
       "                              ...                        \n",
       "9863    georges anne eighties. cultivated, retired mus...\n",
       "9866    two brothers, either side law, face organized ...\n",
       "9868    serial killer strangles several women necktie,...\n",
       "9869    dawn space-race, two radio-obsessed teens disc...\n",
       "9870    town dillford, humans, vampires zombies living...\n",
       "Name: description, Length: 6769, dtype: object"
      ]
     },
     "execution_count": 17,
     "metadata": {},
     "output_type": "execute_result"
    }
   ],
   "source": [
    "#https://stackoverflow.com/questions/29523254/python-remove-stop-words-from-pandas-dataframe\n",
    "tf_data['description'] = tf_data['description'].apply(lambda x: ' '.join([word for word in x.split() if word not in (stop_words)]))\n",
    "tf_data.description"
   ]
  },
  {
   "cell_type": "markdown",
   "id": "a3040bc2-8823-4af3-8880-3f1ac27202c2",
   "metadata": {},
   "source": [
    "##### punctuation"
   ]
  },
  {
   "cell_type": "code",
   "execution_count": 18,
   "id": "074f3a5b-2dcb-40d9-a7bc-89f4721d259e",
   "metadata": {},
   "outputs": [],
   "source": [
    "#το κομμα να το βγάλω?"
   ]
  },
  {
   "cell_type": "code",
   "execution_count": 19,
   "id": "09fd5a48-5bae-493d-9f4a-ae4005dad5ca",
   "metadata": {},
   "outputs": [
    {
     "name": "stderr",
     "output_type": "stream",
     "text": [
      "C:\\Users\\mpoli\\AppData\\Local\\Temp\\ipykernel_6924\\420607143.py:3: FutureWarning: The default value of regex will change from True to False in a future version. In addition, single character regular expressions will *not* be treated as literal strings when regex=True.\n",
      "  tf_data.description = tf_data.description.str.replace(i,\" \")\n"
     ]
    },
    {
     "data": {
      "text/plain": [
       "0       set decade events first film, learn story sull...\n",
       "1       team mercenaries breaks wealthy family compoun...\n",
       "3       22nd century, paraplegic marine dispatched moo...\n",
       "4       deep inside mountain dovre, something gigantic...\n",
       "5       nearly 5,000 years bestowed almighty powers eg...\n",
       "                              ...                        \n",
       "9863    georges anne eighties  cultivated, retired mus...\n",
       "9866    two brothers, either side law, face organized ...\n",
       "9868    serial killer strangles several women necktie,...\n",
       "9869    dawn space race, two radio obsessed teens disc...\n",
       "9870    town dillford, humans, vampires zombies living...\n",
       "Name: description, Length: 6769, dtype: object"
      ]
     },
     "execution_count": 19,
     "metadata": {},
     "output_type": "execute_result"
    }
   ],
   "source": [
    "symbols = \"!\\\"#$%&()*+-./:;<=>?@[\\]^_`{|}~\\n—”“–\"\n",
    "for i in symbols:\n",
    "    tf_data.description = tf_data.description.str.replace(i,\" \")\n",
    "tf_data.description"
   ]
  },
  {
   "cell_type": "code",
   "execution_count": 20,
   "id": "f195c528-2fa6-476e-be2f-6b3669d92c2d",
   "metadata": {},
   "outputs": [],
   "source": [
    "tf_data.to_csv('tf_data.csv')"
   ]
  },
  {
   "cell_type": "markdown",
   "id": "2af124a6-11db-4367-81e6-61e6c1be83b0",
   "metadata": {},
   "source": [
    "##### apostrophe"
   ]
  },
  {
   "cell_type": "code",
   "execution_count": 21,
   "id": "609067ba-36a0-41f0-8efa-d5dee9a4a27b",
   "metadata": {},
   "outputs": [
    {
     "data": {
      "text/plain": [
       "0       set decade events first film learn story sully...\n",
       "1       team mercenaries breaks wealthy family compoun...\n",
       "3       22nd century paraplegic marine dispatched moon...\n",
       "4       deep inside mountain dovre something gigantic ...\n",
       "5       nearly 5000 years bestowed almighty powers egy...\n",
       "                              ...                        \n",
       "9863    georges anne eighties  cultivated retired musi...\n",
       "9866    two brothers either side law face organized cr...\n",
       "9868    serial killer strangles several women necktie ...\n",
       "9869    dawn space race two radio obsessed teens disco...\n",
       "9870    town dillford humans vampires zombies living p...\n",
       "Name: description, Length: 6769, dtype: object"
      ]
     },
     "execution_count": 21,
     "metadata": {},
     "output_type": "execute_result"
    }
   ],
   "source": [
    "tf_data.description = tf_data.description.str.replace(\"’\",\" \")\n",
    "tf_data.description = tf_data.description.str.replace(\"‘\",\" \")\n",
    "tf_data.description = tf_data.description.str.replace(\"'\",\" \")\n",
    "tf_data.description = tf_data.description.str.replace(\",\",\"\")\n",
    "tf_data.description"
   ]
  },
  {
   "cell_type": "markdown",
   "id": "5edcf2a2-4384-4c63-8a33-8015cc56e769",
   "metadata": {},
   "source": [
    "##### stopwords again "
   ]
  },
  {
   "cell_type": "code",
   "execution_count": 22,
   "id": "e7db40c3-9dc3-4426-b7d0-4c1271d1c771",
   "metadata": {},
   "outputs": [
    {
     "data": {
      "text/plain": [
       "0       set decade events first film learn story sully...\n",
       "1       team mercenaries breaks wealthy family compoun...\n",
       "3       22nd century paraplegic marine dispatched moon...\n",
       "4       deep inside mountain dovre something gigantic ...\n",
       "5       nearly 5000 years bestowed almighty powers egy...\n",
       "                              ...                        \n",
       "9863    georges anne eighties cultivated retired music...\n",
       "9866    two brothers either side law face organized cr...\n",
       "9868    serial killer strangles several women necktie ...\n",
       "9869    dawn space race two radio obsessed teens disco...\n",
       "9870    town dillford humans vampires zombies living p...\n",
       "Name: description, Length: 6769, dtype: object"
      ]
     },
     "execution_count": 22,
     "metadata": {},
     "output_type": "execute_result"
    }
   ],
   "source": [
    "stop_words = set(stopwords.words('english'))\n",
    "tf_data['description'] = tf_data['description'].apply(lambda x: ' '.join([word for word in x.split() if word not in (stop_words)]))\n",
    "tf_data.description"
   ]
  },
  {
   "cell_type": "markdown",
   "id": "a75b5c4c-c292-4cae-a09f-5a942b9b5bc0",
   "metadata": {},
   "source": [
    "##### single characters"
   ]
  },
  {
   "cell_type": "code",
   "execution_count": 23,
   "id": "06d88fed-4637-4bc8-ba6b-e96a841791ea",
   "metadata": {},
   "outputs": [
    {
     "data": {
      "text/plain": [
       "0       set decade events first film learn story sully...\n",
       "1       team mercenaries breaks wealthy family compoun...\n",
       "3       22nd century paraplegic marine dispatched moon...\n",
       "4       deep inside mountain dovre something gigantic ...\n",
       "5       nearly 5000 years bestowed almighty powers egy...\n",
       "                              ...                        \n",
       "9863    georges anne eighties cultivated retired music...\n",
       "9866    two brothers either side law face organized cr...\n",
       "9868    serial killer strangles several women necktie ...\n",
       "9869    dawn space race two radio obsessed teens disco...\n",
       "9870    town dillford humans vampires zombies living p...\n",
       "Name: description, Length: 6769, dtype: object"
      ]
     },
     "execution_count": 23,
     "metadata": {},
     "output_type": "execute_result"
    }
   ],
   "source": [
    "tf_data['description'] = tf_data['description'].apply(lambda x: ' '.join([word for word in x.split() if len(word) >1]))\n",
    "tf_data.description"
   ]
  },
  {
   "cell_type": "markdown",
   "id": "dc927455-2e54-4057-bce9-7cdceda172c4",
   "metadata": {},
   "source": [
    "##### convert numbers"
   ]
  },
  {
   "cell_type": "code",
   "execution_count": 24,
   "id": "45a636d8-82e5-4eee-9cac-d5d01ed1db21",
   "metadata": {},
   "outputs": [],
   "source": [
    "import num2words"
   ]
  },
  {
   "cell_type": "code",
   "execution_count": 25,
   "id": "c62609d2-0dec-4c79-a413-163405c5481c",
   "metadata": {},
   "outputs": [
    {
     "data": {
      "text/plain": [
       "0       set decade events first film learn story sully...\n",
       "1       team mercenaries breaks wealthy family compoun...\n",
       "3       22nd century paraplegic marine dispatched moon...\n",
       "4       deep inside mountain dovre something gigantic ...\n",
       "5       nearly five thousand years bestowed almighty p...\n",
       "                              ...                        \n",
       "9863    georges anne eighties cultivated retired music...\n",
       "9866    two brothers either side law face organized cr...\n",
       "9868    serial killer strangles several women necktie ...\n",
       "9869    dawn space race two radio obsessed teens disco...\n",
       "9870    town dillford humans vampires zombies living p...\n",
       "Name: description, Length: 6769, dtype: object"
      ]
     },
     "execution_count": 25,
     "metadata": {},
     "output_type": "execute_result"
    }
   ],
   "source": [
    "#https://stackoverflow.com/questions/56733012/converting-number-in-sentences-to-word-in-python \n",
    "#is the for exaple 11th etc a problem?\n",
    "tf_data['description'] = tf_data['description'].apply(lambda x: ' '.join([num2words.num2words(i) if i.isdigit() else i for i in x.split()]))\n",
    "tf_data['description'] "
   ]
  },
  {
   "cell_type": "markdown",
   "id": "8b30b251-ec7e-465d-ba42-c00076e7e4fc",
   "metadata": {},
   "source": [
    "##### punctuation and stopwords again"
   ]
  },
  {
   "cell_type": "code",
   "execution_count": 26,
   "id": "200900b4-63cc-4ea5-816a-9bcd3519de6d",
   "metadata": {},
   "outputs": [
    {
     "name": "stderr",
     "output_type": "stream",
     "text": [
      "C:\\Users\\mpoli\\AppData\\Local\\Temp\\ipykernel_6924\\420607143.py:3: FutureWarning: The default value of regex will change from True to False in a future version. In addition, single character regular expressions will *not* be treated as literal strings when regex=True.\n",
      "  tf_data.description = tf_data.description.str.replace(i,\" \")\n"
     ]
    },
    {
     "data": {
      "text/plain": [
       "0       set decade events first film learn story sully...\n",
       "1       team mercenaries breaks wealthy family compoun...\n",
       "3       22nd century paraplegic marine dispatched moon...\n",
       "4       deep inside mountain dovre something gigantic ...\n",
       "5       nearly five thousand years bestowed almighty p...\n",
       "                              ...                        \n",
       "9863    georges anne eighties cultivated retired music...\n",
       "9866    two brothers either side law face organized cr...\n",
       "9868    serial killer strangles several women necktie ...\n",
       "9869    dawn space race two radio obsessed teens disco...\n",
       "9870    town dillford humans vampires zombies living p...\n",
       "Name: description, Length: 6769, dtype: object"
      ]
     },
     "execution_count": 26,
     "metadata": {},
     "output_type": "execute_result"
    }
   ],
   "source": [
    "symbols = \"!\\\"#$%&()*+-./:;<=>?@[\\]^_`{|}~\\n—”“–\"\n",
    "for i in symbols:\n",
    "    tf_data.description = tf_data.description.str.replace(i,\" \")\n",
    "tf_data.description"
   ]
  },
  {
   "cell_type": "code",
   "execution_count": 27,
   "id": "bdb5f482-d796-4bee-943c-92d71e4b10a6",
   "metadata": {},
   "outputs": [],
   "source": [
    "tf_data['description'] = tf_data['description'].apply(lambda x: ' '.join([word for word in x.split() if word not in (stop_words)]))"
   ]
  },
  {
   "cell_type": "markdown",
   "id": "5dc6e095-9d7e-4d33-9c94-68f50b1af5eb",
   "metadata": {},
   "source": [
    "##### stemming"
   ]
  },
  {
   "cell_type": "code",
   "execution_count": 28,
   "id": "50598f41-db19-4bf3-b8f5-3384a3112d7f",
   "metadata": {},
   "outputs": [],
   "source": [
    "from nltk.stem import PorterStemmer"
   ]
  },
  {
   "cell_type": "code",
   "execution_count": 29,
   "id": "58a1aa9d-59c7-4cfc-a5eb-1e5f903d2117",
   "metadata": {},
   "outputs": [
    {
     "data": {
      "text/plain": [
       "0       set decad event first film learn stori sulli f...\n",
       "1       team mercenari break wealthi famili compound c...\n",
       "3       22nd centuri parapleg marin dispatch moon pand...\n",
       "4       deep insid mountain dovr someth gigant awaken ...\n",
       "5       nearli five thousand year bestow almighti powe...\n",
       "                              ...                        \n",
       "9863    georg ann eighti cultiv retir music teacher da...\n",
       "9866    two brother either side law face organ crime b...\n",
       "9868    serial killer strangl sever women neckti londo...\n",
       "9869    dawn space race two radio obsess teen discov s...\n",
       "9870    town dillford human vampir zombi live peac ali...\n",
       "Name: description, Length: 6769, dtype: object"
      ]
     },
     "execution_count": 29,
     "metadata": {},
     "output_type": "execute_result"
    }
   ],
   "source": [
    "##with Porter Stemmer\n",
    "#https://stackoverflow.com/questions/37443138/python-stemming-with-pandas-dataframe\n",
    "#https://www.projectpro.io/recipes/use-porter-stemmer\n",
    "ps = PorterStemmer()\n",
    "tf_data['description'] = tf_data['description'].apply(lambda x: ' '.join([ps.stem(y) for y in x.split()]))\n",
    "tf_data.description"
   ]
  },
  {
   "cell_type": "markdown",
   "id": "161702c0-6315-4cd9-8011-9a5df1f6be55",
   "metadata": {},
   "source": [
    "##### Because this is a multi-label classification problem we will treat thie as a Binary Relevance problem"
   ]
  },
  {
   "cell_type": "code",
   "execution_count": 30,
   "id": "bc1c31bf-8685-406e-88db-3c2256329fc7",
   "metadata": {},
   "outputs": [],
   "source": [
    "from sklearn.preprocessing import MultiLabelBinarizer\n",
    "\n",
    "multilabel_binarizer = MultiLabelBinarizer()\n",
    "multilabel_binarizer.fit(tf_data['genres'])\n",
    "\n",
    "# transform target variable\n",
    "y = multilabel_binarizer.transform(tf_data['genres'])"
   ]
  },
  {
   "cell_type": "markdown",
   "id": "e9818219-7bcf-4761-9b01-c7e68ef04d52",
   "metadata": {},
   "source": [
    "#### Apply TF-IDF to extract the features"
   ]
  },
  {
   "cell_type": "code",
   "execution_count": 31,
   "id": "ac70d113-e328-4527-a205-a85c655d3f85",
   "metadata": {},
   "outputs": [],
   "source": [
    "from sklearn.feature_extraction.text import TfidfVectorizer\n",
    "from sklearn.model_selection import train_test_split"
   ]
  },
  {
   "cell_type": "code",
   "execution_count": 32,
   "id": "4933485e-624d-41cf-9657-f23329a76e23",
   "metadata": {},
   "outputs": [],
   "source": [
    "#?TfidfVectorizer\n",
    "#?train_test_split"
   ]
  },
  {
   "cell_type": "markdown",
   "id": "c6943c91-f80f-4b8b-8cdb-8e5e3ba4a12c",
   "metadata": {},
   "source": [
    "##### apply the algorithm of tf-idf"
   ]
  },
  {
   "cell_type": "code",
   "execution_count": 33,
   "id": "be5840a1-aad0-40a7-b5ff-f7745f220b63",
   "metadata": {},
   "outputs": [
    {
     "data": {
      "text/plain": [
       "(4738, 13302)"
      ]
     },
     "execution_count": 33,
     "metadata": {},
     "output_type": "execute_result"
    }
   ],
   "source": [
    "#https://medium.com/@kunalgupta4595/predicting-movie-genres-based-on-plot-summaries-bae646e70e04\n",
    "tfidf = TfidfVectorizer() #ngram_range=(2,3)\n",
    "\n",
    "X= tf_data['description']\n",
    "X_train, X_test, y_train, y_test = train_test_split(X, y,\n",
    "                                   test_size = 0.3,\n",
    "                                   random_state = 42)\n",
    "\n",
    "X_train_tfidf = tfidf.fit_transform(X_train) \n",
    "X_test_tfidf = tfidf.transform(X_test)\n",
    "labels = tf_data.genres\n",
    "X_train_tfidf.shape"
   ]
  },
  {
   "cell_type": "code",
   "execution_count": 34,
   "id": "0a42a383-e4f1-4ce4-a832-d5284fd65985",
   "metadata": {},
   "outputs": [],
   "source": [
    "#each of 4958 descriptions is represented by 13711 features, \n",
    "#representing the tf-idf score for different unigrams and bigrams."
   ]
  },
  {
   "cell_type": "markdown",
   "id": "178d23a7-50a3-49c9-b437-ba873fc0c4bb",
   "metadata": {},
   "source": [
    "##### apply MLP"
   ]
  },
  {
   "cell_type": "code",
   "execution_count": 35,
   "id": "1f2362fd-0cbd-4570-b6eb-91d673474dc4",
   "metadata": {},
   "outputs": [],
   "source": [
    "from sklearn.neural_network import MLPClassifier"
   ]
  },
  {
   "cell_type": "code",
   "execution_count": 36,
   "id": "d1e7f9e1-37e6-4a36-b58d-09c66f704489",
   "metadata": {},
   "outputs": [],
   "source": [
    "#https://slogix.in/source-code/python/deep-learning-samples/how-to-build-spam-detector-using-multi-layer-perceptron-in-python/\n",
    "clf = MLPClassifier(activation='relu', \n",
    "                    solver='adam',#lbfgs\n",
    "                    max_iter=1500,\n",
    "                    hidden_layer_sizes=100,\n",
    "                    random_state=42,\n",
    "                    learning_rate='constant',\n",
    "                    learning_rate_init=0.001)"
   ]
  },
  {
   "cell_type": "code",
   "execution_count": 37,
   "id": "c8fb5ad9-3f2e-45b1-a575-a5d1edcd59dd",
   "metadata": {},
   "outputs": [],
   "source": [
    "#fit the model\n",
    "clf.fit(X_train_tfidf, y_train)\n",
    "# Predicting the Test set results\n",
    "y_pred = clf.predict(X_test_tfidf)\n"
   ]
  },
  {
   "cell_type": "code",
   "execution_count": 38,
   "id": "1bedb4aa-f73e-401d-8c6e-63183e599e02",
   "metadata": {},
   "outputs": [
    {
     "data": {
      "text/plain": [
       "array([0, 0, 0, 0, 0, 0, 1, 1, 0, 1, 0, 1, 0])"
      ]
     },
     "execution_count": 38,
     "metadata": {},
     "output_type": "execute_result"
    }
   ],
   "source": [
    "y_pred[3]"
   ]
  },
  {
   "cell_type": "code",
   "execution_count": 39,
   "id": "d3fc92f7-d7fb-4bb4-9e1a-fa9a44a6ff26",
   "metadata": {},
   "outputs": [
    {
     "data": {
      "text/plain": [
       "('Horror', 'Mystery', 'ScienceFiction', 'Thriller')"
      ]
     },
     "execution_count": 39,
     "metadata": {},
     "output_type": "execute_result"
    }
   ],
   "source": [
    "multilabel_binarizer.inverse_transform(y_pred)[3]"
   ]
  },
  {
   "cell_type": "code",
   "execution_count": 40,
   "id": "4bb17725-bda5-479e-95cd-6cf819b17543",
   "metadata": {},
   "outputs": [
    {
     "data": {
      "text/plain": [
       "0.5494661921708186"
      ]
     },
     "execution_count": 40,
     "metadata": {},
     "output_type": "execute_result"
    }
   ],
   "source": [
    "from sklearn.metrics import f1_score\n",
    "f1_score(y_test, y_pred, average=\"micro\", zero_division=0)"
   ]
  },
  {
   "cell_type": "code",
   "execution_count": 41,
   "id": "b7509c78-f3e7-4ff8-ab09-1f48794426de",
   "metadata": {},
   "outputs": [],
   "source": [
    "#Let’s try to change this threshold value and see if that improves our model’s score:"
   ]
  },
  {
   "cell_type": "code",
   "execution_count": 42,
   "id": "a718f438-84ef-4774-92c7-a89ef66bd66a",
   "metadata": {},
   "outputs": [],
   "source": [
    "# predict probabilities\n",
    "y_pred_prob = clf.predict_proba(X_test_tfidf)"
   ]
  },
  {
   "cell_type": "code",
   "execution_count": 43,
   "id": "dcbb6702-9edd-4b86-962e-d30653ae1d52",
   "metadata": {},
   "outputs": [
    {
     "data": {
      "text/plain": [
       "0.5774267719684094"
      ]
     },
     "execution_count": 43,
     "metadata": {},
     "output_type": "execute_result"
    }
   ],
   "source": [
    "t = 0.1 # threshold value\n",
    "y_pred_new = (y_pred_prob >= t).astype(int)\n",
    "f1_score(y_test, y_pred_new, average=\"micro\", zero_division=0)"
   ]
  },
  {
   "cell_type": "code",
   "execution_count": 44,
   "id": "9ab8c2e2-fe48-4858-b14b-92924c9b5086",
   "metadata": {},
   "outputs": [
    {
     "name": "stdout",
     "output_type": "stream",
     "text": [
      "Classification report\n",
      "               precision    recall  f1-score   support\n",
      "\n",
      "           0       0.62      0.74      0.68       559\n",
      "           1       0.52      0.46      0.49       259\n",
      "           2       0.52      0.58      0.55       592\n",
      "           3       0.51      0.53      0.52       351\n",
      "           4       0.55      0.71      0.62       838\n",
      "           5       0.56      0.37      0.45       188\n",
      "           6       0.58      0.69      0.63       384\n",
      "           7       0.36      0.35      0.35       198\n",
      "           8       0.57      0.58      0.58       403\n",
      "           9       0.63      0.59      0.61       255\n",
      "          10       0.00      0.00      0.00         0\n",
      "          11       0.51      0.64      0.57       679\n",
      "          12       0.50      0.07      0.12        15\n",
      "\n",
      "   micro avg       0.55      0.61      0.58      4721\n",
      "   macro avg       0.49      0.49      0.47      4721\n",
      "weighted avg       0.55      0.61      0.57      4721\n",
      " samples avg       0.57      0.64      0.57      4721\n",
      "\n",
      "Accuracy of the model :  11.816838995568684\n"
     ]
    },
    {
     "name": "stderr",
     "output_type": "stream",
     "text": [
      "c:\\python38\\lib\\site-packages\\sklearn\\metrics\\_classification.py:1318: UndefinedMetricWarning: Precision and F-score are ill-defined and being set to 0.0 in labels with no predicted samples. Use `zero_division` parameter to control this behavior.\n",
      "  _warn_prf(average, modifier, msg_start, len(result))\n",
      "c:\\python38\\lib\\site-packages\\sklearn\\metrics\\_classification.py:1318: UndefinedMetricWarning: Recall and F-score are ill-defined and being set to 0.0 in labels with no true samples. Use `zero_division` parameter to control this behavior.\n",
      "  _warn_prf(average, modifier, msg_start, len(result))\n",
      "c:\\python38\\lib\\site-packages\\sklearn\\metrics\\_classification.py:1318: UndefinedMetricWarning: Precision and F-score are ill-defined and being set to 0.0 in samples with no predicted labels. Use `zero_division` parameter to control this behavior.\n",
      "  _warn_prf(average, modifier, msg_start, len(result))\n"
     ]
    }
   ],
   "source": [
    "from sklearn import metrics\n",
    "print(\"Classification report\\n\",metrics.classification_report(y_test, y_pred_new))\n",
    "print(\"Accuracy of the model : \",metrics.accuracy_score(y_test, y_pred_new)*100)"
   ]
  },
  {
   "cell_type": "code",
   "execution_count": 45,
   "id": "7931de74-9997-49f1-ac08-7800edbcf4a9",
   "metadata": {},
   "outputs": [
    {
     "name": "stdout",
     "output_type": "stream",
     "text": [
      "Classification report\n",
      "               precision    recall  f1-score   support\n",
      "\n",
      "           0       0.71      0.62      0.66       559\n",
      "           1       0.64      0.34      0.44       259\n",
      "           2       0.61      0.47      0.53       592\n",
      "           3       0.59      0.40      0.48       351\n",
      "           4       0.59      0.60      0.60       838\n",
      "           5       0.72      0.23      0.35       188\n",
      "           6       0.70      0.56      0.62       384\n",
      "           7       0.36      0.18      0.24       198\n",
      "           8       0.68      0.46      0.55       403\n",
      "           9       0.81      0.48      0.61       255\n",
      "          10       0.00      0.00      0.00         0\n",
      "          11       0.55      0.52      0.54       679\n",
      "          12       0.00      0.00      0.00        15\n",
      "\n",
      "   micro avg       0.62      0.49      0.55      4721\n",
      "   macro avg       0.54      0.37      0.43      4721\n",
      "weighted avg       0.63      0.49      0.54      4721\n",
      " samples avg       0.60      0.52      0.52      4721\n",
      "\n",
      "Accuracy of the model :  14.377154111275233\n"
     ]
    },
    {
     "name": "stderr",
     "output_type": "stream",
     "text": [
      "c:\\python38\\lib\\site-packages\\sklearn\\metrics\\_classification.py:1318: UndefinedMetricWarning: Precision and F-score are ill-defined and being set to 0.0 in labels with no predicted samples. Use `zero_division` parameter to control this behavior.\n",
      "  _warn_prf(average, modifier, msg_start, len(result))\n",
      "c:\\python38\\lib\\site-packages\\sklearn\\metrics\\_classification.py:1318: UndefinedMetricWarning: Recall and F-score are ill-defined and being set to 0.0 in labels with no true samples. Use `zero_division` parameter to control this behavior.\n",
      "  _warn_prf(average, modifier, msg_start, len(result))\n",
      "c:\\python38\\lib\\site-packages\\sklearn\\metrics\\_classification.py:1318: UndefinedMetricWarning: Precision and F-score are ill-defined and being set to 0.0 in samples with no predicted labels. Use `zero_division` parameter to control this behavior.\n",
      "  _warn_prf(average, modifier, msg_start, len(result))\n"
     ]
    }
   ],
   "source": [
    "from sklearn import metrics\n",
    "print(\"Classification report\\n\",metrics.classification_report(y_test, y_pred))\n",
    "print(\"Accuracy of the model : \",metrics.accuracy_score(y_test, y_pred)*100)"
   ]
  },
  {
   "cell_type": "code",
   "execution_count": 46,
   "id": "cf3cee22-8b49-4dc9-9caa-dac6d581a95b",
   "metadata": {},
   "outputs": [
    {
     "data": {
      "text/plain": [
       "[('Horror',),\n",
       " ('Horror',),\n",
       " ('Drama',),\n",
       " ('Horror', 'Mystery', 'ScienceFiction', 'Thriller'),\n",
       " ('Action',),\n",
       " ('Action', 'Thriller'),\n",
       " ('Crime', 'Drama', 'Thriller'),\n",
       " ('Thriller',),\n",
       " ('Drama',),\n",
       " ('Comedy',),\n",
       " ('Comedy', 'Drama'),\n",
       " ('Drama',),\n",
       " ('Action', 'Horror'),\n",
       " (),\n",
       " ('Romance',),\n",
       " ('Drama', 'Horror', 'Mystery'),\n",
       " ('Crime', 'Drama'),\n",
       " (),\n",
       " ('Horror',),\n",
       " ('Fantasy', 'Romance'),\n",
       " ('Action', 'ScienceFiction'),\n",
       " ('Comedy', 'Drama', 'Romance'),\n",
       " ('Drama',),\n",
       " ('Comedy', 'Drama'),\n",
       " ('Drama', 'Romance'),\n",
       " ('Horror',),\n",
       " ('Action', 'Crime', 'Drama', 'Thriller'),\n",
       " ('ScienceFiction',),\n",
       " (),\n",
       " ('Action', 'Crime', 'Thriller'),\n",
       " ('Comedy', 'Romance'),\n",
       " (),\n",
       " ('Drama',),\n",
       " ('Drama',),\n",
       " ('Action', 'Crime', 'Drama', 'Thriller'),\n",
       " ('Drama',),\n",
       " ('Romance', 'Thriller'),\n",
       " ('Comedy',),\n",
       " ('Romance',),\n",
       " ('Action', 'Thriller'),\n",
       " ('Comedy',),\n",
       " ('Action', 'Crime', 'Drama', 'Thriller'),\n",
       " ('Comedy', 'Horror'),\n",
       " ('Horror',),\n",
       " ('Action', 'Thriller'),\n",
       " (),\n",
       " ('Drama',),\n",
       " ('Romance',),\n",
       " ('Comedy',),\n",
       " ('Action', 'Comedy'),\n",
       " ('ScienceFiction',),\n",
       " ('Horror', 'Mystery', 'Thriller'),\n",
       " ('Thriller',),\n",
       " ('Drama',),\n",
       " ('Action', 'Drama'),\n",
       " ('Drama', 'Thriller'),\n",
       " ('Comedy', 'Drama'),\n",
       " ('Comedy', 'Romance'),\n",
       " ('Drama',),\n",
       " ('Thriller',),\n",
       " ('Comedy',),\n",
       " ('Action', 'ScienceFiction', 'Thriller'),\n",
       " ('Action',),\n",
       " ('Drama', 'Romance'),\n",
       " ('Action',),\n",
       " ('Drama',),\n",
       " ('Comedy', 'Drama'),\n",
       " ('Action', 'Drama', 'Thriller'),\n",
       " ('Drama', 'Horror'),\n",
       " ('Adventure', 'Fantasy'),\n",
       " ('Action',),\n",
       " ('Horror', 'Mystery', 'Thriller'),\n",
       " ('Drama',),\n",
       " ('Action',),\n",
       " ('Action', 'Adventure', 'Fantasy', 'ScienceFiction'),\n",
       " ('Drama',),\n",
       " ('Comedy',),\n",
       " (),\n",
       " ('Action', 'Crime', 'Horror', 'Thriller'),\n",
       " (),\n",
       " ('Action', 'Comedy', 'Crime'),\n",
       " ('Drama', 'Thriller'),\n",
       " ('Drama',),\n",
       " ('Horror', 'Thriller'),\n",
       " ('Crime', 'Drama', 'Romance'),\n",
       " ('Mystery',),\n",
       " ('Drama', 'Romance'),\n",
       " ('Drama', 'Thriller'),\n",
       " ('Drama', 'Thriller'),\n",
       " ('Drama', 'Thriller'),\n",
       " ('Horror', 'Thriller'),\n",
       " ('Action', 'Crime', 'Drama', 'Thriller'),\n",
       " ('Thriller',),\n",
       " ('Drama', 'Thriller'),\n",
       " ('Action', 'Thriller'),\n",
       " ('Drama', 'Horror', 'Thriller'),\n",
       " ('Comedy',),\n",
       " ('Action', 'ScienceFiction'),\n",
       " ('Comedy', 'Drama'),\n",
       " ('Action', 'Crime'),\n",
       " ('Crime', 'Drama', 'Thriller'),\n",
       " ('Comedy', 'Drama'),\n",
       " ('Comedy', 'Drama'),\n",
       " ('Horror', 'Mystery'),\n",
       " ('Crime',),\n",
       " ('Action', 'Adventure', 'Comedy', 'Romance'),\n",
       " ('Comedy',),\n",
       " ('Drama',),\n",
       " ('Adventure', 'Comedy', 'ScienceFiction'),\n",
       " ('Romance',),\n",
       " ('Drama', 'Horror', 'ScienceFiction'),\n",
       " ('Horror', 'Mystery', 'Thriller'),\n",
       " ('Drama',),\n",
       " ('Crime', 'Thriller'),\n",
       " ('Action', 'Crime'),\n",
       " ('Action', 'Thriller'),\n",
       " ('Drama',),\n",
       " ('Drama',),\n",
       " (),\n",
       " ('Action', 'Crime', 'Drama', 'Thriller'),\n",
       " ('Horror', 'Thriller'),\n",
       " ('Drama', 'Thriller'),\n",
       " ('Thriller',),\n",
       " ('Comedy', 'Horror'),\n",
       " ('Drama', 'Horror', 'Thriller'),\n",
       " ('Comedy', 'Romance'),\n",
       " ('Comedy',),\n",
       " ('Action', 'ScienceFiction', 'Thriller'),\n",
       " ('Romance',),\n",
       " (),\n",
       " ('Drama',),\n",
       " ('Action', 'Thriller'),\n",
       " ('Action', 'Adventure', 'Comedy', 'Fantasy'),\n",
       " ('Drama', 'Thriller'),\n",
       " ('Comedy', 'Drama'),\n",
       " ('Horror', 'Thriller'),\n",
       " ('Action', 'Horror', 'Thriller'),\n",
       " ('Drama', 'Horror'),\n",
       " ('Drama', 'Horror'),\n",
       " ('Drama',),\n",
       " ('Drama',),\n",
       " ('Horror',),\n",
       " ('Drama', 'Horror', 'Thriller'),\n",
       " ('Comedy', 'Drama'),\n",
       " ('Horror', 'Thriller'),\n",
       " ('Drama', 'Romance'),\n",
       " ('Drama',),\n",
       " ('Action', 'Crime', 'Drama'),\n",
       " ('Thriller',),\n",
       " ('Action', 'ScienceFiction'),\n",
       " ('Adventure', 'Drama', 'Thriller'),\n",
       " ('Action', 'Crime', 'Thriller'),\n",
       " ('Drama',),\n",
       " ('Comedy', 'Crime', 'Drama'),\n",
       " ('Crime', 'Drama', 'Thriller'),\n",
       " ('Action', 'Adventure', 'Fantasy'),\n",
       " ('Drama', 'Horror'),\n",
       " ('Action', 'Fantasy', 'Thriller'),\n",
       " ('Action', 'Drama'),\n",
       " ('Comedy', 'Drama'),\n",
       " ('Drama',),\n",
       " ('Comedy', 'Drama', 'Romance'),\n",
       " ('Drama',),\n",
       " ('Action', 'Adventure', 'Comedy', 'Drama'),\n",
       " ('Mystery', 'Thriller'),\n",
       " ('Comedy', 'Drama'),\n",
       " ('Horror', 'ScienceFiction'),\n",
       " ('Crime', 'Drama'),\n",
       " ('Action', 'Fantasy', 'Thriller'),\n",
       " ('Comedy', 'Horror', 'ScienceFiction', 'Thriller'),\n",
       " (),\n",
       " ('Action', 'Crime', 'Thriller'),\n",
       " ('Action', 'Thriller'),\n",
       " ('Comedy', 'Drama'),\n",
       " (),\n",
       " ('Horror',),\n",
       " ('Comedy',),\n",
       " ('Drama',),\n",
       " ('Crime', 'Drama'),\n",
       " ('Action', 'Drama', 'Thriller'),\n",
       " ('Drama', 'Thriller'),\n",
       " ('Drama', 'Horror'),\n",
       " ('Drama',),\n",
       " (),\n",
       " ('Action', 'Adventure', 'Comedy', 'Thriller'),\n",
       " ('Adventure', 'Drama'),\n",
       " ('Drama', 'Romance'),\n",
       " ('Horror', 'Thriller'),\n",
       " ('Horror', 'Thriller'),\n",
       " (),\n",
       " ('Romance',),\n",
       " ('Horror', 'ScienceFiction', 'Thriller'),\n",
       " ('Romance', 'Thriller'),\n",
       " ('Comedy', 'Crime'),\n",
       " ('Crime', 'Drama'),\n",
       " (),\n",
       " ('Action', 'Fantasy', 'ScienceFiction'),\n",
       " ('Crime', 'Thriller'),\n",
       " ('Action', 'Crime', 'Drama', 'Thriller'),\n",
       " ('Thriller',),\n",
       " ('Drama',),\n",
       " ('Comedy', 'Crime', 'ScienceFiction'),\n",
       " ('Action', 'Comedy', 'Drama'),\n",
       " ('Comedy',),\n",
       " ('Comedy', 'Drama'),\n",
       " ('Drama', 'Thriller'),\n",
       " (),\n",
       " ('Crime', 'Drama', 'Thriller'),\n",
       " ('Drama', 'Thriller'),\n",
       " ('Drama', 'Horror', 'Mystery', 'Thriller'),\n",
       " ('Action', 'Comedy', 'Horror'),\n",
       " ('Action', 'Thriller'),\n",
       " ('Drama',),\n",
       " ('Drama', 'Romance'),\n",
       " (),\n",
       " ('Comedy', 'Drama', 'Romance'),\n",
       " ('Drama', 'ScienceFiction'),\n",
       " ('Comedy', 'Horror'),\n",
       " ('Comedy',),\n",
       " ('Action', 'Crime', 'Thriller'),\n",
       " ('Drama', 'Horror', 'Thriller'),\n",
       " ('Action', 'Crime', 'Thriller'),\n",
       " ('Comedy', 'Romance'),\n",
       " ('Drama',),\n",
       " ('Comedy',),\n",
       " ('Drama',),\n",
       " ('Crime', 'Drama'),\n",
       " ('Action',),\n",
       " ('Horror', 'Thriller'),\n",
       " ('Drama',),\n",
       " ('Action', 'Thriller'),\n",
       " ('Horror', 'Mystery'),\n",
       " ('Action',),\n",
       " ('Comedy', 'Drama', 'Romance'),\n",
       " ('Comedy', 'Mystery'),\n",
       " ('Drama', 'Thriller'),\n",
       " ('Action', 'Drama', 'Thriller'),\n",
       " ('Action', 'Crime', 'Drama', 'Thriller'),\n",
       " ('Action', 'Fantasy', 'ScienceFiction'),\n",
       " ('Action', 'Crime', 'Drama', 'Thriller'),\n",
       " ('Drama',),\n",
       " (),\n",
       " ('Action', 'Drama', 'Thriller'),\n",
       " ('Action', 'Crime', 'Horror', 'Thriller'),\n",
       " ('Drama', 'Romance'),\n",
       " ('Drama',),\n",
       " ('Horror', 'Mystery', 'Thriller'),\n",
       " ('Drama', 'Romance', 'ScienceFiction'),\n",
       " ('Drama', 'Romance'),\n",
       " ('Romance',),\n",
       " ('Action', 'Adventure', 'Thriller'),\n",
       " ('Horror', 'Thriller'),\n",
       " ('Comedy', 'Drama'),\n",
       " ('Horror', 'Thriller'),\n",
       " ('Thriller',),\n",
       " ('Comedy', 'Romance'),\n",
       " ('Horror', 'Mystery', 'ScienceFiction', 'Thriller'),\n",
       " ('Action', 'Crime', 'Thriller'),\n",
       " ('Horror', 'Mystery'),\n",
       " ('Drama', 'Romance'),\n",
       " ('Action', 'Comedy'),\n",
       " ('Horror', 'Thriller'),\n",
       " ('Action', 'Adventure', 'Comedy', 'Crime'),\n",
       " ('Drama',),\n",
       " ('Drama', 'Fantasy'),\n",
       " ('Horror', 'Mystery'),\n",
       " ('Drama',),\n",
       " ('Romance', 'Thriller'),\n",
       " ('Comedy',),\n",
       " (),\n",
       " ('Crime', 'Mystery', 'Thriller'),\n",
       " ('Action', 'Crime', 'Thriller'),\n",
       " ('Comedy', 'Romance'),\n",
       " ('Action', 'Adventure', 'Fantasy'),\n",
       " (),\n",
       " ('Action', 'Crime'),\n",
       " ('Drama',),\n",
       " ('Comedy',),\n",
       " ('Action', 'Thriller'),\n",
       " (),\n",
       " ('Crime', 'Drama', 'Thriller'),\n",
       " ('Drama',),\n",
       " ('Comedy', 'Romance'),\n",
       " ('Horror',),\n",
       " ('Drama', 'Romance'),\n",
       " ('Comedy', 'Drama'),\n",
       " ('Horror', 'Mystery', 'Thriller'),\n",
       " ('Comedy', 'Drama', 'Romance'),\n",
       " ('Action', 'Thriller'),\n",
       " ('Action', 'Adventure', 'ScienceFiction'),\n",
       " ('Drama', 'Romance', 'Thriller'),\n",
       " ('Horror', 'Mystery', 'Thriller'),\n",
       " ('Action', 'Thriller'),\n",
       " ('Action', 'Adventure', 'ScienceFiction'),\n",
       " ('Drama', 'Thriller'),\n",
       " ('Horror',),\n",
       " ('Comedy',),\n",
       " ('Horror', 'Thriller'),\n",
       " ('Action', 'Adventure'),\n",
       " ('Action',),\n",
       " ('Crime', 'Drama'),\n",
       " ('Drama', 'Thriller'),\n",
       " ('Horror', 'Thriller'),\n",
       " ('Comedy', 'Horror'),\n",
       " ('Drama', 'Romance'),\n",
       " ('Mystery', 'Thriller'),\n",
       " ('Drama', 'Thriller'),\n",
       " ('Drama', 'Thriller'),\n",
       " ('Action', 'Crime', 'Thriller'),\n",
       " ('Action', 'ScienceFiction', 'Thriller'),\n",
       " ('Comedy', 'Horror'),\n",
       " ('Horror',),\n",
       " ('Horror', 'Thriller'),\n",
       " ('Comedy', 'Drama', 'Romance'),\n",
       " ('Drama',),\n",
       " ('Action', 'Crime', 'Drama'),\n",
       " ('Action', 'Crime', 'Drama'),\n",
       " ('Action', 'ScienceFiction', 'Thriller'),\n",
       " ('Action', 'Adventure', 'Fantasy', 'Thriller'),\n",
       " ('Drama',),\n",
       " ('Drama',),\n",
       " ('Drama', 'Thriller'),\n",
       " ('Action', 'Thriller'),\n",
       " ('Horror', 'Mystery'),\n",
       " ('Drama',),\n",
       " ('Comedy',),\n",
       " ('Crime', 'Thriller'),\n",
       " ('Comedy', 'Horror'),\n",
       " ('Drama', 'Romance', 'Thriller'),\n",
       " ('Romance',),\n",
       " ('Comedy', 'Drama', 'Romance'),\n",
       " ('Comedy',),\n",
       " ('Action',),\n",
       " ('Crime', 'Thriller'),\n",
       " ('Drama', 'Horror'),\n",
       " ('Comedy',),\n",
       " ('Action',),\n",
       " ('Action', 'Mystery', 'Thriller'),\n",
       " ('Horror',),\n",
       " ('Action', 'Crime', 'Thriller'),\n",
       " ('Comedy', 'Drama'),\n",
       " ('Action',),\n",
       " ('Crime', 'Thriller'),\n",
       " ('Drama',),\n",
       " ('Drama', 'Thriller'),\n",
       " (),\n",
       " ('Drama',),\n",
       " ('Action', 'ScienceFiction'),\n",
       " ('Crime', 'Drama'),\n",
       " ('Action', 'ScienceFiction'),\n",
       " ('Comedy',),\n",
       " ('Drama',),\n",
       " ('Crime', 'Thriller'),\n",
       " ('Comedy',),\n",
       " ('Action', 'Horror', 'Mystery', 'Thriller'),\n",
       " ('Fantasy', 'Romance'),\n",
       " ('Action', 'Crime', 'Drama', 'Thriller'),\n",
       " ('Drama', 'Horror', 'Thriller'),\n",
       " ('Drama', 'Thriller'),\n",
       " ('Action', 'Comedy', 'Drama'),\n",
       " ('Drama', 'Romance'),\n",
       " ('Drama',),\n",
       " ('Drama',),\n",
       " ('Drama',),\n",
       " (),\n",
       " ('Thriller',),\n",
       " ('Comedy', 'Horror'),\n",
       " ('Crime', 'Horror', 'Mystery', 'Thriller'),\n",
       " ('Crime', 'Drama', 'Thriller'),\n",
       " ('Action', 'Mystery', 'Thriller'),\n",
       " ('Drama',),\n",
       " ('Drama',),\n",
       " ('Horror', 'Mystery', 'Thriller'),\n",
       " ('Action',),\n",
       " ('Action', 'Thriller'),\n",
       " ('Comedy',),\n",
       " ('Drama', 'Thriller'),\n",
       " ('Horror',),\n",
       " ('Crime', 'Drama'),\n",
       " ('Comedy', 'Drama'),\n",
       " ('Comedy', 'Drama'),\n",
       " ('Drama', 'Romance'),\n",
       " ('Comedy', 'Crime', 'Mystery', 'Thriller'),\n",
       " ('Action', 'Thriller'),\n",
       " ('Crime', 'Drama'),\n",
       " ('Comedy', 'Drama'),\n",
       " ('Comedy', 'Romance'),\n",
       " ('Horror', 'Mystery'),\n",
       " ('Action', 'Adventure', 'ScienceFiction'),\n",
       " ('Action', 'Adventure', 'Drama', 'ScienceFiction'),\n",
       " ('Horror', 'Thriller'),\n",
       " ('Drama', 'Thriller'),\n",
       " ('Crime', 'Drama', 'Thriller'),\n",
       " ('Action', 'Thriller'),\n",
       " ('Comedy', 'Thriller'),\n",
       " ('Drama',),\n",
       " ('Thriller',),\n",
       " ('Drama',),\n",
       " ('Drama', 'Horror'),\n",
       " ('Action', 'Adventure', 'ScienceFiction', 'Thriller'),\n",
       " ('Drama', 'Romance'),\n",
       " ('Horror', 'Mystery', 'Thriller'),\n",
       " ('Adventure', 'Comedy', 'Crime'),\n",
       " ('Action', 'Horror', 'Thriller'),\n",
       " ('Horror', 'Thriller'),\n",
       " ('Drama',),\n",
       " ('Drama', 'Horror'),\n",
       " ('Drama', 'Romance'),\n",
       " ('Comedy', 'Drama'),\n",
       " (),\n",
       " ('Drama',),\n",
       " ('Drama',),\n",
       " ('Drama',),\n",
       " ('Action', 'Adventure'),\n",
       " ('Romance',),\n",
       " ('Action', 'Drama'),\n",
       " ('Romance',),\n",
       " ('Drama',),\n",
       " ('Crime', 'Drama', 'Thriller'),\n",
       " ('Drama', 'Thriller'),\n",
       " ('Drama',),\n",
       " ('Action', 'Thriller'),\n",
       " ('Drama', 'Thriller'),\n",
       " ('Drama', 'ScienceFiction'),\n",
       " ('Action', 'Comedy'),\n",
       " ('Comedy',),\n",
       " ('Action', 'Adventure', 'Thriller'),\n",
       " ('Action', 'Adventure', 'ScienceFiction', 'Thriller'),\n",
       " ('Crime', 'Thriller'),\n",
       " (),\n",
       " ('Comedy',),\n",
       " ('Action', 'Crime', 'Thriller'),\n",
       " ('Action', 'Horror', 'Thriller'),\n",
       " ('Horror',),\n",
       " ('Action',),\n",
       " ('Comedy', 'Thriller'),\n",
       " ('Action', 'Horror'),\n",
       " ('Comedy', 'Drama', 'Romance'),\n",
       " ('Comedy', 'Mystery'),\n",
       " ('Romance', 'Thriller'),\n",
       " ('Comedy',),\n",
       " ('Mystery', 'ScienceFiction', 'Thriller'),\n",
       " ('Drama',),\n",
       " (),\n",
       " ('Crime', 'Drama', 'Thriller'),\n",
       " ('Action', 'Drama'),\n",
       " ('Thriller',),\n",
       " ('Comedy', 'Drama'),\n",
       " ('Drama', 'Romance'),\n",
       " ('Action',),\n",
       " ('Crime', 'Drama'),\n",
       " ('Crime', 'Thriller'),\n",
       " ('Horror',),\n",
       " ('Comedy', 'Drama', 'Romance'),\n",
       " ('Comedy', 'Romance'),\n",
       " ('Drama',),\n",
       " ('Comedy', 'Romance'),\n",
       " ('Mystery', 'Thriller'),\n",
       " ('Action', 'ScienceFiction', 'Thriller'),\n",
       " (),\n",
       " ('Drama', 'Horror', 'Thriller'),\n",
       " ('Comedy', 'Horror'),\n",
       " ('Drama',),\n",
       " ('Action', 'Comedy', 'Thriller'),\n",
       " ('Drama',),\n",
       " ('Drama', 'Thriller'),\n",
       " ('Action', 'Thriller'),\n",
       " ('Mystery', 'Thriller'),\n",
       " ('Thriller',),\n",
       " ('Action', 'Adventure', 'Fantasy'),\n",
       " ('Horror', 'Thriller'),\n",
       " ('Comedy', 'Drama'),\n",
       " ('Horror', 'Thriller'),\n",
       " ('Comedy', 'Drama'),\n",
       " ('Horror', 'Mystery', 'Thriller'),\n",
       " ('Action', 'Adventure', 'Fantasy', 'ScienceFiction'),\n",
       " ('Comedy', 'Horror'),\n",
       " ('Horror', 'Thriller'),\n",
       " ('Drama', 'Horror'),\n",
       " ('Drama', 'Thriller'),\n",
       " ('Horror',),\n",
       " (),\n",
       " ('Horror', 'ScienceFiction'),\n",
       " ('Action', 'Adventure', 'Comedy'),\n",
       " ('Action', 'Mystery', 'Thriller'),\n",
       " ('Comedy',),\n",
       " ('Horror', 'Thriller'),\n",
       " ('Drama',),\n",
       " ('Comedy', 'Romance'),\n",
       " ('Horror', 'Thriller'),\n",
       " ('Drama',),\n",
       " ('Crime', 'Thriller'),\n",
       " ('Thriller',),\n",
       " ('Horror', 'Mystery', 'Thriller'),\n",
       " ('Action', 'Drama'),\n",
       " ('Action', 'Drama'),\n",
       " (),\n",
       " ('Drama', 'Romance'),\n",
       " ('Drama',),\n",
       " ('Action', 'Thriller'),\n",
       " ('Action', 'Adventure', 'ScienceFiction', 'Thriller'),\n",
       " ('Comedy',),\n",
       " ('Action', 'ScienceFiction'),\n",
       " ('Thriller',),\n",
       " ('Drama', 'Thriller'),\n",
       " ('Comedy',),\n",
       " ('Drama', 'Romance'),\n",
       " ('Action', 'Crime', 'Thriller'),\n",
       " ('Drama',),\n",
       " ('Drama',),\n",
       " (),\n",
       " ('Comedy', 'Drama'),\n",
       " ('ScienceFiction', 'Thriller'),\n",
       " ('Comedy',),\n",
       " ('Drama', 'Romance'),\n",
       " (),\n",
       " ('Comedy', 'Romance'),\n",
       " ('Comedy',),\n",
       " (),\n",
       " ('Drama',),\n",
       " ('Comedy', 'Romance'),\n",
       " ('Drama', 'Romance'),\n",
       " ('Comedy', 'Horror'),\n",
       " ('Comedy', 'Drama'),\n",
       " ('Comedy', 'Romance'),\n",
       " (),\n",
       " ('Drama', 'Thriller'),\n",
       " ('Comedy', 'Drama'),\n",
       " ('Drama', 'Romance'),\n",
       " (),\n",
       " ('Action', 'Thriller'),\n",
       " ('Comedy', 'Drama'),\n",
       " ('Drama', 'Horror'),\n",
       " ('Horror',),\n",
       " ('Thriller',),\n",
       " ('Thriller',),\n",
       " ('Drama', 'Romance'),\n",
       " ('Comedy', 'Drama', 'Romance'),\n",
       " ('Drama', 'Romance'),\n",
       " ('Horror',),\n",
       " ('Action', 'Adventure', 'Fantasy'),\n",
       " ('Comedy', 'Romance'),\n",
       " ('Adventure', 'Fantasy'),\n",
       " ('Action',),\n",
       " ('Comedy', 'Romance'),\n",
       " ('Crime',),\n",
       " ('Action', 'ScienceFiction'),\n",
       " ('Horror',),\n",
       " ('Drama',),\n",
       " ('Action', 'Drama', 'Thriller'),\n",
       " ('Drama',),\n",
       " ('Comedy',),\n",
       " ('Drama',),\n",
       " ('Drama',),\n",
       " ('Horror', 'Thriller'),\n",
       " ('Comedy',),\n",
       " ('Crime', 'Drama', 'Mystery', 'Thriller'),\n",
       " ('Action',),\n",
       " ('ScienceFiction',),\n",
       " ('Comedy', 'Drama', 'Romance'),\n",
       " ('Drama', 'Romance'),\n",
       " ('Drama', 'Romance'),\n",
       " ('Horror',),\n",
       " ('Comedy',),\n",
       " ('Action', 'Comedy', 'Fantasy'),\n",
       " ('Drama', 'Horror'),\n",
       " (),\n",
       " ('Crime', 'Thriller'),\n",
       " ('Drama',),\n",
       " ('Comedy', 'Drama'),\n",
       " ('Drama',),\n",
       " ('Action',),\n",
       " ('Action', 'ScienceFiction'),\n",
       " ('Comedy',),\n",
       " ('Drama', 'Romance'),\n",
       " ('Action', 'Comedy', 'Drama'),\n",
       " ('Drama',),\n",
       " ('Comedy', 'Drama', 'Romance', 'Thriller'),\n",
       " ('Action', 'Drama', 'ScienceFiction', 'Thriller'),\n",
       " ('ScienceFiction',),\n",
       " ('Drama', 'Thriller'),\n",
       " ('Drama', 'Romance'),\n",
       " ('Action', 'Horror', 'Thriller'),\n",
       " ('Crime', 'Drama', 'Thriller'),\n",
       " ('Comedy', 'Drama', 'Romance'),\n",
       " ('Comedy', 'Drama'),\n",
       " ('Comedy', 'Drama'),\n",
       " ('Adventure', 'Fantasy'),\n",
       " ('Action', 'Adventure', 'Comedy', 'Romance', 'ScienceFiction'),\n",
       " ('Romance',),\n",
       " ('Action',),\n",
       " ('Comedy', 'Drama'),\n",
       " (),\n",
       " ('Drama', 'Romance'),\n",
       " (),\n",
       " ('Drama',),\n",
       " ('Drama', 'Romance'),\n",
       " ('Action', 'Crime'),\n",
       " ('Drama',),\n",
       " ('Drama',),\n",
       " ('Drama', 'Thriller'),\n",
       " ('Drama', 'ScienceFiction'),\n",
       " (),\n",
       " ('Comedy', 'Romance'),\n",
       " ('Comedy', 'Drama'),\n",
       " ('Horror',),\n",
       " ('Thriller',),\n",
       " ('Action', 'Adventure'),\n",
       " ('Romance',),\n",
       " ('Drama',),\n",
       " ('Comedy',),\n",
       " ('Crime', 'Drama', 'Thriller'),\n",
       " ('Comedy',),\n",
       " ('Drama', 'Romance'),\n",
       " ('Action', 'Comedy', 'Drama'),\n",
       " ('Action', 'Drama'),\n",
       " ('Drama',),\n",
       " ('Action', 'Crime', 'Drama'),\n",
       " ('Adventure', 'Drama', 'ScienceFiction'),\n",
       " ('Thriller',),\n",
       " ('Comedy', 'Drama', 'Romance'),\n",
       " ('Action', 'Fantasy', 'ScienceFiction'),\n",
       " ('Comedy',),\n",
       " ('Comedy', 'Horror'),\n",
       " ('Action', 'Adventure', 'Drama', 'Fantasy'),\n",
       " ('Action', 'Thriller'),\n",
       " ('Drama', 'Thriller'),\n",
       " ('Action',),\n",
       " ('Comedy',),\n",
       " (),\n",
       " ('Action', 'Thriller'),\n",
       " ('Drama',),\n",
       " ('Drama',),\n",
       " (),\n",
       " ('Drama', 'Thriller'),\n",
       " ('Drama', 'Thriller'),\n",
       " ('Comedy',),\n",
       " ('Drama',),\n",
       " ('Action', 'Crime', 'Thriller'),\n",
       " ('Crime', 'Drama'),\n",
       " ('Comedy', 'Drama', 'Romance'),\n",
       " ('Drama', 'Horror'),\n",
       " ('Comedy', 'Romance'),\n",
       " ('Action', 'Crime', 'Drama', 'Thriller'),\n",
       " ('Comedy',),\n",
       " ('Drama', 'Horror', 'Thriller'),\n",
       " ('ScienceFiction',),\n",
       " ('Horror',),\n",
       " ('Action', 'Adventure', 'ScienceFiction'),\n",
       " ('Comedy', 'Horror'),\n",
       " ('Thriller',),\n",
       " ('Action', 'ScienceFiction'),\n",
       " ('Action', 'Crime', 'Thriller'),\n",
       " (),\n",
       " ('Horror', 'Thriller'),\n",
       " ('Drama', 'Horror'),\n",
       " ('Drama',),\n",
       " ('Comedy',),\n",
       " ('Action', 'Crime', 'Thriller'),\n",
       " (),\n",
       " ('Comedy', 'Drama'),\n",
       " ('Drama',),\n",
       " ('Comedy', 'Drama', 'Romance'),\n",
       " ('Comedy',),\n",
       " ('Drama',),\n",
       " ('Horror',),\n",
       " ('Romance',),\n",
       " ('Drama',),\n",
       " ('Comedy', 'Drama', 'Romance'),\n",
       " (),\n",
       " ('Horror', 'Mystery', 'Thriller'),\n",
       " ('Action',),\n",
       " ('Action', 'Crime', 'Thriller'),\n",
       " ('Drama', 'Horror', 'Thriller'),\n",
       " (),\n",
       " ('Drama',),\n",
       " ('Action', 'Crime', 'Mystery', 'Thriller'),\n",
       " ('Drama',),\n",
       " ('Comedy',),\n",
       " ('Drama', 'Romance'),\n",
       " ('Thriller',),\n",
       " ('Action', 'Horror'),\n",
       " (),\n",
       " ('Drama', 'Romance'),\n",
       " ('Action', 'ScienceFiction'),\n",
       " ('Action', 'Thriller'),\n",
       " ('Drama', 'Thriller'),\n",
       " ('Action', 'Adventure'),\n",
       " ('Comedy',),\n",
       " ('Action', 'Crime', 'Drama', 'Thriller'),\n",
       " ('Drama', 'Mystery'),\n",
       " ('Action', 'Crime'),\n",
       " ('Comedy',),\n",
       " ('Action',),\n",
       " ('Fantasy', 'Horror'),\n",
       " ('Drama',),\n",
       " ('Comedy',),\n",
       " ('Fantasy', 'Horror'),\n",
       " ('Drama', 'Thriller'),\n",
       " (),\n",
       " ('Comedy', 'Drama'),\n",
       " ('Action', 'Adventure', 'ScienceFiction'),\n",
       " ('Adventure',),\n",
       " ('Drama',),\n",
       " ('Comedy',),\n",
       " ('Horror', 'ScienceFiction'),\n",
       " (),\n",
       " ('Comedy', 'Crime', 'Mystery', 'Thriller'),\n",
       " ('Action',),\n",
       " ('Action', 'Drama', 'Thriller'),\n",
       " ('Horror',),\n",
       " ('Romance',),\n",
       " ('ScienceFiction',),\n",
       " (),\n",
       " ('Drama', 'Horror', 'Thriller'),\n",
       " (),\n",
       " ('Action', 'Comedy'),\n",
       " ('Drama', 'Romance'),\n",
       " ('Drama', 'Thriller'),\n",
       " ('Crime', 'Drama'),\n",
       " ('Crime', 'Drama', 'Thriller'),\n",
       " ('Drama', 'Thriller'),\n",
       " ('Drama', 'Mystery'),\n",
       " ('Action', 'Adventure', 'ScienceFiction'),\n",
       " ('Crime', 'Thriller'),\n",
       " ('Drama', 'Thriller'),\n",
       " ('Action', 'Drama'),\n",
       " ('Horror', 'Mystery', 'Thriller'),\n",
       " ('Drama', 'Horror', 'Mystery', 'Thriller'),\n",
       " ('Adventure', 'Comedy'),\n",
       " ('Horror', 'Thriller'),\n",
       " ('Drama',),\n",
       " ('Drama',),\n",
       " ('Comedy', 'Drama'),\n",
       " ('Horror',),\n",
       " ('Adventure', 'Comedy', 'Mystery'),\n",
       " ('Comedy',),\n",
       " ('Comedy', 'Fantasy'),\n",
       " ('Drama',),\n",
       " ('Drama',),\n",
       " ('Horror',),\n",
       " (),\n",
       " ('Action', 'Thriller'),\n",
       " ('Action', 'Adventure', 'ScienceFiction'),\n",
       " ('Horror',),\n",
       " ('Crime', 'Drama', 'Mystery', 'Thriller'),\n",
       " ('Crime', 'Mystery', 'Thriller'),\n",
       " ('Drama',),\n",
       " ('Action', 'Adventure', 'ScienceFiction'),\n",
       " (),\n",
       " ('Mystery', 'Thriller'),\n",
       " ('Drama',),\n",
       " ('Action', 'Adventure', 'Crime'),\n",
       " ('Drama',),\n",
       " ('Action', 'Thriller'),\n",
       " ('Drama', 'Horror'),\n",
       " (),\n",
       " ('Drama', 'Thriller'),\n",
       " ('Drama', 'Horror', 'Thriller'),\n",
       " ('Action', 'Drama', 'Thriller'),\n",
       " ('Comedy',),\n",
       " ('Comedy', 'Drama'),\n",
       " ('Comedy',),\n",
       " ('Action', 'ScienceFiction', 'Thriller'),\n",
       " ('Drama', 'Thriller'),\n",
       " ('Crime', 'Thriller'),\n",
       " ('Horror',),\n",
       " ('Action', 'ScienceFiction', 'Thriller'),\n",
       " ('Action', 'Adventure', 'Crime', 'Thriller'),\n",
       " ('Horror', 'Mystery', 'Thriller'),\n",
       " ('Thriller',),\n",
       " ('Romance',),\n",
       " ('Drama', 'Romance'),\n",
       " ('Drama', 'Mystery'),\n",
       " ('Drama', 'Horror'),\n",
       " ('Action', 'Adventure', 'Crime', 'Thriller'),\n",
       " (),\n",
       " ('Action', 'Romance'),\n",
       " ('Horror', 'Thriller'),\n",
       " ('Horror', 'Thriller'),\n",
       " ('Drama', 'Romance'),\n",
       " ('Drama', 'Horror'),\n",
       " ('Horror',),\n",
       " ('Comedy', 'Thriller'),\n",
       " (),\n",
       " ('Action', 'Adventure', 'Drama', 'Fantasy'),\n",
       " ('Drama', 'Romance'),\n",
       " ('Action', 'Adventure'),\n",
       " ('Action', 'ScienceFiction'),\n",
       " ('Horror', 'ScienceFiction'),\n",
       " ('Drama',),\n",
       " ('Action', 'Crime'),\n",
       " ('Drama', 'Horror'),\n",
       " ('Action', 'Crime', 'Drama', 'Thriller'),\n",
       " ('Drama',),\n",
       " ('Action', 'Crime', 'Drama'),\n",
       " ('Drama', 'Romance'),\n",
       " ('Drama', 'Romance'),\n",
       " ('Drama',),\n",
       " ('Drama',),\n",
       " ('Drama', 'Thriller'),\n",
       " ('Comedy', 'Drama', 'Romance'),\n",
       " ('Action', 'Crime', 'Drama', 'Thriller'),\n",
       " ('Comedy', 'Romance', 'Thriller'),\n",
       " ('Thriller',),\n",
       " ('Drama', 'Horror', 'Thriller'),\n",
       " ('Horror',),\n",
       " ('Fantasy', 'Horror'),\n",
       " ('Drama', 'Romance'),\n",
       " ('Action', 'Adventure'),\n",
       " ('Horror', 'ScienceFiction', 'Thriller'),\n",
       " ('Drama',),\n",
       " ('Comedy', 'Drama'),\n",
       " ('Drama',),\n",
       " ('Drama', 'Romance'),\n",
       " ('Comedy',),\n",
       " ('Comedy', 'Horror'),\n",
       " ('Comedy', 'Drama', 'Romance'),\n",
       " ('Drama', 'Romance'),\n",
       " ('Action', 'Crime', 'Thriller'),\n",
       " (),\n",
       " ('Thriller',),\n",
       " ('Action', 'Thriller'),\n",
       " ('Drama', 'Thriller'),\n",
       " ('Comedy', 'Drama'),\n",
       " ('Action', 'Adventure', 'Drama', 'ScienceFiction'),\n",
       " ('Action', 'Adventure', 'ScienceFiction'),\n",
       " ('Comedy',),\n",
       " ('Romance',),\n",
       " ('Horror', 'ScienceFiction', 'Thriller'),\n",
       " ('Horror', 'Thriller'),\n",
       " ('Drama',),\n",
       " ('Drama',),\n",
       " ('Comedy', 'Horror'),\n",
       " ('Comedy', 'Drama', 'Romance'),\n",
       " ('Action', 'Horror'),\n",
       " ('Action',),\n",
       " ('Drama', 'Romance'),\n",
       " ('Adventure', 'Comedy', 'Romance'),\n",
       " ('Drama', 'Fantasy', 'Romance'),\n",
       " ('Crime', 'Thriller'),\n",
       " ('Action',),\n",
       " (),\n",
       " ('Action', 'Drama'),\n",
       " ('Horror', 'Mystery', 'Thriller'),\n",
       " ('Drama', 'Thriller'),\n",
       " (),\n",
       " ('Drama',),\n",
       " ('Drama',),\n",
       " ('Drama',),\n",
       " ('Action', 'Thriller'),\n",
       " ('Drama', 'Horror', 'Thriller'),\n",
       " ('Crime', 'Thriller'),\n",
       " ('Action', 'Crime', 'Thriller'),\n",
       " (),\n",
       " ('Action', 'Crime', 'Thriller'),\n",
       " ('Drama', 'Romance'),\n",
       " ('Drama', 'Thriller'),\n",
       " ('Comedy', 'Crime', 'Drama', 'Romance'),\n",
       " (),\n",
       " ('Crime',),\n",
       " ('Horror',),\n",
       " ('Action', 'Crime', 'Thriller'),\n",
       " ('Action',),\n",
       " ('Drama', 'ScienceFiction', 'Thriller'),\n",
       " ('Romance',),\n",
       " ('ScienceFiction', 'Thriller'),\n",
       " ('Action', 'Adventure'),\n",
       " ('Comedy', 'Drama', 'Romance'),\n",
       " ('Drama', 'Thriller'),\n",
       " ('Drama', 'Romance'),\n",
       " ('Thriller',),\n",
       " ('ScienceFiction',),\n",
       " ('Crime', 'Drama'),\n",
       " ('Crime', 'Drama', 'Thriller'),\n",
       " ('Comedy', 'Drama'),\n",
       " ('Romance',),\n",
       " ('Action', 'Crime', 'Thriller'),\n",
       " ('Thriller',),\n",
       " ('Comedy',),\n",
       " ('Action', 'Thriller'),\n",
       " ('Adventure', 'Comedy'),\n",
       " ('Action', 'Adventure', 'ScienceFiction'),\n",
       " ('Action', 'Thriller'),\n",
       " ('Drama', 'Romance'),\n",
       " ('Comedy', 'Horror'),\n",
       " ('Adventure',),\n",
       " ('ScienceFiction',),\n",
       " ('Comedy',),\n",
       " ('Action', 'Adventure', 'ScienceFiction'),\n",
       " ('Drama', 'Romance'),\n",
       " ('Drama', 'Romance'),\n",
       " ('Drama',),\n",
       " ('Drama', 'Horror', 'Mystery', 'Thriller'),\n",
       " (),\n",
       " ('Drama', 'Romance'),\n",
       " ('Horror', 'Mystery', 'Thriller'),\n",
       " ('Comedy', 'Horror'),\n",
       " ('Action', 'Thriller'),\n",
       " ('Action', 'Comedy'),\n",
       " ('Mystery', 'Thriller'),\n",
       " (),\n",
       " (),\n",
       " ('Comedy',),\n",
       " ('Comedy',),\n",
       " ('Horror', 'Thriller'),\n",
       " ('Horror',),\n",
       " ('ScienceFiction', 'Thriller'),\n",
       " ('Horror',),\n",
       " (),\n",
       " ('Horror',),\n",
       " ('Horror', 'Thriller'),\n",
       " ('Crime', 'Thriller'),\n",
       " ('Action', 'Comedy', 'ScienceFiction'),\n",
       " ('Action', 'Crime', 'Thriller'),\n",
       " ('Romance',),\n",
       " ('Comedy', 'Drama', 'Romance'),\n",
       " ('Action', 'Crime', 'Drama', 'Thriller'),\n",
       " ('Action', 'Adventure', 'Drama', 'ScienceFiction'),\n",
       " ('Drama',),\n",
       " (),\n",
       " ('Mystery', 'Thriller'),\n",
       " ('Comedy', 'Crime', 'Thriller'),\n",
       " ('Action', 'Crime', 'ScienceFiction', 'Thriller'),\n",
       " ('ScienceFiction', 'Thriller'),\n",
       " ('Action',),\n",
       " ('Thriller',),\n",
       " ('Action', 'Adventure'),\n",
       " ('Comedy',),\n",
       " ('Action', 'Adventure', 'ScienceFiction'),\n",
       " ('Drama',),\n",
       " ('Drama', 'Romance'),\n",
       " ('Crime', 'Thriller'),\n",
       " ('Romance',),\n",
       " ('Mystery',),\n",
       " ('Drama',),\n",
       " ('Drama',),\n",
       " ('Crime', 'Mystery', 'Thriller'),\n",
       " ('Drama',),\n",
       " ('Comedy', 'Fantasy'),\n",
       " ('Crime', 'Drama', 'Thriller'),\n",
       " ('Drama', 'Romance'),\n",
       " ('Comedy',),\n",
       " ('Drama', 'Thriller'),\n",
       " ('Crime', 'Thriller'),\n",
       " ('Comedy', 'Drama', 'Romance'),\n",
       " ('Comedy', 'Drama'),\n",
       " ('Action',),\n",
       " ('Action', 'Drama', 'Thriller'),\n",
       " ('Drama', 'Horror'),\n",
       " (),\n",
       " (),\n",
       " ('Drama',),\n",
       " ('Action', 'Adventure', 'Thriller'),\n",
       " ('Drama', 'Thriller'),\n",
       " ('Comedy', 'Romance'),\n",
       " ('Action', 'Drama', 'Thriller'),\n",
       " ('Action', 'Thriller'),\n",
       " (),\n",
       " ('Action', 'Thriller'),\n",
       " ('ScienceFiction', 'Thriller'),\n",
       " ('Action', 'Thriller'),\n",
       " ('Comedy',),\n",
       " ('Action', 'Adventure', 'ScienceFiction'),\n",
       " ('Comedy',),\n",
       " ('Comedy',),\n",
       " ('Drama',),\n",
       " ('Comedy', 'Drama'),\n",
       " ('Crime', 'Horror'),\n",
       " ('Action', 'Crime', 'Drama'),\n",
       " ('Drama', 'Horror'),\n",
       " ('Comedy', 'Drama', 'Romance'),\n",
       " ('Comedy', 'Romance'),\n",
       " ('Comedy',),\n",
       " ('Action', 'Thriller'),\n",
       " ('Drama',),\n",
       " ('Drama',),\n",
       " ('Comedy', 'Drama', 'Romance'),\n",
       " ('Action', 'Adventure', 'ScienceFiction', 'Thriller'),\n",
       " ('Comedy',),\n",
       " ('Action', 'Crime', 'Drama'),\n",
       " ('Comedy', 'Romance'),\n",
       " ('Drama',),\n",
       " ('Comedy', 'Drama'),\n",
       " ('Horror', 'Thriller'),\n",
       " ('Comedy',),\n",
       " ('Comedy', 'Drama'),\n",
       " ('Action', 'Crime'),\n",
       " ('Action', 'Comedy', 'Crime'),\n",
       " ('Comedy',),\n",
       " ('Thriller',),\n",
       " ('Crime', 'Drama'),\n",
       " ('Action', 'Crime', 'Thriller'),\n",
       " ('Drama',),\n",
       " ('Romance', 'ScienceFiction'),\n",
       " ('Comedy', 'Drama'),\n",
       " ('Drama',),\n",
       " ('Romance',),\n",
       " ('Drama', 'Horror', 'Thriller'),\n",
       " ('ScienceFiction',),\n",
       " ...]"
      ]
     },
     "execution_count": 46,
     "metadata": {},
     "output_type": "execute_result"
    }
   ],
   "source": [
    "multilabel_binarizer.inverse_transform(y_pred)"
   ]
  },
  {
   "cell_type": "code",
   "execution_count": null,
   "id": "d10755f7-7c8c-4d75-8b6a-633437b0f236",
   "metadata": {},
   "outputs": [],
   "source": []
  }
 ],
 "metadata": {
  "kernelspec": {
   "display_name": "Python 3 (ipykernel)",
   "language": "python",
   "name": "python3"
  },
  "language_info": {
   "codemirror_mode": {
    "name": "ipython",
    "version": 3
   },
   "file_extension": ".py",
   "mimetype": "text/x-python",
   "name": "python",
   "nbconvert_exporter": "python",
   "pygments_lexer": "ipython3",
   "version": "3.8.3"
  }
 },
 "nbformat": 4,
 "nbformat_minor": 5
}
