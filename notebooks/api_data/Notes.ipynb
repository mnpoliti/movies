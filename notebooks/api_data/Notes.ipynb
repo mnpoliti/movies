{
 "cells": [
  {
   "cell_type": "code",
   "execution_count": null,
   "id": "4ac33ac8-57e7-408c-9385-678aad34bc6e",
   "metadata": {},
   "outputs": [],
   "source": [
    "from nltk.stem.snowball import SnowballStemmer\n",
    "stemmer = SnowballStemmer(\"english\")\n",
    "\n",
    "## 2nd Solution with SnowballStemmer ?\n",
    "#https://stackoverflow.com/questions/37443138/python-stemming-with-pandas-dataframe\n",
    "tf_data['description_'] = tf_data['description'].apply(lambda x: ' '.join([stemmer.stem(y) for y in x.split()]))\n",
    "tf_data.description_\n",
    "\n",
    "#3rd Solution\n",
    "#https://stackoverflow.com/questions/43795310/apply-porters-stemmer-to-a-pandas-column-for-each-word\n",
    "ps = PorterStemmer()\n",
    "def stem_sentences(sentence):\n",
    "    tokens = sentence.split()\n",
    "    stemmed_tokens = [ps.stem(token) for token in tokens]\n",
    "    return ' '.join(stemmed_tokens)\n",
    "\n",
    "tf_data['description_testtest'] = tf_data['description'] .apply(stem_sentences)\n",
    "tf_data.description_testtest"
   ]
  },
  {
   "cell_type": "code",
   "execution_count": null,
   "id": "149e7b5f-f822-4a57-9055-d3b8063a87c1",
   "metadata": {},
   "outputs": [],
   "source": [
    "#https://medium.com/@kunalgupta4595/predicting-movie-genres-based-on-plot-summaries-bae646e70e04\n",
    "X= tf_data['description']\n",
    "y=tf_data['genres']\n",
    "from sklearn.model_selection import train_test_split\n",
    "x_train, x_test,\n",
    "y_train, y_test = train_test_split(X, y,\n",
    "                                   test_size = 0.2,\n",
    "                                   random_state = 42)\n",
    "vectorizer = CountVectorizer(tokenizer = lambda x: x.split(','),\n",
    "                             binary= 'true',\n",
    "                             max_features = 3)\n",
    "y_train_vect = vectorizer.fit_transform(y_train)\n",
    "y_test_vect = vectorizer.transform(y_test)\n",
    "\n",
    "vectorizer = TfidfVectorizer(tokenizer= lambda x: x.split(),\n",
    "                             ngram_range=(2,3))\n",
    "features = vectorizer.fit_transform(x_train) \n",
    "features_test = vectorizer.transform(x_test)\n",
    "\n",
    "#https://github.com/LinggarM/Movie-Genre-Classification-based-on-Synopsis-using-Deep-Neural-Network-and-TF-IDF-Vectorizer/blob/main/Movie_Genre_Classification_based_on_synopsis_using_Deep_Neural_Network_and_TF_IDF_Vectorizer.ipynb\n",
    "from sklearn.model_selection import train_test_split\n",
    "\n",
    "x_train, x_test,\n",
    "y_train, y_test = train_test_split(df_movies['synopsis'].values,\n",
    "                                   df_movies['label'].values,\n",
    "                                   test_size = 0.2,\n",
    "                                   random_state = 0)\n",
    "from sklearn.feature_extraction.text import TfidfVectorizer\n",
    "\n",
    "vectorizer = TfidfVectorizer(stop_words='english',\n",
    "                             lowercase = True)\n",
    "features = vectorizer.fit_transform(x_train) # training vector TF-IDF pada tiap data\n",
    "features_test = vectorizer.transform(x_test)     \n",
    "\n",
    "#https://github.com/Bashkeel/BoW-TFIDF/blob/master/TF-IDF%20and%20N-Grams.ipynb\n",
    "word_vectorizer = TfidfVectorizer(analyzer='word',\n",
    "                                  token_pattern=r'\\w{1,}',\n",
    "                                  sublinear_tf=True,\n",
    "                                  strip_accents='unicode', \n",
    "                                  stop_words='english',\n",
    "                                  ngram_range=(1, 1),\n",
    "                                  max_features=10000)\n",
    "word_vectorizer.fit(train_text)\n",
    "train_word_features = word_vectorizer.transform(train_text)\n",
    "\n",
    "char_vectorizer = TfidfVectorizer(analyzer='char',\n",
    "                                  sublinear_tf=True,\n",
    "                                  strip_accents='unicode', \n",
    "                                  stop_words='english',\n",
    "                                  ngram_range=(1, 3),\n",
    "                                  max_features=50000)\n",
    "char_vectorizer.fit(train_text)\n",
    "train_char_features = char_vectorizer.transform(train_text)\n",
    "train_features = hstack([train_word_features, train_char_features])"
   ]
  },
  {
   "cell_type": "code",
   "execution_count": null,
   "id": "211618b0-5724-4fee-9646-b94312c281db",
   "metadata": {},
   "outputs": [],
   "source": []
  },
  {
   "cell_type": "code",
   "execution_count": null,
   "id": "98b38a5f-ccef-4c95-9e93-402c4d326681",
   "metadata": {},
   "outputs": [],
   "source": []
  },
  {
   "cell_type": "code",
   "execution_count": null,
   "id": "d9e938ef-d8f8-45c2-a2a8-6231e5f59fe1",
   "metadata": {},
   "outputs": [],
   "source": []
  },
  {
   "cell_type": "code",
   "execution_count": null,
   "id": "73568a4e-e049-45dc-bb2c-fd94a7da9645",
   "metadata": {},
   "outputs": [],
   "source": []
  },
  {
   "cell_type": "code",
   "execution_count": null,
   "id": "6b55b496-c188-4ad9-a714-5536e4be6d5a",
   "metadata": {},
   "outputs": [],
   "source": []
  }
 ],
 "metadata": {
  "kernelspec": {
   "display_name": "Python 3 (ipykernel)",
   "language": "python",
   "name": "python3"
  },
  "language_info": {
   "codemirror_mode": {
    "name": "ipython",
    "version": 3
   },
   "file_extension": ".py",
   "mimetype": "text/x-python",
   "name": "python",
   "nbconvert_exporter": "python",
   "pygments_lexer": "ipython3",
   "version": "3.8.3"
  }
 },
 "nbformat": 4,
 "nbformat_minor": 5
}
