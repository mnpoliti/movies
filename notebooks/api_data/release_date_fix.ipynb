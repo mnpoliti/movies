{
 "cells": [
  {
   "cell_type": "code",
   "execution_count": null,
   "id": "0c98355b-bd9b-4b42-8577-18fcad0a5694",
   "metadata": {},
   "outputs": [],
   "source": [
    "tmdb_df['release_date'] = pd.to_datetime(tmdb_df.release_date, format='%Y-%m-%d %H:%M:%S')"
   ]
  },
  {
   "cell_type": "code",
   "execution_count": null,
   "id": "50681089-490b-43d2-8f83-fb2117c9dffc",
   "metadata": {},
   "outputs": [],
   "source": [
    "tmdb_df['release_date']= pd.to_datetime(tmdb_df['release_date'], errors='coerce')"
   ]
  },
  {
   "cell_type": "code",
   "execution_count": null,
   "id": "5830378d-06f9-43a0-9861-c7f181c1b42c",
   "metadata": {},
   "outputs": [],
   "source": [
    "tmdb_df['release_date'] = tmdb_df['release_date'].apply(lambda x: x.strtime('%Y%m%d'))"
   ]
  },
  {
   "cell_type": "code",
   "execution_count": null,
   "id": "5ef61278-3e5b-4f5b-a4d7-550d4be671db",
   "metadata": {},
   "outputs": [],
   "source": [
    "tmdb_df['release_date'] = tmdb_df['release_date'].dt.strftime['%Y%m%d']"
   ]
  },
  {
   "cell_type": "code",
   "execution_count": null,
   "id": "182f4a10-3bc3-4c38-b571-eb38e031ce1b",
   "metadata": {},
   "outputs": [],
   "source": [
    "tmdb_df.release_date  = tmdb_df.release_date .strptime(tmdb_df.release_date , '%y/%m/%d')\n"
   ]
  },
  {
   "cell_type": "code",
   "execution_count": null,
   "id": "c32eafff-1aed-47c9-a4a0-69188e4f4052",
   "metadata": {},
   "outputs": [],
   "source": []
  },
  {
   "cell_type": "code",
   "execution_count": null,
   "id": "48686359-00f0-4fd1-ada2-efeb0370c27a",
   "metadata": {},
   "outputs": [],
   "source": []
  },
  {
   "cell_type": "code",
   "execution_count": null,
   "id": "2cb7b5b9-39a4-495e-a580-b2535d041e40",
   "metadata": {},
   "outputs": [],
   "source": []
  },
  {
   "cell_type": "code",
   "execution_count": null,
   "id": "6e5e3632-9625-478f-bbb8-8ed1ee9f31c5",
   "metadata": {},
   "outputs": [],
   "source": []
  },
  {
   "cell_type": "code",
   "execution_count": null,
   "id": "01c12759-d8c6-4b47-96a7-ef7bdd0775c3",
   "metadata": {},
   "outputs": [],
   "source": []
  },
  {
   "cell_type": "code",
   "execution_count": null,
   "id": "56f5bd19-2305-48c2-b379-2a75ef142f70",
   "metadata": {},
   "outputs": [],
   "source": []
  },
  {
   "cell_type": "code",
   "execution_count": null,
   "id": "834d7a32-33a2-400a-8456-7b36a194621e",
   "metadata": {},
   "outputs": [],
   "source": []
  },
  {
   "cell_type": "code",
   "execution_count": null,
   "id": "f8f088e2-b75e-46a7-a8db-f4be230d7f70",
   "metadata": {},
   "outputs": [],
   "source": []
  }
 ],
 "metadata": {
  "kernelspec": {
   "display_name": "Python 3 (ipykernel)",
   "language": "python",
   "name": "python3"
  },
  "language_info": {
   "codemirror_mode": {
    "name": "ipython",
    "version": 3
   },
   "file_extension": ".py",
   "mimetype": "text/x-python",
   "name": "python",
   "nbconvert_exporter": "python",
   "pygments_lexer": "ipython3",
   "version": "3.8.3"
  }
 },
 "nbformat": 4,
 "nbformat_minor": 5
}
