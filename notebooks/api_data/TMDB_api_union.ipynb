{
 "cells": [
  {
   "cell_type": "code",
   "execution_count": 1,
   "id": "08695693-5f5b-45dd-93ae-a7754402d8e0",
   "metadata": {},
   "outputs": [],
   "source": [
    "import pandas as pd\n",
    "import numpy as np\n",
    "from datetime import datetime\n"
   ]
  },
  {
   "cell_type": "code",
   "execution_count": 2,
   "id": "eba73af9-3bb6-4743-8cd7-dc99e94815f4",
   "metadata": {},
   "outputs": [],
   "source": [
    "details_api = pd.read_csv(\"detailsdf.csv\")\n",
    "discover_api = pd.read_csv(\"discover.csv\")"
   ]
  },
  {
   "cell_type": "code",
   "execution_count": 3,
   "id": "d0cb40b0-80fa-4119-ab8e-0c56dc0995ee",
   "metadata": {},
   "outputs": [
    {
     "data": {
      "text/plain": [
       "Index(['adult', 'backdrop_path', 'budget', 'genres', 'homepage', 'id',\n",
       "       'imdb_id', 'original_language', 'original_title', 'overview',\n",
       "       'popularity', 'poster_path', 'production_companies',\n",
       "       'production_countries', 'release_date', 'revenue', 'runtime',\n",
       "       'spoken_languages', 'status', 'tagline', 'title', 'video',\n",
       "       'vote_average', 'vote_count', 'belongs_to_collection.id',\n",
       "       'belongs_to_collection.name', 'belongs_to_collection.poster_path',\n",
       "       'belongs_to_collection.backdrop_path', 'belongs_to_collection'],\n",
       "      dtype='object')"
      ]
     },
     "execution_count": 3,
     "metadata": {},
     "output_type": "execute_result"
    }
   ],
   "source": [
    "details_api.columns"
   ]
  },
  {
   "cell_type": "code",
   "execution_count": 4,
   "id": "6f5fe7b9-a5a7-4e15-94ee-cd4f5bfa83b1",
   "metadata": {},
   "outputs": [
    {
     "data": {
      "text/plain": [
       "Index(['adult', 'backdrop_path', 'genre_ids', 'id', 'original_language',\n",
       "       'original_title', 'overview', 'popularity', 'poster_path',\n",
       "       'release_date', 'title', 'video', 'vote_average', 'vote_count'],\n",
       "      dtype='object')"
      ]
     },
     "execution_count": 4,
     "metadata": {},
     "output_type": "execute_result"
    }
   ],
   "source": [
    "discover_api.columns"
   ]
  },
  {
   "cell_type": "code",
   "execution_count": 5,
   "id": "17cf381e-49a9-41ee-895d-6e0f3fb718f1",
   "metadata": {},
   "outputs": [
    {
     "data": {
      "text/html": [
       "<div>\n",
       "<style scoped>\n",
       "    .dataframe tbody tr th:only-of-type {\n",
       "        vertical-align: middle;\n",
       "    }\n",
       "\n",
       "    .dataframe tbody tr th {\n",
       "        vertical-align: top;\n",
       "    }\n",
       "\n",
       "    .dataframe thead th {\n",
       "        text-align: right;\n",
       "    }\n",
       "</style>\n",
       "<table border=\"1\" class=\"dataframe\">\n",
       "  <thead>\n",
       "    <tr style=\"text-align: right;\">\n",
       "      <th></th>\n",
       "      <th>adult_x</th>\n",
       "      <th>backdrop_path_x</th>\n",
       "      <th>budget</th>\n",
       "      <th>genres</th>\n",
       "      <th>homepage</th>\n",
       "      <th>id</th>\n",
       "      <th>imdb_id</th>\n",
       "      <th>original_language_x</th>\n",
       "      <th>original_title_x</th>\n",
       "      <th>overview_x</th>\n",
       "      <th>...</th>\n",
       "      <th>original_language_y</th>\n",
       "      <th>original_title_y</th>\n",
       "      <th>overview_y</th>\n",
       "      <th>popularity_y</th>\n",
       "      <th>poster_path_y</th>\n",
       "      <th>release_date_y</th>\n",
       "      <th>title_y</th>\n",
       "      <th>video_y</th>\n",
       "      <th>vote_average_y</th>\n",
       "      <th>vote_count_y</th>\n",
       "    </tr>\n",
       "  </thead>\n",
       "  <tbody>\n",
       "    <tr>\n",
       "      <th>0</th>\n",
       "      <td>False</td>\n",
       "      <td>/s16H6tpK2utvwDtzZ8Qy4qm5Emw.jpg</td>\n",
       "      <td>460000000</td>\n",
       "      <td>[{'id': 878, 'name': 'Science Fiction'}, {'id'...</td>\n",
       "      <td>https://www.avatar.com/movies/avatar-the-way-o...</td>\n",
       "      <td>76600</td>\n",
       "      <td>tt1630029</td>\n",
       "      <td>en</td>\n",
       "      <td>Avatar: The Way of Water</td>\n",
       "      <td>Set more than a decade after the events of the...</td>\n",
       "      <td>...</td>\n",
       "      <td>en</td>\n",
       "      <td>Avatar: The Way of Water</td>\n",
       "      <td>Set more than a decade after the events of the...</td>\n",
       "      <td>7517.281</td>\n",
       "      <td>/t6HIqrRAclMCA60NsSmeqe9RmNV.jpg</td>\n",
       "      <td>2022-12-14</td>\n",
       "      <td>Avatar: The Way of Water</td>\n",
       "      <td>False</td>\n",
       "      <td>7.8</td>\n",
       "      <td>2512</td>\n",
       "    </tr>\n",
       "    <tr>\n",
       "      <th>1</th>\n",
       "      <td>False</td>\n",
       "      <td>/6mEYUYdkKoVCMeYf3rTFj0L1uyv.jpg</td>\n",
       "      <td>20000000</td>\n",
       "      <td>[{'id': 28, 'name': 'Action'}, {'id': 35, 'nam...</td>\n",
       "      <td>https://www.violentnightmovie.com</td>\n",
       "      <td>899112</td>\n",
       "      <td>tt12003946</td>\n",
       "      <td>en</td>\n",
       "      <td>Violent Night</td>\n",
       "      <td>When a team of mercenaries breaks into a wealt...</td>\n",
       "      <td>...</td>\n",
       "      <td>en</td>\n",
       "      <td>Violent Night</td>\n",
       "      <td>When a team of mercenaries breaks into a wealt...</td>\n",
       "      <td>5355.272</td>\n",
       "      <td>/1XSYOP0JjjyMz1irihvWywro82r.jpg</td>\n",
       "      <td>2022-11-30</td>\n",
       "      <td>Violent Night</td>\n",
       "      <td>False</td>\n",
       "      <td>7.7</td>\n",
       "      <td>590</td>\n",
       "    </tr>\n",
       "    <tr>\n",
       "      <th>2</th>\n",
       "      <td>False</td>\n",
       "      <td>/tuDhEdza074bA497bO9WFEPs6O6.jpg</td>\n",
       "      <td>180000000</td>\n",
       "      <td>[{'id': 12, 'name': 'Adventure'}, {'id': 10751...</td>\n",
       "      <td>NaN</td>\n",
       "      <td>411</td>\n",
       "      <td>tt0363771</td>\n",
       "      <td>en</td>\n",
       "      <td>The Chronicles of Narnia: The Lion, the Witch ...</td>\n",
       "      <td>Siblings Lucy, Edmund, Susan and Peter step th...</td>\n",
       "      <td>...</td>\n",
       "      <td>en</td>\n",
       "      <td>The Chronicles of Narnia: The Lion, the Witch ...</td>\n",
       "      <td>Siblings Lucy, Edmund, Susan and Peter step th...</td>\n",
       "      <td>4914.832</td>\n",
       "      <td>/iREd0rNCjYdf5Ar0vfaW32yrkm.jpg</td>\n",
       "      <td>2005-12-07</td>\n",
       "      <td>The Chronicles of Narnia: The Lion, the Witch ...</td>\n",
       "      <td>False</td>\n",
       "      <td>7.1</td>\n",
       "      <td>9050</td>\n",
       "    </tr>\n",
       "    <tr>\n",
       "      <th>3</th>\n",
       "      <td>False</td>\n",
       "      <td>/o0s4XsEDfDlvit5pDRKjzXR4pp2.jpg</td>\n",
       "      <td>237000000</td>\n",
       "      <td>[{'id': 28, 'name': 'Action'}, {'id': 12, 'nam...</td>\n",
       "      <td>https://www.avatar.com/movies/avatar</td>\n",
       "      <td>19995</td>\n",
       "      <td>tt0499549</td>\n",
       "      <td>en</td>\n",
       "      <td>Avatar</td>\n",
       "      <td>In the 22nd century, a paraplegic Marine is di...</td>\n",
       "      <td>...</td>\n",
       "      <td>en</td>\n",
       "      <td>Avatar</td>\n",
       "      <td>In the 22nd century, a paraplegic Marine is di...</td>\n",
       "      <td>3277.907</td>\n",
       "      <td>/jRXYjXNq0Cs2TcJjLkki24MLp7u.jpg</td>\n",
       "      <td>2009-12-15</td>\n",
       "      <td>Avatar</td>\n",
       "      <td>False</td>\n",
       "      <td>7.6</td>\n",
       "      <td>27323</td>\n",
       "    </tr>\n",
       "    <tr>\n",
       "      <th>4</th>\n",
       "      <td>False</td>\n",
       "      <td>/53BC9F2tpZnsGno2cLhzvGprDYS.jpg</td>\n",
       "      <td>0</td>\n",
       "      <td>[{'id': 14, 'name': 'Fantasy'}, {'id': 28, 'na...</td>\n",
       "      <td>https://www.netflix.com/title/81245455/</td>\n",
       "      <td>736526</td>\n",
       "      <td>tt11116912</td>\n",
       "      <td>no</td>\n",
       "      <td>Troll</td>\n",
       "      <td>Deep inside the mountain of Dovre, something g...</td>\n",
       "      <td>...</td>\n",
       "      <td>no</td>\n",
       "      <td>Troll</td>\n",
       "      <td>Deep inside the mountain of Dovre, something g...</td>\n",
       "      <td>3196.809</td>\n",
       "      <td>/9z4jRr43JdtU66P0iy8h18OyLql.jpg</td>\n",
       "      <td>2022-12-01</td>\n",
       "      <td>Troll</td>\n",
       "      <td>False</td>\n",
       "      <td>6.7</td>\n",
       "      <td>855</td>\n",
       "    </tr>\n",
       "  </tbody>\n",
       "</table>\n",
       "<p>5 rows × 42 columns</p>\n",
       "</div>"
      ],
      "text/plain": [
       "   adult_x                   backdrop_path_x     budget  \\\n",
       "0    False  /s16H6tpK2utvwDtzZ8Qy4qm5Emw.jpg  460000000   \n",
       "1    False  /6mEYUYdkKoVCMeYf3rTFj0L1uyv.jpg   20000000   \n",
       "2    False  /tuDhEdza074bA497bO9WFEPs6O6.jpg  180000000   \n",
       "3    False  /o0s4XsEDfDlvit5pDRKjzXR4pp2.jpg  237000000   \n",
       "4    False  /53BC9F2tpZnsGno2cLhzvGprDYS.jpg          0   \n",
       "\n",
       "                                              genres  \\\n",
       "0  [{'id': 878, 'name': 'Science Fiction'}, {'id'...   \n",
       "1  [{'id': 28, 'name': 'Action'}, {'id': 35, 'nam...   \n",
       "2  [{'id': 12, 'name': 'Adventure'}, {'id': 10751...   \n",
       "3  [{'id': 28, 'name': 'Action'}, {'id': 12, 'nam...   \n",
       "4  [{'id': 14, 'name': 'Fantasy'}, {'id': 28, 'na...   \n",
       "\n",
       "                                            homepage      id     imdb_id  \\\n",
       "0  https://www.avatar.com/movies/avatar-the-way-o...   76600   tt1630029   \n",
       "1                  https://www.violentnightmovie.com  899112  tt12003946   \n",
       "2                                                NaN     411   tt0363771   \n",
       "3               https://www.avatar.com/movies/avatar   19995   tt0499549   \n",
       "4            https://www.netflix.com/title/81245455/  736526  tt11116912   \n",
       "\n",
       "  original_language_x                                   original_title_x  \\\n",
       "0                  en                           Avatar: The Way of Water   \n",
       "1                  en                                      Violent Night   \n",
       "2                  en  The Chronicles of Narnia: The Lion, the Witch ...   \n",
       "3                  en                                             Avatar   \n",
       "4                  no                                              Troll   \n",
       "\n",
       "                                          overview_x  ...  \\\n",
       "0  Set more than a decade after the events of the...  ...   \n",
       "1  When a team of mercenaries breaks into a wealt...  ...   \n",
       "2  Siblings Lucy, Edmund, Susan and Peter step th...  ...   \n",
       "3  In the 22nd century, a paraplegic Marine is di...  ...   \n",
       "4  Deep inside the mountain of Dovre, something g...  ...   \n",
       "\n",
       "   original_language_y                                   original_title_y  \\\n",
       "0                   en                           Avatar: The Way of Water   \n",
       "1                   en                                      Violent Night   \n",
       "2                   en  The Chronicles of Narnia: The Lion, the Witch ...   \n",
       "3                   en                                             Avatar   \n",
       "4                   no                                              Troll   \n",
       "\n",
       "                                          overview_y popularity_y  \\\n",
       "0  Set more than a decade after the events of the...     7517.281   \n",
       "1  When a team of mercenaries breaks into a wealt...     5355.272   \n",
       "2  Siblings Lucy, Edmund, Susan and Peter step th...     4914.832   \n",
       "3  In the 22nd century, a paraplegic Marine is di...     3277.907   \n",
       "4  Deep inside the mountain of Dovre, something g...     3196.809   \n",
       "\n",
       "                      poster_path_y  release_date_y  \\\n",
       "0  /t6HIqrRAclMCA60NsSmeqe9RmNV.jpg      2022-12-14   \n",
       "1  /1XSYOP0JjjyMz1irihvWywro82r.jpg      2022-11-30   \n",
       "2   /iREd0rNCjYdf5Ar0vfaW32yrkm.jpg      2005-12-07   \n",
       "3  /jRXYjXNq0Cs2TcJjLkki24MLp7u.jpg      2009-12-15   \n",
       "4  /9z4jRr43JdtU66P0iy8h18OyLql.jpg      2022-12-01   \n",
       "\n",
       "                                             title_y video_y vote_average_y  \\\n",
       "0                           Avatar: The Way of Water   False            7.8   \n",
       "1                                      Violent Night   False            7.7   \n",
       "2  The Chronicles of Narnia: The Lion, the Witch ...   False            7.1   \n",
       "3                                             Avatar   False            7.6   \n",
       "4                                              Troll   False            6.7   \n",
       "\n",
       "  vote_count_y  \n",
       "0         2512  \n",
       "1          590  \n",
       "2         9050  \n",
       "3        27323  \n",
       "4          855  \n",
       "\n",
       "[5 rows x 42 columns]"
      ]
     },
     "execution_count": 5,
     "metadata": {},
     "output_type": "execute_result"
    }
   ],
   "source": [
    "tmdb_df = pd.merge(details_api,\n",
    "                 discover_api,\n",
    "                 on='id')\n",
    "tmdb_df.head()"
   ]
  },
  {
   "cell_type": "code",
   "execution_count": 6,
   "id": "419e05c4-526d-4dab-9cdb-a3542699b009",
   "metadata": {},
   "outputs": [
    {
     "data": {
      "text/plain": [
       "Index(['adult_x', 'backdrop_path_x', 'budget', 'genres', 'homepage', 'id',\n",
       "       'imdb_id', 'original_language_x', 'original_title_x', 'overview_x',\n",
       "       'popularity_x', 'poster_path_x', 'production_companies',\n",
       "       'production_countries', 'release_date_x', 'revenue', 'runtime',\n",
       "       'spoken_languages', 'status', 'tagline', 'title_x', 'video_x',\n",
       "       'vote_average_x', 'vote_count_x', 'belongs_to_collection.id',\n",
       "       'belongs_to_collection.name', 'belongs_to_collection.poster_path',\n",
       "       'belongs_to_collection.backdrop_path', 'belongs_to_collection',\n",
       "       'adult_y', 'backdrop_path_y', 'genre_ids', 'original_language_y',\n",
       "       'original_title_y', 'overview_y', 'popularity_y', 'poster_path_y',\n",
       "       'release_date_y', 'title_y', 'video_y', 'vote_average_y',\n",
       "       'vote_count_y'],\n",
       "      dtype='object')"
      ]
     },
     "execution_count": 6,
     "metadata": {},
     "output_type": "execute_result"
    }
   ],
   "source": [
    "tmdb_df.columns"
   ]
  },
  {
   "cell_type": "code",
   "execution_count": 7,
   "id": "9859158a-7783-481a-bff0-6c5d6ecc7127",
   "metadata": {},
   "outputs": [
    {
     "data": {
      "text/plain": [
       "Index(['budget', 'genres', 'homepage', 'id', 'imdb_id', 'revenue', 'runtime',\n",
       "       'original_language_y', 'overview_y', 'popularity_y', 'release_date_y',\n",
       "       'title_y', 'vote_average_y', 'vote_count_y'],\n",
       "      dtype='object')"
      ]
     },
     "execution_count": 7,
     "metadata": {},
     "output_type": "execute_result"
    }
   ],
   "source": [
    "tmdb_df = tmdb_df.drop([\"adult_x\",\"adult_y\",\"original_language_x\",\"original_title_x\",\n",
    "                        \"overview_x\",\"popularity_x\",\"poster_path_x\",\"poster_path_y\",\n",
    "                        \"release_date_x\",\"adult_y\",\"title_x\",\"video_x\",\n",
    "                        \"video_y\",\"vote_average_x\",\"vote_count_x\",\"belongs_to_collection.id\",\n",
    "                        \"belongs_to_collection.name\",\"belongs_to_collection.poster_path\",\n",
    "                        \"belongs_to_collection\",\"backdrop_path_y\",\n",
    "                        \"backdrop_path_x\",\"production_companies\",\"production_companies\",\n",
    "                        \"belongs_to_collection.backdrop_path\",\"genre_ids\",\"original_title_y\",\n",
    "                        \"status\",\"tagline\",\"production_countries\",\"spoken_languages\"], axis=1)\n",
    "tmdb_df.columns"
   ]
  },
  {
   "cell_type": "code",
   "execution_count": 8,
   "id": "0aa59f43-5a5c-4cef-9f3c-334fb01bb479",
   "metadata": {},
   "outputs": [
    {
     "data": {
      "text/plain": [
       "Index(['budget', 'genres', 'homepage', 'id', 'imdb_id', 'revenue', 'runtime',\n",
       "       'language', 'description', 'popularity', 'release_date', 'title',\n",
       "       'rating', 'votes'],\n",
       "      dtype='object')"
      ]
     },
     "execution_count": 8,
     "metadata": {},
     "output_type": "execute_result"
    }
   ],
   "source": [
    "tmdb_df.rename(columns = {'original_language_y':'language','overview_y':'description', \n",
    "                          'release_date_y':'release_date','popularity_y':'popularity',\n",
    "                          'title_y':'title','vote_average_y':'rating',\n",
    "                          'vote_count_y':'votes'}, inplace = True)\n",
    "tmdb_df.columns"
   ]
  },
  {
   "cell_type": "code",
   "execution_count": 9,
   "id": "0444629f-610d-46b0-ad37-605941e37efc",
   "metadata": {},
   "outputs": [
    {
     "data": {
      "text/plain": [
       "False"
      ]
     },
     "execution_count": 9,
     "metadata": {},
     "output_type": "execute_result"
    }
   ],
   "source": [
    "tmdb_df.runtime.isnull().values.any()"
   ]
  },
  {
   "cell_type": "code",
   "execution_count": 10,
   "id": "3af42788-1192-454b-b3dd-0f4049326f9e",
   "metadata": {},
   "outputs": [],
   "source": [
    "tmdb_df = tmdb_df.dropna(subset=['description'])\n",
    "tmdb_df = tmdb_df.dropna(subset=['release_date'])\n"
   ]
  },
  {
   "cell_type": "code",
   "execution_count": 11,
   "id": "c968619d-b46f-42c2-abc3-2e90dc3dd145",
   "metadata": {},
   "outputs": [
    {
     "data": {
      "text/plain": [
       "9872"
      ]
     },
     "execution_count": 11,
     "metadata": {},
     "output_type": "execute_result"
    }
   ],
   "source": [
    "len(tmdb_df)"
   ]
  },
  {
   "cell_type": "code",
   "execution_count": 12,
   "id": "58b6c45a-0c82-45a6-bbc2-d8c30b0408d4",
   "metadata": {},
   "outputs": [
    {
     "data": {
      "text/plain": [
       "0       2022-12-14\n",
       "1       2022-11-30\n",
       "2       2005-12-07\n",
       "3       2009-12-15\n",
       "4       2022-12-01\n",
       "           ...    \n",
       "9995    1949-03-10\n",
       "9996    1972-05-25\n",
       "9997    2019-06-01\n",
       "9998    2015-10-30\n",
       "9999    1998-04-19\n",
       "Name: release_date, Length: 9872, dtype: object"
      ]
     },
     "execution_count": 12,
     "metadata": {},
     "output_type": "execute_result"
    }
   ],
   "source": [
    "tmdb_df.release_date     "
   ]
  },
  {
   "cell_type": "code",
   "execution_count": 13,
   "id": "f5bc28fd-3c3c-495d-a2d9-cb04255b9048",
   "metadata": {},
   "outputs": [
    {
     "data": {
      "text/html": [
       "<div>\n",
       "<style scoped>\n",
       "    .dataframe tbody tr th:only-of-type {\n",
       "        vertical-align: middle;\n",
       "    }\n",
       "\n",
       "    .dataframe tbody tr th {\n",
       "        vertical-align: top;\n",
       "    }\n",
       "\n",
       "    .dataframe thead th {\n",
       "        text-align: right;\n",
       "    }\n",
       "</style>\n",
       "<table border=\"1\" class=\"dataframe\">\n",
       "  <thead>\n",
       "    <tr style=\"text-align: right;\">\n",
       "      <th></th>\n",
       "      <th>year</th>\n",
       "    </tr>\n",
       "  </thead>\n",
       "  <tbody>\n",
       "    <tr>\n",
       "      <th>0</th>\n",
       "      <td>2022</td>\n",
       "    </tr>\n",
       "    <tr>\n",
       "      <th>1</th>\n",
       "      <td>2022</td>\n",
       "    </tr>\n",
       "    <tr>\n",
       "      <th>2</th>\n",
       "      <td>2005</td>\n",
       "    </tr>\n",
       "    <tr>\n",
       "      <th>3</th>\n",
       "      <td>2009</td>\n",
       "    </tr>\n",
       "    <tr>\n",
       "      <th>4</th>\n",
       "      <td>2022</td>\n",
       "    </tr>\n",
       "    <tr>\n",
       "      <th>...</th>\n",
       "      <td>...</td>\n",
       "    </tr>\n",
       "    <tr>\n",
       "      <th>9995</th>\n",
       "      <td>1949</td>\n",
       "    </tr>\n",
       "    <tr>\n",
       "      <th>9996</th>\n",
       "      <td>1972</td>\n",
       "    </tr>\n",
       "    <tr>\n",
       "      <th>9997</th>\n",
       "      <td>2019</td>\n",
       "    </tr>\n",
       "    <tr>\n",
       "      <th>9998</th>\n",
       "      <td>2015</td>\n",
       "    </tr>\n",
       "    <tr>\n",
       "      <th>9999</th>\n",
       "      <td>1998</td>\n",
       "    </tr>\n",
       "  </tbody>\n",
       "</table>\n",
       "<p>9872 rows × 1 columns</p>\n",
       "</div>"
      ],
      "text/plain": [
       "      year\n",
       "0     2022\n",
       "1     2022\n",
       "2     2005\n",
       "3     2009\n",
       "4     2022\n",
       "...    ...\n",
       "9995  1949\n",
       "9996  1972\n",
       "9997  2019\n",
       "9998  2015\n",
       "9999  1998\n",
       "\n",
       "[9872 rows x 1 columns]"
      ]
     },
     "execution_count": 13,
     "metadata": {},
     "output_type": "execute_result"
    }
   ],
   "source": [
    "date_split = tmdb_df[['release_date']].copy()\n",
    "date_split[['year', 'date1', 'date2']] = date_split['release_date'].str.split('-', expand=True)\n",
    "date_split= date_split.drop(['release_date'], axis=1)\n",
    "date_split = date_split.drop([\"date1\",\"date2\"], axis=1)\n",
    "date_split"
   ]
  },
  {
   "cell_type": "code",
   "execution_count": 14,
   "id": "362ee7d5-32a9-435b-a0a6-2e97560d2c9c",
   "metadata": {},
   "outputs": [
    {
     "data": {
      "text/plain": [
       "dtype('int64')"
      ]
     },
     "execution_count": 14,
     "metadata": {},
     "output_type": "execute_result"
    }
   ],
   "source": [
    "date_split.year = pd.to_numeric(date_split.year)\n",
    "date_split.year.dtypes"
   ]
  },
  {
   "cell_type": "code",
   "execution_count": 15,
   "id": "4da9c8eb-f3b6-4b08-aef9-e6e1ec1861af",
   "metadata": {},
   "outputs": [
    {
     "data": {
      "text/plain": [
       "Index(['budget', 'genres', 'homepage', 'id', 'imdb_id', 'revenue', 'runtime',\n",
       "       'language', 'description', 'popularity', 'title', 'rating', 'votes'],\n",
       "      dtype='object')"
      ]
     },
     "execution_count": 15,
     "metadata": {},
     "output_type": "execute_result"
    }
   ],
   "source": [
    "tmdb_df = tmdb_df.drop(['release_date'], axis=1)\n",
    "tmdb_df.columns"
   ]
  },
  {
   "cell_type": "code",
   "execution_count": 16,
   "id": "0edf36fa-8d15-4ad8-a657-973e15f4dfbe",
   "metadata": {},
   "outputs": [
    {
     "data": {
      "text/plain": [
       "budget           int64\n",
       "genres          object\n",
       "homepage        object\n",
       "id               int64\n",
       "imdb_id         object\n",
       "revenue          int64\n",
       "runtime          int64\n",
       "language        object\n",
       "description     object\n",
       "popularity     float64\n",
       "title           object\n",
       "rating         float64\n",
       "votes            int64\n",
       "year             int64\n",
       "dtype: object"
      ]
     },
     "execution_count": 16,
     "metadata": {},
     "output_type": "execute_result"
    }
   ],
   "source": [
    "tmdb_df = pd.concat([tmdb_df, date_split], axis=1)\n",
    "tmdb_df.dtypes"
   ]
  },
  {
   "cell_type": "code",
   "execution_count": 17,
   "id": "abcfdbd7-a36d-4663-8496-249b501c8bf6",
   "metadata": {},
   "outputs": [],
   "source": [
    "tmdb_df.to_csv('tmdb_df.csv')"
   ]
  },
  {
   "cell_type": "code",
   "execution_count": null,
   "id": "cce3b536-6fc6-4866-81af-faf031384680",
   "metadata": {},
   "outputs": [],
   "source": []
  },
  {
   "cell_type": "code",
   "execution_count": null,
   "id": "dec59595-d6b5-4e40-81e1-4fd8eb942773",
   "metadata": {},
   "outputs": [],
   "source": []
  },
  {
   "cell_type": "code",
   "execution_count": null,
   "id": "14330c6e-89de-400e-a7d5-1663522e7490",
   "metadata": {},
   "outputs": [],
   "source": []
  },
  {
   "cell_type": "code",
   "execution_count": null,
   "id": "9bbf52d2-4b8f-406e-9cff-59e765ef78b7",
   "metadata": {},
   "outputs": [],
   "source": []
  },
  {
   "cell_type": "code",
   "execution_count": null,
   "id": "261481db-dbcf-4756-9770-0903aee5a863",
   "metadata": {},
   "outputs": [],
   "source": []
  },
  {
   "cell_type": "code",
   "execution_count": null,
   "id": "fa2891e8-c6d4-44c6-b50c-fd7d5e8a8a82",
   "metadata": {},
   "outputs": [],
   "source": []
  }
 ],
 "metadata": {
  "kernelspec": {
   "display_name": "Python 3 (ipykernel)",
   "language": "python",
   "name": "python3"
  },
  "language_info": {
   "codemirror_mode": {
    "name": "ipython",
    "version": 3
   },
   "file_extension": ".py",
   "mimetype": "text/x-python",
   "name": "python",
   "nbconvert_exporter": "python",
   "pygments_lexer": "ipython3",
   "version": "3.8.3"
  }
 },
 "nbformat": 4,
 "nbformat_minor": 5
}
