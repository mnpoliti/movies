{
 "cells": [
  {
   "cell_type": "code",
   "execution_count": 1,
   "id": "26c9a74e-d4f1-4df3-8304-fa7131ce98d0",
   "metadata": {},
   "outputs": [
    {
     "name": "stderr",
     "output_type": "stream",
     "text": [
      "[nltk_data] Downloading package stopwords to\n",
      "[nltk_data]     C:\\Users\\mpoli\\AppData\\Roaming\\nltk_data...\n",
      "[nltk_data]   Package stopwords is already up-to-date!\n",
      "[nltk_data] Downloading package punkt to\n",
      "[nltk_data]     C:\\Users\\mpoli\\AppData\\Roaming\\nltk_data...\n",
      "[nltk_data]   Package punkt is already up-to-date!\n"
     ]
    },
    {
     "data": {
      "text/plain": [
       "True"
      ]
     },
     "execution_count": 1,
     "metadata": {},
     "output_type": "execute_result"
    }
   ],
   "source": [
    "import pandas as pd\n",
    "import numpy as np\n",
    "import nltk\n",
    "from nltk.corpus import stopwords\n",
    "from nltk.tokenize import sent_tokenize, word_tokenize\n",
    "nltk.download('stopwords')\n",
    "nltk.download('punkt')\n"
   ]
  },
  {
   "cell_type": "code",
   "execution_count": 2,
   "id": "7770b9d6-c5cd-493f-9333-e0568b284403",
   "metadata": {},
   "outputs": [],
   "source": [
    "tf_data = pd.read_csv(\"/Users/mpoli/Desktop/MASTER/DIPLOMATIKI/course_venv/API/API_csvs/tmdb_data.csv\")\n"
   ]
  },
  {
   "cell_type": "code",
   "execution_count": 3,
   "id": "54927a89-bad4-48b0-8f71-0839827d471c",
   "metadata": {},
   "outputs": [
    {
     "data": {
      "text/plain": [
       "Index(['Unnamed: 0', 'budget', 'homepage', 'id', 'imdb_id', 'revenue',\n",
       "       'runtime', 'language', 'description', 'popularity', 'title', 'rating',\n",
       "       'votes', 'year', 'genre1', 'genre2', 'genre3', 'genre4', 'genre5',\n",
       "       'genre6', 'genre7', 'genre8'],\n",
       "      dtype='object')"
      ]
     },
     "execution_count": 3,
     "metadata": {},
     "output_type": "execute_result"
    }
   ],
   "source": [
    "tf_data.columns"
   ]
  },
  {
   "cell_type": "markdown",
   "id": "75009a27-88ff-4923-ad40-7984a79f0b29",
   "metadata": {},
   "source": [
    "##### first we will merge the columns with the genres in order to apply the new column in the tf-idf method"
   ]
  },
  {
   "cell_type": "code",
   "execution_count": 4,
   "id": "4e45fc4b-f33f-464a-b5ef-13760c565151",
   "metadata": {},
   "outputs": [
    {
     "data": {
      "text/plain": [
       "0                  Action, Adventure, ScienceFiction\n",
       "1                    Action, Comedy, Crime, Thriller\n",
       "2                         Adventure, Family, Fantasy\n",
       "3         Action, Adventure, Fantasy, ScienceFiction\n",
       "4                         Action, Adventure, Fantasy\n",
       "                            ...                     \n",
       "9867                          Drama, Family, Romance\n",
       "9868                         Crime, Horror, Thriller\n",
       "9869        Drama, Mystery, ScienceFiction, Thriller\n",
       "9870                  Comedy, Horror, ScienceFiction\n",
       "9871    Adventure, Animation, Crime, Family, Mystery\n",
       "Name: genres, Length: 9872, dtype: object"
      ]
     },
     "execution_count": 4,
     "metadata": {},
     "output_type": "execute_result"
    }
   ],
   "source": [
    "tf_data.fillna('empty', inplace=True)\n",
    "tf_data[\"genres\"] = (\n",
    "    tf_data[['genre1', 'genre2', 'genre3', 'genre4', 'genre5', 'genre6', 'genre7', 'genre8']]\n",
    "        .apply(lambda x: x.str.split(',\\s*'))\n",
    "        .sum(axis=1).map(np.array)\n",
    "        .apply(lambda x: ', '.join(np.unique(x[x != 'empty'])))        \n",
    "        .replace('', 'empty')\n",
    "    )\n",
    "tf_data.genres"
   ]
  },
  {
   "cell_type": "markdown",
   "id": "9d9cb40a-5a0b-41c0-ae4c-a75bab8afbfc",
   "metadata": {},
   "source": [
    "##### To follow the method of the article we first delete the movies that have the genres: Animation, Documentary, Histoty, Family, Music and TV Movie"
   ]
  },
  {
   "cell_type": "code",
   "execution_count": 5,
   "id": "ce05c521-e5d6-46cd-961a-8881599a8a0c",
   "metadata": {},
   "outputs": [],
   "source": [
    "tf_data.drop(tf_data[(tf_data['genre1'] == 'Animation') | (tf_data['genre2'] == 'Animation')|\n",
    "                               (tf_data['genre3'] == 'Animation') | (tf_data['genre3'] == 'Animation')|\n",
    "                               (tf_data['genre5'] == 'Animation') | (tf_data['genre4'] == 'Animation')|\n",
    "                               (tf_data['genre7'] == 'Animation') | (tf_data['genre8'] == 'Animation')].index, inplace = True)\n",
    "  "
   ]
  },
  {
   "cell_type": "code",
   "execution_count": 6,
   "id": "ed9254ff-5f8a-4de5-902e-688f8ba8fc9b",
   "metadata": {},
   "outputs": [],
   "source": [
    "tf_data.drop(tf_data[(tf_data['genre1'] == 'Documentary') | (tf_data['genre2'] == 'Documentary')|\n",
    "                               (tf_data['genre3'] == 'Documentary') | (tf_data['genre3'] == 'Documentary')|\n",
    "                               (tf_data['genre5'] == 'Documentary') | (tf_data['genre4'] == 'Documentary')|\n",
    "                               (tf_data['genre7'] == 'Documentary') | (tf_data['genre8'] == 'Documentary')].index, inplace = True)"
   ]
  },
  {
   "cell_type": "code",
   "execution_count": 7,
   "id": "9be27fe7-3288-42d7-aeee-83c9159c9ef3",
   "metadata": {},
   "outputs": [],
   "source": [
    "tf_data.drop(tf_data[(tf_data['genre1'] == 'Family') | (tf_data['genre2'] == 'Family')|\n",
    "                               (tf_data['genre3'] == 'Family') | (tf_data['genre3'] == 'Family')|\n",
    "                               (tf_data['genre5'] == 'Family') | (tf_data['genre4'] == 'Family')|\n",
    "                               (tf_data['genre7'] == 'Family') | (tf_data['genre8'] == 'Family')].index, inplace = True)"
   ]
  },
  {
   "cell_type": "code",
   "execution_count": 8,
   "id": "100331d9-1e0f-4bf2-b70f-8a0d9a2d864f",
   "metadata": {},
   "outputs": [],
   "source": [
    "tf_data.drop(tf_data[(tf_data['genre1'] == 'History') | (tf_data['genre2'] == 'History')|\n",
    "                               (tf_data['genre3'] == 'History') | (tf_data['genre3'] == 'History')|\n",
    "                               (tf_data['genre5'] == 'History') | (tf_data['genre4'] == 'History')|\n",
    "                               (tf_data['genre7'] == 'History') | (tf_data['genre8'] == 'History')].index, inplace = True)"
   ]
  },
  {
   "cell_type": "code",
   "execution_count": 9,
   "id": "ca67af6c-1683-4049-a061-7030ecce7156",
   "metadata": {},
   "outputs": [],
   "source": [
    "tf_data.drop(tf_data[(tf_data['genre1'] == 'Music') | (tf_data['genre2'] == 'Music')|\n",
    "                               (tf_data['genre3'] == 'Music') | (tf_data['genre3'] == 'Music')|\n",
    "                               (tf_data['genre5'] == 'Music') | (tf_data['genre4'] == 'Music')|\n",
    "                               (tf_data['genre7'] == 'Music') | (tf_data['genre8'] == 'Music')].index, inplace = True)"
   ]
  },
  {
   "cell_type": "code",
   "execution_count": 10,
   "id": "73298c0d-6d60-456d-bdc3-acd22d825bef",
   "metadata": {},
   "outputs": [],
   "source": [
    "tf_data.drop(tf_data[(tf_data['genre1'] == 'TVMovie') | (tf_data['genre2'] == 'TVMovie')|\n",
    "                               (tf_data['genre3'] == 'TVMovie') | (tf_data['genre3'] == 'TVMovie')|\n",
    "                               (tf_data['genre5'] == 'TVMovie') | (tf_data['genre4'] == 'TVMovie')|\n",
    "                               (tf_data['genre7'] == 'TVMovie') | (tf_data['genre8'] == 'TVMovie')].index, inplace = True)"
   ]
  },
  {
   "cell_type": "code",
   "execution_count": 11,
   "id": "6b744857-7497-458c-85f4-dba30930bc7b",
   "metadata": {},
   "outputs": [
    {
     "data": {
      "text/plain": [
       "7083"
      ]
     },
     "execution_count": 11,
     "metadata": {},
     "output_type": "execute_result"
    }
   ],
   "source": [
    "len(tf_data)"
   ]
  },
  {
   "cell_type": "markdown",
   "id": "ad6a7b2e-cf3c-453c-8ee5-f7c636ae0240",
   "metadata": {},
   "source": [
    "##### Στη συνέχεια για να εφαρμόσουμε την μέθοδο TF-IDF θα προχωρήσουμε στην επεξερασία της μεταβλητής description"
   ]
  },
  {
   "cell_type": "code",
   "execution_count": 12,
   "id": "bff9572f-e245-4e1b-9cb3-a3099caa4728",
   "metadata": {},
   "outputs": [
    {
     "data": {
      "text/plain": [
       "Unnamed: 0       int64\n",
       "budget           int64\n",
       "homepage        object\n",
       "id               int64\n",
       "imdb_id         object\n",
       "revenue          int64\n",
       "runtime          int64\n",
       "language        object\n",
       "description     string\n",
       "popularity     float64\n",
       "title           object\n",
       "rating         float64\n",
       "votes            int64\n",
       "year             int64\n",
       "genre1          object\n",
       "genre2          object\n",
       "genre3          object\n",
       "genre4          object\n",
       "genre5          object\n",
       "genre6          object\n",
       "genre7          object\n",
       "genre8          object\n",
       "genres          object\n",
       "dtype: object"
      ]
     },
     "execution_count": 12,
     "metadata": {},
     "output_type": "execute_result"
    }
   ],
   "source": [
    "tf_data['description'] = tf_data['description'].astype(\"string\")\n",
    "tf_data.dtypes"
   ]
  },
  {
   "cell_type": "markdown",
   "id": "cd39b2c2-1c59-43a9-b85c-25eb21414d22",
   "metadata": {},
   "source": [
    "#### Preproccesing the data"
   ]
  },
  {
   "cell_type": "markdown",
   "id": "9c9e1b28-1ecf-4014-9070-2af14ff323af",
   "metadata": {},
   "source": [
    "##### lowercase"
   ]
  },
  {
   "cell_type": "code",
   "execution_count": 13,
   "id": "846778c2-8bd8-4f86-9140-996b9305d033",
   "metadata": {},
   "outputs": [
    {
     "data": {
      "text/plain": [
       "0       Set more than a decade after the events of the...\n",
       "1       When a team of mercenaries breaks into a wealt...\n",
       "3       In the 22nd century, a paraplegic Marine is di...\n",
       "4       Deep inside the mountain of Dovre, something g...\n",
       "5       Nearly 5,000 years after he was bestowed with ...\n",
       "                              ...                        \n",
       "9863    Georges and Anne are in their eighties. They a...\n",
       "9866    Two brothers, on either side of the law, face ...\n",
       "9868    After a serial killer strangles several women ...\n",
       "9869    At the dawn of the space-race, two radio-obses...\n",
       "9870    In the town of Dillford, humans, vampires and ...\n",
       "Name: description, Length: 7083, dtype: string"
      ]
     },
     "execution_count": 13,
     "metadata": {},
     "output_type": "execute_result"
    }
   ],
   "source": [
    "tf_data.description"
   ]
  },
  {
   "cell_type": "code",
   "execution_count": 14,
   "id": "657dc8f9-0901-4a61-b641-b6d90ce7a022",
   "metadata": {},
   "outputs": [
    {
     "data": {
      "text/plain": [
       "0       set more than a decade after the events of the...\n",
       "1       when a team of mercenaries breaks into a wealt...\n",
       "3       in the 22nd century, a paraplegic marine is di...\n",
       "4       deep inside the mountain of dovre, something g...\n",
       "5       nearly 5,000 years after he was bestowed with ...\n",
       "                              ...                        \n",
       "9863    georges and anne are in their eighties. they a...\n",
       "9866    two brothers, on either side of the law, face ...\n",
       "9868    after a serial killer strangles several women ...\n",
       "9869    at the dawn of the space-race, two radio-obses...\n",
       "9870    in the town of dillford, humans, vampires and ...\n",
       "Name: description, Length: 7083, dtype: string"
      ]
     },
     "execution_count": 14,
     "metadata": {},
     "output_type": "execute_result"
    }
   ],
   "source": [
    "tf_data['description'] = tf_data['description'].str.lower()\n",
    "tf_data.description"
   ]
  },
  {
   "cell_type": "markdown",
   "id": "738a8a35-94ca-4703-9b95-f8c2f5a726c1",
   "metadata": {},
   "source": [
    "##### stopwords"
   ]
  },
  {
   "cell_type": "code",
   "execution_count": 15,
   "id": "a2cc3e1d-afbd-4c64-805f-3992f4ba8001",
   "metadata": {},
   "outputs": [],
   "source": [
    "#for the libraries\n",
    "#https://www.geeksforgeeks.org/removing-stop-words-nltk-python/"
   ]
  },
  {
   "cell_type": "code",
   "execution_count": 16,
   "id": "fffbc76e-f833-4566-bf32-4bd71bd77129",
   "metadata": {},
   "outputs": [
    {
     "name": "stdout",
     "output_type": "stream",
     "text": [
      "['i', 'me', 'my', 'myself', 'we', 'our', 'ours', 'ourselves', 'you', \"you're\", \"you've\", \"you'll\", \"you'd\", 'your', 'yours', 'yourself', 'yourselves', 'he', 'him', 'his', 'himself', 'she', \"she's\", 'her', 'hers', 'herself', 'it', \"it's\", 'its', 'itself', 'they', 'them', 'their', 'theirs', 'themselves', 'what', 'which', 'who', 'whom', 'this', 'that', \"that'll\", 'these', 'those', 'am', 'is', 'are', 'was', 'were', 'be', 'been', 'being', 'have', 'has', 'had', 'having', 'do', 'does', 'did', 'doing', 'a', 'an', 'the', 'and', 'but', 'if', 'or', 'because', 'as', 'until', 'while', 'of', 'at', 'by', 'for', 'with', 'about', 'against', 'between', 'into', 'through', 'during', 'before', 'after', 'above', 'below', 'to', 'from', 'up', 'down', 'in', 'out', 'on', 'off', 'over', 'under', 'again', 'further', 'then', 'once', 'here', 'there', 'when', 'where', 'why', 'how', 'all', 'any', 'both', 'each', 'few', 'more', 'most', 'other', 'some', 'such', 'no', 'nor', 'not', 'only', 'own', 'same', 'so', 'than', 'too', 'very', 's', 't', 'can', 'will', 'just', 'don', \"don't\", 'should', \"should've\", 'now', 'd', 'll', 'm', 'o', 're', 've', 'y', 'ain', 'aren', \"aren't\", 'couldn', \"couldn't\", 'didn', \"didn't\", 'doesn', \"doesn't\", 'hadn', \"hadn't\", 'hasn', \"hasn't\", 'haven', \"haven't\", 'isn', \"isn't\", 'ma', 'mightn', \"mightn't\", 'mustn', \"mustn't\", 'needn', \"needn't\", 'shan', \"shan't\", 'shouldn', \"shouldn't\", 'wasn', \"wasn't\", 'weren', \"weren't\", 'won', \"won't\", 'wouldn', \"wouldn't\"]\n"
     ]
    }
   ],
   "source": [
    "print(stopwords.words('english'))"
   ]
  },
  {
   "cell_type": "code",
   "execution_count": 17,
   "id": "e9286064-24de-4db7-b9e6-bf74041f4e17",
   "metadata": {},
   "outputs": [],
   "source": [
    "stop_words = set(stopwords.words('english'))"
   ]
  },
  {
   "cell_type": "code",
   "execution_count": 18,
   "id": "8093be06-a0ec-49f8-989e-3bbec0e725c4",
   "metadata": {},
   "outputs": [
    {
     "data": {
      "text/plain": [
       "0       set decade events first film, learn story sull...\n",
       "1       team mercenaries breaks wealthy family compoun...\n",
       "3       22nd century, paraplegic marine dispatched moo...\n",
       "4       deep inside mountain dovre, something gigantic...\n",
       "5       nearly 5,000 years bestowed almighty powers eg...\n",
       "                              ...                        \n",
       "9863    georges anne eighties. cultivated, retired mus...\n",
       "9866    two brothers, either side law, face organized ...\n",
       "9868    serial killer strangles several women necktie,...\n",
       "9869    dawn space-race, two radio-obsessed teens disc...\n",
       "9870    town dillford, humans, vampires zombies living...\n",
       "Name: description, Length: 7083, dtype: object"
      ]
     },
     "execution_count": 18,
     "metadata": {},
     "output_type": "execute_result"
    }
   ],
   "source": [
    "#https://stackoverflow.com/questions/29523254/python-remove-stop-words-from-pandas-dataframe\n",
    "tf_data['description'] = tf_data['description'].apply(lambda x: ' '.join([word for word in x.split() if word not in (stop_words)]))\n",
    "tf_data.description"
   ]
  },
  {
   "cell_type": "markdown",
   "id": "a3040bc2-8823-4af3-8880-3f1ac27202c2",
   "metadata": {},
   "source": [
    "##### punctuation"
   ]
  },
  {
   "cell_type": "code",
   "execution_count": 19,
   "id": "074f3a5b-2dcb-40d9-a7bc-89f4721d259e",
   "metadata": {},
   "outputs": [],
   "source": [
    "#το κομμα να το βγάλω?"
   ]
  },
  {
   "cell_type": "code",
   "execution_count": 20,
   "id": "09fd5a48-5bae-493d-9f4a-ae4005dad5ca",
   "metadata": {},
   "outputs": [
    {
     "name": "stderr",
     "output_type": "stream",
     "text": [
      "C:\\Users\\mpoli\\AppData\\Local\\Temp\\ipykernel_17888\\420607143.py:3: FutureWarning: The default value of regex will change from True to False in a future version. In addition, single character regular expressions will *not* be treated as literal strings when regex=True.\n",
      "  tf_data.description = tf_data.description.str.replace(i,\" \")\n"
     ]
    },
    {
     "data": {
      "text/plain": [
       "0       set decade events first film, learn story sull...\n",
       "1       team mercenaries breaks wealthy family compoun...\n",
       "3       22nd century, paraplegic marine dispatched moo...\n",
       "4       deep inside mountain dovre, something gigantic...\n",
       "5       nearly 5,000 years bestowed almighty powers eg...\n",
       "                              ...                        \n",
       "9863    georges anne eighties  cultivated, retired mus...\n",
       "9866    two brothers, either side law, face organized ...\n",
       "9868    serial killer strangles several women necktie,...\n",
       "9869    dawn space race, two radio obsessed teens disc...\n",
       "9870    town dillford, humans, vampires zombies living...\n",
       "Name: description, Length: 7083, dtype: object"
      ]
     },
     "execution_count": 20,
     "metadata": {},
     "output_type": "execute_result"
    }
   ],
   "source": [
    "symbols = \"!\\\"#$%&()*+-./:;<=>?@[\\]^_`{|}~\\n—”“–\"\n",
    "for i in symbols:\n",
    "    tf_data.description = tf_data.description.str.replace(i,\" \")\n",
    "tf_data.description"
   ]
  },
  {
   "cell_type": "code",
   "execution_count": 21,
   "id": "f195c528-2fa6-476e-be2f-6b3669d92c2d",
   "metadata": {},
   "outputs": [],
   "source": [
    "tf_data.to_csv('tf_data.csv')"
   ]
  },
  {
   "cell_type": "markdown",
   "id": "2af124a6-11db-4367-81e6-61e6c1be83b0",
   "metadata": {},
   "source": [
    "##### apostrophe"
   ]
  },
  {
   "cell_type": "code",
   "execution_count": 22,
   "id": "609067ba-36a0-41f0-8efa-d5dee9a4a27b",
   "metadata": {},
   "outputs": [
    {
     "data": {
      "text/plain": [
       "0       set decade events first film learn story sully...\n",
       "1       team mercenaries breaks wealthy family compoun...\n",
       "3       22nd century paraplegic marine dispatched moon...\n",
       "4       deep inside mountain dovre something gigantic ...\n",
       "5       nearly 5000 years bestowed almighty powers egy...\n",
       "                              ...                        \n",
       "9863    georges anne eighties  cultivated retired musi...\n",
       "9866    two brothers either side law face organized cr...\n",
       "9868    serial killer strangles several women necktie ...\n",
       "9869    dawn space race two radio obsessed teens disco...\n",
       "9870    town dillford humans vampires zombies living p...\n",
       "Name: description, Length: 7083, dtype: object"
      ]
     },
     "execution_count": 22,
     "metadata": {},
     "output_type": "execute_result"
    }
   ],
   "source": [
    "tf_data.description = tf_data.description.str.replace(\"’\",\" \")\n",
    "tf_data.description = tf_data.description.str.replace(\"‘\",\" \")\n",
    "tf_data.description = tf_data.description.str.replace(\"'\",\" \")\n",
    "tf_data.description = tf_data.description.str.replace(\",\",\"\")\n",
    "tf_data.description"
   ]
  },
  {
   "cell_type": "markdown",
   "id": "5edcf2a2-4384-4c63-8a33-8015cc56e769",
   "metadata": {},
   "source": [
    "##### stopwords again "
   ]
  },
  {
   "cell_type": "code",
   "execution_count": 23,
   "id": "e7db40c3-9dc3-4426-b7d0-4c1271d1c771",
   "metadata": {},
   "outputs": [
    {
     "data": {
      "text/plain": [
       "0       set decade events first film learn story sully...\n",
       "1       team mercenaries breaks wealthy family compoun...\n",
       "3       22nd century paraplegic marine dispatched moon...\n",
       "4       deep inside mountain dovre something gigantic ...\n",
       "5       nearly 5000 years bestowed almighty powers egy...\n",
       "                              ...                        \n",
       "9863    georges anne eighties cultivated retired music...\n",
       "9866    two brothers either side law face organized cr...\n",
       "9868    serial killer strangles several women necktie ...\n",
       "9869    dawn space race two radio obsessed teens disco...\n",
       "9870    town dillford humans vampires zombies living p...\n",
       "Name: description, Length: 7083, dtype: object"
      ]
     },
     "execution_count": 23,
     "metadata": {},
     "output_type": "execute_result"
    }
   ],
   "source": [
    "stop_words = set(stopwords.words('english'))\n",
    "tf_data['description'] = tf_data['description'].apply(lambda x: ' '.join([word for word in x.split() if word not in (stop_words)]))\n",
    "tf_data.description"
   ]
  },
  {
   "cell_type": "markdown",
   "id": "a75b5c4c-c292-4cae-a09f-5a942b9b5bc0",
   "metadata": {},
   "source": [
    "##### single characters"
   ]
  },
  {
   "cell_type": "code",
   "execution_count": 24,
   "id": "06d88fed-4637-4bc8-ba6b-e96a841791ea",
   "metadata": {},
   "outputs": [
    {
     "data": {
      "text/plain": [
       "0       set decade events first film learn story sully...\n",
       "1       team mercenaries breaks wealthy family compoun...\n",
       "3       22nd century paraplegic marine dispatched moon...\n",
       "4       deep inside mountain dovre something gigantic ...\n",
       "5       nearly 5000 years bestowed almighty powers egy...\n",
       "                              ...                        \n",
       "9863    georges anne eighties cultivated retired music...\n",
       "9866    two brothers either side law face organized cr...\n",
       "9868    serial killer strangles several women necktie ...\n",
       "9869    dawn space race two radio obsessed teens disco...\n",
       "9870    town dillford humans vampires zombies living p...\n",
       "Name: description, Length: 7083, dtype: object"
      ]
     },
     "execution_count": 24,
     "metadata": {},
     "output_type": "execute_result"
    }
   ],
   "source": [
    "tf_data['description'] = tf_data['description'].apply(lambda x: ' '.join([word for word in x.split() if len(word) >1]))\n",
    "tf_data.description"
   ]
  },
  {
   "cell_type": "markdown",
   "id": "dc927455-2e54-4057-bce9-7cdceda172c4",
   "metadata": {},
   "source": [
    "##### convert numbers"
   ]
  },
  {
   "cell_type": "code",
   "execution_count": 25,
   "id": "45a636d8-82e5-4eee-9cac-d5d01ed1db21",
   "metadata": {},
   "outputs": [],
   "source": [
    "import num2words"
   ]
  },
  {
   "cell_type": "code",
   "execution_count": 26,
   "id": "c62609d2-0dec-4c79-a413-163405c5481c",
   "metadata": {},
   "outputs": [
    {
     "data": {
      "text/plain": [
       "0       set decade events first film learn story sully...\n",
       "1       team mercenaries breaks wealthy family compoun...\n",
       "3       22nd century paraplegic marine dispatched moon...\n",
       "4       deep inside mountain dovre something gigantic ...\n",
       "5       nearly five thousand years bestowed almighty p...\n",
       "                              ...                        \n",
       "9863    georges anne eighties cultivated retired music...\n",
       "9866    two brothers either side law face organized cr...\n",
       "9868    serial killer strangles several women necktie ...\n",
       "9869    dawn space race two radio obsessed teens disco...\n",
       "9870    town dillford humans vampires zombies living p...\n",
       "Name: description, Length: 7083, dtype: object"
      ]
     },
     "execution_count": 26,
     "metadata": {},
     "output_type": "execute_result"
    }
   ],
   "source": [
    "#https://stackoverflow.com/questions/56733012/converting-number-in-sentences-to-word-in-python \n",
    "#is the for exaple 11th etc a problem?\n",
    "tf_data['description'] = tf_data['description'].apply(lambda x: ' '.join([num2words.num2words(i) if i.isdigit() else i for i in x.split()]))\n",
    "tf_data['description'] "
   ]
  },
  {
   "cell_type": "markdown",
   "id": "8b30b251-ec7e-465d-ba42-c00076e7e4fc",
   "metadata": {},
   "source": [
    "##### punctuation and stopwords again"
   ]
  },
  {
   "cell_type": "code",
   "execution_count": 27,
   "id": "200900b4-63cc-4ea5-816a-9bcd3519de6d",
   "metadata": {},
   "outputs": [
    {
     "name": "stderr",
     "output_type": "stream",
     "text": [
      "C:\\Users\\mpoli\\AppData\\Local\\Temp\\ipykernel_17888\\420607143.py:3: FutureWarning: The default value of regex will change from True to False in a future version. In addition, single character regular expressions will *not* be treated as literal strings when regex=True.\n",
      "  tf_data.description = tf_data.description.str.replace(i,\" \")\n"
     ]
    },
    {
     "data": {
      "text/plain": [
       "0       set decade events first film learn story sully...\n",
       "1       team mercenaries breaks wealthy family compoun...\n",
       "3       22nd century paraplegic marine dispatched moon...\n",
       "4       deep inside mountain dovre something gigantic ...\n",
       "5       nearly five thousand years bestowed almighty p...\n",
       "                              ...                        \n",
       "9863    georges anne eighties cultivated retired music...\n",
       "9866    two brothers either side law face organized cr...\n",
       "9868    serial killer strangles several women necktie ...\n",
       "9869    dawn space race two radio obsessed teens disco...\n",
       "9870    town dillford humans vampires zombies living p...\n",
       "Name: description, Length: 7083, dtype: object"
      ]
     },
     "execution_count": 27,
     "metadata": {},
     "output_type": "execute_result"
    }
   ],
   "source": [
    "symbols = \"!\\\"#$%&()*+-./:;<=>?@[\\]^_`{|}~\\n—”“–\"\n",
    "for i in symbols:\n",
    "    tf_data.description = tf_data.description.str.replace(i,\" \")\n",
    "tf_data.description"
   ]
  },
  {
   "cell_type": "code",
   "execution_count": 28,
   "id": "bdb5f482-d796-4bee-943c-92d71e4b10a6",
   "metadata": {},
   "outputs": [],
   "source": [
    "tf_data['description'] = tf_data['description'].apply(lambda x: ' '.join([word for word in x.split() if word not in (stop_words)]))"
   ]
  },
  {
   "cell_type": "markdown",
   "id": "5dc6e095-9d7e-4d33-9c94-68f50b1af5eb",
   "metadata": {},
   "source": [
    "##### stemming"
   ]
  },
  {
   "cell_type": "code",
   "execution_count": 29,
   "id": "50598f41-db19-4bf3-b8f5-3384a3112d7f",
   "metadata": {},
   "outputs": [],
   "source": [
    "from nltk.stem import PorterStemmer"
   ]
  },
  {
   "cell_type": "code",
   "execution_count": 30,
   "id": "58a1aa9d-59c7-4cfc-a5eb-1e5f903d2117",
   "metadata": {},
   "outputs": [
    {
     "data": {
      "text/plain": [
       "0       set decad event first film learn stori sulli f...\n",
       "1       team mercenari break wealthi famili compound c...\n",
       "3       22nd centuri parapleg marin dispatch moon pand...\n",
       "4       deep insid mountain dovr someth gigant awaken ...\n",
       "5       nearli five thousand year bestow almighti powe...\n",
       "                              ...                        \n",
       "9863    georg ann eighti cultiv retir music teacher da...\n",
       "9866    two brother either side law face organ crime b...\n",
       "9868    serial killer strangl sever women neckti londo...\n",
       "9869    dawn space race two radio obsess teen discov s...\n",
       "9870    town dillford human vampir zombi live peac ali...\n",
       "Name: description, Length: 7083, dtype: object"
      ]
     },
     "execution_count": 30,
     "metadata": {},
     "output_type": "execute_result"
    }
   ],
   "source": [
    "##with Porter Stemmer\n",
    "#https://stackoverflow.com/questions/37443138/python-stemming-with-pandas-dataframe\n",
    "#https://www.projectpro.io/recipes/use-porter-stemmer\n",
    "ps = PorterStemmer()\n",
    "tf_data['description'] = tf_data['description'].apply(lambda x: ' '.join([ps.stem(y) for y in x.split()]))\n",
    "tf_data.description"
   ]
  },
  {
   "cell_type": "markdown",
   "id": "e9818219-7bcf-4761-9b01-c7e68ef04d52",
   "metadata": {},
   "source": [
    "#### Apply TF-IDF"
   ]
  },
  {
   "cell_type": "code",
   "execution_count": 31,
   "id": "ac70d113-e328-4527-a205-a85c655d3f85",
   "metadata": {},
   "outputs": [],
   "source": [
    "from sklearn.feature_extraction.text import TfidfVectorizer\n",
    "from sklearn.model_selection import train_test_split"
   ]
  },
  {
   "cell_type": "code",
   "execution_count": 32,
   "id": "4933485e-624d-41cf-9657-f23329a76e23",
   "metadata": {},
   "outputs": [],
   "source": [
    "#?TfidfVectorizer\n",
    "#?train_test_split"
   ]
  },
  {
   "cell_type": "markdown",
   "id": "c6943c91-f80f-4b8b-8cdb-8e5e3ba4a12c",
   "metadata": {},
   "source": [
    "##### apply the algorithm of tf-idf"
   ]
  },
  {
   "cell_type": "code",
   "execution_count": 34,
   "id": "be5840a1-aad0-40a7-b5ff-f7745f220b63",
   "metadata": {},
   "outputs": [
    {
     "data": {
      "text/plain": [
       "(4958, 13711)"
      ]
     },
     "execution_count": 34,
     "metadata": {},
     "output_type": "execute_result"
    }
   ],
   "source": [
    "#https://medium.com/@kunalgupta4595/predicting-movie-genres-based-on-plot-summaries-bae646e70e04\n",
    "X= tf_data['description']\n",
    "y=tf_data['genres']\n",
    "X_train, X_test, y_train, y_test = train_test_split(X, y,\n",
    "                                   test_size = 0.3,\n",
    "                                   random_state = 42)\n",
    "\n",
    "tfidf = TfidfVectorizer() #ngram_range=(2,3)\n",
    "X_train_tfidf = tfidf.fit_transform(X_train) \n",
    "X_test_tfidf = tfidf.transform(X_test)\n",
    "labels = tf_data.genres\n",
    "X_train_tfidf.shape"
   ]
  },
  {
   "cell_type": "code",
   "execution_count": null,
   "id": "0a42a383-e4f1-4ce4-a832-d5284fd65985",
   "metadata": {},
   "outputs": [],
   "source": [
    "#each of 4958 descriptions is represented by 13711 features, \n",
    "#representing the tf-idf score for different unigrams and bigrams."
   ]
  },
  {
   "cell_type": "code",
   "execution_count": 34,
   "id": "06743668-80c5-46a0-979d-e1262651ceca",
   "metadata": {},
   "outputs": [],
   "source": []
  },
  {
   "cell_type": "code",
   "execution_count": 38,
   "id": "ad498ba7-0c78-46d3-a032-68d6978482c7",
   "metadata": {},
   "outputs": [],
   "source": [
    "#https://towardsdatascience.com/multi-class-text-classification-with-scikit-learn-12f1e60e0a9f\n",
    "#edo isos na kano auto me genres se numbers alla ola mazi se ena? ksexorista kai meta ola mazi?\n",
    "\n",
    "#from sklearn.feature_selection import chi2\n",
    "#import numpy as np\n",
    "#N = 2\n",
    "#for description, genres in sorted(tf_data.genres.items()):\n",
    "#  features_chi2 = chi2(X_train_tfidf, labels == genres)\n",
    "# indices = np.argsort(features_chi2[0])\n",
    "# feature_names = np.array(tfidf.get_feature_names())[indices]\n",
    "# bigrams = [v for v in feature_names if len(v.split(' ')) == 2]\n",
    "# trigrams = [v for v in feature_names if len(v.split(' ')) == 3]\n",
    "# print(\"# '{}':\".format(description))\n",
    "# print(\"  . Most correlated unigrams:\\n. {}\".format('\\n. '.join(bigrams[-N:])))\n",
    "# print(\"  . Most correlated bigrams:\\n. {}\".format('\\n. '.join(trigrams[-N:])))"
   ]
  },
  {
   "cell_type": "markdown",
   "id": "178d23a7-50a3-49c9-b437-ba873fc0c4bb",
   "metadata": {},
   "source": [
    "##### apply MLP"
   ]
  },
  {
   "cell_type": "code",
   "execution_count": 35,
   "id": "471806b3-f1e1-47d1-8200-24257aaf784e",
   "metadata": {},
   "outputs": [],
   "source": [
    "from sklearn.neural_network import MLPClassifier"
   ]
  },
  {
   "cell_type": "code",
   "execution_count": 37,
   "id": "1f1aea3a-8b1b-4635-9e1f-c93f7258791d",
   "metadata": {},
   "outputs": [
    {
     "name": "stdout",
     "output_type": "stream",
     "text": [
      "\n",
      " Confusion matrix\n",
      "\n"
     ]
    },
    {
     "data": {
      "image/png": "[encoded data removed]",
      "text/plain": [
       "<Figure size 504x360 with 2 Axes>"
      ]
     },
     "metadata": {
      "needs_background": "light"
     },
     "output_type": "display_data"
    },
    {
     "ename": "NameError",
     "evalue": "name 'metrics' is not defined",
     "output_type": "error",
     "traceback": [
      "\u001b[1;31m---------------------------------------------------------------------------\u001b[0m",
      "\u001b[1;31mNameError\u001b[0m                                 Traceback (most recent call last)",
      "Input \u001b[1;32mIn [37]\u001b[0m, in \u001b[0;36m<cell line: 23>\u001b[1;34m()\u001b[0m\n\u001b[0;32m     21\u001b[0m sns\u001b[38;5;241m.\u001b[39mheatmap(cm, annot\u001b[38;5;241m=\u001b[39m\u001b[38;5;28;01mTrue\u001b[39;00m, fmt\u001b[38;5;241m=\u001b[39m\u001b[38;5;124m'\u001b[39m\u001b[38;5;124md\u001b[39m\u001b[38;5;124m'\u001b[39m)\n\u001b[0;32m     22\u001b[0m plt\u001b[38;5;241m.\u001b[39mshow()\n\u001b[1;32m---> 23\u001b[0m \u001b[38;5;28mprint\u001b[39m(\u001b[38;5;124m\"\u001b[39m\u001b[38;5;124mClassification report\u001b[39m\u001b[38;5;130;01m\\n\u001b[39;00m\u001b[38;5;124m\"\u001b[39m,\u001b[43mmetrics\u001b[49m\u001b[38;5;241m.\u001b[39mclassification_report(y_test, y_pred))\n\u001b[0;32m     24\u001b[0m \u001b[38;5;28mprint\u001b[39m(\u001b[38;5;124m\"\u001b[39m\u001b[38;5;124mAccuracy of the model : \u001b[39m\u001b[38;5;124m\"\u001b[39m,metrics\u001b[38;5;241m.\u001b[39maccuracy_score(y_test, y_pred)\u001b[38;5;241m*\u001b[39m\u001b[38;5;241m100\u001b[39m)\n",
      "\u001b[1;31mNameError\u001b[0m: name 'metrics' is not defined"
     ]
    }
   ],
   "source": [
    "#https://slogix.in/source-code/python/deep-learning-samples/how-to-build-spam-detector-using-multi-layer-perceptron-in-python/\n",
    "clf = MLPClassifier(activation='relu',\n",
    "                    solver='adam',\n",
    "                    max_iter=200,\n",
    "                    hidden_layer_sizes=100,\n",
    "                    random_state=42,\n",
    "                    learning_rate='constant',\n",
    "                    learning_rate_init=0.001)\n",
    "#fit the model\n",
    "clf.fit(X_train_tfidf, y_train)\n",
    "# Predicting the Test set results\n",
    "y_pred = clf.predict(X_test_tfidf)\n",
    "# Creating the Confusion Matrix\n",
    "from sklearn.metrics import confusion_matrix\n",
    "cm = confusion_matrix(y_test, y_pred)\n",
    "\n",
    "import matplotlib.pyplot as plt\n",
    "import seaborn as sns\n",
    "print(\"\\n\",\"Confusion matrix\\n\")\n",
    "fig, ax = plt.subplots(figsize=(7,5))\n",
    "sns.heatmap(cm, annot=True, fmt='d')\n",
    "plt.show()\n"
   ]
  },
  {
   "cell_type": "code",
   "execution_count": 38,
   "id": "7931de74-9997-49f1-ac08-7800edbcf4a9",
   "metadata": {},
   "outputs": [
    {
     "name": "stdout",
     "output_type": "stream",
     "text": [
      "Classification report\n",
      "                                                                         precision    recall  f1-score   support\n",
      "\n",
      "                                                                Action       0.10      0.07      0.08        28\n",
      "                                                     Action, Adventure       0.00      0.00      0.00         8\n",
      "                                             Action, Adventure, Comedy       0.00      0.00      0.00         8\n",
      "                            Action, Adventure, Comedy, Crime, Thriller       1.00      0.25      0.40         4\n",
      "                                 Action, Adventure, Comedy, Crime, War       0.00      0.00      0.00         1\n",
      "                                      Action, Adventure, Comedy, Drama       0.00      0.00      0.00         3\n",
      "                             Action, Adventure, Comedy, Drama, Romance       0.00      0.00      0.00         1\n",
      "                                    Action, Adventure, Comedy, Fantasy       0.00      0.00      0.00         2\n",
      "                    Action, Adventure, Comedy, Fantasy, ScienceFiction       0.00      0.00      0.00         3\n",
      "                          Action, Adventure, Comedy, Fantasy, Thriller       0.00      0.00      0.00         1\n",
      "                                    Action, Adventure, Comedy, Mystery       0.00      0.00      0.00         1\n",
      "                                    Action, Adventure, Comedy, Romance       0.00      0.00      0.00         1\n",
      "                             Action, Adventure, Comedy, ScienceFiction       0.00      0.00      0.00         2\n",
      "                   Action, Adventure, Comedy, ScienceFiction, Thriller       0.00      0.00      0.00         1\n",
      "                                        Action, Adventure, Comedy, War       0.00      0.00      0.00         1\n",
      "                                              Action, Adventure, Crime       0.00      0.00      0.00         2\n",
      "                                       Action, Adventure, Crime, Drama       0.00      0.00      0.00         1\n",
      "                             Action, Adventure, Crime, Drama, Thriller       0.00      0.00      0.00         2\n",
      "                                     Action, Adventure, Crime, Fantasy       0.00      0.00      0.00         1\n",
      "                                     Action, Adventure, Crime, Mystery       0.00      0.00      0.00         1\n",
      "                           Action, Adventure, Crime, Mystery, Thriller       0.00      0.00      0.00         2\n",
      "                                    Action, Adventure, Crime, Thriller       0.00      0.00      0.00         7\n",
      "                                     Action, Adventure, Crime, Western       0.00      0.00      0.00         1\n",
      "                                              Action, Adventure, Drama       0.00      0.00      0.00        13\n",
      "                                     Action, Adventure, Drama, Fantasy       0.00      0.00      0.00         2\n",
      "                                     Action, Adventure, Drama, Romance       0.00      0.00      0.00         2\n",
      "                                    Action, Adventure, Drama, Thriller       0.00      0.00      0.00         1\n",
      "                                     Action, Adventure, Drama, Western       0.00      0.00      0.00         2\n",
      "                                            Action, Adventure, Fantasy       0.08      0.12      0.09        17\n",
      "                          Action, Adventure, Fantasy, Horror, Thriller       0.00      0.00      0.00         1\n",
      "                            Action, Adventure, Fantasy, ScienceFiction       0.00      0.00      0.00         2\n",
      "                  Action, Adventure, Fantasy, ScienceFiction, Thriller       0.00      0.00      0.00         2\n",
      "                                  Action, Adventure, Fantasy, Thriller       0.00      0.00      0.00         1\n",
      "                                             Action, Adventure, Horror       0.00      0.00      0.00         1\n",
      "                            Action, Adventure, Mystery, ScienceFiction       0.00      0.00      0.00         1\n",
      "                  Action, Adventure, Mystery, ScienceFiction, Thriller       0.00      0.00      0.00         1\n",
      "                                  Action, Adventure, Mystery, Thriller       0.00      0.00      0.00         1\n",
      "                             Action, Adventure, Mystery, Thriller, War       0.00      0.00      0.00         1\n",
      "                                     Action, Adventure, ScienceFiction       0.38      0.57      0.45        35\n",
      "                           Action, Adventure, ScienceFiction, Thriller       0.17      0.10      0.12        10\n",
      "                                Action, Adventure, ScienceFiction, War       0.00      0.00      0.00         1\n",
      "                                           Action, Adventure, Thriller       0.41      0.56      0.47        16\n",
      "                                      Action, Adventure, Thriller, War       0.00      0.00      0.00         0\n",
      "                                                Action, Adventure, War       0.00      0.00      0.00         1\n",
      "                                            Action, Adventure, Western       0.00      0.00      0.00         2\n",
      "                                                        Action, Comedy       0.00      0.00      0.00        23\n",
      "                                                 Action, Comedy, Crime       0.00      0.00      0.00        10\n",
      "Action, Comedy, Crime, Drama, Fantasy, Horror, ScienceFiction, Western       0.00      0.00      0.00         1\n",
      "                                Action, Comedy, Crime, Drama, Thriller       0.00      0.00      0.00         2\n",
      "                                        Action, Comedy, Crime, Fantasy       0.00      0.00      0.00         1\n",
      "                                         Action, Comedy, Crime, Horror       0.00      0.00      0.00         1\n",
      "                                        Action, Comedy, Crime, Mystery       0.00      0.00      0.00         2\n",
      "                                        Action, Comedy, Crime, Romance       0.00      0.00      0.00         2\n",
      "                                       Action, Comedy, Crime, Thriller       0.00      0.00      0.00         3\n",
      "                                                 Action, Comedy, Drama       0.00      0.00      0.00         4\n",
      "                                        Action, Comedy, Drama, Romance       0.00      0.00      0.00         1\n",
      "                                               Action, Comedy, Fantasy       0.00      0.00      0.00         3\n",
      "                                     Action, Comedy, Fantasy, Thriller       0.00      0.00      0.00         1\n",
      "                                                Action, Comedy, Horror       0.00      0.00      0.00         2\n",
      "                      Action, Comedy, Horror, ScienceFiction, Thriller       0.00      0.00      0.00         1\n",
      "                                       Action, Comedy, Horror, Western       0.00      0.00      0.00         1\n",
      "                                     Action, Comedy, Mystery, Thriller       0.00      0.00      0.00         0\n",
      "                                               Action, Comedy, Romance       0.00      0.00      0.00         2\n",
      "                                        Action, Comedy, ScienceFiction       0.00      0.00      0.00         4\n",
      "                              Action, Comedy, ScienceFiction, Thriller       0.00      0.00      0.00         1\n",
      "                                              Action, Comedy, Thriller       0.00      0.00      0.00         5\n",
      "                                                   Action, Comedy, War       0.00      0.00      0.00         1\n",
      "                                               Action, Comedy, Western       0.00      0.00      0.00         1\n",
      "                                                         Action, Crime       0.00      0.00      0.00        10\n",
      "                                                  Action, Crime, Drama       0.12      0.06      0.08        17\n",
      "                                Action, Crime, Drama, Horror, Thriller       0.00      0.00      0.00         1\n",
      "                                         Action, Crime, Drama, Mystery       0.00      0.00      0.00         1\n",
      "                      Action, Crime, Drama, Mystery, Romance, Thriller       0.00      0.00      0.00         1\n",
      "                               Action, Crime, Drama, Mystery, Thriller       0.00      0.00      0.00         2\n",
      "                                        Action, Crime, Drama, Thriller       0.11      0.12      0.11        17\n",
      "                                                Action, Crime, Fantasy       0.00      0.00      0.00         0\n",
      "                     Action, Crime, Fantasy, Horror, Mystery, Thriller       0.00      0.00      0.00         1\n",
      "                                       Action, Crime, Fantasy, Mystery       0.00      0.00      0.00         1\n",
      "                       Action, Crime, Horror, ScienceFiction, Thriller       0.00      0.00      0.00         1\n",
      "                                       Action, Crime, Horror, Thriller       0.00      0.00      0.00         2\n",
      "                                                Action, Crime, Mystery       0.00      0.00      0.00         1\n",
      "                                      Action, Crime, Mystery, Thriller       0.00      0.00      0.00         3\n",
      "                               Action, Crime, ScienceFiction, Thriller       0.00      0.00      0.00         2\n",
      "                                               Action, Crime, Thriller       0.23      0.33      0.27        64\n",
      "                                                         Action, Drama       0.12      0.06      0.08        17\n",
      "                                                Action, Drama, Fantasy       0.00      0.00      0.00         3\n",
      "                                        Action, Drama, Fantasy, Horror       0.00      0.00      0.00         1\n",
      "                                   Action, Drama, Fantasy, Horror, War       0.00      0.00      0.00         1\n",
      "                                                 Action, Drama, Horror       0.00      0.00      0.00         1\n",
      "                                       Action, Drama, Horror, Thriller       0.00      0.00      0.00         1\n",
      "                             Action, Drama, Mystery, Romance, Thriller       0.00      0.00      0.00         1\n",
      "                                      Action, Drama, Mystery, Thriller       0.00      0.00      0.00         1\n",
      "                                                Action, Drama, Romance       0.00      0.00      0.00         1\n",
      "                                      Action, Drama, Romance, Thriller       0.00      0.00      0.00         1\n",
      "                                 Action, Drama, Romance, Thriller, War       0.00      0.00      0.00         1\n",
      "                                       Action, Drama, Romance, Western       0.00      0.00      0.00         1\n",
      "                                         Action, Drama, ScienceFiction       0.00      0.00      0.00         5\n",
      "                               Action, Drama, ScienceFiction, Thriller       0.00      0.00      0.00         6\n",
      "                                               Action, Drama, Thriller       0.07      0.03      0.04        34\n",
      "                                          Action, Drama, Thriller, War       0.00      0.00      0.00         1\n",
      "                                                    Action, Drama, War       0.00      0.00      0.00         7\n",
      "                                                Action, Drama, Western       0.00      0.00      0.00         1\n",
      "                                                       Action, Fantasy       0.00      0.00      0.00         7\n",
      "                                               Action, Fantasy, Horror       0.00      0.00      0.00         4\n",
      "                                      Action, Fantasy, Horror, Mystery       0.00      0.00      0.00         1\n",
      "                               Action, Fantasy, Horror, ScienceFiction       0.00      0.00      0.00         1\n",
      "                                     Action, Fantasy, Horror, Thriller       0.00      0.00      0.00         3\n",
      "                                Action, Fantasy, Horror, Thriller, War       0.00      0.00      0.00         1\n",
      "                                       Action, Fantasy, ScienceFiction       0.00      0.00      0.00         5\n",
      "                                  Action, Fantasy, ScienceFiction, War       0.00      0.00      0.00         1\n",
      "                                             Action, Fantasy, Thriller       0.00      0.00      0.00         0\n",
      "                                                        Action, Horror       0.00      0.00      0.00         2\n",
      "                               Action, Horror, Mystery, ScienceFiction       0.00      0.00      0.00         1\n",
      "                                        Action, Horror, ScienceFiction       0.00      0.00      0.00         7\n",
      "                              Action, Horror, ScienceFiction, Thriller       0.00      0.00      0.00         4\n",
      "                                              Action, Horror, Thriller       0.00      0.00      0.00         7\n",
      "                                                   Action, Horror, War       0.00      0.00      0.00         1\n",
      "                                       Action, Mystery, ScienceFiction       0.00      0.00      0.00         2\n",
      "                             Action, Mystery, ScienceFiction, Thriller       0.00      0.00      0.00         3\n",
      "                                             Action, Mystery, Thriller       0.00      0.00      0.00         5\n",
      "                                             Action, Romance, Thriller       0.00      0.00      0.00         1\n",
      "                                                Action, ScienceFiction       0.25      0.11      0.15        18\n",
      "                                      Action, ScienceFiction, Thriller       0.21      0.23      0.22        22\n",
      "                                                      Action, Thriller       0.15      0.28      0.20        46\n",
      "                                                 Action, Thriller, War       0.00      0.00      0.00         1\n",
      "                                             Action, Thriller, Western       0.00      0.00      0.00         1\n",
      "                                                           Action, War       0.00      0.00      0.00         2\n",
      "                                                       Action, Western       0.00      0.00      0.00         2\n",
      "                                                             Adventure       0.00      0.00      0.00         1\n",
      "                                                     Adventure, Comedy       0.00      0.00      0.00         6\n",
      "                                     Adventure, Comedy, Crime, Mystery       0.00      0.00      0.00         0\n",
      "                                              Adventure, Comedy, Drama       0.00      0.00      0.00         2\n",
      "                                     Adventure, Comedy, Drama, Romance       0.00      0.00      0.00         2\n",
      "                                            Adventure, Comedy, Fantasy       0.00      0.00      0.00         5\n",
      "                                   Adventure, Comedy, Fantasy, Mystery       0.00      0.00      0.00         3\n",
      "                                            Adventure, Comedy, Romance       0.00      0.00      0.00         1\n",
      "                                     Adventure, Comedy, ScienceFiction       1.00      0.25      0.40         4\n",
      "                                                Adventure, Comedy, War       0.00      0.00      0.00         1\n",
      "                                            Adventure, Comedy, Western       0.00      0.00      0.00         1\n",
      "                                                      Adventure, Drama       0.00      0.00      0.00         5\n",
      "                                             Adventure, Drama, Fantasy       0.00      0.00      0.00         2\n",
      "                                    Adventure, Drama, Fantasy, Romance       0.00      0.00      0.00         1\n",
      "                             Adventure, Drama, Fantasy, ScienceFiction       0.00      0.00      0.00         1\n",
      "                                              Adventure, Drama, Horror       0.00      0.00      0.00         2\n",
      "                                             Adventure, Drama, Romance       0.00      0.00      0.00         3\n",
      "                             Adventure, Drama, Romance, ScienceFiction       0.00      0.00      0.00         1\n",
      "                                   Adventure, Drama, Romance, Thriller       0.00      0.00      0.00         1\n",
      "                                    Adventure, Drama, Romance, Western       0.00      0.00      0.00         1\n",
      "                                      Adventure, Drama, ScienceFiction       0.00      0.00      0.00         2\n",
      "                                            Adventure, Drama, Thriller       0.00      0.00      0.00         4\n",
      "                                             Adventure, Drama, Western       0.00      0.00      0.00         1\n",
      "                                                    Adventure, Fantasy       0.33      0.14      0.20         7\n",
      "          Adventure, Fantasy, Horror, Mystery, ScienceFiction, TVMovie       0.00      0.00      0.00         1\n",
      "                                           Adventure, Fantasy, Mystery       0.00      0.00      0.00         1\n",
      "                                    Adventure, Fantasy, ScienceFiction       0.00      0.00      0.00         1\n",
      "                                     Adventure, Horror, ScienceFiction       0.00      0.00      0.00         1\n",
      "                                           Adventure, Horror, Thriller       0.00      0.00      0.00         1\n",
      "                                    Adventure, Mystery, ScienceFiction       0.00      0.00      0.00         2\n",
      "                                             Adventure, ScienceFiction       0.00      0.00      0.00         5\n",
      "                                   Adventure, ScienceFiction, Thriller       0.00      0.00      0.00         2\n",
      "                                                   Adventure, Thriller       0.00      0.00      0.00         1\n",
      "                                                                Comedy       0.20      0.53      0.29       109\n",
      "                                                         Comedy, Crime       0.21      0.14      0.17        22\n",
      "                                                  Comedy, Crime, Drama       0.00      0.00      0.00         5\n",
      "                                         Comedy, Crime, Drama, Mystery       0.00      0.00      0.00         1\n",
      "                               Comedy, Crime, Drama, Mystery, Thriller       0.00      0.00      0.00         1\n",
      "                                         Comedy, Crime, Drama, Romance       0.00      0.00      0.00         1\n",
      "                               Comedy, Crime, Drama, Romance, Thriller       0.00      0.00      0.00         1\n",
      "                                       Comedy, Crime, Horror, Thriller       0.00      0.00      0.00         1\n",
      "                                                Comedy, Crime, Mystery       0.00      0.00      0.00         2\n",
      "                                      Comedy, Crime, Mystery, Thriller       0.00      0.00      0.00         1\n",
      "                                         Comedy, Crime, ScienceFiction       0.00      0.00      0.00         1\n",
      "                                               Comedy, Crime, Thriller       0.00      0.00      0.00         5\n",
      "                                                         Comedy, Drama       0.11      0.12      0.12        56\n",
      "                                                Comedy, Drama, Fantasy       0.00      0.00      0.00         1\n",
      "                                       Comedy, Drama, Fantasy, Romance       0.00      0.00      0.00         2\n",
      "                                                 Comedy, Drama, Horror       0.00      0.00      0.00         2\n",
      "                                       Comedy, Drama, Horror, Thriller       0.00      0.00      0.00         1\n",
      "                                                Comedy, Drama, Mystery       0.00      0.00      0.00         1\n",
      "                                                Comedy, Drama, Romance       0.11      0.10      0.10        69\n",
      "                                         Comedy, Drama, ScienceFiction       0.00      0.00      0.00         1\n",
      "                                               Comedy, Drama, Thriller       0.00      0.00      0.00         4\n",
      "                                                    Comedy, Drama, War       0.00      0.00      0.00         1\n",
      "                                                       Comedy, Fantasy       0.00      0.00      0.00         8\n",
      "                                               Comedy, Fantasy, Horror       0.00      0.00      0.00         2\n",
      "                                              Comedy, Fantasy, Romance       0.00      0.00      0.00        11\n",
      "                                       Comedy, Fantasy, ScienceFiction       0.00      0.00      0.00         2\n",
      "                                                        Comedy, Horror       0.46      0.21      0.29        29\n",
      "                                     Comedy, Horror, Mystery, Thriller       0.00      0.00      0.00         1\n",
      "                                               Comedy, Horror, Romance       0.00      0.00      0.00         1\n",
      "                                        Comedy, Horror, ScienceFiction       0.00      0.00      0.00         3\n",
      "                                              Comedy, Horror, Thriller       0.33      0.25      0.29         4\n",
      "                                                       Comedy, Mystery       0.00      0.00      0.00         4\n",
      "                                              Comedy, Mystery, Romance       0.00      0.00      0.00         1\n",
      "                                             Comedy, Mystery, Thriller       0.00      0.00      0.00         1\n",
      "                                                       Comedy, Romance       0.22      0.27      0.24        88\n",
      "                                       Comedy, Romance, ScienceFiction       0.00      0.00      0.00         4\n",
      "                                             Comedy, Romance, Thriller       0.00      0.00      0.00         1\n",
      "                                                Comedy, ScienceFiction       0.00      0.00      0.00         7\n",
      "                                                           Comedy, War       0.00      0.00      0.00         2\n",
      "                                                       Comedy, Western       0.00      0.00      0.00         5\n",
      "                                                                 Crime       0.00      0.00      0.00         5\n",
      "                                                          Crime, Drama       0.12      0.12      0.12        34\n",
      "                                                 Crime, Drama, Fantasy       0.00      0.00      0.00         3\n",
      "                                        Crime, Drama, Fantasy, Romance       0.00      0.00      0.00         1\n",
      "                                                  Crime, Drama, Horror       0.00      0.00      0.00         1\n",
      "                               Crime, Drama, Horror, Mystery, Thriller       0.00      0.00      0.00         1\n",
      "                                        Crime, Drama, Horror, Thriller       0.00      0.00      0.00         2\n",
      "                                                 Crime, Drama, Mystery       0.00      0.00      0.00         3\n",
      "                              Crime, Drama, Mystery, Romance, Thriller       0.00      0.00      0.00         4\n",
      "                                       Crime, Drama, Mystery, Thriller       0.17      0.07      0.10        15\n",
      "                                                 Crime, Drama, Romance       0.00      0.00      0.00         3\n",
      "                                       Crime, Drama, Romance, Thriller       0.00      0.00      0.00         1\n",
      "                                                Crime, Drama, Thriller       0.07      0.11      0.08        38\n",
      "                                                 Crime, Drama, Western       0.00      0.00      0.00         2\n",
      "                                      Crime, Fantasy, Horror, Thriller       0.00      0.00      0.00         1\n",
      "                                                         Crime, Horror       0.00      0.00      0.00         1\n",
      "                                                Crime, Horror, Mystery       0.00      0.00      0.00         1\n",
      "                                      Crime, Horror, Mystery, Thriller       0.00      0.00      0.00         2\n",
      "                                               Crime, Horror, Thriller       0.00      0.00      0.00         7\n",
      "                                              Crime, Mystery, Thriller       0.00      0.00      0.00        10\n",
      "                                              Crime, Romance, Thriller       0.00      0.00      0.00         1\n",
      "                                                       Crime, Thriller       0.00      0.00      0.00        17\n",
      "                                                                 Drama       0.20      0.37      0.26       155\n",
      "                                                        Drama, Fantasy       0.50      0.20      0.29         5\n",
      "                                                Drama, Fantasy, Horror       0.00      0.00      0.00         6\n",
      "                    Drama, Fantasy, Horror, Mystery, Romance, Thriller       0.00      0.00      0.00         1\n",
      "                                      Drama, Fantasy, Horror, Thriller       0.00      0.00      0.00         1\n",
      "                                               Drama, Fantasy, Mystery       0.00      0.00      0.00         2\n",
      "            Drama, Fantasy, Mystery, Romance, ScienceFiction, Thriller       0.00      0.00      0.00         1\n",
      "                     Drama, Fantasy, Mystery, ScienceFiction, Thriller       0.00      0.00      0.00         1\n",
      "                                     Drama, Fantasy, Mystery, Thriller       0.00      0.00      0.00         1\n",
      "                                               Drama, Fantasy, Romance       0.00      0.00      0.00         6\n",
      "                               Drama, Fantasy, Romance, ScienceFiction       0.00      0.00      0.00         3\n",
      "                                        Drama, Fantasy, ScienceFiction       0.00      0.00      0.00         2\n",
      "                                                         Drama, Horror       0.00      0.00      0.00         7\n",
      "                                                Drama, Horror, Mystery       0.00      0.00      0.00         6\n",
      "                      Drama, Horror, Mystery, ScienceFiction, Thriller       0.00      0.00      0.00         1\n",
      "                                      Drama, Horror, Mystery, Thriller       0.00      0.00      0.00         4\n",
      "                                         Drama, Horror, ScienceFiction       0.00      0.00      0.00         8\n",
      "                               Drama, Horror, ScienceFiction, Thriller       0.00      0.00      0.00         2\n",
      "                                               Drama, Horror, Thriller       0.00      0.00      0.00        14\n",
      "                                                    Drama, Horror, War       0.00      0.00      0.00         1\n",
      "                                                        Drama, Mystery       0.00      0.00      0.00         5\n",
      "                                               Drama, Mystery, Romance       0.00      0.00      0.00         2\n",
      "                     Drama, Mystery, Romance, ScienceFiction, Thriller       0.00      0.00      0.00         2\n",
      "                                     Drama, Mystery, Romance, Thriller       0.00      0.00      0.00         2\n",
      "                                        Drama, Mystery, ScienceFiction       0.00      0.00      0.00         1\n",
      "                              Drama, Mystery, ScienceFiction, Thriller       0.00      0.00      0.00         1\n",
      "                                              Drama, Mystery, Thriller       0.00      0.00      0.00        27\n",
      "                                         Drama, Mystery, Thriller, War       0.00      0.00      0.00         2\n",
      "                                                   Drama, Mystery, War       0.00      0.00      0.00         1\n",
      "                                               Drama, Mystery, Western       0.00      0.00      0.00         1\n",
      "                                                        Drama, Romance       0.22      0.48      0.30       104\n",
      "                                        Drama, Romance, ScienceFiction       0.00      0.00      0.00         2\n",
      "                                              Drama, Romance, Thriller       0.00      0.00      0.00         2\n",
      "                                                   Drama, Romance, War       0.50      0.17      0.25         6\n",
      "                                               Drama, Romance, Western       0.00      0.00      0.00         1\n",
      "                                                 Drama, ScienceFiction       0.00      0.00      0.00         7\n",
      "                                       Drama, ScienceFiction, Thriller       0.00      0.00      0.00         4\n",
      "                                            Drama, ScienceFiction, War       0.00      0.00      0.00         0\n",
      "                                                       Drama, Thriller       0.07      0.07      0.07        40\n",
      "                                                  Drama, Thriller, War       0.00      0.00      0.00         3\n",
      "                                              Drama, Thriller, Western       0.00      0.00      0.00         0\n",
      "                                                            Drama, War       0.17      0.20      0.18        10\n",
      "                                                        Drama, Western       0.00      0.00      0.00         3\n",
      "                                                               Fantasy       0.00      0.00      0.00         2\n",
      "                                                       Fantasy, Horror       0.50      0.10      0.17        10\n",
      "                                              Fantasy, Horror, Mystery       0.00      0.00      0.00         1\n",
      "                                    Fantasy, Horror, Mystery, Thriller       0.00      0.00      0.00         2\n",
      "                                             Fantasy, Horror, Thriller       0.00      0.00      0.00         3\n",
      "                             Fantasy, Mystery, Romance, ScienceFiction       0.00      0.00      0.00         1\n",
      "                                            Fantasy, Mystery, Thriller       0.00      0.00      0.00         0\n",
      "                                                      Fantasy, Romance       0.00      0.00      0.00         2\n",
      "                                               Fantasy, ScienceFiction       0.00      0.00      0.00         1\n",
      "                                                                Horror       0.14      0.23      0.17        53\n",
      "                                                       Horror, Mystery       1.00      0.05      0.09        21\n",
      "                                       Horror, Mystery, ScienceFiction       0.00      0.00      0.00         2\n",
      "                             Horror, Mystery, ScienceFiction, Thriller       0.00      0.00      0.00         6\n",
      "                                             Horror, Mystery, Thriller       0.18      0.19      0.19        36\n",
      "                                                       Horror, Romance       0.00      0.00      0.00         1\n",
      "                                                Horror, ScienceFiction       0.17      0.08      0.11        12\n",
      "                                      Horror, ScienceFiction, Thriller       0.00      0.00      0.00        13\n",
      "                                                      Horror, Thriller       0.14      0.30      0.19        63\n",
      "                                             Horror, Thriller, Western       0.00      0.00      0.00         1\n",
      "                                            Mystery, Romance, Thriller       0.00      0.00      0.00         1\n",
      "                                     Mystery, ScienceFiction, Thriller       0.12      0.20      0.15         5\n",
      "                                                     Mystery, Thriller       0.00      0.00      0.00        11\n",
      "                                                      Mystery, Western       0.00      0.00      0.00         1\n",
      "                                                               Romance       0.50      0.47      0.48        30\n",
      "                                               Romance, ScienceFiction       0.00      0.00      0.00         1\n",
      "                                                     Romance, Thriller       0.00      0.00      0.00         2\n",
      "                                                      Romance, Western       0.00      0.00      0.00         1\n",
      "                                                        ScienceFiction       0.00      0.00      0.00         8\n",
      "                                              ScienceFiction, Thriller       0.00      0.00      0.00         7\n",
      "                                                   ScienceFiction, War       0.00      0.00      0.00         1\n",
      "                                                              Thriller       0.05      0.07      0.06        30\n",
      "                                                               Western       0.25      0.10      0.14        10\n",
      "                                                                 empty       0.25      0.04      0.07        24\n",
      "\n",
      "                                                              accuracy                           0.18      2125\n",
      "                                                             macro avg       0.04      0.03      0.03      2125\n",
      "                                                          weighted avg       0.14      0.18      0.14      2125\n",
      "\n",
      "Accuracy of the model :  17.552941176470586\n"
     ]
    },
    {
     "name": "stderr",
     "output_type": "stream",
     "text": [
      "c:\\python38\\lib\\site-packages\\sklearn\\metrics\\_classification.py:1318: UndefinedMetricWarning: Precision and F-score are ill-defined and being set to 0.0 in labels with no predicted samples. Use `zero_division` parameter to control this behavior.\n",
      "  _warn_prf(average, modifier, msg_start, len(result))\n",
      "c:\\python38\\lib\\site-packages\\sklearn\\metrics\\_classification.py:1318: UndefinedMetricWarning: Recall and F-score are ill-defined and being set to 0.0 in labels with no true samples. Use `zero_division` parameter to control this behavior.\n",
      "  _warn_prf(average, modifier, msg_start, len(result))\n",
      "c:\\python38\\lib\\site-packages\\sklearn\\metrics\\_classification.py:1318: UndefinedMetricWarning: Precision and F-score are ill-defined and being set to 0.0 in labels with no predicted samples. Use `zero_division` parameter to control this behavior.\n",
      "  _warn_prf(average, modifier, msg_start, len(result))\n",
      "c:\\python38\\lib\\site-packages\\sklearn\\metrics\\_classification.py:1318: UndefinedMetricWarning: Recall and F-score are ill-defined and being set to 0.0 in labels with no true samples. Use `zero_division` parameter to control this behavior.\n",
      "  _warn_prf(average, modifier, msg_start, len(result))\n",
      "c:\\python38\\lib\\site-packages\\sklearn\\metrics\\_classification.py:1318: UndefinedMetricWarning: Precision and F-score are ill-defined and being set to 0.0 in labels with no predicted samples. Use `zero_division` parameter to control this behavior.\n",
      "  _warn_prf(average, modifier, msg_start, len(result))\n",
      "c:\\python38\\lib\\site-packages\\sklearn\\metrics\\_classification.py:1318: UndefinedMetricWarning: Recall and F-score are ill-defined and being set to 0.0 in labels with no true samples. Use `zero_division` parameter to control this behavior.\n",
      "  _warn_prf(average, modifier, msg_start, len(result))\n"
     ]
    }
   ],
   "source": [
    "from sklearn import metrics\n",
    "print(\"Classification report\\n\",metrics.classification_report(y_test, y_pred))\n",
    "print(\"Accuracy of the model : \",metrics.accuracy_score(y_test, y_pred)*100)"
   ]
  },
  {
   "cell_type": "code",
   "execution_count": null,
   "id": "cf3cee22-8b49-4dc9-9caa-dac6d581a95b",
   "metadata": {},
   "outputs": [],
   "source": []
  },
  {
   "cell_type": "code",
   "execution_count": null,
   "id": "d10755f7-7c8c-4d75-8b6a-633437b0f236",
   "metadata": {},
   "outputs": [],
   "source": []
  }
 ],
 "metadata": {
  "kernelspec": {
   "display_name": "Python 3 (ipykernel)",
   "language": "python",
   "name": "python3"
  },
  "language_info": {
   "codemirror_mode": {
    "name": "ipython",
    "version": 3
   },
   "file_extension": ".py",
   "mimetype": "text/x-python",
   "name": "python",
   "nbconvert_exporter": "python",
   "pygments_lexer": "ipython3",
   "version": "3.8.3"
  }
 },
 "nbformat": 4,
 "nbformat_minor": 5
}
