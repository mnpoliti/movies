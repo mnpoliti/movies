{
 "cells": [
  {
   "cell_type": "code",
   "execution_count": 1,
   "id": "26c9a74e-d4f1-4df3-8304-fa7131ce98d0",
   "metadata": {},
   "outputs": [
    {
     "name": "stderr",
     "output_type": "stream",
     "text": [
      "[nltk_data] Downloading package stopwords to\n",
      "[nltk_data]     C:\\Users\\mpoli\\AppData\\Roaming\\nltk_data...\n",
      "[nltk_data]   Package stopwords is already up-to-date!\n",
      "[nltk_data] Downloading package punkt to\n",
      "[nltk_data]     C:\\Users\\mpoli\\AppData\\Roaming\\nltk_data...\n",
      "[nltk_data]   Package punkt is already up-to-date!\n"
     ]
    },
    {
     "data": {
      "text/plain": [
       "True"
      ]
     },
     "execution_count": 1,
     "metadata": {},
     "output_type": "execute_result"
    }
   ],
   "source": [
    "import pandas as pd\n",
    "import numpy as np\n",
    "import nltk\n",
    "from nltk.corpus import stopwords\n",
    "from nltk.tokenize import sent_tokenize, word_tokenize\n",
    "nltk.download('stopwords')\n",
    "nltk.download('punkt')\n"
   ]
  },
  {
   "cell_type": "code",
   "execution_count": 2,
   "id": "7770b9d6-c5cd-493f-9333-e0568b284403",
   "metadata": {},
   "outputs": [],
   "source": [
    "tf_data = pd.read_csv(\"/Users/mpoli/Desktop/MASTER/DIPLOMATIKI/course_venv/API/API_csvs/tmdb_data.csv\")\n"
   ]
  },
  {
   "cell_type": "code",
   "execution_count": 3,
   "id": "54927a89-bad4-48b0-8f71-0839827d471c",
   "metadata": {},
   "outputs": [
    {
     "data": {
      "text/plain": [
       "Index(['Unnamed: 0', 'budget', 'homepage', 'id', 'imdb_id', 'revenue',\n",
       "       'runtime', 'language', 'description', 'popularity', 'title', 'rating',\n",
       "       'votes', 'year', 'genre1', 'genre2', 'genre3', 'genre4', 'genre5',\n",
       "       'genre6', 'genre7', 'genre8'],\n",
       "      dtype='object')"
      ]
     },
     "execution_count": 3,
     "metadata": {},
     "output_type": "execute_result"
    }
   ],
   "source": [
    "tf_data.columns"
   ]
  },
  {
   "cell_type": "markdown",
   "id": "5f95b785-bbfd-4941-be14-a8236e4d69cd",
   "metadata": {},
   "source": [
    "##### Removing the genres that will affect our f1-score"
   ]
  },
  {
   "cell_type": "code",
   "execution_count": 4,
   "id": "85380298-0e82-47c1-babb-6c93194c2709",
   "metadata": {},
   "outputs": [],
   "source": [
    "for col in ['genre1', 'genre2', 'genre3', 'genre4', 'genre5', 'genre6', 'genre7', 'genre8']:\n",
    "    for idx, val in tf_data[col].iteritems():\n",
    "        if val == 'Western':\n",
    "            tf_data.at[idx, col] = 'empty'\n",
    "\n",
    "for col in ['genre1', 'genre2', 'genre3', 'genre4', 'genre5', 'genre6', 'genre7', 'genre8']:\n",
    "    for idx, val in tf_data[col].iteritems():\n",
    "        if val == 'Documentary':\n",
    "            tf_data.at[idx, col] = 'empty'\n",
    "\n",
    "\n",
    "for col in ['genre1', 'genre2', 'genre3', 'genre4', 'genre5', 'genre6', 'genre7', 'genre8']:\n",
    "    for idx, val in tf_data[col].iteritems():\n",
    "        if val == 'TVMovie':\n",
    "            tf_data.at[idx, col] = 'empty'\n",
    "            \n",
    "for col in ['genre1', 'genre2', 'genre3', 'genre4', 'genre5', 'genre6', 'genre7', 'genre8']:\n",
    "    for idx, val in tf_data[col].iteritems():\n",
    "        if val == 'Music':\n",
    "            tf_data.at[idx, col] = 'empty'\n",
    "\n",
    "for col in ['genre1', 'genre2', 'genre3', 'genre4', 'genre5', 'genre6', 'genre7', 'genre8']:\n",
    "    for idx, val in tf_data[col].iteritems():\n",
    "        if val == 'History':\n",
    "            tf_data.at[idx, col] = 'empty'\n",
    "\n",
    "for col in ['genre1', 'genre2', 'genre3', 'genre4', 'genre5', 'genre6', 'genre7', 'genre8']:\n",
    "    for idx, val in tf_data[col].iteritems():\n",
    "        if val == 'War':\n",
    "            tf_data.at[idx, col] = 'empty'\n",
    "\n",
    "for col in ['genre1', 'genre2', 'genre3', 'genre4', 'genre5', 'genre6', 'genre7', 'genre8']:\n",
    "    for idx, val in tf_data[col].iteritems():\n",
    "        if val == 'Mystery':\n",
    "            tf_data.at[idx, col] = 'empty'\n",
    "\n",
    "#19+5+40+1\n",
    "tf_data.drop(tf_data[(tf_data['genre1'] == 'empty') | (tf_data['genre2'] == 'empty')|\n",
    "                               (tf_data['genre3'] == 'empty') | (tf_data['genre6'] == 'empty')|\n",
    "                               (tf_data['genre5'] == 'empty') | (tf_data['genre4'] == 'empty')|\n",
    "                               (tf_data['genre7'] == 'empty') | (tf_data['genre8'] == 'empty')].index, inplace = True)"
   ]
  },
  {
   "cell_type": "markdown",
   "id": "75009a27-88ff-4923-ad40-7984a79f0b29",
   "metadata": {},
   "source": [
    "##### first we will merge the columns with the genres in order to apply the new column in the tf-idf method"
   ]
  },
  {
   "cell_type": "code",
   "execution_count": 5,
   "id": "4e45fc4b-f33f-464a-b5ef-13760c565151",
   "metadata": {},
   "outputs": [
    {
     "data": {
      "text/plain": [
       "0                Action, Adventure, ScienceFiction\n",
       "1                  Action, Comedy, Crime, Thriller\n",
       "2                       Adventure, Family, Fantasy\n",
       "3       Action, Adventure, Fantasy, ScienceFiction\n",
       "4                       Action, Adventure, Fantasy\n",
       "                           ...                    \n",
       "9863                                Drama, Romance\n",
       "9866                        Crime, Drama, Thriller\n",
       "9867                        Drama, Family, Romance\n",
       "9868                       Crime, Horror, Thriller\n",
       "9870                Comedy, Horror, ScienceFiction\n",
       "Name: genres, Length: 7654, dtype: object"
      ]
     },
     "execution_count": 5,
     "metadata": {},
     "output_type": "execute_result"
    }
   ],
   "source": [
    "tf_data.fillna('empty', inplace=True)\n",
    "tf_data[\"genres\"] = (\n",
    "    tf_data[['genre1', 'genre2', 'genre3', 'genre4', 'genre5', 'genre6', 'genre7', 'genre8']]\n",
    "        .apply(lambda x: x.str.split(',\\s*'))\n",
    "        .sum(axis=1).map(np.array)\n",
    "        .apply(lambda x: ', '.join(np.unique(x[x != 'empty'])))        \n",
    "        .replace('', 'empty')\n",
    "    )\n",
    "tf_data.genres"
   ]
  },
  {
   "cell_type": "code",
   "execution_count": 6,
   "id": "4eaabcfa-f70a-49c8-86f3-81be0675f0ad",
   "metadata": {},
   "outputs": [
    {
     "data": {
      "text/plain": [
       "0               Action,Adventure,ScienceFiction\n",
       "1                  Action,Comedy,Crime,Thriller\n",
       "2                      Adventure,Family,Fantasy\n",
       "3       Action,Adventure,Fantasy,ScienceFiction\n",
       "4                      Action,Adventure,Fantasy\n",
       "                         ...                   \n",
       "9863                              Drama,Romance\n",
       "9866                       Crime,Drama,Thriller\n",
       "9867                       Drama,Family,Romance\n",
       "9868                      Crime,Horror,Thriller\n",
       "9870               Comedy,Horror,ScienceFiction\n",
       "Name: genres, Length: 7654, dtype: object"
      ]
     },
     "execution_count": 6,
     "metadata": {},
     "output_type": "execute_result"
    }
   ],
   "source": [
    "def remove_spaces(x):\n",
    "    x=x.split(\",\")\n",
    "    nospace=[]\n",
    "    for item in x:\n",
    "        item=item.lstrip()\n",
    "        nospace.append(item)\n",
    "    return (\",\").join(nospace)\n",
    "\n",
    "tf_data['genres']=tf_data['genres'].apply(remove_spaces)\n",
    "\n",
    "tf_data['genres']"
   ]
  },
  {
   "cell_type": "code",
   "execution_count": 7,
   "id": "5d9f02c7-34a1-440c-a552-1765da82e2b0",
   "metadata": {},
   "outputs": [
    {
     "data": {
      "text/plain": [
       "string[python]"
      ]
     },
     "execution_count": 7,
     "metadata": {},
     "output_type": "execute_result"
    }
   ],
   "source": [
    "tf_data['genres'] = tf_data['genres'].astype(\"string\")\n",
    "tf_data.genres.dtypes"
   ]
  },
  {
   "cell_type": "code",
   "execution_count": 8,
   "id": "a7aa1ac0-cfa8-4471-890e-251399f3db47",
   "metadata": {},
   "outputs": [
    {
     "data": {
      "text/plain": [
       "0                [Action, Adventure, ScienceFiction]\n",
       "1                  [Action, Comedy, Crime, Thriller]\n",
       "2                       [Adventure, Family, Fantasy]\n",
       "3       [Action, Adventure, Fantasy, ScienceFiction]\n",
       "4                       [Action, Adventure, Fantasy]\n",
       "                            ...                     \n",
       "9863                                [Drama, Romance]\n",
       "9866                        [Crime, Drama, Thriller]\n",
       "9867                        [Drama, Family, Romance]\n",
       "9868                       [Crime, Horror, Thriller]\n",
       "9870                [Comedy, Horror, ScienceFiction]\n",
       "Name: genres, Length: 7654, dtype: object"
      ]
     },
     "execution_count": 8,
     "metadata": {},
     "output_type": "execute_result"
    }
   ],
   "source": [
    "#https://www.geeksforgeeks.org/python-program-convert-string-list/\n",
    "def Convert(string):\n",
    "    li = list(string.split(\",\"))\n",
    "    return li    \n",
    "# Driver code\n",
    "tf_data['genres'] = tf_data['genres'].apply(lambda s: Convert(s))\n",
    "tf_data.genres"
   ]
  },
  {
   "cell_type": "code",
   "execution_count": 9,
   "id": "1bfd5266-709b-4227-90ea-1657440139ee",
   "metadata": {},
   "outputs": [
    {
     "data": {
      "text/plain": [
       "['Action', 'Comedy', 'Crime', 'Thriller']"
      ]
     },
     "execution_count": 9,
     "metadata": {},
     "output_type": "execute_result"
    }
   ],
   "source": [
    "tf_data.genres[1]\n"
   ]
  },
  {
   "cell_type": "code",
   "execution_count": 10,
   "id": "6b744857-7497-458c-85f4-dba30930bc7b",
   "metadata": {},
   "outputs": [
    {
     "data": {
      "text/plain": [
       "7654"
      ]
     },
     "execution_count": 10,
     "metadata": {},
     "output_type": "execute_result"
    }
   ],
   "source": [
    "len(tf_data)"
   ]
  },
  {
   "cell_type": "markdown",
   "id": "ad6a7b2e-cf3c-453c-8ee5-f7c636ae0240",
   "metadata": {},
   "source": [
    "##### description column transform into string type from object type"
   ]
  },
  {
   "cell_type": "code",
   "execution_count": 11,
   "id": "bff9572f-e245-4e1b-9cb3-a3099caa4728",
   "metadata": {},
   "outputs": [
    {
     "data": {
      "text/plain": [
       "Unnamed: 0       int64\n",
       "budget           int64\n",
       "homepage        object\n",
       "id               int64\n",
       "imdb_id         object\n",
       "revenue          int64\n",
       "runtime          int64\n",
       "language        object\n",
       "description     string\n",
       "popularity     float64\n",
       "title           object\n",
       "rating         float64\n",
       "votes            int64\n",
       "year             int64\n",
       "genre1          object\n",
       "genre2          object\n",
       "genre3          object\n",
       "genre4          object\n",
       "genre5          object\n",
       "genre6          object\n",
       "genre7          object\n",
       "genre8          object\n",
       "genres          object\n",
       "dtype: object"
      ]
     },
     "execution_count": 11,
     "metadata": {},
     "output_type": "execute_result"
    }
   ],
   "source": [
    "tf_data['description'] = tf_data['description'].astype(\"string\")\n",
    "tf_data.dtypes"
   ]
  },
  {
   "cell_type": "markdown",
   "id": "cd39b2c2-1c59-43a9-b85c-25eb21414d22",
   "metadata": {},
   "source": [
    "#### Preproccesing the data"
   ]
  },
  {
   "cell_type": "markdown",
   "id": "9c9e1b28-1ecf-4014-9070-2af14ff323af",
   "metadata": {},
   "source": [
    "##### lowercase"
   ]
  },
  {
   "cell_type": "code",
   "execution_count": 12,
   "id": "846778c2-8bd8-4f86-9140-996b9305d033",
   "metadata": {},
   "outputs": [
    {
     "data": {
      "text/plain": [
       "0       Set more than a decade after the events of the...\n",
       "1       When a team of mercenaries breaks into a wealt...\n",
       "2       Siblings Lucy, Edmund, Susan and Peter step th...\n",
       "3       In the 22nd century, a paraplegic Marine is di...\n",
       "4       Deep inside the mountain of Dovre, something g...\n",
       "                              ...                        \n",
       "9863    Georges and Anne are in their eighties. They a...\n",
       "9866    Two brothers, on either side of the law, face ...\n",
       "9867    Louisa May Alcott's autobiographical account o...\n",
       "9868    After a serial killer strangles several women ...\n",
       "9870    In the town of Dillford, humans, vampires and ...\n",
       "Name: description, Length: 7654, dtype: string"
      ]
     },
     "execution_count": 12,
     "metadata": {},
     "output_type": "execute_result"
    }
   ],
   "source": [
    "tf_data.description"
   ]
  },
  {
   "cell_type": "code",
   "execution_count": 13,
   "id": "657dc8f9-0901-4a61-b641-b6d90ce7a022",
   "metadata": {},
   "outputs": [
    {
     "data": {
      "text/plain": [
       "0       set more than a decade after the events of the...\n",
       "1       when a team of mercenaries breaks into a wealt...\n",
       "2       siblings lucy, edmund, susan and peter step th...\n",
       "3       in the 22nd century, a paraplegic marine is di...\n",
       "4       deep inside the mountain of dovre, something g...\n",
       "                              ...                        \n",
       "9863    georges and anne are in their eighties. they a...\n",
       "9866    two brothers, on either side of the law, face ...\n",
       "9867    louisa may alcott's autobiographical account o...\n",
       "9868    after a serial killer strangles several women ...\n",
       "9870    in the town of dillford, humans, vampires and ...\n",
       "Name: description, Length: 7654, dtype: string"
      ]
     },
     "execution_count": 13,
     "metadata": {},
     "output_type": "execute_result"
    }
   ],
   "source": [
    "tf_data['description'] = tf_data['description'].str.lower()\n",
    "tf_data.description"
   ]
  },
  {
   "cell_type": "markdown",
   "id": "738a8a35-94ca-4703-9b95-f8c2f5a726c1",
   "metadata": {},
   "source": [
    "##### stopwords"
   ]
  },
  {
   "cell_type": "code",
   "execution_count": 14,
   "id": "a2cc3e1d-afbd-4c64-805f-3992f4ba8001",
   "metadata": {},
   "outputs": [],
   "source": [
    "#for the libraries\n",
    "#https://www.geeksforgeeks.org/removing-stop-words-nltk-python/"
   ]
  },
  {
   "cell_type": "code",
   "execution_count": 15,
   "id": "fffbc76e-f833-4566-bf32-4bd71bd77129",
   "metadata": {},
   "outputs": [
    {
     "name": "stdout",
     "output_type": "stream",
     "text": [
      "['i', 'me', 'my', 'myself', 'we', 'our', 'ours', 'ourselves', 'you', \"you're\", \"you've\", \"you'll\", \"you'd\", 'your', 'yours', 'yourself', 'yourselves', 'he', 'him', 'his', 'himself', 'she', \"she's\", 'her', 'hers', 'herself', 'it', \"it's\", 'its', 'itself', 'they', 'them', 'their', 'theirs', 'themselves', 'what', 'which', 'who', 'whom', 'this', 'that', \"that'll\", 'these', 'those', 'am', 'is', 'are', 'was', 'were', 'be', 'been', 'being', 'have', 'has', 'had', 'having', 'do', 'does', 'did', 'doing', 'a', 'an', 'the', 'and', 'but', 'if', 'or', 'because', 'as', 'until', 'while', 'of', 'at', 'by', 'for', 'with', 'about', 'against', 'between', 'into', 'through', 'during', 'before', 'after', 'above', 'below', 'to', 'from', 'up', 'down', 'in', 'out', 'on', 'off', 'over', 'under', 'again', 'further', 'then', 'once', 'here', 'there', 'when', 'where', 'why', 'how', 'all', 'any', 'both', 'each', 'few', 'more', 'most', 'other', 'some', 'such', 'no', 'nor', 'not', 'only', 'own', 'same', 'so', 'than', 'too', 'very', 's', 't', 'can', 'will', 'just', 'don', \"don't\", 'should', \"should've\", 'now', 'd', 'll', 'm', 'o', 're', 've', 'y', 'ain', 'aren', \"aren't\", 'couldn', \"couldn't\", 'didn', \"didn't\", 'doesn', \"doesn't\", 'hadn', \"hadn't\", 'hasn', \"hasn't\", 'haven', \"haven't\", 'isn', \"isn't\", 'ma', 'mightn', \"mightn't\", 'mustn', \"mustn't\", 'needn', \"needn't\", 'shan', \"shan't\", 'shouldn', \"shouldn't\", 'wasn', \"wasn't\", 'weren', \"weren't\", 'won', \"won't\", 'wouldn', \"wouldn't\"]\n"
     ]
    }
   ],
   "source": [
    "print(stopwords.words('english'))"
   ]
  },
  {
   "cell_type": "code",
   "execution_count": 16,
   "id": "e9286064-24de-4db7-b9e6-bf74041f4e17",
   "metadata": {},
   "outputs": [],
   "source": [
    "stop_words = set(stopwords.words('english'))"
   ]
  },
  {
   "cell_type": "code",
   "execution_count": 17,
   "id": "8093be06-a0ec-49f8-989e-3bbec0e725c4",
   "metadata": {},
   "outputs": [
    {
     "data": {
      "text/plain": [
       "0       set decade events first film, learn story sull...\n",
       "1       team mercenaries breaks wealthy family compoun...\n",
       "2       siblings lucy, edmund, susan peter step magica...\n",
       "3       22nd century, paraplegic marine dispatched moo...\n",
       "4       deep inside mountain dovre, something gigantic...\n",
       "                              ...                        \n",
       "9863    georges anne eighties. cultivated, retired mus...\n",
       "9866    two brothers, either side law, face organized ...\n",
       "9867    louisa may alcott's autobiographical account l...\n",
       "9868    serial killer strangles several women necktie,...\n",
       "9870    town dillford, humans, vampires zombies living...\n",
       "Name: description, Length: 7654, dtype: object"
      ]
     },
     "execution_count": 17,
     "metadata": {},
     "output_type": "execute_result"
    }
   ],
   "source": [
    "#https://stackoverflow.com/questions/29523254/python-remove-stop-words-from-pandas-dataframe\n",
    "tf_data['description'] = tf_data['description'].apply(lambda x: ' '.join([word for word in x.split() if word not in (stop_words)]))\n",
    "tf_data.description"
   ]
  },
  {
   "cell_type": "markdown",
   "id": "a3040bc2-8823-4af3-8880-3f1ac27202c2",
   "metadata": {},
   "source": [
    "##### punctuation"
   ]
  },
  {
   "cell_type": "code",
   "execution_count": 18,
   "id": "074f3a5b-2dcb-40d9-a7bc-89f4721d259e",
   "metadata": {},
   "outputs": [],
   "source": [
    "#το κομμα να το βγάλω?"
   ]
  },
  {
   "cell_type": "code",
   "execution_count": 19,
   "id": "09fd5a48-5bae-493d-9f4a-ae4005dad5ca",
   "metadata": {},
   "outputs": [
    {
     "name": "stderr",
     "output_type": "stream",
     "text": [
      "C:\\Users\\mpoli\\AppData\\Local\\Temp\\ipykernel_4240\\420607143.py:3: FutureWarning: The default value of regex will change from True to False in a future version. In addition, single character regular expressions will *not* be treated as literal strings when regex=True.\n",
      "  tf_data.description = tf_data.description.str.replace(i,\" \")\n"
     ]
    },
    {
     "data": {
      "text/plain": [
       "0       set decade events first film, learn story sull...\n",
       "1       team mercenaries breaks wealthy family compoun...\n",
       "2       siblings lucy, edmund, susan peter step magica...\n",
       "3       22nd century, paraplegic marine dispatched moo...\n",
       "4       deep inside mountain dovre, something gigantic...\n",
       "                              ...                        \n",
       "9863    georges anne eighties  cultivated, retired mus...\n",
       "9866    two brothers, either side law, face organized ...\n",
       "9867    louisa may alcott's autobiographical account l...\n",
       "9868    serial killer strangles several women necktie,...\n",
       "9870    town dillford, humans, vampires zombies living...\n",
       "Name: description, Length: 7654, dtype: object"
      ]
     },
     "execution_count": 19,
     "metadata": {},
     "output_type": "execute_result"
    }
   ],
   "source": [
    "symbols = \"!\\\"#$%&()*+-./:;<=>?@[\\]^_`{|}~\\n—”“–\"\n",
    "for i in symbols:\n",
    "    tf_data.description = tf_data.description.str.replace(i,\" \")\n",
    "tf_data.description"
   ]
  },
  {
   "cell_type": "code",
   "execution_count": 20,
   "id": "f195c528-2fa6-476e-be2f-6b3669d92c2d",
   "metadata": {},
   "outputs": [],
   "source": [
    "tf_data.to_csv('tf_data.csv')"
   ]
  },
  {
   "cell_type": "markdown",
   "id": "2af124a6-11db-4367-81e6-61e6c1be83b0",
   "metadata": {},
   "source": [
    "##### apostrophe"
   ]
  },
  {
   "cell_type": "code",
   "execution_count": 21,
   "id": "609067ba-36a0-41f0-8efa-d5dee9a4a27b",
   "metadata": {},
   "outputs": [
    {
     "data": {
      "text/plain": [
       "0       set decade events first film learn story sully...\n",
       "1       team mercenaries breaks wealthy family compoun...\n",
       "2       siblings lucy edmund susan peter step magical ...\n",
       "3       22nd century paraplegic marine dispatched moon...\n",
       "4       deep inside mountain dovre something gigantic ...\n",
       "                              ...                        \n",
       "9863    georges anne eighties  cultivated retired musi...\n",
       "9866    two brothers either side law face organized cr...\n",
       "9867    louisa may alcott s autobiographical account l...\n",
       "9868    serial killer strangles several women necktie ...\n",
       "9870    town dillford humans vampires zombies living p...\n",
       "Name: description, Length: 7654, dtype: object"
      ]
     },
     "execution_count": 21,
     "metadata": {},
     "output_type": "execute_result"
    }
   ],
   "source": [
    "tf_data.description = tf_data.description.str.replace(\"’\",\" \")\n",
    "tf_data.description = tf_data.description.str.replace(\"‘\",\" \")\n",
    "tf_data.description = tf_data.description.str.replace(\"'\",\" \")\n",
    "tf_data.description = tf_data.description.str.replace(\",\",\"\")\n",
    "tf_data.description"
   ]
  },
  {
   "cell_type": "markdown",
   "id": "5edcf2a2-4384-4c63-8a33-8015cc56e769",
   "metadata": {},
   "source": [
    "##### stopwords again "
   ]
  },
  {
   "cell_type": "code",
   "execution_count": 22,
   "id": "e7db40c3-9dc3-4426-b7d0-4c1271d1c771",
   "metadata": {},
   "outputs": [
    {
     "data": {
      "text/plain": [
       "0       set decade events first film learn story sully...\n",
       "1       team mercenaries breaks wealthy family compoun...\n",
       "2       siblings lucy edmund susan peter step magical ...\n",
       "3       22nd century paraplegic marine dispatched moon...\n",
       "4       deep inside mountain dovre something gigantic ...\n",
       "                              ...                        \n",
       "9863    georges anne eighties cultivated retired music...\n",
       "9866    two brothers either side law face organized cr...\n",
       "9867    louisa may alcott autobiographical account lif...\n",
       "9868    serial killer strangles several women necktie ...\n",
       "9870    town dillford humans vampires zombies living p...\n",
       "Name: description, Length: 7654, dtype: object"
      ]
     },
     "execution_count": 22,
     "metadata": {},
     "output_type": "execute_result"
    }
   ],
   "source": [
    "stop_words = set(stopwords.words('english'))\n",
    "tf_data['description'] = tf_data['description'].apply(lambda x: ' '.join([word for word in x.split() if word not in (stop_words)]))\n",
    "tf_data.description"
   ]
  },
  {
   "cell_type": "markdown",
   "id": "a75b5c4c-c292-4cae-a09f-5a942b9b5bc0",
   "metadata": {},
   "source": [
    "##### single characters"
   ]
  },
  {
   "cell_type": "code",
   "execution_count": 23,
   "id": "06d88fed-4637-4bc8-ba6b-e96a841791ea",
   "metadata": {},
   "outputs": [
    {
     "data": {
      "text/plain": [
       "0       set decade events first film learn story sully...\n",
       "1       team mercenaries breaks wealthy family compoun...\n",
       "2       siblings lucy edmund susan peter step magical ...\n",
       "3       22nd century paraplegic marine dispatched moon...\n",
       "4       deep inside mountain dovre something gigantic ...\n",
       "                              ...                        \n",
       "9863    georges anne eighties cultivated retired music...\n",
       "9866    two brothers either side law face organized cr...\n",
       "9867    louisa may alcott autobiographical account lif...\n",
       "9868    serial killer strangles several women necktie ...\n",
       "9870    town dillford humans vampires zombies living p...\n",
       "Name: description, Length: 7654, dtype: object"
      ]
     },
     "execution_count": 23,
     "metadata": {},
     "output_type": "execute_result"
    }
   ],
   "source": [
    "tf_data['description'] = tf_data['description'].apply(lambda x: ' '.join([word for word in x.split() if len(word) >1]))\n",
    "tf_data.description"
   ]
  },
  {
   "cell_type": "markdown",
   "id": "dc927455-2e54-4057-bce9-7cdceda172c4",
   "metadata": {},
   "source": [
    "##### convert numbers"
   ]
  },
  {
   "cell_type": "code",
   "execution_count": 24,
   "id": "45a636d8-82e5-4eee-9cac-d5d01ed1db21",
   "metadata": {},
   "outputs": [],
   "source": [
    "import num2words"
   ]
  },
  {
   "cell_type": "code",
   "execution_count": 25,
   "id": "c62609d2-0dec-4c79-a413-163405c5481c",
   "metadata": {},
   "outputs": [
    {
     "data": {
      "text/plain": [
       "0       set decade events first film learn story sully...\n",
       "1       team mercenaries breaks wealthy family compoun...\n",
       "2       siblings lucy edmund susan peter step magical ...\n",
       "3       22nd century paraplegic marine dispatched moon...\n",
       "4       deep inside mountain dovre something gigantic ...\n",
       "                              ...                        \n",
       "9863    georges anne eighties cultivated retired music...\n",
       "9866    two brothers either side law face organized cr...\n",
       "9867    louisa may alcott autobiographical account lif...\n",
       "9868    serial killer strangles several women necktie ...\n",
       "9870    town dillford humans vampires zombies living p...\n",
       "Name: description, Length: 7654, dtype: object"
      ]
     },
     "execution_count": 25,
     "metadata": {},
     "output_type": "execute_result"
    }
   ],
   "source": [
    "#https://stackoverflow.com/questions/56733012/converting-number-in-sentences-to-word-in-python \n",
    "#is the for exaple 11th etc a problem?\n",
    "tf_data['description'] = tf_data['description'].apply(lambda x: ' '.join([num2words.num2words(i) if i.isdigit() else i for i in x.split()]))\n",
    "tf_data['description'] "
   ]
  },
  {
   "cell_type": "code",
   "execution_count": 26,
   "id": "ec490a4d-b9f0-47be-82fc-bc907a70bfdd",
   "metadata": {},
   "outputs": [],
   "source": [
    "import inflect\n",
    "\n",
    "def convert_ordinals_to_words(value):\n",
    "    p = inflect.engine()\n",
    "    words = []\n",
    "    for word in value.split():\n",
    "        if word.endswith(('st', 'nd', 'rd', 'th')):\n",
    "            if word[:-2].isdigit():\n",
    "                words.append(p.number_to_words(int(word[:-2])))\n",
    "            else:\n",
    "                words.append(word[:-2])\n",
    "        else:\n",
    "            words.append(word)\n",
    "    return ' '.join([p.ordinal(word) if word.isdigit() else word for word in words])\n"
   ]
  },
  {
   "cell_type": "code",
   "execution_count": 27,
   "id": "4ce70cc7-6ea0-47f4-be61-4d6af8f3404d",
   "metadata": {},
   "outputs": [],
   "source": [
    "tf_data['description'] = tf_data['description'].astype(\"string\")\n",
    "tf_data['description'] = tf_data['description'].apply(convert_ordinals_to_words)"
   ]
  },
  {
   "cell_type": "code",
   "execution_count": 28,
   "id": "b9c02eb5-3118-477b-8660-8930e99c82b1",
   "metadata": {},
   "outputs": [
    {
     "data": {
      "text/plain": [
       "0       set decade events fir film learn story sully f...\n",
       "1       team mercenaries breaks wealthy family compou ...\n",
       "2       siblings lucy edmu susan peter step magical wa...\n",
       "3       twenty-two century paraplegic marine dispatche...\n",
       "4       deep inside mountain dovre something gigantic ...\n",
       "                              ...                        \n",
       "9863    georges anne eighties cultivated retired music...\n",
       "9866    two brothers either side law face organized cr...\n",
       "9867    louisa may alcott autobiographical account lif...\n",
       "9868    serial killer strangles several women necktie ...\n",
       "9870    town dillfo humans vampires zombies living pea...\n",
       "Name: description, Length: 7654, dtype: object"
      ]
     },
     "execution_count": 28,
     "metadata": {},
     "output_type": "execute_result"
    }
   ],
   "source": [
    "tf_data['description']"
   ]
  },
  {
   "cell_type": "markdown",
   "id": "8b30b251-ec7e-465d-ba42-c00076e7e4fc",
   "metadata": {},
   "source": [
    "##### punctuation and stopwords again"
   ]
  },
  {
   "cell_type": "code",
   "execution_count": 29,
   "id": "200900b4-63cc-4ea5-816a-9bcd3519de6d",
   "metadata": {},
   "outputs": [
    {
     "name": "stderr",
     "output_type": "stream",
     "text": [
      "C:\\Users\\mpoli\\AppData\\Local\\Temp\\ipykernel_4240\\420607143.py:3: FutureWarning: The default value of regex will change from True to False in a future version. In addition, single character regular expressions will *not* be treated as literal strings when regex=True.\n",
      "  tf_data.description = tf_data.description.str.replace(i,\" \")\n"
     ]
    },
    {
     "data": {
      "text/plain": [
       "0       set decade events fir film learn story sully f...\n",
       "1       team mercenaries breaks wealthy family compou ...\n",
       "2       siblings lucy edmu susan peter step magical wa...\n",
       "3       twenty two century paraplegic marine dispatche...\n",
       "4       deep inside mountain dovre something gigantic ...\n",
       "                              ...                        \n",
       "9863    georges anne eighties cultivated retired music...\n",
       "9866    two brothers either side law face organized cr...\n",
       "9867    louisa may alcott autobiographical account lif...\n",
       "9868    serial killer strangles several women necktie ...\n",
       "9870    town dillfo humans vampires zombies living pea...\n",
       "Name: description, Length: 7654, dtype: object"
      ]
     },
     "execution_count": 29,
     "metadata": {},
     "output_type": "execute_result"
    }
   ],
   "source": [
    "symbols = \"!\\\"#$%&()*+-./:;<=>?@[\\]^_`{|}~\\n—”“–\"\n",
    "for i in symbols:\n",
    "    tf_data.description = tf_data.description.str.replace(i,\" \")\n",
    "tf_data.description"
   ]
  },
  {
   "cell_type": "code",
   "execution_count": 30,
   "id": "bdb5f482-d796-4bee-943c-92d71e4b10a6",
   "metadata": {},
   "outputs": [],
   "source": [
    "tf_data['description'] = tf_data['description'].apply(lambda x: ' '.join([word for word in x.split() if word not in (stop_words)]))"
   ]
  },
  {
   "cell_type": "markdown",
   "id": "5dc6e095-9d7e-4d33-9c94-68f50b1af5eb",
   "metadata": {},
   "source": [
    "##### stemming"
   ]
  },
  {
   "cell_type": "code",
   "execution_count": 31,
   "id": "50598f41-db19-4bf3-b8f5-3384a3112d7f",
   "metadata": {},
   "outputs": [],
   "source": [
    "from nltk.stem import PorterStemmer"
   ]
  },
  {
   "cell_type": "code",
   "execution_count": 32,
   "id": "58a1aa9d-59c7-4cfc-a5eb-1e5f903d2117",
   "metadata": {},
   "outputs": [
    {
     "data": {
      "text/plain": [
       "0       set decad event fir film learn stori sulli fam...\n",
       "1       team mercenari break wealthi famili compou chr...\n",
       "2       sibl luci edmu susan peter step magic wardrob ...\n",
       "3       twenti two centuri parapleg marin dispatch moo...\n",
       "4       deep insid mountain dovr someth gigant awaken ...\n",
       "                              ...                        \n",
       "9863    georg ann eighti cultiv retir music teacher da...\n",
       "9866    two brother either side law face organ crime b...\n",
       "9867    louisa may alcott autobiograph account life th...\n",
       "9868    serial killer strangl sever women neckti londo...\n",
       "9870    town dillfo human vampir zombi live peac alien...\n",
       "Name: description, Length: 7654, dtype: object"
      ]
     },
     "execution_count": 32,
     "metadata": {},
     "output_type": "execute_result"
    }
   ],
   "source": [
    "##with Porter Stemmer\n",
    "#https://stackoverflow.com/questions/37443138/python-stemming-with-pandas-dataframe\n",
    "#https://www.projectpro.io/recipes/use-porter-stemmer\n",
    "ps = PorterStemmer()\n",
    "tf_data['description'] = tf_data['description'].apply(lambda x: ' '.join([ps.stem(y) for y in x.split()]))\n",
    "tf_data.description"
   ]
  },
  {
   "cell_type": "markdown",
   "id": "161702c0-6315-4cd9-8011-9a5df1f6be55",
   "metadata": {},
   "source": [
    "##### Because this is a multi-label classification problem we will treat thie as a Binary Relevance problem"
   ]
  },
  {
   "cell_type": "code",
   "execution_count": 33,
   "id": "bc1c31bf-8685-406e-88db-3c2256329fc7",
   "metadata": {},
   "outputs": [],
   "source": [
    "from sklearn.preprocessing import MultiLabelBinarizer\n",
    "\n",
    "multilabel_binarizer = MultiLabelBinarizer()\n",
    "multilabel_binarizer.fit(tf_data['genres'])\n",
    "\n",
    "# transform target variable\n",
    "y = multilabel_binarizer.transform(tf_data['genres'])"
   ]
  },
  {
   "cell_type": "markdown",
   "id": "e9818219-7bcf-4761-9b01-c7e68ef04d52",
   "metadata": {},
   "source": [
    "#### Apply TF-IDF to extract the features"
   ]
  },
  {
   "cell_type": "code",
   "execution_count": 34,
   "id": "ac70d113-e328-4527-a205-a85c655d3f85",
   "metadata": {},
   "outputs": [],
   "source": [
    "from sklearn.feature_extraction.text import TfidfVectorizer\n",
    "from sklearn.model_selection import train_test_split"
   ]
  },
  {
   "cell_type": "code",
   "execution_count": 35,
   "id": "4933485e-624d-41cf-9657-f23329a76e23",
   "metadata": {},
   "outputs": [],
   "source": [
    "#?TfidfVectorizer\n",
    "#?train_test_split"
   ]
  },
  {
   "cell_type": "markdown",
   "id": "c6943c91-f80f-4b8b-8cdb-8e5e3ba4a12c",
   "metadata": {},
   "source": [
    "##### apply the algorithm of tf-idf"
   ]
  },
  {
   "cell_type": "code",
   "execution_count": 36,
   "id": "be5840a1-aad0-40a7-b5ff-f7745f220b63",
   "metadata": {},
   "outputs": [
    {
     "data": {
      "text/plain": [
       "(5357, 14809)"
      ]
     },
     "execution_count": 36,
     "metadata": {},
     "output_type": "execute_result"
    }
   ],
   "source": [
    "#https://medium.com/@kunalgupta4595/predicting-movie-genres-based-on-plot-summaries-bae646e70e04\n",
    "tfidf = TfidfVectorizer() #ngram_range=(2,3)\n",
    "\n",
    "X= tf_data['description']\n",
    "X_train, X_test, y_train, y_test = train_test_split(X, y,\n",
    "                                   test_size = 0.3,\n",
    "                                   random_state = 42)\n",
    "\n",
    "X_train_tfidf = tfidf.fit_transform(X_train) \n",
    "X_test_tfidf = tfidf.transform(X_test)\n",
    "labels = tf_data.genres\n",
    "X_train_tfidf.shape"
   ]
  },
  {
   "cell_type": "code",
   "execution_count": 37,
   "id": "0a42a383-e4f1-4ce4-a832-d5284fd65985",
   "metadata": {},
   "outputs": [],
   "source": [
    "#each of 4958 descriptions is represented by 13711 features, \n",
    "#representing the tf-idf score for different unigrams and bigrams."
   ]
  },
  {
   "cell_type": "markdown",
   "id": "178d23a7-50a3-49c9-b437-ba873fc0c4bb",
   "metadata": {},
   "source": [
    "##### apply MLP"
   ]
  },
  {
   "cell_type": "code",
   "execution_count": 38,
   "id": "1f2362fd-0cbd-4570-b6eb-91d673474dc4",
   "metadata": {},
   "outputs": [],
   "source": [
    "from sklearn.neural_network import MLPClassifier"
   ]
  },
  {
   "cell_type": "code",
   "execution_count": 39,
   "id": "d1e7f9e1-37e6-4a36-b58d-09c66f704489",
   "metadata": {},
   "outputs": [],
   "source": [
    "#https://slogix.in/source-code/python/deep-learning-samples/how-to-build-spam-detector-using-multi-layer-perceptron-in-python/\n",
    "clf = MLPClassifier(activation='relu', \n",
    "                    solver='adam',#lbfgs\n",
    "                    max_iter=1500,\n",
    "                    hidden_layer_sizes=100,\n",
    "                    random_state=42,\n",
    "                    learning_rate='constant',\n",
    "                    learning_rate_init=0.001)"
   ]
  },
  {
   "cell_type": "code",
   "execution_count": 40,
   "id": "c8fb5ad9-3f2e-45b1-a575-a5d1edcd59dd",
   "metadata": {},
   "outputs": [],
   "source": [
    "#fit the model\n",
    "clf.fit(X_train_tfidf, y_train)\n",
    "# Predicting the Test set results\n",
    "y_pred = clf.predict(X_test_tfidf)\n"
   ]
  },
  {
   "cell_type": "code",
   "execution_count": 41,
   "id": "1bedb4aa-f73e-401d-8c6e-63183e599e02",
   "metadata": {},
   "outputs": [
    {
     "data": {
      "text/plain": [
       "array([1, 0, 1, 0, 0, 0, 0, 0, 0, 0, 0, 0])"
      ]
     },
     "execution_count": 41,
     "metadata": {},
     "output_type": "execute_result"
    }
   ],
   "source": [
    "y_pred[3]"
   ]
  },
  {
   "cell_type": "code",
   "execution_count": 42,
   "id": "d3fc92f7-d7fb-4bb4-9e1a-fa9a44a6ff26",
   "metadata": {},
   "outputs": [
    {
     "data": {
      "text/plain": [
       "('Action', 'Animation')"
      ]
     },
     "execution_count": 42,
     "metadata": {},
     "output_type": "execute_result"
    }
   ],
   "source": [
    "multilabel_binarizer.inverse_transform(y_pred)[3]"
   ]
  },
  {
   "cell_type": "markdown",
   "id": "2b3e20e1-e601-4b2f-a932-d4c2c648077d",
   "metadata": {},
   "source": [
    "##### we will take a look at f1 score, precision, recall and accuracy"
   ]
  },
  {
   "cell_type": "code",
   "execution_count": 43,
   "id": "4bb17725-bda5-479e-95cd-6cf819b17543",
   "metadata": {},
   "outputs": [
    {
     "data": {
      "text/plain": [
       "0.5621463414634146"
      ]
     },
     "execution_count": 43,
     "metadata": {},
     "output_type": "execute_result"
    }
   ],
   "source": [
    "from sklearn.metrics import f1_score\n",
    "f1_score(y_test, y_pred, average=\"micro\", zero_division=0)"
   ]
  },
  {
   "cell_type": "code",
   "execution_count": 44,
   "id": "b7509c78-f3e7-4ff8-ab09-1f48794426de",
   "metadata": {},
   "outputs": [],
   "source": [
    "#Let’s try to change this threshold value and see if that improves our model’s score:"
   ]
  },
  {
   "cell_type": "code",
   "execution_count": 45,
   "id": "a718f438-84ef-4774-92c7-a89ef66bd66a",
   "metadata": {},
   "outputs": [
    {
     "data": {
      "text/plain": [
       "0.5969541493606972"
      ]
     },
     "execution_count": 45,
     "metadata": {},
     "output_type": "execute_result"
    }
   ],
   "source": [
    "# predict probabilities\n",
    "y_pred_prob = clf.predict_proba(X_test_tfidf)\n",
    "t = 0.1 # threshold value\n",
    "y_pred_new = (y_pred_prob >= t).astype(int)\n",
    "f1_score(y_test, y_pred_new, average=\"micro\", zero_division=0)"
   ]
  },
  {
   "cell_type": "markdown",
   "id": "56dfdd32-def1-4562-acc7-1b67ea5cbac3",
   "metadata": {},
   "source": [
    "##### We will see how many timew each genre appears in the test set"
   ]
  },
  {
   "cell_type": "code",
   "execution_count": 46,
   "id": "500a1c12-76de-44ad-850f-5796ca886559",
   "metadata": {},
   "outputs": [
    {
     "data": {
      "text/plain": [
       "('Drama', 'Romance')"
      ]
     },
     "execution_count": 46,
     "metadata": {},
     "output_type": "execute_result"
    }
   ],
   "source": [
    "y_test_count = multilabel_binarizer.inverse_transform(y_test)\n",
    "y_test_count[1]"
   ]
  },
  {
   "cell_type": "code",
   "execution_count": 47,
   "id": "e1dde5ba-ce5f-4f76-9020-40ffc328b6a7",
   "metadata": {},
   "outputs": [
    {
     "data": {
      "text/html": [
       "<div>\n",
       "<style scoped>\n",
       "    .dataframe tbody tr th:only-of-type {\n",
       "        vertical-align: middle;\n",
       "    }\n",
       "\n",
       "    .dataframe tbody tr th {\n",
       "        vertical-align: top;\n",
       "    }\n",
       "\n",
       "    .dataframe thead th {\n",
       "        text-align: right;\n",
       "    }\n",
       "</style>\n",
       "<table border=\"1\" class=\"dataframe\">\n",
       "  <thead>\n",
       "    <tr style=\"text-align: right;\">\n",
       "      <th></th>\n",
       "      <th>genre_test</th>\n",
       "    </tr>\n",
       "  </thead>\n",
       "  <tbody>\n",
       "    <tr>\n",
       "      <th>0</th>\n",
       "      <td>(Comedy, Drama)</td>\n",
       "    </tr>\n",
       "    <tr>\n",
       "      <th>1</th>\n",
       "      <td>(Drama, Romance)</td>\n",
       "    </tr>\n",
       "    <tr>\n",
       "      <th>2</th>\n",
       "      <td>(Crime, Drama, Thriller)</td>\n",
       "    </tr>\n",
       "    <tr>\n",
       "      <th>3</th>\n",
       "      <td>(Action, Animation, ScienceFiction)</td>\n",
       "    </tr>\n",
       "  </tbody>\n",
       "</table>\n",
       "</div>"
      ],
      "text/plain": [
       "                            genre_test\n",
       "0                      (Comedy, Drama)\n",
       "1                     (Drama, Romance)\n",
       "2             (Crime, Drama, Thriller)\n",
       "3  (Action, Animation, ScienceFiction)"
      ]
     },
     "execution_count": 47,
     "metadata": {},
     "output_type": "execute_result"
    }
   ],
   "source": [
    "test_df = pd.DataFrame({'genre_test': y_test_count})\n",
    "test_df.head(4)"
   ]
  },
  {
   "cell_type": "code",
   "execution_count": 48,
   "id": "bf5e990b-b6aa-449c-901d-fb27db5e7431",
   "metadata": {},
   "outputs": [
    {
     "data": {
      "text/plain": [
       "2297"
      ]
     },
     "execution_count": 48,
     "metadata": {},
     "output_type": "execute_result"
    }
   ],
   "source": [
    "len(test_df)"
   ]
  },
  {
   "cell_type": "code",
   "execution_count": 49,
   "id": "75c821c8-3c2e-45c1-bac2-948ea5b3abcc",
   "metadata": {},
   "outputs": [
    {
     "data": {
      "text/html": [
       "<div>\n",
       "<style scoped>\n",
       "    .dataframe tbody tr th:only-of-type {\n",
       "        vertical-align: middle;\n",
       "    }\n",
       "\n",
       "    .dataframe tbody tr th {\n",
       "        vertical-align: top;\n",
       "    }\n",
       "\n",
       "    .dataframe thead th {\n",
       "        text-align: right;\n",
       "    }\n",
       "</style>\n",
       "<table border=\"1\" class=\"dataframe\">\n",
       "  <thead>\n",
       "    <tr style=\"text-align: right;\">\n",
       "      <th></th>\n",
       "      <th>genre_test</th>\n",
       "    </tr>\n",
       "  </thead>\n",
       "  <tbody>\n",
       "    <tr>\n",
       "      <th>0</th>\n",
       "      <td>Comedy</td>\n",
       "    </tr>\n",
       "    <tr>\n",
       "      <th>0</th>\n",
       "      <td>Drama</td>\n",
       "    </tr>\n",
       "    <tr>\n",
       "      <th>1</th>\n",
       "      <td>Drama</td>\n",
       "    </tr>\n",
       "  </tbody>\n",
       "</table>\n",
       "</div>"
      ],
      "text/plain": [
       "  genre_test\n",
       "0     Comedy\n",
       "0      Drama\n",
       "1      Drama"
      ]
     },
     "execution_count": 49,
     "metadata": {},
     "output_type": "execute_result"
    }
   ],
   "source": [
    "df_exploded = test_df.explode('genre_test')\n",
    "df_exploded.head(3)"
   ]
  },
  {
   "cell_type": "code",
   "execution_count": 50,
   "id": "562178f0-0d3b-4b27-9889-333affb045fc",
   "metadata": {},
   "outputs": [
    {
     "data": {
      "text/plain": [
       "5810"
      ]
     },
     "execution_count": 50,
     "metadata": {},
     "output_type": "execute_result"
    }
   ],
   "source": [
    "len(df_exploded)"
   ]
  },
  {
   "cell_type": "code",
   "execution_count": 51,
   "id": "4786e027-c2d1-436e-8e85-484b27c5708c",
   "metadata": {},
   "outputs": [
    {
     "data": {
      "text/plain": [
       "Drama             880\n",
       "Comedy            779\n",
       "Action            681\n",
       "Thriller          565\n",
       "Adventure         466\n",
       "Romance           412\n",
       "Animation         365\n",
       "Fantasy           353\n",
       "Family            352\n",
       "Horror            325\n",
       "ScienceFiction    318\n",
       "Crime             314\n",
       "Name: genre_test, dtype: int64"
      ]
     },
     "execution_count": 51,
     "metadata": {},
     "output_type": "execute_result"
    }
   ],
   "source": [
    "counts = df_exploded['genre_test'].value_counts()\n",
    "counts"
   ]
  },
  {
   "cell_type": "code",
   "execution_count": 52,
   "id": "d8d944b1-60e6-4b4b-9d31-bd5635b47673",
   "metadata": {},
   "outputs": [
    {
     "data": {
      "text/plain": [
       "<AxesSubplot:xlabel='genre_test'>"
      ]
     },
     "execution_count": 52,
     "metadata": {},
     "output_type": "execute_result"
    },
    {
     "data": {
      "image/png": "[encoded data removed]",
      "text/plain": [
       "<Figure size 432x288 with 1 Axes>"
      ]
     },
     "metadata": {
      "needs_background": "light"
     },
     "output_type": "display_data"
    }
   ],
   "source": [
    "df_exploded.value_counts().plot(kind='bar')\n"
   ]
  },
  {
   "cell_type": "markdown",
   "id": "37d9e69f-dcd8-4b8f-a247-2c43169b6f87",
   "metadata": {},
   "source": [
    "##### classification report and accuracy "
   ]
  },
  {
   "cell_type": "code",
   "execution_count": 53,
   "id": "9ab8c2e2-fe48-4858-b14b-92924c9b5086",
   "metadata": {},
   "outputs": [
    {
     "name": "stdout",
     "output_type": "stream",
     "text": [
      "Classification report\n",
      "               precision    recall  f1-score   support\n",
      "\n",
      "           0       0.64      0.72      0.67       681\n",
      "           1       0.52      0.60      0.56       466\n",
      "           2       0.62      0.59      0.60       365\n",
      "           3       0.56      0.70      0.62       779\n",
      "           4       0.56      0.54      0.55       314\n",
      "           5       0.57      0.66      0.61       880\n",
      "           6       0.59      0.66      0.62       352\n",
      "           7       0.50      0.54      0.52       353\n",
      "           8       0.60      0.56      0.58       325\n",
      "           9       0.54      0.59      0.56       412\n",
      "          10       0.65      0.63      0.64       318\n",
      "          11       0.50      0.61      0.55       565\n",
      "\n",
      "   micro avg       0.57      0.63      0.60      5810\n",
      "   macro avg       0.57      0.62      0.59      5810\n",
      "weighted avg       0.57      0.63      0.60      5810\n",
      " samples avg       0.58      0.65      0.58      5810\n",
      "\n",
      "Accuracy of the model :  10.796691336525903\n"
     ]
    },
    {
     "name": "stderr",
     "output_type": "stream",
     "text": [
      "c:\\python38\\lib\\site-packages\\sklearn\\metrics\\_classification.py:1318: UndefinedMetricWarning: Precision and F-score are ill-defined and being set to 0.0 in samples with no predicted labels. Use `zero_division` parameter to control this behavior.\n",
      "  _warn_prf(average, modifier, msg_start, len(result))\n"
     ]
    }
   ],
   "source": [
    "from sklearn import metrics\n",
    "print(\"Classification report\\n\",metrics.classification_report(y_test, y_pred_new))\n",
    "print(\"Accuracy of the model : \",metrics.accuracy_score(y_test, y_pred_new)*100)"
   ]
  },
  {
   "cell_type": "code",
   "execution_count": 54,
   "id": "7931de74-9997-49f1-ac08-7800edbcf4a9",
   "metadata": {},
   "outputs": [
    {
     "name": "stdout",
     "output_type": "stream",
     "text": [
      "Classification report\n",
      "               precision    recall  f1-score   support\n",
      "\n",
      "           0       0.72      0.62      0.66       681\n",
      "           1       0.60      0.48      0.53       466\n",
      "           2       0.73      0.42      0.53       365\n",
      "           3       0.63      0.57      0.60       779\n",
      "           4       0.68      0.39      0.50       314\n",
      "           5       0.61      0.53      0.57       880\n",
      "           6       0.68      0.49      0.57       352\n",
      "           7       0.61      0.38      0.47       353\n",
      "           8       0.73      0.45      0.55       325\n",
      "           9       0.63      0.47      0.53       412\n",
      "          10       0.83      0.49      0.62       318\n",
      "          11       0.55      0.44      0.49       565\n",
      "\n",
      "   micro avg       0.65      0.50      0.56      5810\n",
      "   macro avg       0.67      0.48      0.55      5810\n",
      "weighted avg       0.65      0.50      0.56      5810\n",
      " samples avg       0.61      0.52      0.52      5810\n",
      "\n",
      "Accuracy of the model :  13.321723987810188\n"
     ]
    },
    {
     "name": "stderr",
     "output_type": "stream",
     "text": [
      "c:\\python38\\lib\\site-packages\\sklearn\\metrics\\_classification.py:1318: UndefinedMetricWarning: Precision and F-score are ill-defined and being set to 0.0 in samples with no predicted labels. Use `zero_division` parameter to control this behavior.\n",
      "  _warn_prf(average, modifier, msg_start, len(result))\n"
     ]
    }
   ],
   "source": [
    "from sklearn import metrics\n",
    "print(\"Classification report\\n\",metrics.classification_report(y_test, y_pred))\n",
    "print(\"Accuracy of the model : \",metrics.accuracy_score(y_test, y_pred)*100)"
   ]
  },
  {
   "cell_type": "code",
   "execution_count": 55,
   "id": "cf3cee22-8b49-4dc9-9caa-dac6d581a95b",
   "metadata": {},
   "outputs": [
    {
     "data": {
      "text/plain": [
       "[('Action', 'Thriller'),\n",
       " ('Romance',),\n",
       " ('Drama',),\n",
       " ('Action', 'Animation'),\n",
       " ('Action',),\n",
       " ('Action', 'Fantasy', 'ScienceFiction', 'Thriller'),\n",
       " ('Horror', 'ScienceFiction'),\n",
       " ('Crime', 'Thriller'),\n",
       " ('Action', 'Adventure', 'Crime', 'Thriller'),\n",
       " ('Comedy', 'Family'),\n",
       " ('Drama',),\n",
       " ('Adventure', 'Drama', 'Family', 'Fantasy'),\n",
       " ('Thriller',),\n",
       " (),\n",
       " ('Comedy',),\n",
       " ('Horror',),\n",
       " ('Comedy',),\n",
       " ('Action', 'Adventure', 'Thriller'),\n",
       " ('Drama',),\n",
       " ('Action', 'ScienceFiction'),\n",
       " ('Comedy',),\n",
       " ('Comedy',),\n",
       " ('Adventure', 'Fantasy'),\n",
       " ('Drama',),\n",
       " ('Action', 'Adventure', 'Fantasy', 'ScienceFiction'),\n",
       " ('Drama',),\n",
       " ('Action', 'Crime', 'Drama', 'Thriller'),\n",
       " ('Action', 'Adventure', 'Comedy', 'ScienceFiction'),\n",
       " ('Drama', 'Romance'),\n",
       " (),\n",
       " ('Animation', 'Comedy'),\n",
       " ('Comedy',),\n",
       " (),\n",
       " ('Drama', 'Romance'),\n",
       " ('Action',),\n",
       " ('Drama', 'Romance'),\n",
       " ('Thriller',),\n",
       " ('Animation', 'Comedy', 'Drama', 'Romance'),\n",
       " ('Comedy', 'Fantasy'),\n",
       " ('Action',),\n",
       " ('Thriller',),\n",
       " ('Comedy', 'Romance'),\n",
       " ('Comedy', 'Drama'),\n",
       " ('Horror', 'Thriller'),\n",
       " ('Comedy', 'Romance'),\n",
       " ('Action', 'Horror', 'Thriller'),\n",
       " ('Action',),\n",
       " ('Action', 'Comedy'),\n",
       " ('Animation',),\n",
       " ('Romance',),\n",
       " ('Comedy', 'Drama', 'Romance'),\n",
       " ('Drama', 'Romance'),\n",
       " ('ScienceFiction',),\n",
       " ('Comedy', 'Drama'),\n",
       " ('Comedy',),\n",
       " ('Action', 'Crime', 'Thriller'),\n",
       " ('Action', 'Adventure', 'ScienceFiction'),\n",
       " ('Fantasy',),\n",
       " ('Drama',),\n",
       " ('Action', 'ScienceFiction', 'Thriller'),\n",
       " ('Animation', 'Comedy', 'Family', 'Fantasy'),\n",
       " ('Comedy', 'Drama'),\n",
       " ('Action', 'Adventure', 'Thriller'),\n",
       " ('Comedy',),\n",
       " ('Crime', 'Drama'),\n",
       " ('Drama',),\n",
       " ('Comedy', 'Drama', 'Romance'),\n",
       " ('Comedy',),\n",
       " ('Action', 'Crime', 'Thriller'),\n",
       " ('Drama', 'Thriller'),\n",
       " ('Action', 'Thriller'),\n",
       " ('Comedy', 'Romance'),\n",
       " ('Drama',),\n",
       " ('Comedy', 'Thriller'),\n",
       " ('Comedy',),\n",
       " ('Adventure', 'Animation', 'Comedy', 'Family'),\n",
       " ('Adventure', 'ScienceFiction'),\n",
       " ('Comedy', 'Drama', 'Family'),\n",
       " ('Crime',),\n",
       " ('Thriller',),\n",
       " ('Animation', 'Romance'),\n",
       " ('Horror', 'Thriller'),\n",
       " ('Comedy',),\n",
       " ('Action', 'Adventure', 'Animation'),\n",
       " ('Comedy', 'Family'),\n",
       " ('Action', 'Adventure', 'Crime', 'Thriller'),\n",
       " ('Action', 'Adventure', 'Animation'),\n",
       " (),\n",
       " ('Comedy', 'Family'),\n",
       " ('Action', 'Comedy', 'Crime'),\n",
       " ('Adventure',),\n",
       " ('Comedy', 'Crime', 'Family'),\n",
       " ('Action',),\n",
       " (),\n",
       " ('Comedy',),\n",
       " ('Drama', 'Romance'),\n",
       " ('Animation', 'Comedy', 'Family'),\n",
       " ('Comedy', 'Drama', 'Romance'),\n",
       " ('Action', 'Drama'),\n",
       " ('Drama',),\n",
       " ('Action',),\n",
       " ('Adventure', 'Comedy'),\n",
       " ('Horror', 'Thriller'),\n",
       " ('Romance',),\n",
       " ('Action',),\n",
       " ('Adventure', 'Family', 'Fantasy', 'Thriller'),\n",
       " ('Horror',),\n",
       " ('Drama',),\n",
       " ('Animation', 'Comedy'),\n",
       " ('Action', 'Crime'),\n",
       " ('Comedy', 'Drama'),\n",
       " ('Drama', 'Thriller'),\n",
       " (),\n",
       " ('Drama', 'Thriller'),\n",
       " ('Adventure', 'Romance'),\n",
       " ('Action', 'Animation'),\n",
       " ('Comedy',),\n",
       " ('Thriller',),\n",
       " ('Action',),\n",
       " ('Comedy', 'Family'),\n",
       " ('Comedy',),\n",
       " ('Drama', 'Romance'),\n",
       " (),\n",
       " ('Comedy', 'Drama'),\n",
       " (),\n",
       " ('Adventure', 'Drama', 'ScienceFiction'),\n",
       " ('Drama',),\n",
       " ('Action', 'Crime'),\n",
       " ('Animation', 'Comedy', 'Family'),\n",
       " ('Comedy', 'Drama', 'Romance'),\n",
       " ('Horror',),\n",
       " ('Comedy', 'Drama', 'ScienceFiction'),\n",
       " ('Animation', 'Comedy', 'Family'),\n",
       " ('Comedy', 'Drama'),\n",
       " ('Comedy',),\n",
       " ('Thriller',),\n",
       " ('Action',),\n",
       " ('Action',),\n",
       " ('Comedy', 'Thriller'),\n",
       " ('Action', 'Comedy'),\n",
       " ('Horror', 'ScienceFiction', 'Thriller'),\n",
       " ('Adventure', 'Animation', 'Family', 'Horror'),\n",
       " ('Drama',),\n",
       " ('Comedy',),\n",
       " ('Drama',),\n",
       " ('Comedy',),\n",
       " ('Comedy', 'Drama'),\n",
       " ('Drama', 'Fantasy'),\n",
       " ('Comedy', 'Drama'),\n",
       " ('Action', 'Animation', 'Fantasy', 'ScienceFiction'),\n",
       " ('Comedy',),\n",
       " ('Comedy', 'Drama'),\n",
       " ('Crime', 'Drama', 'Thriller'),\n",
       " (),\n",
       " ('Adventure', 'Animation', 'Comedy'),\n",
       " ('Comedy', 'Drama', 'Romance'),\n",
       " ('Comedy', 'Horror'),\n",
       " ('Comedy', 'Drama'),\n",
       " ('Action', 'Comedy', 'Crime', 'Drama', 'Thriller'),\n",
       " ('Drama',),\n",
       " ('Family',),\n",
       " ('Adventure', 'Family', 'Fantasy'),\n",
       " ('Thriller',),\n",
       " ('Comedy',),\n",
       " ('Action', 'Thriller'),\n",
       " ('Horror', 'ScienceFiction', 'Thriller'),\n",
       " ('Horror',),\n",
       " ('Animation', 'Family'),\n",
       " (),\n",
       " ('Action',),\n",
       " ('Drama', 'Romance'),\n",
       " ('Animation', 'Family', 'Fantasy', 'Romance'),\n",
       " ('Thriller',),\n",
       " ('Action', 'Thriller'),\n",
       " ('Drama',),\n",
       " ('Comedy', 'Drama'),\n",
       " ('Drama',),\n",
       " ('Action', 'Comedy', 'Drama'),\n",
       " ('Drama', 'Romance'),\n",
       " ('Adventure', 'ScienceFiction'),\n",
       " ('Drama', 'Horror', 'Thriller'),\n",
       " ('Animation', 'Family'),\n",
       " ('Drama',),\n",
       " ('Drama', 'Romance'),\n",
       " ('Thriller',),\n",
       " ('Drama',),\n",
       " ('Comedy',),\n",
       " ('Thriller',),\n",
       " ('Romance',),\n",
       " (),\n",
       " ('Horror', 'Thriller'),\n",
       " ('Thriller',),\n",
       " ('ScienceFiction',),\n",
       " ('Action',),\n",
       " ('Action', 'Animation', 'ScienceFiction'),\n",
       " ('Action', 'Comedy'),\n",
       " ('Drama', 'Romance'),\n",
       " ('Romance',),\n",
       " ('Drama', 'ScienceFiction'),\n",
       " ('Action', 'Comedy'),\n",
       " ('Comedy',),\n",
       " ('Action', 'Adventure', 'ScienceFiction'),\n",
       " ('Comedy',),\n",
       " ('Romance',),\n",
       " ('Fantasy', 'Thriller'),\n",
       " ('Drama', 'Horror', 'Thriller'),\n",
       " ('Comedy', 'Crime'),\n",
       " ('Animation', 'Family'),\n",
       " ('Drama',),\n",
       " ('Comedy',),\n",
       " ('Thriller',),\n",
       " ('Comedy',),\n",
       " ('Action', 'Adventure', 'Animation', 'Comedy'),\n",
       " ('Action',),\n",
       " ('Comedy',),\n",
       " ('Drama',),\n",
       " ('Comedy', 'Family'),\n",
       " ('Thriller',),\n",
       " ('Drama', 'Thriller'),\n",
       " ('Action', 'Crime', 'Thriller'),\n",
       " ('Animation', 'Comedy', 'Family'),\n",
       " ('Comedy', 'Drama', 'Fantasy', 'Thriller'),\n",
       " ('Action', 'Drama', 'ScienceFiction'),\n",
       " ('Action', 'Adventure'),\n",
       " ('Animation', 'Comedy', 'Horror'),\n",
       " ('Comedy', 'Crime'),\n",
       " ('Crime', 'Drama'),\n",
       " ('Animation', 'Comedy', 'Family', 'Fantasy'),\n",
       " ('Comedy',),\n",
       " ('Drama',),\n",
       " ('Comedy', 'Drama'),\n",
       " ('Action', 'Adventure', 'Crime', 'Thriller'),\n",
       " ('Comedy', 'Family'),\n",
       " ('Comedy', 'Drama'),\n",
       " ('Comedy', 'Drama'),\n",
       " ('Romance',),\n",
       " ('Comedy',),\n",
       " ('Action', 'Adventure', 'Thriller'),\n",
       " (),\n",
       " ('Action', 'Adventure', 'Comedy'),\n",
       " ('Action', 'Animation'),\n",
       " ('Drama', 'Romance'),\n",
       " ('Drama',),\n",
       " ('Adventure',),\n",
       " ('Action', 'Crime', 'Thriller'),\n",
       " ('Comedy', 'Family'),\n",
       " ('Family', 'Fantasy'),\n",
       " ('Comedy', 'Drama'),\n",
       " ('Action', 'Drama'),\n",
       " ('Adventure', 'Animation', 'Comedy', 'Family', 'Fantasy'),\n",
       " ('Action', 'Crime', 'Thriller'),\n",
       " ('Crime', 'Drama', 'Thriller'),\n",
       " ('Action', 'Adventure', 'Thriller'),\n",
       " ('Action', 'Drama', 'ScienceFiction'),\n",
       " ('Drama', 'Romance'),\n",
       " ('Adventure', 'Family', 'Fantasy'),\n",
       " ('Adventure', 'Horror'),\n",
       " ('Action', 'Thriller'),\n",
       " ('Comedy',),\n",
       " ('Adventure',),\n",
       " ('Comedy', 'Drama'),\n",
       " ('Drama',),\n",
       " ('Comedy', 'Drama'),\n",
       " ('Comedy', 'Family'),\n",
       " ('Adventure', 'Drama', 'Family', 'Fantasy'),\n",
       " ('Animation', 'Family'),\n",
       " ('Adventure', 'Animation', 'Family'),\n",
       " ('Comedy',),\n",
       " ('Drama',),\n",
       " ('Comedy', 'Crime', 'Thriller'),\n",
       " ('Adventure',),\n",
       " ('Adventure',),\n",
       " ('Comedy', 'Drama', 'Romance'),\n",
       " ('Comedy',),\n",
       " ('Drama',),\n",
       " ('Adventure', 'Comedy', 'Fantasy', 'ScienceFiction'),\n",
       " ('Action', 'Comedy', 'ScienceFiction'),\n",
       " ('Action', 'Drama', 'Thriller'),\n",
       " ('Romance',),\n",
       " ('Animation', 'Comedy', 'Family'),\n",
       " ('Action', 'Adventure', 'Comedy'),\n",
       " ('Adventure', 'Animation', 'Family', 'Fantasy'),\n",
       " ('Romance',),\n",
       " ('Comedy',),\n",
       " ('Drama', 'Horror', 'Thriller'),\n",
       " ('Comedy', 'Thriller'),\n",
       " ('Action', 'Adventure', 'Fantasy'),\n",
       " ('Drama', 'Romance'),\n",
       " ('Action',),\n",
       " ('Thriller',),\n",
       " ('Action', 'Drama', 'Thriller'),\n",
       " ('Action', 'Crime'),\n",
       " ('Action', 'Crime', 'Thriller'),\n",
       " ('Comedy',),\n",
       " ('Action', 'Animation', 'Fantasy'),\n",
       " ('Action',),\n",
       " ('Comedy', 'Family', 'Fantasy'),\n",
       " ('Action', 'Adventure', 'ScienceFiction'),\n",
       " ('Action', 'Adventure', 'ScienceFiction'),\n",
       " ('Comedy', 'Drama', 'Romance'),\n",
       " ('Comedy',),\n",
       " ('Comedy', 'Drama', 'Romance'),\n",
       " (),\n",
       " ('Drama',),\n",
       " ('Romance',),\n",
       " ('Action',),\n",
       " ('Action', 'Animation', 'Drama', 'Fantasy', 'Romance'),\n",
       " ('Action', 'Adventure', 'Animation', 'ScienceFiction'),\n",
       " ('Animation', 'Comedy', 'Family'),\n",
       " ('Horror', 'Thriller'),\n",
       " ('Drama',),\n",
       " ('Action', 'Crime', 'Drama', 'Thriller'),\n",
       " ('Action', 'Adventure'),\n",
       " ('Action', 'Adventure', 'ScienceFiction', 'Thriller'),\n",
       " (),\n",
       " ('Adventure', 'Comedy', 'Family', 'Fantasy'),\n",
       " (),\n",
       " ('Comedy', 'Romance'),\n",
       " ('Drama',),\n",
       " ('Adventure', 'Animation', 'Comedy', 'Family'),\n",
       " ('Adventure', 'Drama', 'Horror'),\n",
       " ('Drama',),\n",
       " ('Action', 'Adventure', 'Thriller'),\n",
       " ('Comedy', 'Romance'),\n",
       " ('Drama', 'Thriller'),\n",
       " ('Comedy',),\n",
       " ('Animation', 'Drama', 'Family', 'ScienceFiction'),\n",
       " ('Comedy', 'Fantasy', 'Romance'),\n",
       " ('Horror',),\n",
       " ('Comedy', 'Drama'),\n",
       " ('Comedy', 'Horror'),\n",
       " ('Comedy',),\n",
       " ('Comedy', 'Drama'),\n",
       " ('Action', 'Adventure', 'Animation', 'Fantasy', 'ScienceFiction'),\n",
       " ('Action', 'Drama'),\n",
       " ('Crime', 'Drama', 'Thriller'),\n",
       " ('Comedy',),\n",
       " ('Drama',),\n",
       " ('Horror', 'Thriller'),\n",
       " ('Comedy', 'Family'),\n",
       " ('Action', 'Adventure', 'Animation', 'Comedy', 'Fantasy'),\n",
       " ('Action', 'Comedy', 'Crime'),\n",
       " ('Drama', 'Family'),\n",
       " ('Action', 'Animation', 'Drama', 'ScienceFiction'),\n",
       " ('Animation', 'Drama'),\n",
       " ('Animation', 'Comedy', 'Family', 'Romance'),\n",
       " (),\n",
       " ('Thriller',),\n",
       " ('Adventure', 'Comedy', 'Family'),\n",
       " ('Comedy', 'Family', 'Romance'),\n",
       " ('Comedy', 'Crime', 'Drama'),\n",
       " ('Action', 'Crime', 'Thriller'),\n",
       " ('Comedy', 'Romance'),\n",
       " ('Drama',),\n",
       " ('Comedy', 'Romance'),\n",
       " ('Drama', 'Romance'),\n",
       " ('Drama', 'Romance'),\n",
       " ('Action', 'ScienceFiction', 'Thriller'),\n",
       " ('Comedy',),\n",
       " ('Comedy', 'Horror'),\n",
       " ('Crime', 'Thriller'),\n",
       " ('Drama',),\n",
       " ('Action', 'Adventure', 'Comedy', 'ScienceFiction'),\n",
       " ('Action', 'Adventure', 'Animation', 'Family', 'Fantasy'),\n",
       " (),\n",
       " ('Action', 'Comedy', 'Crime'),\n",
       " ('Drama', 'Family'),\n",
       " ('Drama', 'Romance'),\n",
       " ('Comedy', 'Drama', 'Romance'),\n",
       " ('Animation', 'Family'),\n",
       " ('Horror',),\n",
       " ('Drama', 'Romance'),\n",
       " ('Comedy', 'Horror'),\n",
       " ('Drama',),\n",
       " ('Crime', 'Drama'),\n",
       " ('Comedy', 'Drama'),\n",
       " ('Drama',),\n",
       " ('Adventure',),\n",
       " ('Action', 'Adventure'),\n",
       " ('Adventure', 'Comedy', 'Drama'),\n",
       " ('Action', 'Adventure', 'Comedy', 'Fantasy'),\n",
       " ('Action', 'Adventure', 'Animation', 'Fantasy', 'ScienceFiction'),\n",
       " ('Comedy', 'Drama', 'Family'),\n",
       " (),\n",
       " ('Comedy', 'Drama'),\n",
       " ('Comedy', 'Crime'),\n",
       " (),\n",
       " ('Drama', 'Romance'),\n",
       " ('Comedy', 'Drama', 'Romance'),\n",
       " ('Comedy', 'Drama', 'Romance'),\n",
       " (),\n",
       " ('Drama',),\n",
       " ('Adventure', 'Animation', 'Family', 'Fantasy'),\n",
       " ('Horror', 'Thriller'),\n",
       " ('Action', 'Crime', 'Drama'),\n",
       " ('Comedy',),\n",
       " ('Drama',),\n",
       " ('Horror', 'Thriller'),\n",
       " ('Comedy', 'Romance'),\n",
       " ('Drama', 'Family'),\n",
       " ('Horror',),\n",
       " ('Horror', 'Thriller'),\n",
       " ('Adventure', 'Family'),\n",
       " ('Action', 'Thriller'),\n",
       " ('Comedy',),\n",
       " ('Drama',),\n",
       " ('Comedy', 'Horror'),\n",
       " ('Comedy', 'Drama'),\n",
       " ('Drama',),\n",
       " ('Animation', 'Drama', 'Family'),\n",
       " ('Comedy', 'Drama', 'Romance'),\n",
       " ('Family', 'Fantasy'),\n",
       " ('Action', 'Adventure', 'Fantasy', 'ScienceFiction'),\n",
       " ('Comedy', 'Romance'),\n",
       " ('Comedy', 'Fantasy'),\n",
       " ('Action', 'Adventure', 'Animation', 'Comedy', 'Family'),\n",
       " ('Comedy', 'Crime'),\n",
       " ('Drama',),\n",
       " ('Animation', 'Comedy', 'Romance'),\n",
       " ('Drama',),\n",
       " ('Crime', 'Thriller'),\n",
       " ('Action', 'Fantasy'),\n",
       " ('Comedy', 'Drama'),\n",
       " ('Comedy',),\n",
       " ('Action', 'Drama'),\n",
       " ('Comedy', 'Romance'),\n",
       " (),\n",
       " ('Drama', 'Romance'),\n",
       " ('Adventure', 'Animation', 'Comedy', 'Family', 'Fantasy'),\n",
       " ('Comedy', 'Romance'),\n",
       " ('Drama',),\n",
       " ('Adventure', 'Family'),\n",
       " ('Horror',),\n",
       " ('Drama',),\n",
       " ('Action', 'ScienceFiction'),\n",
       " ('Horror',),\n",
       " ('Action', 'Crime', 'Thriller'),\n",
       " ('Horror',),\n",
       " (),\n",
       " ('Comedy',),\n",
       " ('Action', 'Adventure', 'ScienceFiction'),\n",
       " ('Animation', 'Family', 'Fantasy'),\n",
       " ('Comedy', 'Horror'),\n",
       " ('Adventure', 'Drama', 'Romance'),\n",
       " ('Action', 'Fantasy'),\n",
       " ('Comedy',),\n",
       " ('Action', 'Crime'),\n",
       " ('Action', 'Thriller'),\n",
       " ('Drama',),\n",
       " ('Drama', 'Romance'),\n",
       " ('Action', 'Adventure', 'Animation'),\n",
       " ('Action', 'Crime'),\n",
       " (),\n",
       " ('Action', 'Adventure', 'Animation', 'Fantasy'),\n",
       " ('Action', 'ScienceFiction', 'Thriller'),\n",
       " ('Crime', 'Drama', 'Thriller'),\n",
       " ('Comedy',),\n",
       " ('Comedy',),\n",
       " ('Romance',),\n",
       " ('Comedy', 'Drama'),\n",
       " ('Drama', 'Horror'),\n",
       " ('Drama', 'Romance'),\n",
       " (),\n",
       " ('Adventure', 'Horror'),\n",
       " ('Comedy', 'Romance'),\n",
       " ('Action', 'Adventure', 'Animation', 'Fantasy'),\n",
       " ('Action', 'Thriller'),\n",
       " ('Drama', 'Romance'),\n",
       " ('Thriller',),\n",
       " ('Action', 'ScienceFiction', 'Thriller'),\n",
       " ('Comedy', 'Horror'),\n",
       " ('Comedy', 'Horror'),\n",
       " ('Horror', 'Thriller'),\n",
       " ('Drama', 'Thriller'),\n",
       " (),\n",
       " ('Drama',),\n",
       " (),\n",
       " ('Drama',),\n",
       " ('Drama', 'Romance'),\n",
       " ('Family',),\n",
       " ('Adventure', 'Comedy'),\n",
       " ('Thriller',),\n",
       " ('Action', 'Adventure', 'Animation', 'ScienceFiction'),\n",
       " ('Drama', 'Horror', 'Thriller'),\n",
       " ('Horror', 'ScienceFiction', 'Thriller'),\n",
       " ('Drama', 'Fantasy'),\n",
       " ('Thriller',),\n",
       " ('Comedy', 'Drama'),\n",
       " ('Action',),\n",
       " ('Action', 'Adventure'),\n",
       " ('Comedy', 'Drama'),\n",
       " ('Adventure', 'Comedy', 'Family', 'Fantasy'),\n",
       " ('Thriller',),\n",
       " ('Adventure', 'ScienceFiction'),\n",
       " ('Comedy', 'Drama'),\n",
       " ('Animation', 'Comedy', 'Family'),\n",
       " ('Adventure', 'Animation', 'Comedy', 'Family', 'Fantasy'),\n",
       " ('Drama',),\n",
       " ('Comedy',),\n",
       " (),\n",
       " ('Drama',),\n",
       " ('Comedy', 'Drama', 'Romance'),\n",
       " ('Romance',),\n",
       " ('Comedy', 'Drama'),\n",
       " ('Action', 'Adventure'),\n",
       " ('Drama',),\n",
       " ('Drama', 'Thriller'),\n",
       " ('Crime', 'Horror'),\n",
       " ('Comedy',),\n",
       " ('Action', 'Crime', 'Thriller'),\n",
       " ('Action', 'Crime', 'Thriller'),\n",
       " ('Drama',),\n",
       " ('Action', 'Comedy'),\n",
       " ('Comedy', 'Drama', 'Romance'),\n",
       " ('Comedy', 'Drama', 'Romance'),\n",
       " ('Animation', 'Family', 'Fantasy'),\n",
       " ('Comedy',),\n",
       " ('Horror',),\n",
       " ('Comedy', 'Horror', 'ScienceFiction'),\n",
       " ('Action', 'Thriller'),\n",
       " ('Comedy', 'Horror'),\n",
       " ('Adventure', 'Drama', 'Fantasy'),\n",
       " (),\n",
       " ('Adventure', 'Comedy'),\n",
       " ('Comedy', 'Drama', 'Fantasy'),\n",
       " ('Drama', 'Thriller'),\n",
       " ('Comedy', 'Drama'),\n",
       " ('Action', 'Adventure'),\n",
       " ('Adventure', 'ScienceFiction'),\n",
       " ('Comedy', 'Drama'),\n",
       " ('Crime', 'Thriller'),\n",
       " ('Drama',),\n",
       " ('Action', 'Adventure', 'Comedy'),\n",
       " ('Adventure', 'Animation', 'Comedy', 'Family'),\n",
       " ('Action', 'Comedy', 'Crime', 'Thriller'),\n",
       " ('Drama',),\n",
       " ('Drama',),\n",
       " ('Comedy',),\n",
       " ('Comedy',),\n",
       " ('ScienceFiction',),\n",
       " ('Action', 'Drama', 'Thriller'),\n",
       " ('Horror', 'ScienceFiction'),\n",
       " ('Adventure', 'Animation', 'Comedy', 'Family', 'Fantasy'),\n",
       " ('Comedy', 'Drama'),\n",
       " ('Drama',),\n",
       " ('Fantasy',),\n",
       " ('Crime', 'Thriller'),\n",
       " (),\n",
       " ('Drama',),\n",
       " ('Action', 'Drama'),\n",
       " ('Animation', 'Comedy', 'Fantasy', 'Romance'),\n",
       " ('Comedy',),\n",
       " ('Crime', 'Drama', 'Thriller'),\n",
       " ('Adventure', 'Animation', 'Family', 'Fantasy'),\n",
       " ('Drama', 'Romance'),\n",
       " ('Adventure', 'Comedy', 'ScienceFiction'),\n",
       " ('Action', 'Comedy', 'Crime', 'Thriller'),\n",
       " ('Romance',),\n",
       " ('Drama',),\n",
       " ('Comedy',),\n",
       " ('Adventure', 'Comedy', 'Romance'),\n",
       " ('Comedy', 'Drama'),\n",
       " ('Action', 'Adventure', 'ScienceFiction'),\n",
       " ('Comedy', 'Drama', 'Romance'),\n",
       " ('Horror', 'Thriller'),\n",
       " ('Comedy', 'Drama'),\n",
       " ('Drama',),\n",
       " ('Comedy',),\n",
       " ('Action', 'Thriller'),\n",
       " ('Romance',),\n",
       " ('Drama', 'Fantasy'),\n",
       " ('Drama',),\n",
       " ('Adventure', 'Family', 'Fantasy'),\n",
       " ('Action', 'ScienceFiction'),\n",
       " ('Adventure', 'Animation'),\n",
       " ('Comedy', 'Drama', 'Romance'),\n",
       " ('Drama',),\n",
       " ('Horror',),\n",
       " ('Horror', 'Thriller'),\n",
       " ('Drama', 'Romance'),\n",
       " ('Comedy', 'Drama'),\n",
       " ('Adventure', 'Animation', 'Comedy', 'Family', 'Romance'),\n",
       " ('Action', 'Adventure', 'ScienceFiction'),\n",
       " ('Action', 'Adventure', 'Fantasy'),\n",
       " ('Drama', 'Romance'),\n",
       " (),\n",
       " ('Horror', 'Thriller'),\n",
       " ('Drama',),\n",
       " ('Action', 'Drama', 'ScienceFiction'),\n",
       " ('Drama',),\n",
       " ('Comedy',),\n",
       " ('Crime',),\n",
       " ('Comedy', 'Drama', 'Romance'),\n",
       " ('Action', 'Adventure', 'Animation', 'Fantasy'),\n",
       " ('Drama',),\n",
       " ('Animation', 'Fantasy'),\n",
       " ('Drama',),\n",
       " (),\n",
       " ('Action', 'Thriller'),\n",
       " ('Action', 'Comedy', 'Crime', 'Thriller'),\n",
       " ('Action', 'Thriller'),\n",
       " ('Horror', 'Thriller'),\n",
       " ('Drama', 'Romance'),\n",
       " ('Comedy', 'Drama'),\n",
       " ('Comedy',),\n",
       " ('Drama',),\n",
       " ('Adventure', 'Family'),\n",
       " ('Horror',),\n",
       " ('Action', 'Thriller'),\n",
       " ('Animation', 'Family'),\n",
       " ('Drama',),\n",
       " ('Action', 'ScienceFiction'),\n",
       " ('Action', 'Adventure', 'Horror', 'Thriller'),\n",
       " ('Comedy', 'Drama', 'Romance'),\n",
       " ('Action', 'Crime', 'Thriller'),\n",
       " ('Comedy', 'Drama'),\n",
       " ('Comedy', 'Fantasy'),\n",
       " ('Comedy', 'Crime'),\n",
       " ('Drama',),\n",
       " ('Comedy', 'Horror'),\n",
       " ('Drama',),\n",
       " ('Action', 'Comedy'),\n",
       " ('Action', 'Adventure', 'Comedy'),\n",
       " ('Action', 'Comedy'),\n",
       " ('Comedy',),\n",
       " ('Action', 'Drama'),\n",
       " (),\n",
       " ('Drama',),\n",
       " (),\n",
       " ('Action', 'Horror'),\n",
       " ('Action',),\n",
       " ('Drama', 'Romance'),\n",
       " ('Adventure', 'Comedy', 'Family', 'Fantasy'),\n",
       " ('ScienceFiction',),\n",
       " ('Drama',),\n",
       " ('Drama', 'Romance', 'Thriller'),\n",
       " ('Action', 'Adventure'),\n",
       " ('Adventure', 'Drama', 'Fantasy', 'Romance'),\n",
       " ('Action', 'Drama'),\n",
       " ('Horror', 'Thriller'),\n",
       " ('Drama',),\n",
       " ('Comedy', 'Drama', 'Romance'),\n",
       " (),\n",
       " ('Comedy', 'Family', 'ScienceFiction'),\n",
       " ('Action', 'Crime', 'Drama', 'Thriller'),\n",
       " ('Comedy',),\n",
       " ('Animation', 'Family'),\n",
       " ('Action', 'Drama'),\n",
       " ('Family', 'Thriller'),\n",
       " ('Fantasy',),\n",
       " ('Action', 'Thriller'),\n",
       " ('Comedy', 'Drama'),\n",
       " ('ScienceFiction',),\n",
       " ('Action', 'Adventure', 'Drama', 'Fantasy'),\n",
       " ('Adventure', 'Thriller'),\n",
       " ('Action', 'Thriller'),\n",
       " ('Family',),\n",
       " ('Adventure', 'Animation', 'Comedy', 'Family', 'Fantasy'),\n",
       " ('Adventure', 'Drama'),\n",
       " ('Thriller',),\n",
       " (),\n",
       " ('Adventure', 'Animation', 'Fantasy'),\n",
       " ('Drama', 'Romance'),\n",
       " ('Comedy', 'Drama'),\n",
       " ('Comedy', 'Romance'),\n",
       " ('Comedy',),\n",
       " ('Drama',),\n",
       " (),\n",
       " ('Animation', 'Comedy'),\n",
       " ('Comedy', 'Drama', 'Romance'),\n",
       " ('Action', 'Adventure', 'Comedy'),\n",
       " ('Fantasy',),\n",
       " ('Drama',),\n",
       " ('Adventure', 'Fantasy'),\n",
       " ('Horror', 'Thriller'),\n",
       " ('Comedy',),\n",
       " ('Comedy',),\n",
       " ('Action', 'Drama'),\n",
       " ('ScienceFiction',),\n",
       " ('Comedy',),\n",
       " ('Drama', 'Horror'),\n",
       " ('Comedy',),\n",
       " ('Comedy',),\n",
       " ('Action', 'Adventure', 'Animation', 'Family'),\n",
       " ('Action', 'Adventure'),\n",
       " ('Drama',),\n",
       " ('Comedy',),\n",
       " ('Drama', 'Thriller'),\n",
       " ('Action', 'ScienceFiction'),\n",
       " ('Drama',),\n",
       " ('Action', 'Adventure', 'Animation', 'Comedy', 'Family'),\n",
       " ('Action', 'Adventure', 'Animation', 'Family'),\n",
       " ('Comedy',),\n",
       " ('Drama', 'Romance'),\n",
       " ('Drama',),\n",
       " ('Action', 'Thriller'),\n",
       " ('Horror',),\n",
       " ('Action', 'Adventure', 'Fantasy'),\n",
       " ('Adventure', 'Comedy', 'Family'),\n",
       " ('Horror', 'Thriller'),\n",
       " ('Comedy', 'Romance'),\n",
       " ('Comedy', 'Crime'),\n",
       " ('Horror',),\n",
       " ('Drama', 'Romance', 'Thriller'),\n",
       " ('Action', 'Thriller'),\n",
       " ('Action', 'Adventure', 'Drama'),\n",
       " ('Action', 'Crime'),\n",
       " ('Animation', 'Comedy', 'Family'),\n",
       " ('Drama',),\n",
       " ('Horror', 'Romance'),\n",
       " ('Comedy',),\n",
       " ('Comedy', 'Drama'),\n",
       " ('Action', 'Adventure', 'Fantasy', 'Thriller'),\n",
       " (),\n",
       " ('Adventure', 'Animation', 'Comedy', 'Family', 'Fantasy'),\n",
       " ('Drama',),\n",
       " ('Action',),\n",
       " ('Drama',),\n",
       " ('Comedy', 'Drama'),\n",
       " ('Action', 'Adventure'),\n",
       " ('Comedy',),\n",
       " ('Action', 'Thriller'),\n",
       " ('Drama', 'Horror', 'Thriller'),\n",
       " ('Adventure', 'Fantasy'),\n",
       " ('Action', 'Animation', 'ScienceFiction'),\n",
       " ('Horror', 'Thriller'),\n",
       " (),\n",
       " ('Action', 'Adventure', 'ScienceFiction'),\n",
       " ('Drama', 'Romance'),\n",
       " ('Action', 'Adventure', 'Animation', 'Comedy', 'Family'),\n",
       " ('Comedy', 'Family', 'Fantasy'),\n",
       " ('Drama',),\n",
       " ('Action', 'Comedy'),\n",
       " ('Comedy', 'Fantasy', 'Romance'),\n",
       " ('Crime', 'Drama', 'Thriller'),\n",
       " (),\n",
       " ('Romance',),\n",
       " ('Crime', 'Thriller'),\n",
       " ('Adventure', 'Animation', 'ScienceFiction'),\n",
       " ('Drama', 'Romance'),\n",
       " ('Action', 'Adventure', 'Family', 'Fantasy'),\n",
       " ('Comedy', 'Romance'),\n",
       " ('Romance',),\n",
       " ('Crime', 'Drama', 'Thriller'),\n",
       " ('Action', 'Comedy'),\n",
       " ('Drama',),\n",
       " ('Drama',),\n",
       " (),\n",
       " ('Adventure', 'Comedy', 'Family', 'Fantasy'),\n",
       " ('Drama',),\n",
       " ('Animation',),\n",
       " ('Comedy', 'Family'),\n",
       " ('Horror',),\n",
       " ('Action', 'Comedy'),\n",
       " ('Comedy',),\n",
       " ('Action', 'Adventure', 'Comedy'),\n",
       " ('Drama',),\n",
       " ('Comedy',),\n",
       " ('Action', 'Adventure', 'Animation', 'Fantasy'),\n",
       " ('Comedy',),\n",
       " ('Action', 'Crime', 'Drama', 'Thriller'),\n",
       " ('Family', 'Fantasy'),\n",
       " ('Comedy', 'Thriller'),\n",
       " ('Drama',),\n",
       " ('Drama',),\n",
       " ('Adventure', 'Animation', 'Comedy', 'Family'),\n",
       " ('Action', 'Drama'),\n",
       " ('Horror', 'ScienceFiction'),\n",
       " ('Comedy', 'Romance'),\n",
       " ('Drama',),\n",
       " ('Action', 'ScienceFiction'),\n",
       " ('Adventure', 'Comedy', 'Family'),\n",
       " (),\n",
       " ('Romance', 'Thriller'),\n",
       " ('Action', 'Animation', 'ScienceFiction'),\n",
       " ('Comedy', 'Drama'),\n",
       " ('Action',),\n",
       " ('Action', 'Drama', 'Thriller'),\n",
       " ('Adventure', 'Animation', 'Comedy', 'Family'),\n",
       " ('Action', 'Drama'),\n",
       " ('Comedy', 'Drama', 'Romance'),\n",
       " ('Action', 'Crime', 'Drama', 'Horror'),\n",
       " ('Drama',),\n",
       " ('Drama',),\n",
       " ('Action', 'Adventure', 'Animation', 'Family', 'Fantasy', 'ScienceFiction'),\n",
       " ('Drama',),\n",
       " ('Fantasy',),\n",
       " (),\n",
       " ('Crime', 'Drama', 'Thriller'),\n",
       " ('Comedy',),\n",
       " ('Comedy', 'Drama', 'Romance'),\n",
       " ('Comedy',),\n",
       " ('Adventure', 'Animation'),\n",
       " ('Drama',),\n",
       " ('Action', 'Drama'),\n",
       " ('Drama', 'ScienceFiction'),\n",
       " ('Action', 'Crime', 'Thriller'),\n",
       " (),\n",
       " ('Drama', 'Romance'),\n",
       " ('Comedy',),\n",
       " (),\n",
       " ('Thriller',),\n",
       " ('Drama',),\n",
       " ('Adventure', 'Animation', 'Family'),\n",
       " (),\n",
       " (),\n",
       " ('Thriller',),\n",
       " ('Drama',),\n",
       " ('Adventure', 'Fantasy', 'ScienceFiction'),\n",
       " ('Comedy', 'Family'),\n",
       " ('Action', 'Adventure', 'Thriller'),\n",
       " ('Thriller',),\n",
       " ('Drama',),\n",
       " ('Drama', 'Thriller'),\n",
       " ('Comedy', 'Horror'),\n",
       " ('Action', 'Thriller'),\n",
       " ('Crime', 'Drama'),\n",
       " (),\n",
       " ('Action', 'Thriller'),\n",
       " ('Horror',),\n",
       " ('Comedy', 'Family'),\n",
       " ('Action', 'Animation', 'ScienceFiction'),\n",
       " ('Action', 'Crime', 'Thriller'),\n",
       " ('Thriller',),\n",
       " ('Action', 'Animation', 'ScienceFiction'),\n",
       " ('Comedy', 'Horror'),\n",
       " ('Action', 'Adventure', 'Comedy', 'Family'),\n",
       " (),\n",
       " ('Drama', 'Romance'),\n",
       " ('Horror',),\n",
       " ('Comedy', 'Drama'),\n",
       " ('Adventure', 'Drama'),\n",
       " ('Drama', 'Romance'),\n",
       " ('Comedy',),\n",
       " ('Thriller',),\n",
       " ('Action', 'Thriller'),\n",
       " ('Romance',),\n",
       " ('Comedy', 'Romance'),\n",
       " ('Comedy', 'Family'),\n",
       " ('Crime',),\n",
       " ('Action', 'Adventure'),\n",
       " ('Action', 'Thriller'),\n",
       " ('Adventure', 'Animation', 'Comedy', 'Drama', 'Family', 'Fantasy'),\n",
       " ('Crime', 'Horror', 'Thriller'),\n",
       " ('Comedy', 'Family'),\n",
       " (),\n",
       " ('Drama',),\n",
       " ('Thriller',),\n",
       " ('Comedy',),\n",
       " ('Comedy',),\n",
       " ('Action', 'Adventure'),\n",
       " ('Comedy', 'Romance'),\n",
       " ('Drama',),\n",
       " ('Fantasy',),\n",
       " ('Adventure',),\n",
       " ('Action', 'Adventure', 'ScienceFiction'),\n",
       " (),\n",
       " ('Animation', 'Comedy', 'Family', 'Fantasy', 'Horror'),\n",
       " ('Comedy', 'Romance'),\n",
       " ('Comedy', 'Romance'),\n",
       " (),\n",
       " ('Comedy', 'Romance'),\n",
       " ('Comedy',),\n",
       " (),\n",
       " ('Animation',),\n",
       " ('Crime',),\n",
       " (),\n",
       " (),\n",
       " ('Action', 'ScienceFiction', 'Thriller'),\n",
       " (),\n",
       " ('Drama', 'Thriller'),\n",
       " ('Comedy',),\n",
       " ('Action', 'ScienceFiction'),\n",
       " ('Drama',),\n",
       " ('Adventure', 'Animation', 'Comedy', 'Family'),\n",
       " ('Horror',),\n",
       " ('Drama', 'Romance'),\n",
       " ('Action', 'ScienceFiction'),\n",
       " ('Adventure', 'Family', 'Fantasy'),\n",
       " ('Family',),\n",
       " ('Comedy',),\n",
       " ('Crime',),\n",
       " ('Action', 'Adventure'),\n",
       " ('Drama',),\n",
       " ('Action', 'Crime', 'Thriller'),\n",
       " ('Horror',),\n",
       " (),\n",
       " ('Drama', 'Romance'),\n",
       " ('Romance',),\n",
       " (),\n",
       " ('Crime', 'Horror', 'Thriller'),\n",
       " ('Action',),\n",
       " (),\n",
       " ('Comedy',),\n",
       " ('Comedy', 'Fantasy'),\n",
       " ('Comedy', 'Fantasy'),\n",
       " ('Comedy', 'Romance'),\n",
       " ('Drama',),\n",
       " ('Drama',),\n",
       " ('Comedy', 'Fantasy'),\n",
       " ('Horror', 'Thriller'),\n",
       " ('Comedy', 'Drama'),\n",
       " ('Drama', 'Romance'),\n",
       " ('Comedy', 'Crime'),\n",
       " ('Comedy',),\n",
       " ('Drama',),\n",
       " ('Drama',),\n",
       " ('Romance',),\n",
       " ('Drama', 'Horror', 'Thriller'),\n",
       " ('Family',),\n",
       " ('Comedy',),\n",
       " ('Adventure', 'Comedy', 'ScienceFiction'),\n",
       " ('Action', 'Animation', 'Fantasy'),\n",
       " (),\n",
       " ('Action', 'Adventure'),\n",
       " ('Action', 'Adventure', 'Animation', 'ScienceFiction'),\n",
       " (),\n",
       " ('Drama', 'Thriller'),\n",
       " (),\n",
       " ('Action', 'Crime', 'Drama', 'Thriller'),\n",
       " ('Action', 'Comedy', 'Romance'),\n",
       " ('Comedy', 'Fantasy'),\n",
       " ('Drama', 'Thriller'),\n",
       " ('Comedy', 'Drama', 'Romance'),\n",
       " ('Drama', 'Horror'),\n",
       " (),\n",
       " ('Action', 'Thriller'),\n",
       " ('Family',),\n",
       " ('Thriller',),\n",
       " ('Comedy',),\n",
       " ('Comedy', 'Drama'),\n",
       " ('Animation',),\n",
       " ('Adventure', 'Animation', 'Family'),\n",
       " ('Crime', 'Drama', 'Romance'),\n",
       " ('Comedy', 'Drama', 'Thriller'),\n",
       " ('Adventure', 'Animation', 'Comedy', 'Family'),\n",
       " ('Adventure', 'Drama'),\n",
       " ('Fantasy', 'Horror'),\n",
       " ('Comedy', 'Romance'),\n",
       " ('Comedy', 'Drama'),\n",
       " ('Comedy', 'Drama', 'Romance'),\n",
       " ('Horror',),\n",
       " ('Drama',),\n",
       " ('Action', 'ScienceFiction'),\n",
       " ('Horror',),\n",
       " ('Thriller',),\n",
       " ('Action',),\n",
       " ('Comedy', 'Romance'),\n",
       " ('Comedy',),\n",
       " ('Action',),\n",
       " ('Drama', 'Horror'),\n",
       " ('Action',),\n",
       " ('Drama',),\n",
       " ('Drama',),\n",
       " ('Action', 'Adventure', 'Fantasy'),\n",
       " ('Drama', 'Thriller'),\n",
       " ('Comedy', 'Horror', 'Thriller'),\n",
       " ('Animation', 'Fantasy', 'Thriller'),\n",
       " ('Drama', 'Thriller'),\n",
       " ('Drama',),\n",
       " ('Comedy', 'Drama', 'Family'),\n",
       " ('Comedy', 'Family'),\n",
       " ('Action', 'Crime', 'Thriller'),\n",
       " ('Comedy', 'Drama', 'Romance'),\n",
       " (),\n",
       " ('Drama',),\n",
       " ('Comedy', 'Drama'),\n",
       " ('Drama', 'Romance'),\n",
       " ('Comedy',),\n",
       " ('Comedy',),\n",
       " ('Thriller',),\n",
       " ('Action', 'Comedy'),\n",
       " ('Drama',),\n",
       " (),\n",
       " ('Action', 'Crime'),\n",
       " ('Action',),\n",
       " ('Comedy', 'Romance'),\n",
       " ('Horror', 'Thriller'),\n",
       " ('Action', 'Adventure', 'Animation', 'Family', 'Fantasy'),\n",
       " ('Action', 'Thriller'),\n",
       " ('Comedy',),\n",
       " ('Action', 'Crime', 'Thriller'),\n",
       " ('Drama', 'Romance'),\n",
       " (),\n",
       " (),\n",
       " ('Action', 'ScienceFiction'),\n",
       " ('Comedy', 'Drama', 'Romance'),\n",
       " ('Comedy', 'Drama'),\n",
       " ('Action',),\n",
       " ('Comedy', 'Drama', 'Romance'),\n",
       " ('Action',),\n",
       " ('Crime', 'Drama', 'Thriller'),\n",
       " ('Drama', 'Romance'),\n",
       " ('Comedy', 'Drama'),\n",
       " ('Drama', 'Thriller'),\n",
       " ('Action', 'Drama', 'Romance'),\n",
       " ('Action', 'Drama'),\n",
       " ('Comedy',),\n",
       " ('Adventure', 'Family', 'Fantasy', 'Horror'),\n",
       " ('Action', 'Adventure', 'Fantasy'),\n",
       " ...]"
      ]
     },
     "execution_count": 55,
     "metadata": {},
     "output_type": "execute_result"
    }
   ],
   "source": [
    "multilabel_binarizer.inverse_transform(y_pred)"
   ]
  },
  {
   "cell_type": "code",
   "execution_count": null,
   "id": "d10755f7-7c8c-4d75-8b6a-633437b0f236",
   "metadata": {},
   "outputs": [],
   "source": []
  }
 ],
 "metadata": {
  "kernelspec": {
   "display_name": "Python 3 (ipykernel)",
   "language": "python",
   "name": "python3"
  },
  "language_info": {
   "codemirror_mode": {
    "name": "ipython",
    "version": 3
   },
   "file_extension": ".py",
   "mimetype": "text/x-python",
   "name": "python",
   "nbconvert_exporter": "python",
   "pygments_lexer": "ipython3",
   "version": "3.8.3"
  }
 },
 "nbformat": 4,
 "nbformat_minor": 5
}
