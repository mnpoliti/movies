{
 "cells": [
  {
   "cell_type": "code",
   "execution_count": 1,
   "id": "6013f5ac-f7e5-4e52-9790-a2e01cd858f1",
   "metadata": {},
   "outputs": [],
   "source": [
    "import pandas as pd\n",
    "import numpy as np"
   ]
  },
  {
   "cell_type": "code",
   "execution_count": 2,
   "id": "4c64cd2c-4fca-4dbe-b387-d430750af1d5",
   "metadata": {},
   "outputs": [],
   "source": [
    "movies_changes4= pd.read_csv(\"movies_changes4.csv\")"
   ]
  },
  {
   "cell_type": "code",
   "execution_count": 3,
   "id": "72f72362-67b5-49e1-b34e-08f33871ee18",
   "metadata": {},
   "outputs": [
    {
     "data": {
      "text/plain": [
       "Index(['Unnamed: 0', 'Name', 'Year', 'Rating', 'Votes', 'Runtime', 'Type',\n",
       "       'Episodes', 'Nudity', 'Violence', 'Profanity', 'Alcohol', 'Frightening',\n",
       "       'Metascore', 'Gross', 'Director', 'Language', 'Average_Votes',\n",
       "       'Premiere', 'Poster_Link', 'Genre_1', 'Genres_2', 'Genre_3', 'Genre_4',\n",
       "       'Genre_5', 'Genre_6', 'Actor_1', 'Actor_2', 'Actor_3', 'Actor_4',\n",
       "       'Certificate_1', 'Certificate_2', 'Description'],\n",
       "      dtype='object')"
      ]
     },
     "execution_count": 3,
     "metadata": {},
     "output_type": "execute_result"
    }
   ],
   "source": [
    "movies_changes4.columns"
   ]
  },
  {
   "cell_type": "code",
   "execution_count": 18,
   "id": "31189e22-40db-435a-948a-b38469aec871",
   "metadata": {},
   "outputs": [
    {
     "data": {
      "text/plain": [
       "Unnamed: 0         int64\n",
       "Name              string\n",
       "Year               int64\n",
       "Rating           float64\n",
       "Votes              int64\n",
       "Runtime            int64\n",
       "Type              string\n",
       "Episodes         float64\n",
       "Nudity            string\n",
       "Violence          string\n",
       "Profanity         string\n",
       "Alcohol           string\n",
       "Frightening       string\n",
       "Metascore        float64\n",
       "Gross            float64\n",
       "Director          string\n",
       "Average_Votes    float64\n",
       "Premiere          object\n",
       "Poster_Link       object\n",
       "Genre_1           string\n",
       "Genres_2          string\n",
       "Genre_3           string\n",
       "Genre_4           string\n",
       "Genre_5           string\n",
       "Genre_6           string\n",
       "Actor_1           string\n",
       "Actor_2           string\n",
       "Actor_3           string\n",
       "Actor_4           string\n",
       "Certificate_1     string\n",
       "Certificate_2     string\n",
       "Description       string\n",
       "Language1         string\n",
       "Language2         string\n",
       "dtype: object"
      ]
     },
     "execution_count": 18,
     "metadata": {},
     "output_type": "execute_result"
    }
   ],
   "source": [
    "movies_changes4.dtypes"
   ]
  },
  {
   "cell_type": "code",
   "execution_count": 5,
   "id": "5fa25398-1869-4536-9ffc-06f9501fd67d",
   "metadata": {},
   "outputs": [
    {
     "data": {
      "text/plain": [
       "Index(['Unnamed: 0', 'Name', 'Year', 'Rating', 'Votes', 'Runtime', 'Type',\n",
       "       'Episodes', 'Nudity', 'Violence', 'Profanity', 'Alcohol', 'Frightening',\n",
       "       'Metascore', 'Gross', 'Director', 'Language', 'Average_Votes',\n",
       "       'Premiere', 'Poster_Link', 'Genre_1', 'Genres_2', 'Genre_3', 'Genre_4',\n",
       "       'Genre_5', 'Genre_6', 'Actor_1', 'Actor_2', 'Actor_3', 'Actor_4',\n",
       "       'Certificate_1', 'Certificate_2', 'Description'],\n",
       "      dtype='object')"
      ]
     },
     "execution_count": 5,
     "metadata": {},
     "output_type": "execute_result"
    }
   ],
   "source": [
    "movies_changes4.columns          "
   ]
  },
  {
   "cell_type": "code",
   "execution_count": 16,
   "id": "baedddd1-a77c-41b0-b7fa-887d4a316436",
   "metadata": {},
   "outputs": [],
   "source": [
    "cols_to_str = ['Certificate_1', 'Certificate_2', 'Description',\n",
    "               'Actor_1', 'Actor_2', 'Actor_3', 'Actor_4',\n",
    "               'Genre_1', 'Genres_2', 'Genre_3', 'Genre_4', 'Genre_5', 'Genre_6',\n",
    "               'Nudity', 'Violence', 'Profanity', 'Alcohol', 'Frightening',\n",
    "               'Name', 'Type', 'Director']"
   ]
  },
  {
   "cell_type": "code",
   "execution_count": 17,
   "id": "b3b3ce8e-bb47-4c3c-93cd-98bfe4925faa",
   "metadata": {},
   "outputs": [],
   "source": [
    "movies_changes4[cols_to_str] = movies_changes4[cols_to_str].astype(\"string\")"
   ]
  },
  {
   "cell_type": "code",
   "execution_count": 8,
   "id": "9db1283b-e669-4432-84b6-6ef725a61b5e",
   "metadata": {},
   "outputs": [
    {
     "data": {
      "text/plain": [
       "array(['-', '31', '41', '27', '17', '80', '44', '20', '161', '21', '70',\n",
       "       '55', '25', '120', '47', '146', '23', '94', '15', '88', '96', '40',\n",
       "       '34', '91', '1230', '10', '102', '22', '74', '97', '29', '124',\n",
       "       '13', '59', '52', '75', '87', '76', '89', '134', '139', '35', '64',\n",
       "       '165', '217', '126', '8', '145', '100', '65', '12', '39', '36',\n",
       "       '19', '108', '26', '46', '110', '30', '84', '251', '49', '18',\n",
       "       '133', '62', '194', '154', '9', '60', '111', '90', '72', '609',\n",
       "       '103', '37', '3', '254', '33', '11', '67', '112', '119', '171',\n",
       "       '274', '172', '61', '114', '16', '5', '101', '32', '118', '107',\n",
       "       '6'], dtype=object)"
      ]
     },
     "execution_count": 8,
     "metadata": {},
     "output_type": "execute_result"
    }
   ],
   "source": [
    "movies_changes4.Episodes.unique()"
   ]
  },
  {
   "cell_type": "code",
   "execution_count": 9,
   "id": "a5d7fa18-c1bf-4cfc-ba8a-cb6ab1aeaa95",
   "metadata": {},
   "outputs": [
    {
     "data": {
      "text/plain": [
       "dtype('float64')"
      ]
     },
     "execution_count": 9,
     "metadata": {},
     "output_type": "execute_result"
    }
   ],
   "source": [
    "movies_changes4.Episodes = movies_changes4['Episodes'].str.replace('-', '')\n",
    "movies_changes4.Episodes = pd.to_numeric(movies_changes4.Episodes)\n",
    "movies_changes4.Episodes.dtypes"
   ]
  },
  {
   "cell_type": "code",
   "execution_count": 10,
   "id": "9b05a76a-96e0-4b1a-9449-470c9b9f7742",
   "metadata": {},
   "outputs": [
    {
     "data": {
      "text/plain": [
       "array([nan, 'English', 'Danish', 'Polish', 'Swedish', 'Japanese',\n",
       "       'French', 'Korean', 'Russian', 'Arabic', 'Italian', 'Spanish',\n",
       "       'German', 'Hindi', 'Norwegian ', 'Thai', 'cn', 'Tamil',\n",
       "       'English/Japanese', 'English/Korean', 'English/Akan'], dtype=object)"
      ]
     },
     "execution_count": 10,
     "metadata": {},
     "output_type": "execute_result"
    }
   ],
   "source": [
    "movies_changes4.Language.unique()\n"
   ]
  },
  {
   "cell_type": "code",
   "execution_count": 11,
   "id": "d4cd8b76-cb55-40e6-8a91-26f65568c2a8",
   "metadata": {},
   "outputs": [],
   "source": [
    "movies_changes4.Language = movies_changes4['Language'].str.replace('cn', 'Chinese')\n",
    "movies_changes4.Language = movies_changes4['Language'].str.replace('/', ',')\n",
    "movies_changes4['Language'] = movies_changes4['Language'].astype(\"string\")"
   ]
  },
  {
   "cell_type": "code",
   "execution_count": 12,
   "id": "2a0b2f9b-5057-4a1a-aafe-f73d25b12ff6",
   "metadata": {},
   "outputs": [
    {
     "data": {
      "text/plain": [
       "Index(['Unnamed: 0', 'Name', 'Year', 'Rating', 'Votes', 'Runtime', 'Type',\n",
       "       'Episodes', 'Nudity', 'Violence', 'Profanity', 'Alcohol', 'Frightening',\n",
       "       'Metascore', 'Gross', 'Director', 'Average_Votes', 'Premiere',\n",
       "       'Poster_Link', 'Genre_1', 'Genres_2', 'Genre_3', 'Genre_4', 'Genre_5',\n",
       "       'Genre_6', 'Actor_1', 'Actor_2', 'Actor_3', 'Actor_4', 'Certificate_1',\n",
       "       'Certificate_2', 'Description', 'Language1', 'Language2'],\n",
       "      dtype='object')"
      ]
     },
     "execution_count": 12,
     "metadata": {},
     "output_type": "execute_result"
    }
   ],
   "source": [
    "movies_changes4[['Language1', 'Language2']] = movies_changes4['Language'].str.split(',', expand=True)\n",
    "movies_changes4= movies_changes4.drop(['Language'], axis=1)\n",
    "movies_changes4.columns"
   ]
  },
  {
   "cell_type": "code",
   "execution_count": 20,
   "id": "5ac2e921-5315-40cb-9839-bfd60fb0cf06",
   "metadata": {},
   "outputs": [],
   "source": [
    "movies_changes4= movies_changes4.drop(['Average_Votes'], axis=1)\n"
   ]
  },
  {
   "cell_type": "code",
   "execution_count": 19,
   "id": "8f1e5749-28b5-46cd-9a9f-aa982a20ea2e",
   "metadata": {},
   "outputs": [],
   "source": [
    "movies_changes4.to_csv('class_df.csv')"
   ]
  },
  {
   "cell_type": "code",
   "execution_count": null,
   "id": "3fdf6ede-5490-4409-86bf-4086d159bf13",
   "metadata": {},
   "outputs": [],
   "source": []
  }
 ],
 "metadata": {
  "kernelspec": {
   "display_name": "Python 3 (ipykernel)",
   "language": "python",
   "name": "python3"
  },
  "language_info": {
   "codemirror_mode": {
    "name": "ipython",
    "version": 3
   },
   "file_extension": ".py",
   "mimetype": "text/x-python",
   "name": "python",
   "nbconvert_exporter": "python",
   "pygments_lexer": "ipython3",
   "version": "3.8.3"
  }
 },
 "nbformat": 4,
 "nbformat_minor": 5
}
